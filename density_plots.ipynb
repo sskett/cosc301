{
 "cells": [
  {
   "cell_type": "code",
   "execution_count": 1,
   "metadata": {
    "collapsed": true,
    "pycharm": {
     "name": "#%%\n"
    }
   },
   "outputs": [],
   "source": [
    "import pandas as pd\n",
    "import numpy as np\n",
    "import matplotlib.pyplot as plt\n",
    "\n",
    "from sklearn import datasets, svm, metrics\n",
    "from sklearn.model_selection import train_test_split\n",
    "\n",
    "import ray\n",
    "import time\n",
    "from sklearn.neural_network import MLPClassifier\n",
    "from sklearn.preprocessing import StandardScaler\n",
    "from sklearn.ensemble import RandomForestClassifier\n",
    "import torch\n",
    "from torch import nn\n",
    "from sklearn.metrics import accuracy_score, confusion_matrix, classification_report"
   ]
  },
  {
   "cell_type": "code",
   "execution_count": 2,
   "outputs": [],
   "source": [
    "def define_pandas_options():\n",
    "    pd.set_option('display.max_rows', None)\n",
    "    pd.set_option('display.max_columns', None)\n",
    "    pd.set_option('display.width', None)\n",
    "    pd.set_option('display.max_colwidth', None)\n",
    "    pd.set_option('display.float_format', lambda x: '%.5f' % x)"
   ],
   "metadata": {
    "collapsed": false,
    "pycharm": {
     "name": "#%%\n"
    }
   }
  },
  {
   "cell_type": "code",
   "execution_count": 3,
   "outputs": [],
   "source": [
    "def string_to_vector(s):\n",
    "    try:\n",
    "        s = s.split('[')[1].split(']')[0]\n",
    "        x = float(s.split()[0])\n",
    "        y = float(s.split()[1])\n",
    "        return np.array([x, y])\n",
    "    except AttributeError:\n",
    "        return None\n",
    "\n",
    "\n",
    "def get_position_delta(row):\n",
    "    return row.s / 10 * row.dir_vec\n",
    "\n",
    "\n",
    "def get_relative_position(row):\n",
    "    if row.frameId == 1:\n",
    "        return np.array([0, 0])\n",
    "    else:\n",
    "        last_pos = row.shift(1).rel_pos\n",
    "        return last_pos + row.pos_delta"
   ],
   "metadata": {
    "collapsed": false,
    "pycharm": {
     "name": "#%%\n"
    }
   }
  },
  {
   "cell_type": "code",
   "execution_count": 4,
   "outputs": [],
   "source": [
    "# Prep data\n",
    "prog_start = time.time()\n",
    "pl_cols = ['gameId', 'playId', 'offense_h_play', 'offense_h_presnap', 'offense_h_to_throw', 'offense_h_to_arrived',\n",
    "           'offense_h_to_end', 'defense_h_play', 'defense_h_presnap', 'defense_h_to_throw', 'defense_h_to_arrived',\n",
    "           'defense_h_to_end', 'offense_p_play', 'offense_p_presnap', 'offense_p_to_throw', 'offense_p_to_arrived',\n",
    "           'offense_p_to_end', 'offense_m_play', 'offense_m_presnap', 'offense_m_to_throw', 'offense_m_to_arrived',\n",
    "           'offense_m_to_end', 'offense_v_play', 'offense_v_presnap', 'offense_v_to_throw', 'offense_v_to_arrived',\n",
    "           'offense_v_to_end', 'offense_a_play', 'offense_a_presnap', 'offense_a_to_throw', 'offense_a_to_arrived',\n",
    "           'offense_a_to_end', 'defense_p_play', 'defense_p_presnap', 'defense_p_to_throw', 'defense_p_to_arrived',\n",
    "           'defense_p_to_end', 'defense_m_play', 'defense_m_presnap', 'defense_m_to_throw', 'defense_m_to_arrived',\n",
    "           'defense_m_to_end', 'defense_v_play', 'defense_v_presnap', 'defense_v_to_throw', 'defense_v_to_arrived',\n",
    "           'defense_v_to_end', 'defense_a_play', 'defense_a_presnap', 'defense_a_to_throw', 'defense_a_to_arrived',\n",
    "           'defense_a_to_end', 'HITCH', 'OUT', 'FLAT', 'CROSS', 'GO', 'SLANT', 'SCREEN', 'CORNER', 'IN', 'ANGLE',\n",
    "           'POST', 'WHEEL']\n",
    "\n",
    "play_df = pd.read_csv('d20_intermediate_files/play_results.csv', usecols=pl_cols)\n",
    "play_df['num_routes'] = play_df[['HITCH', 'OUT', 'FLAT', 'CROSS', 'GO', 'SLANT', 'SCREEN', 'CORNER', 'IN', 'ANGLE', 'POST', 'WHEEL']].T.sum()\n",
    "play_df.drop(play_df[play_df['num_routes'] == 0].index, inplace=True)\n",
    "play_df.dropna(inplace=True)\n",
    "\n",
    "fr_cols = ['gameId', 'playId', 'frameId', 'offense_p_group', 'defense_p_group', 'offense_m_group', 'defense_m_group',\n",
    "           'o_state', 'd_state', 'offense_v_group', 'defense_v_group', 'offense_a_group', 'defense_a_group',\n",
    "           'a_group_ratio']\n",
    "frame_df = pd.read_csv('d20_intermediate_files/frame_results.csv', usecols=fr_cols)\n",
    "\n",
    "#tr_cols = ['time', 's', 'a', 'dis', 'event', 'nflId', 'displayName', 'jerseyNumber', 'position', 'frameId', 'team', 'gameId', 'playId', 'playDirection', 'route', 'pos', 'teamType', 'o_vec', 'dir_vec', 'r_vec']\n",
    "#tracking_df = pd.read_csv('d20_intermediate_files/tracking_results.csv', usecols=tr_cols)"
   ],
   "metadata": {
    "collapsed": false,
    "pycharm": {
     "name": "#%%\n"
    }
   }
  },
  {
   "cell_type": "code",
   "execution_count": 5,
   "outputs": [
    {
     "data": {
      "text/plain": "(6053, 65)"
     },
     "execution_count": 5,
     "metadata": {},
     "output_type": "execute_result"
    }
   ],
   "source": [
    "play_df.shape"
   ],
   "metadata": {
    "collapsed": false,
    "pycharm": {
     "name": "#%%\n"
    }
   }
  },
  {
   "cell_type": "code",
   "execution_count": 6,
   "outputs": [
    {
     "data": {
      "text/plain": "0.494140625"
     },
     "execution_count": 6,
     "metadata": {},
     "output_type": "execute_result"
    }
   ],
   "source": [
    "253/(32*16)"
   ],
   "metadata": {
    "collapsed": false,
    "pycharm": {
     "name": "#%%\n"
    }
   }
  },
  {
   "cell_type": "code",
   "execution_count": 7,
   "outputs": [
    {
     "data": {
      "text/plain": "             gameId       playId  offense_h_play  offense_h_presnap  \\\ncount  6.053000e+03  6053.000000     6053.000000        6053.000000   \nmean   2.018107e+09  2175.908971        4.891404           0.212278   \nstd    1.139088e+04  1256.228321        0.471664           0.365859   \nmin    2.018091e+09    51.000000        2.665374          -0.000000   \n25%    2.018100e+09  1113.000000        4.590837           0.000000   \n50%    2.018110e+09  2186.000000        4.903628           0.000000   \n75%    2.018120e+09  3240.000000        5.218962           0.308506   \nmax    2.018123e+09  5637.000000        6.601220           3.171627   \n\n       offense_h_to_throw  offense_h_to_arrived  offense_h_to_end  \\\ncount         6053.000000           6053.000000       6053.000000   \nmean             4.670505              3.961326          4.315888   \nstd              0.589313              0.404033          0.665939   \nmin              1.159672              2.218546          1.251629   \n25%              4.375753              3.693902          3.846840   \n50%              4.734094              3.959441          4.349947   \n75%              5.051784              4.231135          4.812020   \nmax              6.179106              5.573548          6.514224   \n\n       defense_h_play  defense_h_presnap  defense_h_to_throw  ...  \\\ncount     6053.000000        6053.000000         6053.000000  ...   \nmean         5.217516           1.288699            4.502479  ...   \nstd          0.465863           0.754770            0.653425  ...   \nmin          3.235330          -0.000000            0.514318  ...   \n25%          4.929675           0.735127            4.126828  ...   \n50%          5.257174           1.242202            4.582293  ...   \n75%          5.542995           1.776322            4.963587  ...   \nmax          6.663877           3.824150            6.128508  ...   \n\n             CROSS           GO        SLANT       SCREEN       CORNER  \\\ncount  6053.000000  6053.000000  6053.000000  6053.000000  6053.000000   \nmean      0.389724     0.871138     0.324798     0.224021     0.146043   \nstd       0.651101     0.914874     0.650569     0.522499     0.378036   \nmin       0.000000     0.000000     0.000000     0.000000     0.000000   \n25%       0.000000     0.000000     0.000000     0.000000     0.000000   \n50%       0.000000     1.000000     0.000000     0.000000     0.000000   \n75%       1.000000     1.000000     0.000000     0.000000     0.000000   \nmax       4.000000     4.000000     5.000000     4.000000     2.000000   \n\n                IN        ANGLE         POST        WHEEL   num_routes  \ncount  6053.000000  6053.000000  6053.000000  6053.000000  6053.000000  \nmean      0.317033     0.175450     0.268627     0.019164     4.579052  \nstd       0.560399     0.385561     0.508879     0.137113     0.652341  \nmin       0.000000     0.000000     0.000000     0.000000     1.000000  \n25%       0.000000     0.000000     0.000000     0.000000     4.000000  \n50%       0.000000     0.000000     0.000000     0.000000     5.000000  \n75%       1.000000     0.000000     0.000000     0.000000     5.000000  \nmax       4.000000     2.000000     3.000000     1.000000     5.000000  \n\n[8 rows x 65 columns]",
      "text/html": "<div>\n<style scoped>\n    .dataframe tbody tr th:only-of-type {\n        vertical-align: middle;\n    }\n\n    .dataframe tbody tr th {\n        vertical-align: top;\n    }\n\n    .dataframe thead th {\n        text-align: right;\n    }\n</style>\n<table border=\"1\" class=\"dataframe\">\n  <thead>\n    <tr style=\"text-align: right;\">\n      <th></th>\n      <th>gameId</th>\n      <th>playId</th>\n      <th>offense_h_play</th>\n      <th>offense_h_presnap</th>\n      <th>offense_h_to_throw</th>\n      <th>offense_h_to_arrived</th>\n      <th>offense_h_to_end</th>\n      <th>defense_h_play</th>\n      <th>defense_h_presnap</th>\n      <th>defense_h_to_throw</th>\n      <th>...</th>\n      <th>CROSS</th>\n      <th>GO</th>\n      <th>SLANT</th>\n      <th>SCREEN</th>\n      <th>CORNER</th>\n      <th>IN</th>\n      <th>ANGLE</th>\n      <th>POST</th>\n      <th>WHEEL</th>\n      <th>num_routes</th>\n    </tr>\n  </thead>\n  <tbody>\n    <tr>\n      <th>count</th>\n      <td>6.053000e+03</td>\n      <td>6053.000000</td>\n      <td>6053.000000</td>\n      <td>6053.000000</td>\n      <td>6053.000000</td>\n      <td>6053.000000</td>\n      <td>6053.000000</td>\n      <td>6053.000000</td>\n      <td>6053.000000</td>\n      <td>6053.000000</td>\n      <td>...</td>\n      <td>6053.000000</td>\n      <td>6053.000000</td>\n      <td>6053.000000</td>\n      <td>6053.000000</td>\n      <td>6053.000000</td>\n      <td>6053.000000</td>\n      <td>6053.000000</td>\n      <td>6053.000000</td>\n      <td>6053.000000</td>\n      <td>6053.000000</td>\n    </tr>\n    <tr>\n      <th>mean</th>\n      <td>2.018107e+09</td>\n      <td>2175.908971</td>\n      <td>4.891404</td>\n      <td>0.212278</td>\n      <td>4.670505</td>\n      <td>3.961326</td>\n      <td>4.315888</td>\n      <td>5.217516</td>\n      <td>1.288699</td>\n      <td>4.502479</td>\n      <td>...</td>\n      <td>0.389724</td>\n      <td>0.871138</td>\n      <td>0.324798</td>\n      <td>0.224021</td>\n      <td>0.146043</td>\n      <td>0.317033</td>\n      <td>0.175450</td>\n      <td>0.268627</td>\n      <td>0.019164</td>\n      <td>4.579052</td>\n    </tr>\n    <tr>\n      <th>std</th>\n      <td>1.139088e+04</td>\n      <td>1256.228321</td>\n      <td>0.471664</td>\n      <td>0.365859</td>\n      <td>0.589313</td>\n      <td>0.404033</td>\n      <td>0.665939</td>\n      <td>0.465863</td>\n      <td>0.754770</td>\n      <td>0.653425</td>\n      <td>...</td>\n      <td>0.651101</td>\n      <td>0.914874</td>\n      <td>0.650569</td>\n      <td>0.522499</td>\n      <td>0.378036</td>\n      <td>0.560399</td>\n      <td>0.385561</td>\n      <td>0.508879</td>\n      <td>0.137113</td>\n      <td>0.652341</td>\n    </tr>\n    <tr>\n      <th>min</th>\n      <td>2.018091e+09</td>\n      <td>51.000000</td>\n      <td>2.665374</td>\n      <td>-0.000000</td>\n      <td>1.159672</td>\n      <td>2.218546</td>\n      <td>1.251629</td>\n      <td>3.235330</td>\n      <td>-0.000000</td>\n      <td>0.514318</td>\n      <td>...</td>\n      <td>0.000000</td>\n      <td>0.000000</td>\n      <td>0.000000</td>\n      <td>0.000000</td>\n      <td>0.000000</td>\n      <td>0.000000</td>\n      <td>0.000000</td>\n      <td>0.000000</td>\n      <td>0.000000</td>\n      <td>1.000000</td>\n    </tr>\n    <tr>\n      <th>25%</th>\n      <td>2.018100e+09</td>\n      <td>1113.000000</td>\n      <td>4.590837</td>\n      <td>0.000000</td>\n      <td>4.375753</td>\n      <td>3.693902</td>\n      <td>3.846840</td>\n      <td>4.929675</td>\n      <td>0.735127</td>\n      <td>4.126828</td>\n      <td>...</td>\n      <td>0.000000</td>\n      <td>0.000000</td>\n      <td>0.000000</td>\n      <td>0.000000</td>\n      <td>0.000000</td>\n      <td>0.000000</td>\n      <td>0.000000</td>\n      <td>0.000000</td>\n      <td>0.000000</td>\n      <td>4.000000</td>\n    </tr>\n    <tr>\n      <th>50%</th>\n      <td>2.018110e+09</td>\n      <td>2186.000000</td>\n      <td>4.903628</td>\n      <td>0.000000</td>\n      <td>4.734094</td>\n      <td>3.959441</td>\n      <td>4.349947</td>\n      <td>5.257174</td>\n      <td>1.242202</td>\n      <td>4.582293</td>\n      <td>...</td>\n      <td>0.000000</td>\n      <td>1.000000</td>\n      <td>0.000000</td>\n      <td>0.000000</td>\n      <td>0.000000</td>\n      <td>0.000000</td>\n      <td>0.000000</td>\n      <td>0.000000</td>\n      <td>0.000000</td>\n      <td>5.000000</td>\n    </tr>\n    <tr>\n      <th>75%</th>\n      <td>2.018120e+09</td>\n      <td>3240.000000</td>\n      <td>5.218962</td>\n      <td>0.308506</td>\n      <td>5.051784</td>\n      <td>4.231135</td>\n      <td>4.812020</td>\n      <td>5.542995</td>\n      <td>1.776322</td>\n      <td>4.963587</td>\n      <td>...</td>\n      <td>1.000000</td>\n      <td>1.000000</td>\n      <td>0.000000</td>\n      <td>0.000000</td>\n      <td>0.000000</td>\n      <td>1.000000</td>\n      <td>0.000000</td>\n      <td>0.000000</td>\n      <td>0.000000</td>\n      <td>5.000000</td>\n    </tr>\n    <tr>\n      <th>max</th>\n      <td>2.018123e+09</td>\n      <td>5637.000000</td>\n      <td>6.601220</td>\n      <td>3.171627</td>\n      <td>6.179106</td>\n      <td>5.573548</td>\n      <td>6.514224</td>\n      <td>6.663877</td>\n      <td>3.824150</td>\n      <td>6.128508</td>\n      <td>...</td>\n      <td>4.000000</td>\n      <td>4.000000</td>\n      <td>5.000000</td>\n      <td>4.000000</td>\n      <td>2.000000</td>\n      <td>4.000000</td>\n      <td>2.000000</td>\n      <td>3.000000</td>\n      <td>1.000000</td>\n      <td>5.000000</td>\n    </tr>\n  </tbody>\n</table>\n<p>8 rows × 65 columns</p>\n</div>"
     },
     "execution_count": 7,
     "metadata": {},
     "output_type": "execute_result"
    }
   ],
   "source": [
    "play_df.describe()"
   ],
   "metadata": {
    "collapsed": false,
    "pycharm": {
     "name": "#%%\n"
    }
   }
  },
  {
   "cell_type": "code",
   "execution_count": 8,
   "outputs": [],
   "source": [
    "def draw_prob_density(x_series, y_series, x_bins, y_bins, ax, xlab=None, ylab=None, cbar=True):\n",
    "    dims = {'x': x_series.max() * 1.00001, 'y': y_series.max() * 1.00001}\n",
    "\n",
    "    bins = np.zeros(x_bins * y_bins).reshape(y_bins, x_bins)\n",
    "    rows = min(len(y_series), len(x_series))\n",
    "\n",
    "    for row in range(rows):\n",
    "        i = int(x_series.iloc[row] / dims['x'] * x_bins)\n",
    "        j = int(y_series.iloc[row] / dims['y'] * y_bins)\n",
    "        bins[j][i] += 1\n",
    "\n",
    "    smoothing_grid = np.zeros(x_bins * y_bins).reshape(y_bins, x_bins)\n",
    "    for i in range(x_bins):\n",
    "        for j in range(y_bins):\n",
    "            sum = 0\n",
    "            count = 0\n",
    "            for x in range(-1, 2):\n",
    "                for y in range(-1, 2):\n",
    "                    if 0 <= i + x < x_bins and 0 <= j + y < y_bins:\n",
    "                        sum += bins[j + y][i + x]\n",
    "                        count += 1\n",
    "            smoothing_grid[j][i] = sum / count\n",
    "\n",
    "    ax.set_xlabel(xlab)\n",
    "    ax.set_ylabel(ylab)\n",
    "    if cbar:\n",
    "        c = ax.pcolor(smoothing_grid, cmap='jet')\n",
    "        plt.colorbar(c, ax=ax)\n",
    "    else:\n",
    "        ax.pcolor(smoothing_grid, cmap='jet')"
   ],
   "metadata": {
    "collapsed": false,
    "pycharm": {
     "name": "#%%\n"
    }
   }
  },
  {
   "cell_type": "code",
   "execution_count": null,
   "outputs": [],
   "source": [
    "fig_height = 3"
   ],
   "metadata": {
    "collapsed": false,
    "pycharm": {
     "name": "#%%\n"
    }
   }
  },
  {
   "cell_type": "code",
   "execution_count": null,
   "outputs": [],
   "source": [
    "fig, axs = plt.subplots(2, 2, sharey=True, figsize=(3*fig_height, fig_height * 2), gridspec_kw={'width_ratios': [1, 2]})\n",
    "\n",
    "draw_prob_density(play_df['offense_m_play'], play_df['offense_p_play'], 50, 50, axs[0][0], ylab='p group', cbar=False)\n",
    "draw_prob_density(play_df['offense_v_play'], play_df['offense_p_play'], 60, 50, axs[0][1])\n",
    "draw_prob_density(play_df['defense_m_play'], play_df['defense_p_play'], 50, 50, axs[1][0], 'm group', 'p group', cbar=False)\n",
    "draw_prob_density(play_df['defense_v_play'], play_df['defense_p_play'], 60, 50, axs[1][1], 'v group')\n",
    "\n",
    "fig.suptitle('FIGURE 1: P Group vs M_Group and V_Group')"
   ],
   "metadata": {
    "collapsed": false,
    "pycharm": {
     "name": "#%%\n"
    }
   }
  },
  {
   "cell_type": "code",
   "execution_count": null,
   "outputs": [],
   "source": [
    "fig, axs = plt.subplots(2, 2, sharey=True, figsize=(3 * fig_height, fig_height * 2), gridspec_kw={'width_ratios': [1, 2]})\n",
    "\n",
    "draw_prob_density(play_df['offense_h_play'], play_df['offense_v_play'], 140, 60, axs[0][0], ylab='v group', cbar=False)\n",
    "draw_prob_density(play_df['offense_a_play'], play_df['offense_v_play'], 60, 60, axs[0][1],)\n",
    "draw_prob_density(play_df['defense_h_play'], play_df['defense_v_play'], 140, 60, axs[1][0], 'h group', 'v group', cbar=False)\n",
    "draw_prob_density(play_df['defense_a_play'], play_df['defense_v_play'], 60, 60, axs[1][1], 'a group')\n",
    "\n",
    "fig.suptitle('FIGURE 2: V_Group vs H_group and A_group')"
   ],
   "metadata": {
    "collapsed": false,
    "pycharm": {
     "name": "#%%\n"
    }
   }
  },
  {
   "cell_type": "code",
   "execution_count": null,
   "outputs": [],
   "source": [
    "fig, axs = plt.subplots(2, 2, sharey=True, figsize=(3 * fig_height, fig_height * 2), gridspec_kw={'width_ratios': [1, 2]})\n",
    "\n",
    "draw_prob_density(play_df['offense_h_play'], play_df['offense_p_play'], 140, 50, axs[0][0], ylab='p group', cbar=False)\n",
    "draw_prob_density(play_df['offense_a_play'], play_df['offense_p_play'], 60, 50, axs[0][1])\n",
    "draw_prob_density(play_df['defense_h_play'], play_df['defense_p_play'], 140, 50, axs[1][0], 'h group', 'p group', cbar=False)\n",
    "draw_prob_density(play_df['defense_a_play'], play_df['defense_p_play'], 60, 50, axs[1][1], 'a group')\n",
    "\n",
    "fig.suptitle('FIGURE 3: P_group vs H_group and A_group')"
   ],
   "metadata": {
    "collapsed": false,
    "pycharm": {
     "name": "#%%\n"
    }
   }
  },
  {
   "cell_type": "code",
   "execution_count": null,
   "outputs": [],
   "source": [
    "fig, axs = plt.subplots(2, 3, sharey=True, figsize=(3 * fig_height, fig_height * 2), gridspec_kw={'width_ratios': [1, 1, 1.25]})\n",
    "\n",
    "draw_prob_density(play_df['offense_m_to_throw'], play_df['offense_p_to_throw'], 50, 50, axs[0][0], ylab='p group', cbar=False)\n",
    "draw_prob_density(play_df['offense_m_to_arrived'], play_df['offense_p_to_arrived'], 50, 50, axs[0][1], cbar=False)\n",
    "draw_prob_density(play_df['offense_m_to_end'], play_df['offense_p_to_end'], 50, 50, axs[0][2])\n",
    "draw_prob_density(play_df['defense_m_to_throw'], play_df['defense_p_to_throw'], 50, 50, axs[1][0], 'm group', 'p group', cbar=False)\n",
    "draw_prob_density(play_df['defense_m_to_arrived'], play_df['defense_p_to_arrived'], 50, 50, axs[1][1], 'm group', cbar=False)\n",
    "draw_prob_density(play_df['defense_m_to_end'], play_df['defense_p_to_end'], 50, 50, axs[1][2], 'm group')\n",
    "\n",
    "fig.suptitle('FIGURE 4: P_Group vs M_Group (Stages of Play)')"
   ],
   "metadata": {
    "collapsed": false,
    "pycharm": {
     "name": "#%%\n"
    }
   }
  },
  {
   "cell_type": "code",
   "execution_count": null,
   "outputs": [],
   "source": [
    "fig, axs = plt.subplots(2, 3, sharey=True, figsize=(4 * fig_height, fig_height * 2), gridspec_kw={'width_ratios': [1, 1, 1.25]})\n",
    "\n",
    "draw_prob_density(play_df['offense_a_to_throw'], play_df['offense_p_to_throw'], 60, 50, axs[0][0], ylab='p group', cbar=False)\n",
    "draw_prob_density(play_df['offense_a_to_arrived'], play_df['offense_p_to_arrived'], 60, 50, axs[0][1], cbar=False)\n",
    "draw_prob_density(play_df['offense_a_to_end'], play_df['offense_p_to_end'], 60, 50, axs[0][2])\n",
    "draw_prob_density(play_df['defense_a_to_throw'], play_df['defense_p_to_throw'], 60, 50, axs[1][0], 'a group', 'p group', cbar=False)\n",
    "draw_prob_density(play_df['defense_a_to_arrived'], play_df['defense_p_to_arrived'], 60, 50, axs[1][1], 'a group', cbar=False)\n",
    "draw_prob_density(play_df['defense_a_to_end'], play_df['defense_p_to_end'], 60, 50, axs[1][2], 'a group')\n",
    "\n",
    "fig.suptitle('FIGURE 5: P_group vs A_group (Stages of Play)')"
   ],
   "metadata": {
    "collapsed": false,
    "pycharm": {
     "name": "#%%\n"
    }
   }
  },
  {
   "cell_type": "code",
   "execution_count": null,
   "outputs": [],
   "source": [
    "fig, axs = plt.subplots(2, 3, sharey=True, figsize=(4 * fig_height, fig_height * 2), gridspec_kw={'width_ratios': [1, 1, 1.25]})\n",
    "\n",
    "draw_prob_density(play_df['offense_v_to_throw'], play_df['offense_p_to_throw'], 60, 50, axs[0][0], ylab='p group', cbar=False)\n",
    "draw_prob_density(play_df['offense_v_to_arrived'], play_df['offense_p_to_arrived'], 60, 50, axs[0][1], cbar=False)\n",
    "draw_prob_density(play_df['offense_v_to_end'], play_df['offense_p_to_end'], 60, 50, axs[0][2], 'v group')\n",
    "\n",
    "draw_prob_density(play_df['defense_v_to_throw'], play_df['defense_p_to_throw'], 60, 50, axs[1][0], 'v group', 'p group', cbar=False)\n",
    "draw_prob_density(play_df['defense_v_to_arrived'], play_df['defense_p_to_arrived'], 60, 50, axs[1][1], 'v group', cbar=False)\n",
    "draw_prob_density(play_df['defense_v_to_end'], play_df['defense_p_to_end'], 60, 50, axs[1][2], 'v group')\n",
    "\n",
    "fig.suptitle('FIGURE 6: P_group vs V_group (Stages of Play)')"
   ],
   "metadata": {
    "collapsed": false,
    "pycharm": {
     "name": "#%%\n"
    }
   }
  },
  {
   "cell_type": "code",
   "execution_count": null,
   "outputs": [],
   "source": [
    "fig, axs = plt.subplots(2, 3, sharey=True, figsize=(4 * fig_height, fig_height * 2), gridspec_kw={'width_ratios': [1, 1, 1.25]})\n",
    "\n",
    "draw_prob_density(play_df['offense_h_to_throw'], play_df['offense_p_to_throw'], 140, 50, axs[0][0], ylab='p group', cbar=False)\n",
    "draw_prob_density(play_df['offense_h_to_arrived'], play_df['offense_p_to_arrived'], 140, 50, axs[0][1], cbar=False)\n",
    "draw_prob_density(play_df['offense_h_to_end'], play_df['offense_p_to_end'], 140, 50, axs[0][2])\n",
    "\n",
    "draw_prob_density(play_df['defense_h_to_throw'], play_df['defense_p_to_throw'], 140, 50, axs[1][0], 'h group', 'p group', cbar=False)\n",
    "draw_prob_density(play_df['defense_h_to_arrived'], play_df['defense_p_to_arrived'], 140, 50, axs[1][1], 'h group', cbar=False)\n",
    "draw_prob_density(play_df['defense_h_to_end'], play_df['defense_p_to_end'], 140, 50, axs[1][2], 'h group')\n",
    "\n",
    "fig.suptitle('FIGURE 7: P_group vs H_group (Stages of Play)')"
   ],
   "metadata": {
    "collapsed": false,
    "pycharm": {
     "name": "#%%\n"
    }
   }
  },
  {
   "cell_type": "code",
   "execution_count": null,
   "outputs": [],
   "source": [
    "def get_o_transition_state(row):\n",
    "    if row.offense_p_play > 0.65 and row.offense_m_play < 0.35:\n",
    "        return 'polar'\n",
    "    elif row.offense_p_play < 0.35 and row.offense_m_play < 0.35:\n",
    "        return 'swarm'\n",
    "    elif row.offense_p_play < 0.35 and row.offense_m_play > 0.65:\n",
    "        return 'milling'\n",
    "    else:\n",
    "        return 'transitional'\n",
    "\n",
    "def get_d_transition_state(row):\n",
    "    if row.defense_p_play > 0.65 and row.defense_m_play < 0.35:\n",
    "        return 'polar'\n",
    "    elif row.defense_p_play < 0.35 and row.defense_m_play < 0.35:\n",
    "        return 'swarm'\n",
    "    elif row.defense_p_play < 0.35 and row.defense_m_play > 0.65:\n",
    "        return 'milling'\n",
    "    else:\n",
    "        return 'transitional'"
   ],
   "metadata": {
    "collapsed": false,
    "pycharm": {
     "name": "#%%\n"
    }
   }
  },
  {
   "cell_type": "code",
   "execution_count": null,
   "outputs": [],
   "source": [
    "play_df['o_state'] = play_df.apply(get_o_transition_state, axis=1)\n",
    "play_df['d_state'] = play_df.apply(get_d_transition_state, axis=1)"
   ],
   "metadata": {
    "collapsed": false,
    "pycharm": {
     "name": "#%%\n"
    }
   }
  },
  {
   "cell_type": "code",
   "execution_count": null,
   "outputs": [],
   "source": [
    "print(play_df[(play_df['o_state'] == 'polar')].shape)\n",
    "print(play_df[(play_df['o_state'] == 'swarm')].shape)\n",
    "print(play_df[(play_df['o_state'] == 'milling')].shape)\n",
    "print(play_df[(play_df['o_state'] == 'transitional')].shape)\n",
    "print(play_df[(play_df['d_state'] == 'polar')].shape)\n",
    "print(play_df[(play_df['d_state'] == 'swarm')].shape)\n",
    "print(play_df[(play_df['d_state'] == 'milling')].shape)\n",
    "print(play_df[(play_df['d_state'] == 'transitional')].shape)"
   ],
   "metadata": {
    "collapsed": false,
    "pycharm": {
     "name": "#%%\n"
    }
   }
  },
  {
   "cell_type": "code",
   "execution_count": null,
   "outputs": [],
   "source": [
    "o_states = {'polar': play_df[(play_df['o_state'] == 'polar')].shape[0],\n",
    "            'swarm': play_df[(play_df['o_state'] == 'swarm')].shape[0],\n",
    "            'milling': play_df[(play_df['o_state'] == 'milling')].shape[0],\n",
    "            'transitional': play_df[(play_df['o_state'] == 'transitional')].shape[0]}\n",
    "\n",
    "d_states = {'polar': play_df[(play_df['d_state'] == 'polar')].shape[0],\n",
    "            'swarm': play_df[(play_df['d_state'] == 'swarm')].shape[0],\n",
    "            'milling': play_df[(play_df['d_state'] == 'milling')].shape[0],\n",
    "            'transitional': play_df[(play_df['d_state'] == 'transitional')].shape[0]}"
   ],
   "metadata": {
    "collapsed": false,
    "pycharm": {
     "name": "#%%\n"
    }
   }
  },
  {
   "cell_type": "code",
   "execution_count": null,
   "outputs": [],
   "source": [
    "d_states"
   ],
   "metadata": {
    "collapsed": false,
    "pycharm": {
     "name": "#%%\n"
    }
   }
  },
  {
   "cell_type": "code",
   "execution_count": null,
   "outputs": [],
   "source": [
    "ind = np.arange(len(o_states))\n",
    "width = 0.5\n",
    "\n",
    "fig, ax = plt.subplots(figsize=(10, 5))\n",
    "ax.bar(ind - width / 2, o_states.values(), width, label='Offense')\n",
    "ax.bar(ind + width / 2, d_states.values(), width, label='Defense')\n",
    "ax.set_ylabel('Number of instances')\n",
    "ax.set_title('Distribution of offensive and defensive collective states')\n",
    "ax.set_xticks(ind)\n",
    "ax.set_xticklabels(o_states.keys())\n",
    "ax.legend(loc='upper left')"
   ],
   "metadata": {
    "collapsed": false,
    "pycharm": {
     "name": "#%%\n"
    }
   }
  },
  {
   "cell_type": "code",
   "execution_count": 27,
   "outputs": [
    {
     "name": "stdout",
     "output_type": "stream",
     "text": [
      "{'polar': 403, 'swarm': 241, 'milling': 0, 'transitional': 5409}\n",
      "{'polar': 610, 'swarm': 672, 'milling': 1, 'transitional': 4770}\n"
     ]
    }
   ],
   "source": [
    "print(o_states)\n",
    "print(d_states)"
   ],
   "metadata": {
    "collapsed": false,
    "pycharm": {
     "name": "#%%\n"
    }
   }
  },
  {
   "cell_type": "code",
   "execution_count": null,
   "outputs": [],
   "source": [],
   "metadata": {
    "collapsed": false,
    "pycharm": {
     "name": "#%%\n"
    }
   }
  }
 ],
 "metadata": {
  "kernelspec": {
   "display_name": "Python 3",
   "language": "python",
   "name": "python3"
  },
  "language_info": {
   "codemirror_mode": {
    "name": "ipython",
    "version": 2
   },
   "file_extension": ".py",
   "mimetype": "text/x-python",
   "name": "python",
   "nbconvert_exporter": "python",
   "pygments_lexer": "ipython2",
   "version": "2.7.6"
  }
 },
 "nbformat": 4,
 "nbformat_minor": 0
}