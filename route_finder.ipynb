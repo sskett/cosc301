{
 "cells": [
  {
   "cell_type": "code",
   "execution_count": 1,
   "outputs": [],
   "source": [
    "import pandas as pd\n",
    "import numpy as np\n",
    "import matplotlib.pyplot as plt\n",
    "\n",
    "from sklearn import datasets, svm, metrics\n",
    "from sklearn.model_selection import train_test_split"
   ],
   "metadata": {
    "collapsed": false,
    "pycharm": {
     "name": "#%%\n"
    }
   }
  },
  {
   "cell_type": "code",
   "execution_count": 2,
   "outputs": [],
   "source": [
    "def define_pandas_options():\n",
    "    pd.set_option('display.max_rows', None)\n",
    "    pd.set_option('display.max_columns', None)\n",
    "    pd.set_option('display.width', None)\n",
    "    pd.set_option('display.max_colwidth', None)\n",
    "    pd.set_option('display.float_format', lambda x: '%.5f' % x)"
   ],
   "metadata": {
    "collapsed": false,
    "pycharm": {
     "name": "#%%\n"
    }
   }
  },
  {
   "cell_type": "code",
   "execution_count": 3,
   "outputs": [],
   "source": [
    "def string_to_vector(s):\n",
    "    try:\n",
    "        s = s.split('[')[1].split(']')[0]\n",
    "        x = float(s.split()[0])\n",
    "        y = float(s.split()[1])\n",
    "        return np.array([x, y])\n",
    "    except AttributeError:\n",
    "        return None\n",
    "\n",
    "def get_position_delta(row):\n",
    "    return row.s / 10 * row.dir_vec\n",
    "\n",
    "def get_relative_position(row):\n",
    "    if row.frameId == 1:\n",
    "        return np.array([0, 0])\n",
    "    else:\n",
    "        last_pos = row.shift(1).rel_pos\n",
    "        return last_pos + row.pos_delta"
   ],
   "metadata": {
    "collapsed": false,
    "pycharm": {
     "name": "#%%\n"
    }
   }
  },
  {
   "cell_type": "code",
   "execution_count": 4,
   "outputs": [],
   "source": [
    "pl_cols = ['gameId', 'playId', 'offense_h_play', 'offense_h_presnap', 'offense_h_to_throw', 'offense_h_to_arrived', 'offense_h_to_end', 'defense_h_play', 'defense_h_presnap', 'defense_h_to_throw', 'defense_h_to_arrived', 'defense_h_to_end', 'offense_p_play', 'offense_p_presnap', 'offense_p_to_throw', 'offense_p_to_arrived', 'offense_p_to_end', 'offense_m_play', 'offense_m_presnap', 'offense_m_to_throw', 'offense_m_to_arrived', 'offense_m_to_end', 'offense_v_play', 'offense_v_presnap', 'offense_v_to_throw', 'offense_v_to_arrived', 'offense_v_to_end', 'offense_a_play', 'offense_a_presnap', 'offense_a_to_throw', 'offense_a_to_arrived','offense_a_to_end', 'defense_p_play', 'defense_p_presnap','defense_p_to_throw', 'defense_p_to_arrived', 'defense_p_to_end','defense_m_play', 'defense_m_presnap', 'defense_m_to_throw','defense_m_to_arrived', 'defense_m_to_end', 'defense_v_play', 'defense_v_presnap', 'defense_v_to_throw', 'defense_v_to_arrived','defense_v_to_end', 'defense_a_play', 'defense_a_presnap','defense_a_to_throw', 'defense_a_to_arrived', 'defense_a_to_end','HITCH', 'OUT', 'FLAT', 'CROSS', 'GO', 'SLANT', 'SCREEN', 'CORNER', 'IN', 'ANGLE', 'POST', 'WHEEL']\n",
    "\n",
    "play_df = pd.read_csv('d20_intermediate_files/play_results.csv', usecols=pl_cols)\n",
    "play_df['num_routes'] = play_df[['HITCH', 'OUT', 'FLAT', 'CROSS', 'GO', 'SLANT', 'SCREEN', 'CORNER', 'IN', 'ANGLE', 'POST', 'WHEEL']].T.sum()\n",
    "play_df.drop(play_df[play_df['num_routes'] == 0].index, inplace=True)\n",
    "play_df.dropna(inplace=True)\n",
    "\n",
    "fr_cols = ['gameId', 'playId', 'frameId', 'offense_p_group', 'defense_p_group', 'offense_m_group', 'defense_m_group', 'o_state', 'd_state', 'offense_v_group', 'defense_v_group', 'offense_a_group', 'defense_a_group', 'a_group_ratio']\n",
    "frame_df = pd.read_csv('d20_intermediate_files/frame_results.csv', usecols=fr_cols)\n",
    "\n",
    "tr_cols = ['time', 's', 'a', 'dis', 'event', 'nflId', 'displayName', 'jerseyNumber', 'position', 'frameId', 'team', 'gameId', 'playId', 'playDirection', 'route', 'pos', 'teamType', 'o_vec', 'dir_vec', 'r_vec']\n",
    "tracking_df = pd.read_csv('d20_intermediate_files/tracking_results.csv', usecols=tr_cols)"
   ],
   "metadata": {
    "collapsed": false,
    "pycharm": {
     "name": "#%%\n"
    }
   }
  },
  {
   "cell_type": "code",
   "execution_count": 5,
   "outputs": [],
   "source": [
    "#tracking_df['pos'] = tracking_df['pos'].apply(string_to_vector)\n",
    "#tracking_df['o_vec'] = tracking_df['o_vec'].apply(string_to_vector)\n",
    "#tracking_df['dir_vec'] = tracking_df['dir_vec'].apply(string_to_vector)\n",
    "#tracking_df['r_vec'] = tracking_df['r_vec'].apply(string_to_vector)"
   ],
   "metadata": {
    "collapsed": false,
    "pycharm": {
     "name": "#%%\n"
    }
   }
  },
  {
   "cell_type": "code",
   "execution_count": 6,
   "outputs": [],
   "source": [
    "#tracking_df['gpid'] = tracking_df.apply(lambda x: str(x.gameId) + '-' + str(x.playId), axis=1)"
   ],
   "metadata": {
    "collapsed": false,
    "pycharm": {
     "name": "#%%\n"
    }
   }
  },
  {
   "cell_type": "code",
   "execution_count": 7,
   "outputs": [],
   "source": [
    "runners = tracking_df.loc[(tracking_df['position'].isin(['QB', 'WR', 'RB', 'TE']))].copy()\n",
    "del tracking_df"
   ],
   "metadata": {
    "collapsed": false,
    "pycharm": {
     "name": "#%%\n"
    }
   }
  },
  {
   "cell_type": "code",
   "execution_count": 8,
   "outputs": [],
   "source": [
    "runners['pos'] = runners['pos'].apply(string_to_vector)\n",
    "runners['o_vec'] = runners['o_vec'].apply(string_to_vector)\n",
    "runners['dir_vec'] = runners['dir_vec'].apply(string_to_vector)\n",
    "runners['r_vec'] = runners['r_vec'].apply(string_to_vector)\n",
    "runners['gpid'] = runners.apply(lambda x: str(x.gameId) + '-' + str(x.playId), axis=1)"
   ],
   "metadata": {
    "collapsed": false,
    "pycharm": {
     "name": "#%%\n"
    }
   }
  },
  {
   "cell_type": "code",
   "execution_count": 9,
   "outputs": [],
   "source": [
    "qb_positions = runners.loc[(runners['frameId'] == 1) & (runners['position'] == 'QB')][['gpid', 'pos']].copy()"
   ],
   "metadata": {
    "collapsed": false,
    "pycharm": {
     "name": "#%%\n"
    }
   }
  },
  {
   "cell_type": "code",
   "execution_count": 10,
   "outputs": [],
   "source": [
    "runners = runners.loc[(~runners['route'].isna())]"
   ],
   "metadata": {
    "collapsed": false,
    "pycharm": {
     "name": "#%%\n"
    }
   }
  },
  {
   "cell_type": "code",
   "execution_count": 11,
   "outputs": [],
   "source": [
    "# Convert nan forced floats to ints and NA\n",
    "runners['nflId'] = runners['nflId'].astype('Int64')\n",
    "runners['jerseyNumber'] = runners['jerseyNumber'].astype('Int64')"
   ],
   "metadata": {
    "collapsed": false,
    "pycharm": {
     "name": "#%%\n"
    }
   }
  },
  {
   "cell_type": "code",
   "execution_count": 12,
   "outputs": [],
   "source": [
    "gpids = runners['gpid'].unique().tolist()"
   ],
   "metadata": {
    "collapsed": false,
    "pycharm": {
     "name": "#%%\n"
    }
   }
  },
  {
   "cell_type": "code",
   "execution_count": 13,
   "outputs": [],
   "source": [
    "routes_df = pd.DataFrame(columns=['gpid', 'nflId', 'route', 'pos'])\n",
    "index = 0\n",
    "end_events = ['pass_arrived', 'pass_outcome_caught', 'out_of_bounds',\n",
    "                       'pass_outcome_incomplete', 'first_contact', 'tackle', 'man_in_motion', 'play_action', 'handoff',\n",
    "                       'pass_tipped', 'pass_outcome_interception', 'pass_shovel', 'line_set', 'pass_outcome_touchdown',\n",
    "                       'fumble', 'fumble_offense_recovered', 'fumble_defense_recovered', 'touchdown', 'shift',\n",
    "                       'touchback', 'penalty_flag', 'penalty_accepted', 'field_goal_blocked']\n",
    "\n",
    "# Generate vectors of positions\n",
    "for gpid in gpids[:1000]:\n",
    "    df = runners.loc[runners['gpid'] == gpid]\n",
    "    players = df['nflId'].unique().tolist()\n",
    "    centre_pos = qb_positions.loc[(qb_positions['gpid'] == gpid)]['pos'].values[0][1]\n",
    "    for player in players:\n",
    "        player_df = df.loc[(df['nflId'] == player)]\n",
    "        if player > 0:\n",
    "            start_frame = player_df.loc[player_df['event'] == 'ball_snap']['frameId'].min()\n",
    "            end_frame = player_df.loc[player_df['event'].isin(end_events)]['frameId'].min()\n",
    "            if end_frame > start_frame:\n",
    "                positions = []\n",
    "                start_pos = player_df.loc[(player_df['frameId'] == start_frame)]['pos'].values[0]\n",
    "                flip_arr = True if start_pos[1] < centre_pos else False\n",
    "                for frame in range(start_frame + 1, end_frame + 1):\n",
    "                    # positions.append(player_df.loc[(player_df['frameId'] == frame)]['pos'].values[0].tolist())\n",
    "                    new_pos = player_df.loc[(player_df['frameId'] == frame)]['pos'].values[0].tolist()\n",
    "                    if flip_arr: new_pos[1] = new_pos[1] * -1\n",
    "                    new_pos.append(player_df.loc[(player_df['frameId'] == frame)]['s'].values[0])\n",
    "                    positions.append(new_pos)\n",
    "                positions = np.array(positions)\n",
    "                try:\n",
    "                    routes_df.loc[index] = {\n",
    "                        'gpid': str(gpid),\n",
    "                        'nflId': int(player),\n",
    "                        'route': str(player_df.loc[(player_df['frameId'] == 1)]['route'].values[0]),\n",
    "                        'pos': positions - positions[0]\n",
    "                    }\n",
    "                    index += 1\n",
    "                except IndexError:\n",
    "                    print(f'Data error for gpid {gpid}, player {player} (Start {start_frame} | End {end_frame})')\n",
    "\n",
    "del runners"
   ],
   "metadata": {
    "collapsed": false,
    "pycharm": {
     "name": "#%%\n"
    }
   }
  },
  {
   "cell_type": "code",
   "execution_count": 14,
   "outputs": [],
   "source": [
    "# Convert position sequences to 2d array with np.histogram2d"
   ],
   "metadata": {
    "collapsed": false,
    "pycharm": {
     "name": "#%%\n"
    }
   }
  },
  {
   "cell_type": "code",
   "execution_count": 15,
   "outputs": [],
   "source": [
    "# Convert 2d array to 1d array"
   ],
   "metadata": {
    "collapsed": false,
    "pycharm": {
     "name": "#%%\n"
    }
   }
  },
  {
   "cell_type": "code",
   "execution_count": 16,
   "outputs": [
    {
     "data": {
      "text/plain": "(-40.0, 40.0)"
     },
     "execution_count": 16,
     "metadata": {},
     "output_type": "execute_result"
    },
    {
     "data": {
      "text/plain": "<Figure size 432x288 with 1 Axes>",
      "image/png": "[encoded data removed]"
     },
     "metadata": {
      "needs_background": "light"
     },
     "output_type": "display_data"
    }
   ],
   "source": [
    "x = [0, 0]\n",
    "y = [0, 0]\n",
    "\n",
    "for idx, row in routes_df.iterrows():\n",
    "    if row['pos'][:, 0].min() < x[0]: x[0] = row['pos'][:, 0].min()\n",
    "    if row['pos'][:, 0].max() > x[1]: x[1] = row['pos'][:, 0].max()\n",
    "    if row['pos'][:, 1].min() < y[0]: y[0] = row['pos'][:, 1].min()\n",
    "    if row['pos'][:, 1].max() > y[1]: y[1] = row['pos'][:, 1].max()\n",
    "    plt.scatter(row['pos'][:, 0], row['pos'][:, 1], c=row['pos'][:, 2])\n",
    "x = [np.floor(x[0]), np.ceil(x[1])]\n",
    "plt.xlim(x[0] - 1, x[1] + 1)\n",
    "y[0] = -1 * np.ceil(max(abs(y[0]), abs(y[1])))\n",
    "y[1] = abs(y[0])\n",
    "plt.ylim(y[0] - 1, y[1] + 1)"
   ],
   "metadata": {
    "collapsed": false,
    "pycharm": {
     "name": "#%%\n"
    }
   }
  },
  {
   "cell_type": "code",
   "execution_count": 17,
   "outputs": [],
   "source": [
    "x_dim = int(abs(x[0]) + abs(x[1]))\n",
    "y_dim = int(abs(y[0]) + abs(y[1]))"
   ],
   "metadata": {
    "collapsed": false,
    "pycharm": {
     "name": "#%%\n"
    }
   }
  },
  {
   "cell_type": "code",
   "execution_count": 18,
   "outputs": [],
   "source": [
    "grid = np.zeros(x_dim * y_dim).reshape(x_dim, y_dim)"
   ],
   "metadata": {
    "collapsed": false,
    "pycharm": {
     "name": "#%%\n"
    }
   }
  },
  {
   "cell_type": "code",
   "execution_count": 19,
   "outputs": [],
   "source": [
    "grids = []\n",
    "for idx, row in routes_df.iterrows():\n",
    "    grid = np.zeros(x_dim * y_dim).reshape(x_dim, y_dim)\n",
    "    for position in row['pos']:\n",
    "        grid[int(position[0]), int(position[1])] = position[2]\n",
    "    grids.append(grid.reshape(x_dim * y_dim))"
   ],
   "metadata": {
    "collapsed": false,
    "pycharm": {
     "name": "#%%\n"
    }
   }
  },
  {
   "cell_type": "code",
   "execution_count": 20,
   "outputs": [],
   "source": [
    "routes_df['grid'] = grids\n",
    "#routes_df.drop(['pos'], axis=1, inplace=True)"
   ],
   "metadata": {
    "collapsed": false,
    "pycharm": {
     "name": "#%%\n"
    }
   }
  },
  {
   "cell_type": "code",
   "execution_count": 25,
   "outputs": [],
   "source": [
    "# flatten the images\n",
    "n_samples = len(grids)\n",
    "\n",
    "# Create a classifier: a support vector classifier\n",
    "clf = svm.SVC(gamma=0.005, kernel='rbf')\n",
    "\n",
    "# Split data into 50% train and 50% test subsets\n",
    "x_train, x_test, y_train, y_test = train_test_split(grids, routes_df['route'], test_size=0.6, shuffle=False, random_state=1)\n",
    "\n",
    "# Learn the digits on the train subset\n",
    "clf.fit(x_train, y_train)\n",
    "\n",
    "# Predict the value of the digit on the test subset\n",
    "predicted = clf.predict(x_test)"
   ],
   "metadata": {
    "collapsed": false,
    "pycharm": {
     "name": "#%%\n"
    }
   }
  },
  {
   "cell_type": "code",
   "execution_count": 26,
   "outputs": [
    {
     "name": "stdout",
     "output_type": "stream",
     "text": [
      "Classification report for classifier SVC(gamma=0.005):\n",
      "              precision    recall  f1-score   support\n",
      "\n",
      "       ANGLE       0.67      0.12      0.20        84\n",
      "      CORNER       0.00      0.00      0.00       102\n",
      "       CROSS       0.63      0.29      0.40       204\n",
      "        FLAT       0.61      0.75      0.67       295\n",
      "          GO       0.36      0.73      0.48       478\n",
      "       HITCH       0.36      0.65      0.47       322\n",
      "          IN       0.40      0.13      0.20       174\n",
      "         OUT       0.87      0.24      0.37       304\n",
      "        POST       0.52      0.08      0.15       165\n",
      "      SCREEN       0.31      0.43      0.36        88\n",
      "       SLANT       0.55      0.23      0.33       147\n",
      "       WHEEL       0.00      0.00      0.00        13\n",
      "\n",
      "    accuracy                           0.43      2376\n",
      "   macro avg       0.44      0.30      0.30      2376\n",
      "weighted avg       0.50      0.43      0.39      2376\n",
      "\n",
      "\n"
     ]
    },
    {
     "name": "stderr",
     "output_type": "stream",
     "text": [
      "/home/spencer/Projects/cosc301/venv/lib/python3.9/site-packages/sklearn/metrics/_classification.py:1327: UndefinedMetricWarning: Precision and F-score are ill-defined and being set to 0.0 in labels with no predicted samples. Use `zero_division` parameter to control this behavior.\n",
      "  _warn_prf(average, modifier, msg_start, len(result))\n",
      "/home/spencer/Projects/cosc301/venv/lib/python3.9/site-packages/sklearn/metrics/_classification.py:1327: UndefinedMetricWarning: Precision and F-score are ill-defined and being set to 0.0 in labels with no predicted samples. Use `zero_division` parameter to control this behavior.\n",
      "  _warn_prf(average, modifier, msg_start, len(result))\n",
      "/home/spencer/Projects/cosc301/venv/lib/python3.9/site-packages/sklearn/metrics/_classification.py:1327: UndefinedMetricWarning: Precision and F-score are ill-defined and being set to 0.0 in labels with no predicted samples. Use `zero_division` parameter to control this behavior.\n",
      "  _warn_prf(average, modifier, msg_start, len(result))\n"
     ]
    }
   ],
   "source": [
    "print(\n",
    "    f'Classification report for classifier {clf}:\\n'\n",
    "    f'{metrics.classification_report(y_test, predicted)}\\n'\n",
    ")"
   ],
   "metadata": {
    "collapsed": false,
    "pycharm": {
     "name": "#%%\n"
    }
   }
  },
  {
   "cell_type": "code",
   "execution_count": 27,
   "outputs": [
    {
     "name": "stdout",
     "output_type": "stream",
     "text": [
      "Confusion Matrix:\n",
      "[[ 10   0   2  39   8  18   0   0   0   5   2   0]\n",
      " [  0   0   0   1  86  13   0   0   0   2   0   0]\n",
      " [  1   0  60  13  74  36   1   0   0  17   2   0]\n",
      " [  0   0   6 220  37   6   0   0   0  26   0   0]\n",
      " [  0   0   0  10 349  96   2   5   4  12   0   0]\n",
      " [  2   0   3  14  68 208   2   6   2   8   9   0]\n",
      " [  0   0   6   0  77  49  23   0   7   2  10   0]\n",
      " [  1   0   3  22 132  56   6  72   0   8   4   0]\n",
      " [  0   0   1   1 111  26  11   0  14   1   0   0]\n",
      " [  0   0   0  34   2  13   0   0   0  38   1   0]\n",
      " [  1   0  13   1  31  51  12   0   0   4  34   0]\n",
      " [  0   0   1   3   8   0   0   0   0   1   0   0]]\n"
     ]
    },
    {
     "data": {
      "text/plain": "<Figure size 432x288 with 2 Axes>",
      "image/png": "[encoded data removed]"
     },
     "metadata": {
      "needs_background": "light"
     },
     "output_type": "display_data"
    }
   ],
   "source": [
    "disp = metrics.ConfusionMatrixDisplay.from_predictions(y_test, predicted)\n",
    "disp.figure_.suptitle('Confusion Matrix')\n",
    "print(f'Confusion Matrix:\\n{disp.confusion_matrix}')\n",
    "plt.show()"
   ],
   "metadata": {
    "collapsed": false,
    "pycharm": {
     "name": "#%%\n"
    }
   }
  },
  {
   "cell_type": "code",
   "execution_count": 28,
   "outputs": [
    {
     "data": {
      "text/plain": "3959"
     },
     "execution_count": 28,
     "metadata": {},
     "output_type": "execute_result"
    }
   ],
   "source": [
    "routes_df['route'].value_counts().sum()"
   ],
   "metadata": {
    "collapsed": false,
    "pycharm": {
     "name": "#%%\n"
    }
   }
  },
  {
   "cell_type": "code",
   "execution_count": 29,
   "outputs": [
    {
     "data": {
      "text/plain": "<BarContainer object of 12 artists>"
     },
     "execution_count": 29,
     "metadata": {},
     "output_type": "execute_result"
    },
    {
     "data": {
      "text/plain": "<Figure size 1440x720 with 1 Axes>",
      "image/png": "[encoded data removed]"
     },
     "metadata": {
      "needs_background": "light"
     },
     "output_type": "display_data"
    }
   ],
   "source": [
    "plt.figure(figsize=(20,10))\n",
    "plt.bar(routes_df['route'].value_counts().index, routes_df['route'].value_counts().values / routes_df['route'].value_counts().sum(), width=0.75)"
   ],
   "metadata": {
    "collapsed": false,
    "pycharm": {
     "name": "#%%\n"
    }
   }
  },
  {
   "cell_type": "code",
   "execution_count": 30,
   "outputs": [
    {
     "data": {
      "text/plain": "3959"
     },
     "execution_count": 30,
     "metadata": {},
     "output_type": "execute_result"
    }
   ],
   "source": [
    "routes_df['route'].count()"
   ],
   "metadata": {
    "collapsed": false,
    "pycharm": {
     "name": "#%%\n"
    }
   }
  },
  {
   "cell_type": "code",
   "execution_count": 31,
   "outputs": [
    {
     "data": {
      "text/plain": "21"
     },
     "execution_count": 31,
     "metadata": {},
     "output_type": "execute_result"
    }
   ],
   "source": [
    "routes_df.loc[routes_df['route'] == 'WHEEL']['route'].count()"
   ],
   "metadata": {
    "collapsed": false,
    "pycharm": {
     "name": "#%%\n"
    }
   }
  },
  {
   "cell_type": "code",
   "execution_count": 32,
   "outputs": [
    {
     "data": {
      "text/plain": "0.1801488207844621"
     },
     "execution_count": 32,
     "metadata": {},
     "output_type": "execute_result"
    }
   ],
   "source": [
    "7142/39645"
   ],
   "metadata": {
    "collapsed": false,
    "pycharm": {
     "name": "#%%\n"
    }
   }
  },
  {
   "cell_type": "code",
   "execution_count": 33,
   "outputs": [],
   "source": [
    "from sklearn.neural_network import MLPClassifier\n",
    "from sklearn.preprocessing import StandardScaler"
   ],
   "metadata": {
    "collapsed": false,
    "pycharm": {
     "name": "#%%\n"
    }
   }
  },
  {
   "cell_type": "code",
   "execution_count": 34,
   "outputs": [],
   "source": [
    "scaler = StandardScaler()\n",
    "\n",
    "scaler.fit(x_train)\n",
    "x_train2 = scaler.transform(x_train)\n",
    "x_test2 = scaler.transform(x_test)"
   ],
   "metadata": {
    "collapsed": false,
    "pycharm": {
     "name": "#%%\n"
    }
   }
  },
  {
   "cell_type": "code",
   "execution_count": 35,
   "outputs": [
    {
     "name": "stderr",
     "output_type": "stream",
     "text": [
      "/home/spencer/Projects/cosc301/venv/lib/python3.9/site-packages/sklearn/neural_network/_multilayer_perceptron.py:559: ConvergenceWarning: lbfgs failed to converge (status=1):\n",
      "STOP: TOTAL NO. of ITERATIONS REACHED LIMIT.\n",
      "\n",
      "Increase the number of iterations (max_iter) or scale the data as shown in:\n",
      "    https://scikit-learn.org/stable/modules/preprocessing.html\n",
      "  self.n_iter_ = _check_optimize_result(\"lbfgs\", opt_res, self.max_iter)\n"
     ]
    },
    {
     "data": {
      "text/plain": "MLPClassifier(max_iter=1000, random_state=1, solver='lbfgs')",
      "text/html": "<style>#sk-container-id-1 {color: black;background-color: white;}#sk-container-id-1 pre{padding: 0;}#sk-container-id-1 div.sk-toggleable {background-color: white;}#sk-container-id-1 label.sk-toggleable__label {cursor: pointer;display: block;width: 100%;margin-bottom: 0;padding: 0.3em;box-sizing: border-box;text-align: center;}#sk-container-id-1 label.sk-toggleable__label-arrow:before {content: \"▸\";float: left;margin-right: 0.25em;color: #696969;}#sk-container-id-1 label.sk-toggleable__label-arrow:hover:before {color: black;}#sk-container-id-1 div.sk-estimator:hover label.sk-toggleable__label-arrow:before {color: black;}#sk-container-id-1 div.sk-toggleable__content {max-height: 0;max-width: 0;overflow: hidden;text-align: left;background-color: #f0f8ff;}#sk-container-id-1 div.sk-toggleable__content pre {margin: 0.2em;color: black;border-radius: 0.25em;background-color: #f0f8ff;}#sk-container-id-1 input.sk-toggleable__control:checked~div.sk-toggleable__content {max-height: 200px;max-width: 100%;overflow: auto;}#sk-container-id-1 input.sk-toggleable__control:checked~label.sk-toggleable__label-arrow:before {content: \"▾\";}#sk-container-id-1 div.sk-estimator input.sk-toggleable__control:checked~label.sk-toggleable__label {background-color: #d4ebff;}#sk-container-id-1 div.sk-label input.sk-toggleable__control:checked~label.sk-toggleable__label {background-color: #d4ebff;}#sk-container-id-1 input.sk-hidden--visually {border: 0;clip: rect(1px 1px 1px 1px);clip: rect(1px, 1px, 1px, 1px);height: 1px;margin: -1px;overflow: hidden;padding: 0;position: absolute;width: 1px;}#sk-container-id-1 div.sk-estimator {font-family: monospace;background-color: #f0f8ff;border: 1px dotted black;border-radius: 0.25em;box-sizing: border-box;margin-bottom: 0.5em;}#sk-container-id-1 div.sk-estimator:hover {background-color: #d4ebff;}#sk-container-id-1 div.sk-parallel-item::after {content: \"\";width: 100%;border-bottom: 1px solid gray;flex-grow: 1;}#sk-container-id-1 div.sk-label:hover label.sk-toggleable__label {background-color: #d4ebff;}#sk-container-id-1 div.sk-serial::before {content: \"\";position: absolute;border-left: 1px solid gray;box-sizing: border-box;top: 0;bottom: 0;left: 50%;z-index: 0;}#sk-container-id-1 div.sk-serial {display: flex;flex-direction: column;align-items: center;background-color: white;padding-right: 0.2em;padding-left: 0.2em;position: relative;}#sk-container-id-1 div.sk-item {position: relative;z-index: 1;}#sk-container-id-1 div.sk-parallel {display: flex;align-items: stretch;justify-content: center;background-color: white;position: relative;}#sk-container-id-1 div.sk-item::before, #sk-container-id-1 div.sk-parallel-item::before {content: \"\";position: absolute;border-left: 1px solid gray;box-sizing: border-box;top: 0;bottom: 0;left: 50%;z-index: -1;}#sk-container-id-1 div.sk-parallel-item {display: flex;flex-direction: column;z-index: 1;position: relative;background-color: white;}#sk-container-id-1 div.sk-parallel-item:first-child::after {align-self: flex-end;width: 50%;}#sk-container-id-1 div.sk-parallel-item:last-child::after {align-self: flex-start;width: 50%;}#sk-container-id-1 div.sk-parallel-item:only-child::after {width: 0;}#sk-container-id-1 div.sk-dashed-wrapped {border: 1px dashed gray;margin: 0 0.4em 0.5em 0.4em;box-sizing: border-box;padding-bottom: 0.4em;background-color: white;}#sk-container-id-1 div.sk-label label {font-family: monospace;font-weight: bold;display: inline-block;line-height: 1.2em;}#sk-container-id-1 div.sk-label-container {text-align: center;}#sk-container-id-1 div.sk-container {/* jupyter's `normalize.less` sets `[hidden] { display: none; }` but bootstrap.min.css set `[hidden] { display: none !important; }` so we also need the `!important` here to be able to override the default hidden behavior on the sphinx rendered scikit-learn.org. See: https://github.com/scikit-learn/scikit-learn/issues/21755 */display: inline-block !important;position: relative;}#sk-container-id-1 div.sk-text-repr-fallback {display: none;}</style><div id=\"sk-container-id-1\" class=\"sk-top-container\"><div class=\"sk-text-repr-fallback\"><pre>MLPClassifier(max_iter=1000, random_state=1, solver=&#x27;lbfgs&#x27;)</pre><b>In a Jupyter environment, please rerun this cell to show the HTML representation or trust the notebook. <br />On GitHub, the HTML representation is unable to render, please try loading this page with nbviewer.org.</b></div><div class=\"sk-container\" hidden><div class=\"sk-item\"><div class=\"sk-estimator sk-toggleable\"><input class=\"sk-toggleable__control sk-hidden--visually\" id=\"sk-estimator-id-1\" type=\"checkbox\" checked><label for=\"sk-estimator-id-1\" class=\"sk-toggleable__label sk-toggleable__label-arrow\">MLPClassifier</label><div class=\"sk-toggleable__content\"><pre>MLPClassifier(max_iter=1000, random_state=1, solver=&#x27;lbfgs&#x27;)</pre></div></div></div></div></div>"
     },
     "execution_count": 35,
     "metadata": {},
     "output_type": "execute_result"
    }
   ],
   "source": [
    "clf2 = MLPClassifier(solver='lbfgs', random_state=1, max_iter=1000)\n",
    "clf2.fit(x_train2, y_train)"
   ],
   "metadata": {
    "collapsed": false,
    "pycharm": {
     "name": "#%%\n"
    }
   }
  },
  {
   "cell_type": "code",
   "execution_count": 36,
   "outputs": [],
   "source": [
    "predicted2 = clf2.predict(x_test2)"
   ],
   "metadata": {
    "collapsed": false,
    "pycharm": {
     "name": "#%%\n"
    }
   }
  },
  {
   "cell_type": "code",
   "execution_count": 37,
   "outputs": [
    {
     "name": "stdout",
     "output_type": "stream",
     "text": [
      "Classification report for classifier MLPClassifier(max_iter=1000, random_state=1, solver='lbfgs'):\n",
      "              precision    recall  f1-score   support\n",
      "\n",
      "       ANGLE       0.30      0.21      0.25        84\n",
      "      CORNER       0.22      0.14      0.17       102\n",
      "       CROSS       0.46      0.46      0.46       204\n",
      "        FLAT       0.60      0.70      0.65       295\n",
      "          GO       0.51      0.57      0.54       478\n",
      "       HITCH       0.37      0.46      0.41       322\n",
      "          IN       0.28      0.25      0.26       174\n",
      "         OUT       0.54      0.43      0.48       304\n",
      "        POST       0.38      0.33      0.36       165\n",
      "      SCREEN       0.41      0.36      0.39        88\n",
      "       SLANT       0.29      0.30      0.29       147\n",
      "       WHEEL       1.00      0.15      0.27        13\n",
      "\n",
      "    accuracy                           0.45      2376\n",
      "   macro avg       0.45      0.36      0.38      2376\n",
      "weighted avg       0.44      0.45      0.44      2376\n",
      "\n",
      "\n"
     ]
    }
   ],
   "source": [
    "print(\n",
    "    f'Classification report for classifier {clf2}:\\n'\n",
    "    f'{metrics.classification_report(y_test, predicted2)}\\n'\n",
    ")"
   ],
   "metadata": {
    "collapsed": false,
    "pycharm": {
     "name": "#%%\n"
    }
   }
  },
  {
   "cell_type": "code",
   "execution_count": 38,
   "outputs": [
    {
     "name": "stdout",
     "output_type": "stream",
     "text": [
      "Confusion Matrix:\n",
      "[[ 18   0   6  25   5  16   2   8   1   1   2   0]\n",
      " [  3  14   5   0  45   9   4  13   6   1   2   0]\n",
      " [  1   5  93  20   7  25  10   5   6   2  30   0]\n",
      " [  6   0  22 206   7   5   3  12   1  29   4   0]\n",
      " [  6  20   5  17 273  77  10  33  24   4   9   0]\n",
      " [ 11   8  13  11  45 148  17  24  15   3  27   0]\n",
      " [  1   3  22   2  27  32  43   3  22   0  19   0]\n",
      " [  8   9   8  20  56  38  15 131   6   3  10   0]\n",
      " [  0   3   9   2  48   8  32   5  55   1   2   0]\n",
      " [  6   0   3  28   3   8   1   2   1  32   4   0]\n",
      " [  1   3  16   5  16  30  19   5   7   1  44   0]\n",
      " [  0   0   1   7   1   0   0   1   0   1   0   2]]\n"
     ]
    },
    {
     "data": {
      "text/plain": "<Figure size 432x288 with 2 Axes>",
      "image/png": "[encoded data removed]"
     },
     "metadata": {
      "needs_background": "light"
     },
     "output_type": "display_data"
    }
   ],
   "source": [
    "disp2 = metrics.ConfusionMatrixDisplay.from_predictions(y_test, predicted2)\n",
    "disp2.figure_.suptitle('Confusion Matrix')\n",
    "print(f'Confusion Matrix:\\n{disp2.confusion_matrix}')\n",
    "plt.show()"
   ],
   "metadata": {
    "collapsed": false,
    "pycharm": {
     "name": "#%%\n"
    }
   }
  },
  {
   "cell_type": "code",
   "execution_count": 39,
   "outputs": [],
   "source": [
    "from sklearn.ensemble import RandomForestClassifier\n",
    "model = RandomForestClassifier()"
   ],
   "metadata": {
    "collapsed": false,
    "pycharm": {
     "name": "#%%\n"
    }
   }
  },
  {
   "cell_type": "code",
   "execution_count": 40,
   "outputs": [
    {
     "data": {
      "text/plain": "RandomForestClassifier()",
      "text/html": "<style>#sk-container-id-2 {color: black;background-color: white;}#sk-container-id-2 pre{padding: 0;}#sk-container-id-2 div.sk-toggleable {background-color: white;}#sk-container-id-2 label.sk-toggleable__label {cursor: pointer;display: block;width: 100%;margin-bottom: 0;padding: 0.3em;box-sizing: border-box;text-align: center;}#sk-container-id-2 label.sk-toggleable__label-arrow:before {content: \"▸\";float: left;margin-right: 0.25em;color: #696969;}#sk-container-id-2 label.sk-toggleable__label-arrow:hover:before {color: black;}#sk-container-id-2 div.sk-estimator:hover label.sk-toggleable__label-arrow:before {color: black;}#sk-container-id-2 div.sk-toggleable__content {max-height: 0;max-width: 0;overflow: hidden;text-align: left;background-color: #f0f8ff;}#sk-container-id-2 div.sk-toggleable__content pre {margin: 0.2em;color: black;border-radius: 0.25em;background-color: #f0f8ff;}#sk-container-id-2 input.sk-toggleable__control:checked~div.sk-toggleable__content {max-height: 200px;max-width: 100%;overflow: auto;}#sk-container-id-2 input.sk-toggleable__control:checked~label.sk-toggleable__label-arrow:before {content: \"▾\";}#sk-container-id-2 div.sk-estimator input.sk-toggleable__control:checked~label.sk-toggleable__label {background-color: #d4ebff;}#sk-container-id-2 div.sk-label input.sk-toggleable__control:checked~label.sk-toggleable__label {background-color: #d4ebff;}#sk-container-id-2 input.sk-hidden--visually {border: 0;clip: rect(1px 1px 1px 1px);clip: rect(1px, 1px, 1px, 1px);height: 1px;margin: -1px;overflow: hidden;padding: 0;position: absolute;width: 1px;}#sk-container-id-2 div.sk-estimator {font-family: monospace;background-color: #f0f8ff;border: 1px dotted black;border-radius: 0.25em;box-sizing: border-box;margin-bottom: 0.5em;}#sk-container-id-2 div.sk-estimator:hover {background-color: #d4ebff;}#sk-container-id-2 div.sk-parallel-item::after {content: \"\";width: 100%;border-bottom: 1px solid gray;flex-grow: 1;}#sk-container-id-2 div.sk-label:hover label.sk-toggleable__label {background-color: #d4ebff;}#sk-container-id-2 div.sk-serial::before {content: \"\";position: absolute;border-left: 1px solid gray;box-sizing: border-box;top: 0;bottom: 0;left: 50%;z-index: 0;}#sk-container-id-2 div.sk-serial {display: flex;flex-direction: column;align-items: center;background-color: white;padding-right: 0.2em;padding-left: 0.2em;position: relative;}#sk-container-id-2 div.sk-item {position: relative;z-index: 1;}#sk-container-id-2 div.sk-parallel {display: flex;align-items: stretch;justify-content: center;background-color: white;position: relative;}#sk-container-id-2 div.sk-item::before, #sk-container-id-2 div.sk-parallel-item::before {content: \"\";position: absolute;border-left: 1px solid gray;box-sizing: border-box;top: 0;bottom: 0;left: 50%;z-index: -1;}#sk-container-id-2 div.sk-parallel-item {display: flex;flex-direction: column;z-index: 1;position: relative;background-color: white;}#sk-container-id-2 div.sk-parallel-item:first-child::after {align-self: flex-end;width: 50%;}#sk-container-id-2 div.sk-parallel-item:last-child::after {align-self: flex-start;width: 50%;}#sk-container-id-2 div.sk-parallel-item:only-child::after {width: 0;}#sk-container-id-2 div.sk-dashed-wrapped {border: 1px dashed gray;margin: 0 0.4em 0.5em 0.4em;box-sizing: border-box;padding-bottom: 0.4em;background-color: white;}#sk-container-id-2 div.sk-label label {font-family: monospace;font-weight: bold;display: inline-block;line-height: 1.2em;}#sk-container-id-2 div.sk-label-container {text-align: center;}#sk-container-id-2 div.sk-container {/* jupyter's `normalize.less` sets `[hidden] { display: none; }` but bootstrap.min.css set `[hidden] { display: none !important; }` so we also need the `!important` here to be able to override the default hidden behavior on the sphinx rendered scikit-learn.org. See: https://github.com/scikit-learn/scikit-learn/issues/21755 */display: inline-block !important;position: relative;}#sk-container-id-2 div.sk-text-repr-fallback {display: none;}</style><div id=\"sk-container-id-2\" class=\"sk-top-container\"><div class=\"sk-text-repr-fallback\"><pre>RandomForestClassifier()</pre><b>In a Jupyter environment, please rerun this cell to show the HTML representation or trust the notebook. <br />On GitHub, the HTML representation is unable to render, please try loading this page with nbviewer.org.</b></div><div class=\"sk-container\" hidden><div class=\"sk-item\"><div class=\"sk-estimator sk-toggleable\"><input class=\"sk-toggleable__control sk-hidden--visually\" id=\"sk-estimator-id-2\" type=\"checkbox\" checked><label for=\"sk-estimator-id-2\" class=\"sk-toggleable__label sk-toggleable__label-arrow\">RandomForestClassifier</label><div class=\"sk-toggleable__content\"><pre>RandomForestClassifier()</pre></div></div></div></div></div>"
     },
     "execution_count": 40,
     "metadata": {},
     "output_type": "execute_result"
    }
   ],
   "source": [
    "model.fit(x_train2, y_train)"
   ],
   "metadata": {
    "collapsed": false,
    "pycharm": {
     "name": "#%%\n"
    }
   }
  },
  {
   "cell_type": "code",
   "execution_count": 41,
   "outputs": [],
   "source": [
    "y_pred = model.predict(x_test2)"
   ],
   "metadata": {
    "collapsed": false,
    "pycharm": {
     "name": "#%%\n"
    }
   }
  },
  {
   "cell_type": "code",
   "execution_count": 42,
   "outputs": [],
   "source": [
    "from sklearn.metrics import accuracy_score,confusion_matrix,classification_report"
   ],
   "metadata": {
    "collapsed": false,
    "pycharm": {
     "name": "#%%\n"
    }
   }
  },
  {
   "cell_type": "code",
   "execution_count": 43,
   "outputs": [
    {
     "name": "stdout",
     "output_type": "stream",
     "text": [
      "              precision    recall  f1-score   support\n",
      "\n",
      "       ANGLE       0.30      0.38      0.33        66\n",
      "      CORNER       0.03      0.23      0.05        13\n",
      "       CROSS       0.62      0.59      0.60       216\n",
      "        FLAT       0.79      0.59      0.68       393\n",
      "          GO       0.73      0.47      0.57       732\n",
      "       HITCH       0.52      0.44      0.48       379\n",
      "          IN       0.29      0.47      0.36       106\n",
      "         OUT       0.37      0.76      0.50       148\n",
      "        POST       0.25      0.40      0.31       103\n",
      "      SCREEN       0.26      0.48      0.34        48\n",
      "       SLANT       0.50      0.43      0.47       171\n",
      "       WHEEL       0.08      1.00      0.14         1\n",
      "\n",
      "    accuracy                           0.51      2376\n",
      "   macro avg       0.39      0.52      0.40      2376\n",
      "weighted avg       0.59      0.51      0.53      2376\n",
      "\n"
     ]
    }
   ],
   "source": [
    "accuracy_score(y_pred, y_test)\n",
    "print(classification_report(y_pred, y_test))"
   ],
   "metadata": {
    "collapsed": false,
    "pycharm": {
     "name": "#%%\n"
    }
   }
  },
  {
   "cell_type": "code",
   "execution_count": 44,
   "outputs": [
    {
     "data": {
      "text/plain": "array([[ 25,   1,   2,   4,   5,  10,   0,   7,   1,   7,   4,   0],\n       [  0,   3,   0,   0,   4,   0,   2,   1,   2,   0,   1,   0],\n       [  6,   3, 127,  21,   6,   9,   8,   6,   7,   4,  19,   0],\n       [ 29,   1,  20, 233,  20,  11,   2,  20,   2,  39,   4,  12],\n       [  5,  68,   4,  15, 347,  74,  38, 101,  63,   2,  15,   0],\n       [ 16,  11,  17,   2,  47, 168,  40,  37,  15,  10,  16,   0],\n       [  0,   1,   2,   1,   2,   9,  50,   5,  29,   0,   7,   0],\n       [  1,   4,   0,   4,  16,   5,   2, 112,   2,   1,   1,   0],\n       [  0,   7,   3,   0,  18,  10,  16,   3,  41,   0,   5,   0],\n       [  1,   0,   1,  13,   5,   2,   0,   1,   1,  23,   1,   0],\n       [  1,   3,  28,   2,   8,  24,  16,  11,   2,   2,  74,   0],\n       [  0,   0,   0,   0,   0,   0,   0,   0,   0,   0,   0,   1]])"
     },
     "execution_count": 44,
     "metadata": {},
     "output_type": "execute_result"
    }
   ],
   "source": [
    "confusion_matrix(y_pred, y_test)"
   ],
   "metadata": {
    "collapsed": false,
    "pycharm": {
     "name": "#%%\n"
    }
   }
  },
  {
   "cell_type": "code",
   "execution_count": 21,
   "outputs": [],
   "source": [
    "# Test NN using pytorch\n",
    "import os\n",
    "import torch\n",
    "from torch import nn\n",
    "from torch.utils.data import DataLoader\n",
    "from torchvision import datasets, transforms"
   ],
   "metadata": {
    "collapsed": false,
    "pycharm": {
     "name": "#%%\n"
    }
   }
  },
  {
   "cell_type": "code",
   "execution_count": 46,
   "outputs": [
    {
     "name": "stdout",
     "output_type": "stream",
     "text": [
      "Using cpu device\n"
     ]
    }
   ],
   "source": [
    "#device = \"cuda\" if torch.cuda.is_available() else \"cpu\"\n",
    "device = \"cpu\"\n",
    "print(f\"Using {device} device\")"
   ],
   "metadata": {
    "collapsed": false,
    "pycharm": {
     "name": "#%%\n"
    }
   }
  },
  {
   "cell_type": "code",
   "execution_count": 47,
   "outputs": [],
   "source": [
    "class NeuralNetwork(nn.Module):\n",
    "    def __init__(self):\n",
    "        super(NeuralNetwork, self).__init__()\n",
    "        self.flatten = nn.Flatten()\n",
    "        self.linear_relu_stack = nn.Sequential(\n",
    "            nn.Linear(28*28, 512),\n",
    "            nn.ReLU(),\n",
    "            nn.Linear(512, 512),\n",
    "            nn.ReLU(),\n",
    "            nn.Linear(512, 10),\n",
    "        )\n",
    "\n",
    "    def forward(self, x):\n",
    "        x = self.flatten(x)\n",
    "        logits = self.linear_relu_stack(x)\n",
    "        return logits"
   ],
   "metadata": {
    "collapsed": false,
    "pycharm": {
     "name": "#%%\n"
    }
   }
  },
  {
   "cell_type": "code",
   "execution_count": 48,
   "outputs": [
    {
     "name": "stdout",
     "output_type": "stream",
     "text": [
      "NeuralNetwork(\n",
      "  (flatten): Flatten(start_dim=1, end_dim=-1)\n",
      "  (linear_relu_stack): Sequential(\n",
      "    (0): Linear(in_features=784, out_features=512, bias=True)\n",
      "    (1): ReLU()\n",
      "    (2): Linear(in_features=512, out_features=512, bias=True)\n",
      "    (3): ReLU()\n",
      "    (4): Linear(in_features=512, out_features=10, bias=True)\n",
      "  )\n",
      ")\n"
     ]
    }
   ],
   "source": [
    "model = NeuralNetwork().to(device)\n",
    "print(model)"
   ],
   "metadata": {
    "collapsed": false,
    "pycharm": {
     "name": "#%%\n"
    }
   }
  },
  {
   "cell_type": "code",
   "execution_count": 49,
   "outputs": [
    {
     "name": "stdout",
     "output_type": "stream",
     "text": [
      "Predicted class: tensor([7])\n"
     ]
    }
   ],
   "source": [
    "X = torch.rand(1, 28, 28, device=device)\n",
    "logits = model(X)\n",
    "pred_probab = nn.Softmax(dim=1)(logits)\n",
    "y_pred = pred_probab.argmax(1)\n",
    "print(f\"Predicted class: {y_pred}\")"
   ],
   "metadata": {
    "collapsed": false,
    "pycharm": {
     "name": "#%%\n"
    }
   }
  },
  {
   "cell_type": "code",
   "execution_count": 77,
   "outputs": [],
   "source": [
    "# Define the model\n",
    "class NeuralNetwork(nn.Module):\n",
    "    def __init__(self):\n",
    "        super(NeuralNetwork, self).__init__()\n",
    "        #self.flatten = nn.Flatten()\n",
    "        self.linear_relu_stack = nn.Sequential(\n",
    "            nn.Linear(x_dim*y_dim, 512),\n",
    "            nn.ReLU(),\n",
    "            nn.Linear(512, 512),\n",
    "            nn.ReLU(),\n",
    "            nn.Linear(512, 11),\n",
    "        )\n",
    "\n",
    "    def forward(self, x):\n",
    "        #x = self.flatten(x)\n",
    "        logits = self.linear_relu_stack(x)\n",
    "        return logits\n"
   ],
   "metadata": {
    "collapsed": false,
    "pycharm": {
     "name": "#%%\n"
    }
   }
  },
  {
   "cell_type": "code",
   "execution_count": 78,
   "outputs": [
    {
     "name": "stdout",
     "output_type": "stream",
     "text": [
      "NeuralNetwork(\n",
      "  (flatten): Flatten(start_dim=1, end_dim=-1)\n",
      "  (linear_relu_stack): Sequential(\n",
      "    (0): Linear(in_features=784, out_features=512, bias=True)\n",
      "    (1): ReLU()\n",
      "    (2): Linear(in_features=512, out_features=512, bias=True)\n",
      "    (3): ReLU()\n",
      "    (4): Linear(in_features=512, out_features=10, bias=True)\n",
      "  )\n",
      ")\n"
     ]
    }
   ],
   "source": [
    "# Train the model\n",
    "model2 = NeuralNetwork().to(device)\n",
    "print(model)\n",
    "logits2 = model2(torch.as_tensor(x_train).float())"
   ],
   "metadata": {
    "collapsed": false,
    "pycharm": {
     "name": "#%%\n"
    }
   }
  },
  {
   "cell_type": "code",
   "execution_count": 79,
   "outputs": [
    {
     "name": "stdout",
     "output_type": "stream",
     "text": [
      "Predicted class: tensor([0, 2, 0,  ..., 0, 0, 0])\n"
     ]
    }
   ],
   "source": [
    "# Evaluate the model\n",
    "pred_probab = nn.Softmax(dim=1)(logits2)\n",
    "y_pred = pred_probab.argmax(1)\n",
    "print(f\"Predicted class: {y_pred}\")"
   ],
   "metadata": {
    "collapsed": false,
    "pycharm": {
     "name": "#%%\n"
    }
   }
  },
  {
   "cell_type": "code",
   "execution_count": 80,
   "outputs": [
    {
     "data": {
      "text/plain": "tensor(10)"
     },
     "execution_count": 80,
     "metadata": {},
     "output_type": "execute_result"
    }
   ],
   "source": [
    "max(logits2.max(1).indices)"
   ],
   "metadata": {
    "collapsed": false,
    "pycharm": {
     "name": "#%%\n"
    }
   }
  },
  {
   "cell_type": "code",
   "execution_count": 27,
   "outputs": [
    {
     "data": {
      "text/plain": "{0: 'HITCH',\n 1: 'OUT',\n 2: 'FLAT',\n 3: 'CROSS',\n 4: 'GO',\n 5: 'SLANT',\n 6: 'SCREEN',\n 7: 'CORNER',\n 8: 'IN',\n 9: 'ANGLE',\n 10: 'POST',\n 11: 'WHEEL'}"
     },
     "execution_count": 27,
     "metadata": {},
     "output_type": "execute_result"
    }
   ],
   "source": [
    "classes = {}\n",
    "index = 0\n",
    "for route in routes_df['route'].unique().tolist():\n",
    "    classes[index] = route\n",
    "    index += 1\n",
    "classes"
   ],
   "metadata": {
    "collapsed": false,
    "pycharm": {
     "name": "#%%\n"
    }
   }
  },
  {
   "cell_type": "code",
   "execution_count": 28,
   "outputs": [
    {
     "data": {
      "text/plain": "{'HITCH': 0,\n 'OUT': 1,\n 'FLAT': 2,\n 'CROSS': 3,\n 'GO': 4,\n 'SLANT': 5,\n 'SCREEN': 6,\n 'CORNER': 7,\n 'IN': 8,\n 'ANGLE': 9,\n 'POST': 10,\n 'WHEEL': 11}"
     },
     "execution_count": 28,
     "metadata": {},
     "output_type": "execute_result"
    }
   ],
   "source": [
    "route_idx = {}\n",
    "for idx, value in classes.items():\n",
    "    route_idx[value] = idx\n",
    "route_idx"
   ],
   "metadata": {
    "collapsed": false,
    "pycharm": {
     "name": "#%%\n"
    }
   }
  },
  {
   "cell_type": "code",
   "execution_count": 30,
   "outputs": [
    {
     "data": {
      "text/plain": "             gpid    nflId  route  \\\n0   2018090600-75  2495454  HITCH   \n1   2018090600-75  2533040  HITCH   \n2   2018090600-75  2555415    OUT   \n3  2018090600-146  2543583   FLAT   \n4  2018090600-146  2552418  CROSS   \n\n                                                 pos  \\\n0  [[0.0, 0.0, 0.0], [0.030000000000001137, 0.0, ...   \n1  [[0.0, 0.0, 0.0], [0.010000000000001563, 0.0, ...   \n2  [[0.0, 0.0, 0.0], [0.010000000000001563, 0.009...   \n3  [[0.0, 0.0, 0.0], [0.0, 0.0, 0.04], [0.0099999...   \n4  [[0.0, 0.0, 0.0], [0.01999999999999602, 0.0199...   \n\n                                                grid  route_int  \n0  [3.48, 0.0, 0.0, 0.0, 0.0, 0.0, 0.0, 0.0, 0.0,...          0  \n1  [2.44, 0.0, 0.0, 0.0, 0.0, 0.0, 0.0, 0.0, 0.0,...          0  \n2  [2.82, 0.0, 0.0, 0.0, 0.0, 0.0, 0.0, 0.0, 0.0,...          1  \n3  [2.12, 0.0, 0.0, 0.0, 0.0, 0.0, 0.0, 0.0, 0.0,...          2  \n4  [2.86, 0.0, 0.0, 0.0, 0.0, 0.0, 0.0, 0.0, 0.0,...          3  ",
      "text/html": "<div>\n<style scoped>\n    .dataframe tbody tr th:only-of-type {\n        vertical-align: middle;\n    }\n\n    .dataframe tbody tr th {\n        vertical-align: top;\n    }\n\n    .dataframe thead th {\n        text-align: right;\n    }\n</style>\n<table border=\"1\" class=\"dataframe\">\n  <thead>\n    <tr style=\"text-align: right;\">\n      <th></th>\n      <th>gpid</th>\n      <th>nflId</th>\n      <th>route</th>\n      <th>pos</th>\n      <th>grid</th>\n      <th>route_int</th>\n    </tr>\n  </thead>\n  <tbody>\n    <tr>\n      <th>0</th>\n      <td>2018090600-75</td>\n      <td>2495454</td>\n      <td>HITCH</td>\n      <td>[[0.0, 0.0, 0.0], [0.030000000000001137, 0.0, ...</td>\n      <td>[3.48, 0.0, 0.0, 0.0, 0.0, 0.0, 0.0, 0.0, 0.0,...</td>\n      <td>0</td>\n    </tr>\n    <tr>\n      <th>1</th>\n      <td>2018090600-75</td>\n      <td>2533040</td>\n      <td>HITCH</td>\n      <td>[[0.0, 0.0, 0.0], [0.010000000000001563, 0.0, ...</td>\n      <td>[2.44, 0.0, 0.0, 0.0, 0.0, 0.0, 0.0, 0.0, 0.0,...</td>\n      <td>0</td>\n    </tr>\n    <tr>\n      <th>2</th>\n      <td>2018090600-75</td>\n      <td>2555415</td>\n      <td>OUT</td>\n      <td>[[0.0, 0.0, 0.0], [0.010000000000001563, 0.009...</td>\n      <td>[2.82, 0.0, 0.0, 0.0, 0.0, 0.0, 0.0, 0.0, 0.0,...</td>\n      <td>1</td>\n    </tr>\n    <tr>\n      <th>3</th>\n      <td>2018090600-146</td>\n      <td>2543583</td>\n      <td>FLAT</td>\n      <td>[[0.0, 0.0, 0.0], [0.0, 0.0, 0.04], [0.0099999...</td>\n      <td>[2.12, 0.0, 0.0, 0.0, 0.0, 0.0, 0.0, 0.0, 0.0,...</td>\n      <td>2</td>\n    </tr>\n    <tr>\n      <th>4</th>\n      <td>2018090600-146</td>\n      <td>2552418</td>\n      <td>CROSS</td>\n      <td>[[0.0, 0.0, 0.0], [0.01999999999999602, 0.0199...</td>\n      <td>[2.86, 0.0, 0.0, 0.0, 0.0, 0.0, 0.0, 0.0, 0.0,...</td>\n      <td>3</td>\n    </tr>\n  </tbody>\n</table>\n</div>"
     },
     "execution_count": 30,
     "metadata": {},
     "output_type": "execute_result"
    }
   ],
   "source": [
    "routes_df['route_int'] = routes_df['route'].apply(lambda x: route_idx[x])\n",
    "routes_df.head()"
   ],
   "metadata": {
    "collapsed": false,
    "pycharm": {
     "name": "#%%\n"
    }
   }
  },
  {
   "cell_type": "code",
   "execution_count": 53,
   "outputs": [
    {
     "data": {
      "text/plain": "'cuda'"
     },
     "execution_count": 53,
     "metadata": {},
     "output_type": "execute_result"
    }
   ],
   "source": [
    "import torch\n",
    "from torch import nn\n",
    "\n",
    "# Create device agnostic code\n",
    "device = \"cuda\" if torch.cuda.is_available() else \"cpu\"\n",
    "device"
   ],
   "metadata": {
    "collapsed": false,
    "pycharm": {
     "name": "#%%\n"
    }
   }
  },
  {
   "cell_type": "code",
   "execution_count": 65,
   "outputs": [],
   "source": [
    "class MultiClassModel(nn.Module):\n",
    "    def __init__(self, input_features, output_features, hidden_units=0):\n",
    "        super().__init__()\n",
    "        self.linear_layer_stack = nn.Sequential(\n",
    "            nn.Linear(in_features=input_features, out_features=hidden_units),\n",
    "            nn.ReLU(),\n",
    "            nn.Linear(in_features=hidden_units, out_features=hidden_units),\n",
    "            nn.ReLU(),\n",
    "            nn.Linear(in_features=hidden_units, out_features=hidden_units),\n",
    "            nn.ReLU(),\n",
    "            nn.Linear(in_features=hidden_units, out_features=output_features),\n",
    "        )\n",
    "\n",
    "    def forward(self, x):\n",
    "        return self.linear_layer_stack(x)\n",
    "\n",
    "def accuracy_fn(y_true, y_pred):\n",
    "    correct = torch.eq(y_true, y_pred).sum().item()\n",
    "    acc = (correct/ len(y_pred)) * 100\n",
    "    return acc\n",
    "\n",
    "mc_model = MultiClassModel(input_features=x_dim*y_dim, output_features=len(classes), hidden_units=1024).to(device)\n",
    "\n",
    "loss_fn = nn.CrossEntropyLoss()\n",
    "optimiser = torch.optim.SGD(mc_model.parameters(), lr=0.2)"
   ],
   "metadata": {
    "collapsed": false,
    "pycharm": {
     "name": "#%%\n"
    }
   }
  },
  {
   "cell_type": "code",
   "execution_count": 66,
   "outputs": [
    {
     "name": "stdout",
     "output_type": "stream",
     "text": [
      "Epoch: 0 | Loss: 2.48365, Acc: 6.60% | Test Loss: 2.46713, Test Acc: 20.96%\n",
      "Epoch: 10 | Loss: 2.28643, Acc: 20.87% | Test Loss: 2.26488, Test Acc: 21.34%\n",
      "Epoch: 20 | Loss: 2.11790, Acc: 20.87% | Test Loss: 2.10389, Test Acc: 21.34%\n",
      "Epoch: 30 | Loss: 1.97276, Acc: 33.38% | Test Loss: 1.96567, Test Acc: 32.20%\n",
      "Epoch: 40 | Loss: 1.79480, Acc: 39.72% | Test Loss: 1.81022, Test Acc: 37.50%\n",
      "Epoch: 50 | Loss: 1.70418, Acc: 41.24% | Test Loss: 1.73273, Test Acc: 38.38%\n",
      "Epoch: 60 | Loss: 1.80346, Acc: 34.86% | Test Loss: 1.72599, Test Acc: 36.99%\n",
      "Epoch: 70 | Loss: 1.63154, Acc: 39.75% | Test Loss: 1.64051, Test Acc: 38.13%\n",
      "Epoch: 80 | Loss: 1.54282, Acc: 44.65% | Test Loss: 1.59680, Test Acc: 39.65%\n",
      "Epoch: 90 | Loss: 1.48659, Acc: 47.33% | Test Loss: 1.57071, Test Acc: 41.79%\n",
      "Epoch: 100 | Loss: 1.46185, Acc: 48.12% | Test Loss: 1.60936, Test Acc: 41.67%\n",
      "Epoch: 110 | Loss: 1.40079, Acc: 48.59% | Test Loss: 1.56155, Test Acc: 41.29%\n",
      "Epoch: 120 | Loss: 1.35395, Acc: 50.55% | Test Loss: 1.54887, Test Acc: 44.19%\n",
      "Epoch: 130 | Loss: 1.36143, Acc: 51.50% | Test Loss: 1.54814, Test Acc: 44.82%\n",
      "Epoch: 140 | Loss: 1.30813, Acc: 52.83% | Test Loss: 1.51613, Test Acc: 45.83%\n",
      "Epoch: 150 | Loss: 1.28092, Acc: 51.75% | Test Loss: 1.50839, Test Acc: 44.57%\n",
      "Epoch: 160 | Loss: 1.19499, Acc: 56.99% | Test Loss: 1.44651, Test Acc: 47.60%\n",
      "Epoch: 170 | Loss: 1.20137, Acc: 57.06% | Test Loss: 1.47044, Test Acc: 48.23%\n",
      "Epoch: 180 | Loss: 1.13769, Acc: 59.39% | Test Loss: 1.44763, Test Acc: 48.11%\n",
      "Epoch: 190 | Loss: 1.15783, Acc: 56.17% | Test Loss: 1.52453, Test Acc: 45.45%\n",
      "Epoch: 200 | Loss: 1.24792, Acc: 52.10% | Test Loss: 1.65775, Test Acc: 43.06%\n",
      "Epoch: 210 | Loss: 1.08495, Acc: 62.30% | Test Loss: 1.49885, Test Acc: 47.47%\n",
      "Epoch: 220 | Loss: 1.00791, Acc: 63.69% | Test Loss: 1.41315, Test Acc: 50.76%\n",
      "Epoch: 230 | Loss: 1.06689, Acc: 62.30% | Test Loss: 1.62254, Test Acc: 47.47%\n",
      "Epoch: 240 | Loss: 1.14752, Acc: 57.44% | Test Loss: 1.68013, Test Acc: 42.17%\n",
      "Epoch: 250 | Loss: 1.19676, Acc: 58.04% | Test Loss: 1.49612, Test Acc: 50.00%\n",
      "Epoch: 260 | Loss: 1.04974, Acc: 61.83% | Test Loss: 1.56597, Test Acc: 48.48%\n",
      "Epoch: 270 | Loss: 0.88335, Acc: 70.00% | Test Loss: 1.47238, Test Acc: 49.37%\n",
      "Epoch: 280 | Loss: 0.88813, Acc: 69.02% | Test Loss: 1.55262, Test Acc: 50.88%\n",
      "Epoch: 290 | Loss: 0.87152, Acc: 69.50% | Test Loss: 1.60969, Test Acc: 47.10%\n",
      "Epoch: 300 | Loss: 0.76339, Acc: 73.95% | Test Loss: 1.56333, Test Acc: 49.24%\n",
      "Epoch: 310 | Loss: 0.82194, Acc: 71.36% | Test Loss: 1.76743, Test Acc: 49.37%\n",
      "Epoch: 320 | Loss: 1.04020, Acc: 62.93% | Test Loss: 1.99039, Test Acc: 44.82%\n",
      "Epoch: 330 | Loss: 0.74765, Acc: 74.90% | Test Loss: 1.47528, Test Acc: 55.05%\n",
      "Epoch: 340 | Loss: 0.72118, Acc: 74.74% | Test Loss: 1.52367, Test Acc: 53.66%\n",
      "Epoch: 350 | Loss: 0.91931, Acc: 66.34% | Test Loss: 1.99383, Test Acc: 51.39%\n",
      "Epoch: 360 | Loss: 0.91038, Acc: 67.92% | Test Loss: 1.69385, Test Acc: 49.24%\n",
      "Epoch: 370 | Loss: 0.65285, Acc: 77.36% | Test Loss: 1.84374, Test Acc: 47.98%\n",
      "Epoch: 380 | Loss: 0.61845, Acc: 78.88% | Test Loss: 1.57539, Test Acc: 54.67%\n",
      "Epoch: 390 | Loss: 0.59924, Acc: 80.61% | Test Loss: 1.60127, Test Acc: 53.16%\n",
      "Epoch: 400 | Loss: 0.61659, Acc: 78.84% | Test Loss: 1.63547, Test Acc: 50.38%\n",
      "Epoch: 410 | Loss: 0.63056, Acc: 78.28% | Test Loss: 1.63509, Test Acc: 50.38%\n",
      "Epoch: 420 | Loss: 0.58734, Acc: 80.61% | Test Loss: 1.64739, Test Acc: 54.80%\n",
      "Epoch: 430 | Loss: 0.66404, Acc: 76.10% | Test Loss: 1.96056, Test Acc: 49.87%\n",
      "Epoch: 440 | Loss: 0.54999, Acc: 82.10% | Test Loss: 1.64790, Test Acc: 54.04%\n",
      "Epoch: 450 | Loss: 0.65480, Acc: 77.01% | Test Loss: 2.00084, Test Acc: 52.65%\n",
      "Epoch: 460 | Loss: 0.52991, Acc: 82.51% | Test Loss: 1.71204, Test Acc: 54.55%\n",
      "Epoch: 470 | Loss: 0.70033, Acc: 75.28% | Test Loss: 2.03066, Test Acc: 50.76%\n",
      "Epoch: 480 | Loss: 0.46593, Acc: 84.65% | Test Loss: 1.84124, Test Acc: 53.41%\n",
      "Epoch: 490 | Loss: 0.62426, Acc: 78.62% | Test Loss: 1.65767, Test Acc: 51.64%\n",
      "Epoch: 500 | Loss: 0.46703, Acc: 85.10% | Test Loss: 1.87975, Test Acc: 50.38%\n",
      "Epoch: 510 | Loss: 0.46641, Acc: 84.88% | Test Loss: 1.83165, Test Acc: 53.91%\n",
      "Epoch: 520 | Loss: 0.46904, Acc: 84.15% | Test Loss: 1.99214, Test Acc: 48.61%\n",
      "Epoch: 530 | Loss: 0.43512, Acc: 85.98% | Test Loss: 1.89492, Test Acc: 53.79%\n",
      "Epoch: 540 | Loss: 0.51215, Acc: 81.97% | Test Loss: 2.19460, Test Acc: 51.77%\n",
      "Epoch: 550 | Loss: 0.40698, Acc: 87.09% | Test Loss: 2.00163, Test Acc: 52.90%\n",
      "Epoch: 560 | Loss: 0.45557, Acc: 85.51% | Test Loss: 1.85244, Test Acc: 55.05%\n",
      "Epoch: 570 | Loss: 0.41821, Acc: 86.74% | Test Loss: 2.01970, Test Acc: 53.41%\n",
      "Epoch: 580 | Loss: 0.39588, Acc: 87.50% | Test Loss: 2.06344, Test Acc: 54.04%\n",
      "Epoch: 590 | Loss: 0.43365, Acc: 85.48% | Test Loss: 1.99660, Test Acc: 51.89%\n",
      "Epoch: 600 | Loss: 0.38439, Acc: 87.21% | Test Loss: 2.08718, Test Acc: 52.78%\n",
      "Epoch: 610 | Loss: 1.12063, Acc: 73.98% | Test Loss: 2.39538, Test Acc: 44.95%\n",
      "Epoch: 620 | Loss: 0.41889, Acc: 86.96% | Test Loss: 1.86423, Test Acc: 53.66%\n",
      "Epoch: 630 | Loss: 0.54071, Acc: 80.77% | Test Loss: 2.08517, Test Acc: 48.86%\n",
      "Epoch: 640 | Loss: 0.37496, Acc: 87.91% | Test Loss: 2.05086, Test Acc: 54.55%\n",
      "Epoch: 650 | Loss: 0.38817, Acc: 87.40% | Test Loss: 2.17665, Test Acc: 50.88%\n",
      "Epoch: 660 | Loss: 0.38364, Acc: 87.56% | Test Loss: 2.07072, Test Acc: 53.91%\n",
      "Epoch: 670 | Loss: 0.36309, Acc: 87.91% | Test Loss: 2.21075, Test Acc: 54.55%\n",
      "Epoch: 680 | Loss: 0.36226, Acc: 87.59% | Test Loss: 2.22175, Test Acc: 54.17%\n",
      "Epoch: 690 | Loss: 0.35131, Acc: 88.19% | Test Loss: 2.27956, Test Acc: 54.67%\n",
      "Epoch: 700 | Loss: 0.75790, Acc: 72.53% | Test Loss: 3.01038, Test Acc: 49.87%\n",
      "Epoch: 710 | Loss: 0.35904, Acc: 88.38% | Test Loss: 2.11510, Test Acc: 54.17%\n",
      "Epoch: 720 | Loss: 0.35091, Acc: 88.47% | Test Loss: 2.22291, Test Acc: 54.42%\n",
      "Epoch: 730 | Loss: 0.34596, Acc: 88.38% | Test Loss: 2.28733, Test Acc: 54.17%\n",
      "Epoch: 740 | Loss: 0.35410, Acc: 88.10% | Test Loss: 2.31170, Test Acc: 54.04%\n",
      "Epoch: 750 | Loss: 0.35501, Acc: 87.97% | Test Loss: 2.41009, Test Acc: 50.88%\n",
      "Epoch: 760 | Loss: 0.33047, Acc: 88.98% | Test Loss: 2.38836, Test Acc: 53.41%\n",
      "Epoch: 770 | Loss: 0.33130, Acc: 88.60% | Test Loss: 2.46073, Test Acc: 54.55%\n",
      "Epoch: 780 | Loss: 0.37157, Acc: 86.80% | Test Loss: 2.49368, Test Acc: 54.42%\n",
      "Epoch: 790 | Loss: 0.32992, Acc: 88.47% | Test Loss: 2.41473, Test Acc: 55.18%\n",
      "Epoch: 800 | Loss: 0.33421, Acc: 88.03% | Test Loss: 2.48117, Test Acc: 55.43%\n",
      "Epoch: 810 | Loss: 0.32792, Acc: 88.70% | Test Loss: 2.48265, Test Acc: 54.92%\n",
      "Epoch: 820 | Loss: 0.31916, Acc: 88.89% | Test Loss: 2.49140, Test Acc: 53.54%\n",
      "Epoch: 830 | Loss: 0.31953, Acc: 89.26% | Test Loss: 2.55896, Test Acc: 51.52%\n",
      "Epoch: 840 | Loss: 0.42798, Acc: 84.62% | Test Loss: 2.73284, Test Acc: 47.47%\n",
      "Epoch: 850 | Loss: 0.33640, Acc: 88.92% | Test Loss: 2.27026, Test Acc: 54.92%\n",
      "Epoch: 860 | Loss: 0.31471, Acc: 89.17% | Test Loss: 2.41317, Test Acc: 54.80%\n",
      "Epoch: 870 | Loss: 0.31999, Acc: 88.79% | Test Loss: 2.51340, Test Acc: 54.92%\n",
      "Epoch: 880 | Loss: 0.30787, Acc: 89.17% | Test Loss: 2.55099, Test Acc: 55.30%\n",
      "Epoch: 890 | Loss: 0.31392, Acc: 89.07% | Test Loss: 2.60711, Test Acc: 55.43%\n",
      "Epoch: 900 | Loss: 0.33982, Acc: 88.13% | Test Loss: 2.58357, Test Acc: 52.90%\n",
      "Epoch: 910 | Loss: 0.30229, Acc: 89.23% | Test Loss: 2.59204, Test Acc: 54.80%\n",
      "Epoch: 920 | Loss: 0.32926, Acc: 88.25% | Test Loss: 2.65402, Test Acc: 55.05%\n",
      "Epoch: 930 | Loss: 0.29529, Acc: 89.52% | Test Loss: 2.68393, Test Acc: 54.80%\n",
      "Epoch: 940 | Loss: 0.29655, Acc: 89.55% | Test Loss: 2.73366, Test Acc: 54.42%\n",
      "Epoch: 950 | Loss: 0.30421, Acc: 89.23% | Test Loss: 2.77609, Test Acc: 53.03%\n",
      "Epoch: 960 | Loss: 0.30774, Acc: 89.42% | Test Loss: 2.75535, Test Acc: 51.39%\n",
      "Epoch: 970 | Loss: 0.34104, Acc: 87.97% | Test Loss: 2.77246, Test Acc: 53.28%\n",
      "Epoch: 980 | Loss: 0.29336, Acc: 89.71% | Test Loss: 2.75106, Test Acc: 53.66%\n",
      "Epoch: 990 | Loss: 0.29136, Acc: 89.52% | Test Loss: 2.73954, Test Acc: 54.67%\n"
     ]
    }
   ],
   "source": [
    "# Split data into 50% train and 50% test subsets\n",
    "x_train, x_test, y_train, y_test = train_test_split(grids, routes_df['route_int'], test_size=0.2, shuffle=False, random_state=1)\n",
    "\n",
    "torch.manual_seed(42)\n",
    "epochs = 1000\n",
    "\n",
    "x_train, y_train = torch.as_tensor(x_train).float().to(device), torch.as_tensor(y_train.to_numpy()).to(device)\n",
    "x_test, y_test = torch.as_tensor(x_test).float().to(device), torch.as_tensor(y_test.to_numpy()).to(device)\n",
    "\n",
    "for epoch in range(epochs):\n",
    "    ### Training\n",
    "    mc_model.train()\n",
    "\n",
    "    # 1. Forward Pass\n",
    "    y_logits = mc_model(x_train)\n",
    "    y_pred = torch.softmax(y_logits, dim=1).argmax(dim=1)\n",
    "\n",
    "    # 2. Calculate loss and energy\n",
    "    loss = loss_fn(y_logits, y_train)\n",
    "    acc = accuracy_fn(y_true=y_train, y_pred=y_pred)\n",
    "\n",
    "    # 3. Optimiser zero grad\n",
    "    optimiser.zero_grad()\n",
    "\n",
    "    # 4. Loss backwards\n",
    "    loss.backward()\n",
    "\n",
    "    # 5. Optimiser step\n",
    "    optimiser.step()\n",
    "\n",
    "    ### Testing\n",
    "    mc_model.eval()\n",
    "    with torch.inference_mode():\n",
    "      # 1. Forward pass\n",
    "      test_logits = mc_model(x_test)\n",
    "      test_pred = torch.softmax(test_logits, dim=1).argmax(dim=1)\n",
    "      # 2. Calculate test loss and accuracy\n",
    "      test_loss = loss_fn(test_logits, y_test)\n",
    "      test_acc = accuracy_fn(y_true=y_test,\n",
    "                             y_pred=test_pred)\n",
    "\n",
    "    # Print out what's happening\n",
    "    if epoch % 10 == 0:\n",
    "        print(f\"Epoch: {epoch} | Loss: {loss:.5f}, Acc: {acc:.2f}% | Test Loss: {test_loss:.5f}, Test Acc: {test_acc:.2f}%\")"
   ],
   "metadata": {
    "collapsed": false,
    "pycharm": {
     "name": "#%%\n"
    }
   }
  },
  {
   "cell_type": "code",
   "execution_count": 39,
   "outputs": [],
   "source": [
    "x_train, x_test, y_train, y_test = train_test_split(grids, routes_df['route_int'], test_size=0.2, shuffle=False, random_state=1)"
   ],
   "metadata": {
    "collapsed": false,
    "pycharm": {
     "name": "#%%\n"
    }
   }
  },
  {
   "cell_type": "code",
   "execution_count": 40,
   "outputs": [
    {
     "data": {
      "text/plain": "3167    2\n3168    0\n3169    4\n3170    7\n3171    4\n       ..\n3954    4\n3955    7\n3956    8\n3957    1\n3958    5\nName: route_int, Length: 792, dtype: int64"
     },
     "execution_count": 40,
     "metadata": {},
     "output_type": "execute_result"
    }
   ],
   "source": [
    "y_test"
   ],
   "metadata": {
    "collapsed": false,
    "pycharm": {
     "name": "#%%\n"
    }
   }
  },
  {
   "cell_type": "code",
   "execution_count": 41,
   "outputs": [
    {
     "data": {
      "text/plain": "0       0\n1       0\n2       1\n3       2\n4       3\n       ..\n3162    8\n3163    0\n3164    0\n3165    2\n3166    0\nName: route_int, Length: 3167, dtype: int64"
     },
     "execution_count": 41,
     "metadata": {},
     "output_type": "execute_result"
    }
   ],
   "source": [
    "y_train"
   ],
   "metadata": {
    "collapsed": false,
    "pycharm": {
     "name": "#%%\n"
    }
   }
  },
  {
   "cell_type": "code",
   "execution_count": null,
   "outputs": [],
   "source": [],
   "metadata": {
    "collapsed": false,
    "pycharm": {
     "name": "#%%\n"
    }
   }
  }
 ],
 "metadata": {
  "kernelspec": {
   "display_name": "Python 3",
   "language": "python",
   "name": "python3"
  },
  "language_info": {
   "codemirror_mode": {
    "name": "ipython",
    "version": 2
   },
   "file_extension": ".py",
   "mimetype": "text/x-python",
   "name": "python",
   "nbconvert_exporter": "python",
   "pygments_lexer": "ipython2",
   "version": "2.7.6"
  }
 },
 "nbformat": 4,
 "nbformat_minor": 0
}