{
 "cells": [
  {
   "cell_type": "code",
   "execution_count": 1,
   "outputs": [],
   "source": [
    "import pandas as pd\n",
    "import numpy as np\n",
    "import matplotlib.pyplot as plt\n",
    "\n",
    "from sklearn import datasets, svm, metrics\n",
    "from sklearn.model_selection import train_test_split\n",
    "\n",
    "import ray\n",
    "import time\n",
    "from sklearn.neural_network import MLPClassifier\n",
    "from sklearn.preprocessing import StandardScaler\n",
    "from sklearn.ensemble import RandomForestClassifier\n",
    "import torch\n",
    "from torch import nn\n",
    "from sklearn.metrics import accuracy_score,confusion_matrix,classification_report"
   ],
   "metadata": {
    "collapsed": false,
    "pycharm": {
     "name": "#%%\n"
    }
   }
  },
  {
   "cell_type": "code",
   "execution_count": 2,
   "outputs": [],
   "source": [
    "def define_pandas_options():\n",
    "    pd.set_option('display.max_rows', None)\n",
    "    pd.set_option('display.max_columns', None)\n",
    "    pd.set_option('display.width', None)\n",
    "    pd.set_option('display.max_colwidth', None)\n",
    "    pd.set_option('display.float_format', lambda x: '%.5f' % x)"
   ],
   "metadata": {
    "collapsed": false,
    "pycharm": {
     "name": "#%%\n"
    }
   }
  },
  {
   "cell_type": "code",
   "execution_count": 3,
   "outputs": [],
   "source": [
    "def string_to_vector(s):\n",
    "    try:\n",
    "        s = s.split('[')[1].split(']')[0]\n",
    "        x = float(s.split()[0])\n",
    "        y = float(s.split()[1])\n",
    "        return np.array([x, y])\n",
    "    except AttributeError:\n",
    "        return None\n",
    "\n",
    "def get_position_delta(row):\n",
    "    return row.s / 10 * row.dir_vec\n",
    "\n",
    "def get_relative_position(row):\n",
    "    if row.frameId == 1:\n",
    "        return np.array([0, 0])\n",
    "    else:\n",
    "        last_pos = row.shift(1).rel_pos\n",
    "        return last_pos + row.pos_delta"
   ],
   "metadata": {
    "collapsed": false,
    "pycharm": {
     "name": "#%%\n"
    }
   }
  },
  {
   "cell_type": "markdown",
   "source": [
    "# Prep data"
   ],
   "metadata": {
    "collapsed": false,
    "pycharm": {
     "name": "#%% md\n"
    }
   }
  },
  {
   "cell_type": "code",
   "execution_count": 4,
   "outputs": [],
   "source": [
    "prog_start = time.time()"
   ],
   "metadata": {
    "collapsed": false,
    "pycharm": {
     "name": "#%%\n"
    }
   }
  },
  {
   "cell_type": "code",
   "execution_count": 6,
   "outputs": [],
   "source": [
    "pl_cols = ['gameId', 'playId', 'offense_h_play', 'offense_h_presnap', 'offense_h_to_throw', 'offense_h_to_arrived', 'offense_h_to_end', 'defense_h_play', 'defense_h_presnap', 'defense_h_to_throw', 'defense_h_to_arrived', 'defense_h_to_end', 'offense_p_play', 'offense_p_presnap', 'offense_p_to_throw', 'offense_p_to_arrived', 'offense_p_to_end', 'offense_m_play', 'offense_m_presnap', 'offense_m_to_throw', 'offense_m_to_arrived', 'offense_m_to_end', 'offense_v_play', 'offense_v_presnap', 'offense_v_to_throw', 'offense_v_to_arrived', 'offense_v_to_end', 'offense_a_play', 'offense_a_presnap', 'offense_a_to_throw', 'offense_a_to_arrived','offense_a_to_end', 'defense_p_play', 'defense_p_presnap','defense_p_to_throw', 'defense_p_to_arrived', 'defense_p_to_end','defense_m_play', 'defense_m_presnap', 'defense_m_to_throw','defense_m_to_arrived', 'defense_m_to_end', 'defense_v_play', 'defense_v_presnap', 'defense_v_to_throw', 'defense_v_to_arrived','defense_v_to_end', 'defense_a_play', 'defense_a_presnap','defense_a_to_throw', 'defense_a_to_arrived', 'defense_a_to_end','HITCH', 'OUT', 'FLAT', 'CROSS', 'GO', 'SLANT', 'SCREEN', 'CORNER', 'IN', 'ANGLE', 'POST', 'WHEEL']\n",
    "\n",
    "play_df = pd.read_csv('d20_intermediate_files/play_results.csv', usecols=pl_cols)\n",
    "play_df['num_routes'] = play_df[['HITCH', 'OUT', 'FLAT', 'CROSS', 'GO', 'SLANT', 'SCREEN', 'CORNER', 'IN', 'ANGLE', 'POST', 'WHEEL']].T.sum()\n",
    "play_df.drop(play_df[play_df['num_routes'] == 0].index, inplace=True)\n",
    "play_df.dropna(inplace=True)\n",
    "\n",
    "fr_cols = ['gameId', 'playId', 'frameId', 'offense_p_group', 'defense_p_group', 'offense_m_group', 'defense_m_group', 'o_state', 'd_state', 'offense_v_group', 'defense_v_group', 'offense_a_group', 'defense_a_group', 'a_group_ratio']\n",
    "frame_df = pd.read_csv('d20_intermediate_files/frame_results.csv', usecols=fr_cols)\n",
    "\n",
    "tr_cols = ['time', 's', 'a', 'dis', 'event', 'nflId', 'displayName', 'jerseyNumber', 'position', 'frameId', 'team', 'gameId', 'playId', 'playDirection', 'route', 'pos', 'teamType', 'o_vec', 'dir_vec', 'r_vec']\n",
    "tracking_df = pd.read_csv('d20_intermediate_files/tracking_results.csv', usecols=tr_cols)"
   ],
   "metadata": {
    "collapsed": false,
    "pycharm": {
     "name": "#%%\n"
    }
   }
  },
  {
   "cell_type": "code",
   "execution_count": 7,
   "outputs": [],
   "source": [
    "route_types = ['HITCH', 'OUT', 'FLAT', 'CROSS', 'GO', 'SLANT', 'SCREEN', 'CORNER', 'IN', 'ANGLE', 'POST', 'WHEEL']\n",
    "runners = tracking_df.loc[(tracking_df['position'].isin(['QB', 'WR', 'RB', 'TE']))].copy()\n",
    "del tracking_df"
   ],
   "metadata": {
    "collapsed": false,
    "pycharm": {
     "name": "#%%\n"
    }
   }
  },
  {
   "cell_type": "code",
   "execution_count": 8,
   "outputs": [],
   "source": [
    "runners['pos'] = runners['pos'].apply(string_to_vector)\n",
    "runners['o_vec'] = runners['o_vec'].apply(string_to_vector)\n",
    "runners['dir_vec'] = runners['dir_vec'].apply(string_to_vector)\n",
    "runners['r_vec'] = runners['r_vec'].apply(string_to_vector)\n",
    "runners['gpid'] = runners.apply(lambda x: str(x.gameId) + '-' + str(x.playId), axis=1)"
   ],
   "metadata": {
    "collapsed": false,
    "pycharm": {
     "name": "#%%\n"
    }
   }
  },
  {
   "cell_type": "code",
   "execution_count": 9,
   "outputs": [],
   "source": [
    "qb_positions = runners.loc[(runners['frameId'] == 1) & (runners['position'] == 'QB')][['gpid', 'pos']].copy()"
   ],
   "metadata": {
    "collapsed": false,
    "pycharm": {
     "name": "#%%\n"
    }
   }
  },
  {
   "cell_type": "code",
   "execution_count": 10,
   "outputs": [],
   "source": [
    "indexNames = runners[runners['route'] == 'undefined'].index\n",
    "indexNames\n",
    "# Delete these row indexes from dataFrame\n",
    "runners.drop(indexNames , inplace=True)"
   ],
   "metadata": {
    "collapsed": false,
    "pycharm": {
     "name": "#%%\n"
    }
   }
  },
  {
   "cell_type": "code",
   "execution_count": 11,
   "outputs": [],
   "source": [
    "runners = runners.loc[(~runners['route'].isna())]"
   ],
   "metadata": {
    "collapsed": false,
    "pycharm": {
     "name": "#%%\n"
    }
   }
  },
  {
   "cell_type": "code",
   "execution_count": 12,
   "outputs": [],
   "source": [
    "# Convert nan forced floats to ints and NA\n",
    "runners['nflId'] = runners['nflId'].astype('Int64')\n",
    "runners['jerseyNumber'] = runners['jerseyNumber'].astype('Int64')"
   ],
   "metadata": {
    "collapsed": false,
    "pycharm": {
     "name": "#%%\n"
    }
   }
  },
  {
   "cell_type": "code",
   "execution_count": 13,
   "outputs": [],
   "source": [
    "gpids = runners['gpid'].unique().tolist()"
   ],
   "metadata": {
    "collapsed": false,
    "pycharm": {
     "name": "#%%\n"
    }
   }
  },
  {
   "cell_type": "code",
   "execution_count": 14,
   "outputs": [],
   "source": [
    "@ray.remote\n",
    "def process_data(dataset, qb_positions):\n",
    "    routes_df = pd.DataFrame(columns=['gpid', 'nflId', 'route', 'pos'])\n",
    "    index = 0\n",
    "    end_events = ['pass_arrived', 'pass_outcome_caught', 'out_of_bounds',\n",
    "                       'pass_outcome_incomplete', 'first_contact', 'tackle', 'man_in_motion', 'play_action', 'handoff',\n",
    "                       'pass_tipped', 'pass_outcome_interception', 'pass_shovel', 'line_set', 'pass_outcome_touchdown',\n",
    "                       'fumble', 'fumble_offense_recovered', 'fumble_defense_recovered', 'touchdown', 'shift',\n",
    "                       'touchback', 'penalty_flag', 'penalty_accepted', 'field_goal_blocked']\n",
    "\n",
    "    gpids = dataset['gpid'].unique().tolist()\n",
    "    for gpid in gpids:\n",
    "        try:\n",
    "            df = dataset.loc[dataset['gpid'] == gpid]\n",
    "            players = df['nflId'].unique().tolist()\n",
    "            centre_pos = qb_positions.loc[(qb_positions['gpid'] == gpid)]['pos'].values[0][1]\n",
    "            for player in players:\n",
    "                player_df = df.loc[(df['nflId'] == player)]\n",
    "                if player > 0:\n",
    "                    start_frame = player_df.loc[player_df['event'] == 'ball_snap']['frameId'].min()\n",
    "                    end_frame = player_df.loc[player_df['event'].isin(end_events)]['frameId'].min()\n",
    "                    if end_frame > start_frame:\n",
    "                        positions = []\n",
    "                        start_pos = player_df.loc[(player_df['frameId'] == start_frame)]['pos'].values[0]\n",
    "                        flip_arr = True if start_pos[1] < centre_pos else False\n",
    "                        for frame in range(start_frame + 1, end_frame + 1):\n",
    "                            # positions.append(player_df.loc[(player_df['frameId'] == frame)]['pos'].values[0].tolist())\n",
    "                            new_pos = player_df.loc[(player_df['frameId'] == frame)]['pos'].values[0].tolist()\n",
    "                            if flip_arr: new_pos[1] = new_pos[1] * -1\n",
    "                            new_pos.append(player_df.loc[(player_df['frameId'] == frame)]['s'].values[0])\n",
    "                            positions.append(new_pos)\n",
    "                        positions = np.array(positions)\n",
    "                        routes_df.loc[index] = {\n",
    "                            'gpid': str(gpid),\n",
    "                            'nflId': int(player),\n",
    "                            'route': str(player_df.loc[(player_df['frameId'] == 1)]['route'].values[0]),\n",
    "                            'pos': positions - positions[0]\n",
    "                        }\n",
    "                        index += 1\n",
    "        except IndexError:\n",
    "            print(f'Data error for gpid {gpid}, player {player} (Start {start_frame} | End {end_frame})')\n",
    "    return routes_df"
   ],
   "metadata": {
    "collapsed": false,
    "pycharm": {
     "name": "#%%\n"
    }
   }
  },
  {
   "cell_type": "code",
   "execution_count": 15,
   "outputs": [
    {
     "data": {
      "text/plain": "RayContext(dashboard_url='', python_version='3.9.12', ray_version='1.12.0', ray_commit='f18fc31c7562990955556899090f8e8656b48d2d', address_info={'node_ip_address': '192.168.1.95', 'raylet_ip_address': '192.168.1.95', 'redis_address': None, 'object_store_address': '/tmp/ray/session_2022-06-02_19-01-01_749784_14781/sockets/plasma_store', 'raylet_socket_name': '/tmp/ray/session_2022-06-02_19-01-01_749784_14781/sockets/raylet', 'webui_url': '', 'session_dir': '/tmp/ray/session_2022-06-02_19-01-01_749784_14781', 'metrics_export_port': 54196, 'gcs_address': '192.168.1.95:56089', 'address': '192.168.1.95:56089', 'node_id': '89dacebc57fa20bf5e7a99e730e595947a66fa9363061b021404b89d'})"
     },
     "execution_count": 15,
     "metadata": {},
     "output_type": "execute_result"
    }
   ],
   "source": [
    "n_procs = 24\n",
    "ray.shutdown()\n",
    "ray.init(num_cpus=n_procs)"
   ],
   "metadata": {
    "collapsed": false,
    "pycharm": {
     "name": "#%%\n"
    }
   }
  },
  {
   "cell_type": "code",
   "execution_count": 16,
   "outputs": [],
   "source": [
    "n_gpids = len(gpids)\n",
    "max_gpids = int(len(gpids[:n_gpids]))\n",
    "gpid_sets = []\n",
    "set_pos = 0\n",
    "step = int(max_gpids / (n_procs - 1))\n",
    "\n",
    "while set_pos < max_gpids:\n",
    "    start = 0 if set_pos == 0 else set_pos + 1\n",
    "    set_pos = set_pos + step\n",
    "    end = set_pos if set_pos < max_gpids else max_gpids\n",
    "    gpid_sets.append((start, end))"
   ],
   "metadata": {
    "collapsed": false,
    "pycharm": {
     "name": "#%%\n"
    }
   }
  },
  {
   "cell_type": "code",
   "execution_count": 17,
   "outputs": [
    {
     "name": "stdout",
     "output_type": "stream",
     "text": [
      "\u001B[2m\u001B[36m(process_data pid=15151)\u001B[0m Data error for gpid 2018100702-4007, player 2556190 (Start 11 | End 44)\n",
      "\u001B[2m\u001B[36m(process_data pid=15152)\u001B[0m Data error for gpid 2018112508-1729, player 2561272 (Start 11 | End 44)\n",
      "\u001B[2m\u001B[36m(process_data pid=15150)\u001B[0m Data error for gpid 2018121000-1364, player 2557991 (Start 11 | End 42)\n",
      "Took 200.7621169090271 seconds\n"
     ]
    },
    {
     "data": {
      "text/plain": "             gpid    nflId  route  \\\n0   2018090600-75  2495454  HITCH   \n1   2018090600-75  2533040  HITCH   \n2   2018090600-75  2555415    OUT   \n3  2018090600-146  2543583   FLAT   \n4  2018090600-146  2552418  CROSS   \n\n                                                 pos  \n0  [[0.0, 0.0, 0.0], [0.030000000000001137, 0.0, ...  \n1  [[0.0, 0.0, 0.0], [0.010000000000001563, 0.0, ...  \n2  [[0.0, 0.0, 0.0], [0.010000000000001563, 0.009...  \n3  [[0.0, 0.0, 0.0], [0.0, 0.0, 0.04], [0.0099999...  \n4  [[0.0, 0.0, 0.0], [0.01999999999999602, 0.0199...  ",
      "text/html": "<div>\n<style scoped>\n    .dataframe tbody tr th:only-of-type {\n        vertical-align: middle;\n    }\n\n    .dataframe tbody tr th {\n        vertical-align: top;\n    }\n\n    .dataframe thead th {\n        text-align: right;\n    }\n</style>\n<table border=\"1\" class=\"dataframe\">\n  <thead>\n    <tr style=\"text-align: right;\">\n      <th></th>\n      <th>gpid</th>\n      <th>nflId</th>\n      <th>route</th>\n      <th>pos</th>\n    </tr>\n  </thead>\n  <tbody>\n    <tr>\n      <th>0</th>\n      <td>2018090600-75</td>\n      <td>2495454</td>\n      <td>HITCH</td>\n      <td>[[0.0, 0.0, 0.0], [0.030000000000001137, 0.0, ...</td>\n    </tr>\n    <tr>\n      <th>1</th>\n      <td>2018090600-75</td>\n      <td>2533040</td>\n      <td>HITCH</td>\n      <td>[[0.0, 0.0, 0.0], [0.010000000000001563, 0.0, ...</td>\n    </tr>\n    <tr>\n      <th>2</th>\n      <td>2018090600-75</td>\n      <td>2555415</td>\n      <td>OUT</td>\n      <td>[[0.0, 0.0, 0.0], [0.010000000000001563, 0.009...</td>\n    </tr>\n    <tr>\n      <th>3</th>\n      <td>2018090600-146</td>\n      <td>2543583</td>\n      <td>FLAT</td>\n      <td>[[0.0, 0.0, 0.0], [0.0, 0.0, 0.04], [0.0099999...</td>\n    </tr>\n    <tr>\n      <th>4</th>\n      <td>2018090600-146</td>\n      <td>2552418</td>\n      <td>CROSS</td>\n      <td>[[0.0, 0.0, 0.0], [0.01999999999999602, 0.0199...</td>\n    </tr>\n  </tbody>\n</table>\n</div>"
     },
     "execution_count": 17,
     "metadata": {},
     "output_type": "execute_result"
    }
   ],
   "source": [
    "# Generate vectors of positions\n",
    "start = time.time()\n",
    "\n",
    "routes_df = pd.DataFrame(columns=['gpid', 'nflId', 'route', 'pos'])\n",
    "futures = [process_data.remote(runners.loc[(runners['gpid'].isin(gpids[idx[0]:idx[1]]))], qb_positions) for idx in gpid_sets]\n",
    "results = ray.get(futures)\n",
    "\n",
    "for i in range(0, len(results)):\n",
    "    routes_df = pd.concat([routes_df, results[i]], ignore_index=True)\n",
    "\n",
    "finish = time.time()\n",
    "print(f'Took {finish - start} seconds')\n",
    "routes_df.head()"
   ],
   "metadata": {
    "collapsed": false,
    "pycharm": {
     "name": "#%%\n"
    }
   }
  },
  {
   "cell_type": "code",
   "execution_count": 18,
   "outputs": [],
   "source": [
    "# Convert position sequences to 2d array with np.histogram2d"
   ],
   "metadata": {
    "collapsed": false,
    "pycharm": {
     "name": "#%%\n"
    }
   }
  },
  {
   "cell_type": "code",
   "execution_count": 19,
   "outputs": [],
   "source": [
    "# Convert 2d array to 1d array"
   ],
   "metadata": {
    "collapsed": false,
    "pycharm": {
     "name": "#%%\n"
    }
   }
  },
  {
   "cell_type": "code",
   "execution_count": 20,
   "outputs": [],
   "source": [
    "@ray.remote\n",
    "def find_min_max_from_dataframe(df):\n",
    "    x = [0, 0]\n",
    "    y = [0, 0]\n",
    "\n",
    "    for idx, row in df.iterrows():\n",
    "        if row['pos'][:, 0].min() < x[0]: x[0] = row['pos'][:, 0].min()\n",
    "        if row['pos'][:, 0].max() > x[1]: x[1] = row['pos'][:, 0].max()\n",
    "        if row['pos'][:, 1].min() < y[0]: y[0] = row['pos'][:, 1].min()\n",
    "        if row['pos'][:, 1].max() > y[1]: y[1] = row['pos'][:, 1].max()\n",
    "\n",
    "    x = [np.floor(x[0]), np.ceil(x[1])]\n",
    "    y[0] = -1 * np.ceil(max(abs(y[0]), abs(y[1])))\n",
    "    y[1] = abs(y[0])\n",
    "\n",
    "    return x, y"
   ],
   "metadata": {
    "collapsed": false,
    "pycharm": {
     "name": "#%%\n"
    }
   }
  },
  {
   "cell_type": "code",
   "execution_count": 21,
   "outputs": [],
   "source": [
    "def find_min_max_from_arrays(x_list, y_list):\n",
    "    x = [0, 0]\n",
    "    x[0] = x_list[:, 0].min()\n",
    "    x[1] = x_list[:, 1].max()\n",
    "\n",
    "    y = [0, 0]\n",
    "    y[1] = np.abs(y_list.max())\n",
    "    y[0] = -y[1]\n",
    "\n",
    "    return x, y"
   ],
   "metadata": {
    "collapsed": false,
    "pycharm": {
     "name": "#%%\n"
    }
   }
  },
  {
   "cell_type": "code",
   "execution_count": 22,
   "outputs": [
    {
     "name": "stdout",
     "output_type": "stream",
     "text": [
      "[(0, 2841), (2842, 5682), (5683, 8523), (8524, 11364), (11365, 14205), (14206, 17046), (17047, 19887), (19888, 22728), (22729, 25569), (25570, 28410), (28411, 31251), (31252, 34092), (34093, 36933), (36934, 39774), (39775, 42615), (42616, 45456), (45457, 48297), (48298, 51138), (51139, 53979), (53980, 56820), (56821, 59661), (59662, 62502), (62503, 65343), (65344, 65364)]\n"
     ]
    }
   ],
   "source": [
    "n_rows = len(routes_df)\n",
    "max_rows = int(len(routes_df[:n_rows]))\n",
    "row_sets = []\n",
    "set_pos = 0\n",
    "step = int(max_rows / (n_procs - 1))\n",
    "\n",
    "while set_pos < max_rows:\n",
    "    start = 0 if set_pos == 0 else set_pos + 1\n",
    "    set_pos = set_pos + step\n",
    "    end = set_pos if set_pos < max_rows else max_rows\n",
    "    row_sets.append((start, end))\n",
    "\n",
    "print(row_sets)"
   ],
   "metadata": {
    "collapsed": false,
    "pycharm": {
     "name": "#%%\n"
    }
   }
  },
  {
   "cell_type": "code",
   "execution_count": 23,
   "outputs": [
    {
     "name": "stdout",
     "output_type": "stream",
     "text": [
      "Took 0.5525915622711182 seconds\n",
      "[-34.0, 68.0] [-45.0, 45.0]\n"
     ]
    }
   ],
   "source": [
    "start = time.time()\n",
    "\n",
    "x = []\n",
    "y = []\n",
    "\n",
    "futures = [find_min_max_from_dataframe.remote(routes_df[idx[0]:idx[1]]) for idx in row_sets]\n",
    "results = ray.get(futures)\n",
    "\n",
    "for i in range(0, len(results)):\n",
    "    x.append(results[i][0])\n",
    "    y.append(results[i][1])\n",
    "\n",
    "x, y = find_min_max_from_arrays(np.array(x), np.array(y))\n",
    "\n",
    "finish = time.time()\n",
    "print(f'Took {finish - start} seconds')\n",
    "print(x, y)"
   ],
   "metadata": {
    "collapsed": false,
    "pycharm": {
     "name": "#%%\n"
    }
   }
  },
  {
   "cell_type": "code",
   "execution_count": 24,
   "outputs": [],
   "source": [
    "x_dim = int(abs(x[0]) + abs(x[1]))\n",
    "y_dim = int(abs(y[0]) + abs(y[1]))"
   ],
   "metadata": {
    "collapsed": false,
    "pycharm": {
     "name": "#%%\n"
    }
   }
  },
  {
   "cell_type": "code",
   "execution_count": 25,
   "outputs": [],
   "source": [
    "grid = np.zeros(x_dim * y_dim).reshape(x_dim, y_dim)"
   ],
   "metadata": {
    "collapsed": false,
    "pycharm": {
     "name": "#%%\n"
    }
   }
  },
  {
   "cell_type": "code",
   "execution_count": 26,
   "outputs": [],
   "source": [
    "grids = []\n",
    "for idx, row in routes_df.iterrows():\n",
    "    grid = np.zeros(x_dim * y_dim).reshape(x_dim, y_dim)\n",
    "    for position in row['pos']:\n",
    "        grid[int(position[0]), int(position[1])] = position[2]\n",
    "    grids.append(grid.reshape(x_dim * y_dim))"
   ],
   "metadata": {
    "collapsed": false,
    "pycharm": {
     "name": "#%%\n"
    }
   }
  },
  {
   "cell_type": "code",
   "execution_count": 27,
   "outputs": [],
   "source": [
    "routes_df['grid'] = grids\n",
    "#routes_df.drop(['pos'], axis=1, inplace=True)"
   ],
   "metadata": {
    "collapsed": false,
    "pycharm": {
     "name": "#%%\n"
    }
   }
  },
  {
   "cell_type": "code",
   "execution_count": 28,
   "outputs": [
    {
     "name": "stdout",
     "output_type": "stream",
     "text": [
      "Program took 367.1189184188843 seconds\n"
     ]
    }
   ],
   "source": [
    "prog_end = time.time()\n",
    "print(f'Program took {prog_end - prog_start} seconds')"
   ],
   "metadata": {
    "collapsed": false,
    "pycharm": {
     "name": "#%%\n"
    }
   }
  },
  {
   "cell_type": "markdown",
   "source": [
    "## SVM"
   ],
   "metadata": {
    "collapsed": false,
    "pycharm": {
     "name": "#%% md\n"
    }
   }
  },
  {
   "cell_type": "code",
   "execution_count": 29,
   "outputs": [
    {
     "name": "stderr",
     "output_type": "stream",
     "text": [
      "/home/spencer/Projects/cosc301/venv/lib/python3.9/site-packages/sklearn/svm/_base.py:301: ConvergenceWarning: Solver terminated early (max_iter=1000).  Consider pre-processing your data with StandardScaler or MinMaxScaler.\n",
      "  warnings.warn(\n"
     ]
    }
   ],
   "source": [
    "# flatten the images\n",
    "n_samples = len(grids)\n",
    "\n",
    "# Create a classifier: a support vector classifier\n",
    "clf = svm.SVC(gamma=0.005, kernel='rbf', max_iter=1000)\n",
    "\n",
    "# Split data into 60% train and 40% test subsets\n",
    "x_train, x_test, y_train, y_test = train_test_split(routes_df['grid'].tolist(), routes_df['route'], test_size=0.4, shuffle=False, random_state=1)\n",
    "\n",
    "scaler = StandardScaler()\n",
    "\n",
    "scaler.fit(x_train)\n",
    "x_train2 = scaler.transform(x_train)\n",
    "x_test2 = scaler.transform(x_test)\n",
    "\n",
    "# Learn the digits on the train subset\n",
    "clf.fit(x_train2, y_train)\n",
    "\n",
    "# Predict the value of the digit on the test subset\n",
    "predicted = clf.predict(x_test2)"
   ],
   "metadata": {
    "collapsed": false,
    "pycharm": {
     "name": "#%%\n"
    }
   }
  },
  {
   "cell_type": "code",
   "execution_count": 30,
   "outputs": [
    {
     "name": "stdout",
     "output_type": "stream",
     "text": [
      "Classification report for classifier SVC(gamma=0.005, max_iter=1000):\n",
      "              precision    recall  f1-score   support\n",
      "\n",
      "       ANGLE       0.58      0.43      0.50       898\n",
      "      CORNER       0.46      0.26      0.33      1009\n",
      "       CROSS       0.40      0.74      0.51      2425\n",
      "        FLAT       0.63      0.79      0.70      3700\n",
      "          GO       0.45      0.51      0.48      4874\n",
      "       HITCH       0.56      0.20      0.30      4247\n",
      "          IN       0.49      0.37      0.42      1878\n",
      "         OUT       0.41      0.42      0.41      2772\n",
      "        POST       0.55      0.26      0.35      1686\n",
      "      SCREEN       0.41      0.54      0.47      1012\n",
      "       SLANT       0.39      0.59      0.47      1514\n",
      "       WHEEL       0.00      0.00      0.00       131\n",
      "\n",
      "    accuracy                           0.48     26146\n",
      "   macro avg       0.44      0.43      0.41     26146\n",
      "weighted avg       0.49      0.48      0.46     26146\n",
      "\n",
      "\n"
     ]
    }
   ],
   "source": [
    "print(\n",
    "    f'Classification report for classifier {clf}:\\n'\n",
    "    f'{metrics.classification_report(y_test, predicted)}\\n'\n",
    ")"
   ],
   "metadata": {
    "collapsed": false,
    "pycharm": {
     "name": "#%%\n"
    }
   }
  },
  {
   "cell_type": "code",
   "execution_count": 31,
   "outputs": [
    {
     "name": "stdout",
     "output_type": "stream",
     "text": [
      "Confusion Matrix:\n",
      "[[ 389    1   30  130   37   67   29   91    3   51   70    0]\n",
      " [   6  261  222   40  319   17    7   83    1   17   36    0]\n",
      " [   6    0 1787  197   93   30   10   12   27   96  167    0]\n",
      " [  29    0  342 2940   30   13    0   44    0  272   29    1]\n",
      " [  29   99  731  452 2495  245   83  359   92  115  174    0]\n",
      " [  96   36  257   85 1018  866  326  920   63   85  495    0]\n",
      " [  11    1  252   22  357   62  701   84  147   24  217    0]\n",
      " [  53  169  180  336  560  101   33 1159    3   59  119    0]\n",
      " [   5    0  353   26  533   36  174   40  431   19   69    0]\n",
      " [  19    0   69  308    9    8    0   22    0  550   27    0]\n",
      " [  20    0  253   40   48   91   69   33   12   56  892    0]\n",
      " [   4    1   46   69    4    1    1    0    1    4    0    0]]\n"
     ]
    },
    {
     "data": {
      "text/plain": "<Figure size 432x288 with 2 Axes>",
      "image/png": "[encoded data removed]"
     },
     "metadata": {
      "needs_background": "light"
     },
     "output_type": "display_data"
    }
   ],
   "source": [
    "disp = metrics.ConfusionMatrixDisplay.from_predictions(y_test, predicted)\n",
    "disp.figure_.suptitle('Confusion Matrix')\n",
    "print(f'Confusion Matrix:\\n{disp.confusion_matrix}')\n",
    "plt.show()"
   ],
   "metadata": {
    "collapsed": false,
    "pycharm": {
     "name": "#%%\n"
    }
   }
  },
  {
   "cell_type": "code",
   "execution_count": 32,
   "outputs": [
    {
     "data": {
      "text/plain": "65364"
     },
     "execution_count": 32,
     "metadata": {},
     "output_type": "execute_result"
    }
   ],
   "source": [
    "routes_df['route'].value_counts().sum()"
   ],
   "metadata": {
    "collapsed": false,
    "pycharm": {
     "name": "#%%\n"
    }
   }
  },
  {
   "cell_type": "code",
   "execution_count": 33,
   "outputs": [
    {
     "data": {
      "text/plain": "<BarContainer object of 12 artists>"
     },
     "execution_count": 33,
     "metadata": {},
     "output_type": "execute_result"
    },
    {
     "data": {
      "text/plain": "<Figure size 1440x720 with 1 Axes>",
      "image/png": "[encoded data removed]"
     },
     "metadata": {
      "needs_background": "light"
     },
     "output_type": "display_data"
    }
   ],
   "source": [
    "plt.figure(figsize=(20,10))\n",
    "plt.bar(routes_df['route'].value_counts().index, routes_df['route'].value_counts().values / routes_df['route'].value_counts().sum(), width=0.75)"
   ],
   "metadata": {
    "collapsed": false,
    "pycharm": {
     "name": "#%%\n"
    }
   }
  },
  {
   "cell_type": "code",
   "execution_count": 34,
   "outputs": [
    {
     "data": {
      "text/plain": "65364"
     },
     "execution_count": 34,
     "metadata": {},
     "output_type": "execute_result"
    }
   ],
   "source": [
    "routes_df['route'].count()"
   ],
   "metadata": {
    "collapsed": false,
    "pycharm": {
     "name": "#%%\n"
    }
   }
  },
  {
   "cell_type": "code",
   "execution_count": 35,
   "outputs": [
    {
     "data": {
      "text/plain": "316"
     },
     "execution_count": 35,
     "metadata": {},
     "output_type": "execute_result"
    }
   ],
   "source": [
    "routes_df.loc[routes_df['route'] == 'WHEEL']['route'].count()"
   ],
   "metadata": {
    "collapsed": false,
    "pycharm": {
     "name": "#%%\n"
    }
   }
  },
  {
   "cell_type": "code",
   "execution_count": null,
   "outputs": [],
   "source": [
    "7142/39645"
   ],
   "metadata": {
    "collapsed": false,
    "pycharm": {
     "name": "#%%\n"
    }
   }
  },
  {
   "cell_type": "markdown",
   "source": [
    "## MLP Classifier"
   ],
   "metadata": {
    "collapsed": false,
    "pycharm": {
     "name": "#%% md\n"
    }
   }
  },
  {
   "cell_type": "code",
   "execution_count": null,
   "outputs": [],
   "source": [
    "clf2 = MLPClassifier(solver='lbfgs', random_state=1, max_iter=1000)\n",
    "clf2.fit(x_train2, y_train)"
   ],
   "metadata": {
    "collapsed": false,
    "pycharm": {
     "name": "#%%\n"
    }
   }
  },
  {
   "cell_type": "code",
   "execution_count": null,
   "outputs": [],
   "source": [
    "predicted2 = clf2.predict(x_test2)"
   ],
   "metadata": {
    "collapsed": false,
    "pycharm": {
     "name": "#%%\n"
    }
   }
  },
  {
   "cell_type": "code",
   "execution_count": null,
   "outputs": [],
   "source": [
    "print(\n",
    "    f'Classification report for classifier {clf2}:\\n'\n",
    "    f'{metrics.classification_report(y_test, predicted2)}\\n'\n",
    ")"
   ],
   "metadata": {
    "collapsed": false,
    "pycharm": {
     "name": "#%%\n"
    }
   }
  },
  {
   "cell_type": "code",
   "execution_count": null,
   "outputs": [],
   "source": [
    "disp2 = metrics.ConfusionMatrixDisplay.from_predictions(y_test, predicted2)\n",
    "disp2.figure_.suptitle('Confusion Matrix')\n",
    "print(f'Confusion Matrix:\\n{disp2.confusion_matrix}')\n",
    "plt.show()"
   ],
   "metadata": {
    "collapsed": false,
    "pycharm": {
     "name": "#%%\n"
    }
   }
  },
  {
   "cell_type": "markdown",
   "source": [
    "## Random Forest"
   ],
   "metadata": {
    "collapsed": false,
    "pycharm": {
     "name": "#%% md\n"
    }
   }
  },
  {
   "cell_type": "code",
   "execution_count": null,
   "outputs": [],
   "source": [
    "model = RandomForestClassifier(n_jobs=-1, n_estimators=1000, max_depth=10)"
   ],
   "metadata": {
    "collapsed": false,
    "pycharm": {
     "name": "#%%\n"
    }
   }
  },
  {
   "cell_type": "code",
   "execution_count": null,
   "outputs": [],
   "source": [
    "model.fit(x_train2, y_train)"
   ],
   "metadata": {
    "collapsed": false,
    "pycharm": {
     "name": "#%%\n"
    }
   }
  },
  {
   "cell_type": "code",
   "execution_count": null,
   "outputs": [],
   "source": [
    "y_pred = model.predict(x_test2)"
   ],
   "metadata": {
    "collapsed": false,
    "pycharm": {
     "name": "#%%\n"
    }
   }
  },
  {
   "cell_type": "code",
   "execution_count": null,
   "outputs": [],
   "source": [
    "accuracy_score(y_pred, y_test)\n",
    "print(classification_report(y_pred, y_test))"
   ],
   "metadata": {
    "collapsed": false,
    "pycharm": {
     "name": "#%%\n"
    }
   }
  },
  {
   "cell_type": "code",
   "execution_count": null,
   "outputs": [],
   "source": [
    "confusion_matrix(y_pred, y_test)"
   ],
   "metadata": {
    "collapsed": false,
    "pycharm": {
     "name": "#%%\n"
    }
   }
  },
  {
   "cell_type": "markdown",
   "source": [
    "## Pytorch"
   ],
   "metadata": {
    "collapsed": false,
    "pycharm": {
     "name": "#%% md\n"
    }
   }
  },
  {
   "cell_type": "code",
   "execution_count": null,
   "outputs": [],
   "source": [
    "classes = {}\n",
    "index = 0\n",
    "for route in routes_df['route'].unique().tolist():\n",
    "    classes[index] = route\n",
    "    index += 1\n",
    "classes"
   ],
   "metadata": {
    "collapsed": false,
    "pycharm": {
     "name": "#%%\n"
    }
   }
  },
  {
   "cell_type": "code",
   "execution_count": null,
   "outputs": [],
   "source": [
    "route_idx = {}\n",
    "for idx, value in classes.items():\n",
    "    route_idx[value] = idx\n",
    "route_idx"
   ],
   "metadata": {
    "collapsed": false,
    "pycharm": {
     "name": "#%%\n"
    }
   }
  },
  {
   "cell_type": "code",
   "execution_count": null,
   "outputs": [],
   "source": [
    "routes_df['route_int'] = routes_df['route'].apply(lambda x: route_idx[x])"
   ],
   "metadata": {
    "collapsed": false,
    "pycharm": {
     "name": "#%%\n"
    }
   }
  },
  {
   "cell_type": "code",
   "execution_count": null,
   "outputs": [],
   "source": [
    "routes_df.loc[(routes_df['route_int'] == 12)]"
   ],
   "metadata": {
    "collapsed": false,
    "pycharm": {
     "name": "#%%\n"
    }
   }
  },
  {
   "cell_type": "code",
   "execution_count": null,
   "outputs": [],
   "source": [
    "# Create device agnostic code\n",
    "if torch.cuda.is_available():\n",
    "    device = \"cuda\"\n",
    "elif torch.backends.mps.is_available():\n",
    "    device = \"mps\"\n",
    "else:\n",
    "    device = \"cpu\"\n",
    "device"
   ],
   "metadata": {
    "collapsed": false,
    "pycharm": {
     "name": "#%%\n"
    }
   }
  },
  {
   "cell_type": "code",
   "execution_count": null,
   "outputs": [],
   "source": [
    "class MultiClassModel(nn.Module):\n",
    "    def __init__(self, input_features, output_features, hidden_units=0):\n",
    "        super().__init__()\n",
    "        self.linear_layer_stack = nn.Sequential(\n",
    "            nn.Linear(in_features=input_features, out_features=hidden_units),\n",
    "            nn.ReLU(),\n",
    "            nn.Linear(in_features=hidden_units, out_features=hidden_units),\n",
    "            nn.ReLU(),\n",
    "            nn.Linear(in_features=hidden_units, out_features=output_features),\n",
    "        )\n",
    "\n",
    "    def forward(self, x):\n",
    "        return self.linear_layer_stack(x)\n",
    "\n",
    "def accuracy_fn(y_true, y_pred):\n",
    "    correct = torch.eq(y_true, y_pred).sum().item()\n",
    "    acc = (correct/ len(y_pred)) * 100\n",
    "    return acc"
   ],
   "metadata": {
    "collapsed": false,
    "pycharm": {
     "name": "#%%\n"
    }
   }
  },
  {
   "cell_type": "code",
   "execution_count": null,
   "outputs": [],
   "source": [
    "LEARNING_RATE = 0.5\n",
    "EPOCHS = 2000\n",
    "HIDDEN_UNITS = 256"
   ],
   "metadata": {
    "collapsed": false,
    "pycharm": {
     "name": "#%%\n"
    }
   }
  },
  {
   "cell_type": "code",
   "execution_count": null,
   "outputs": [],
   "source": [
    "torch.manual_seed(42)\n",
    "mc_model = MultiClassModel(input_features=x_dim*y_dim, output_features=len(classes), hidden_units=HIDDEN_UNITS).to(device)\n",
    "\n",
    "loss_fn = nn.CrossEntropyLoss()\n",
    "optimiser = torch.optim.SGD(mc_model.parameters(), lr=LEARNING_RATE)\n",
    "epochs = EPOCHS\n",
    "\n",
    "# Split data into 80% train and 20% test subsets\n",
    "x_train, x_test, y_train, y_test = train_test_split(grids, routes_df['route_int'], test_size=0.2, shuffle=False, random_state=1)\n",
    "x_train, y_train = torch.as_tensor(x_train).float().to(device), torch.as_tensor(y_train.to_numpy()).to(device)\n",
    "x_test, y_test = torch.as_tensor(x_test).float().to(device), torch.as_tensor(y_test.to_numpy()).to(device)\n",
    "\n",
    "for epoch in range(epochs):\n",
    "    ### Training\n",
    "    mc_model.train()\n",
    "\n",
    "    # 1. Forward Pass\n",
    "    y_logits = mc_model(x_train)\n",
    "    y_pred = torch.softmax(y_logits, dim=1).argmax(dim=1)\n",
    "\n",
    "    # 2. Calculate loss and energy\n",
    "    loss = loss_fn(y_logits, y_train)\n",
    "    acc = accuracy_fn(y_true=y_train, y_pred=y_pred)\n",
    "\n",
    "    # 3. Optimiser zero grad (clear gradients)\n",
    "    optimiser.zero_grad()\n",
    "\n",
    "    # 4. Loss backwards\n",
    "    loss.backward()\n",
    "\n",
    "    # 5. Optimiser step\n",
    "    optimiser.step()\n",
    "\n",
    "    ### Testing\n",
    "    mc_model.eval()\n",
    "    with torch.inference_mode():\n",
    "      # 1. Forward pass\n",
    "      test_logits = mc_model(x_test)\n",
    "      test_pred = torch.softmax(test_logits, dim=1).argmax(dim=1)\n",
    "      # 2. Calculate test loss and accuracy\n",
    "      test_loss = loss_fn(test_logits, y_test)\n",
    "      test_acc = accuracy_fn(y_true=y_test,\n",
    "                             y_pred=test_pred)\n",
    "\n",
    "    # Print out what's happening\n",
    "    if epoch % 10 == 0:\n",
    "        pass\n",
    "        #print(f\"Epoch: {epoch} | Loss: {loss:.5f}, Acc: {acc:.2f}% | Test Loss: {test_loss:.5f}, Test Acc: {test_acc:.2f}%\")"
   ],
   "metadata": {
    "collapsed": false,
    "pycharm": {
     "name": "#%%\n"
    }
   }
  },
  {
   "cell_type": "code",
   "execution_count": null,
   "outputs": [],
   "source": [
    "mc_model.eval()\n",
    "with torch.inference_mode():\n",
    "    y_logits = mc_model(x_test)\n",
    "\n",
    "y_pred_probs = torch.softmax(y_logits, dim=1)\n",
    "y_preds = y_pred_probs.argmax(dim=1)\n",
    "\n",
    "#print(f'Predictions: {y_preds}\\nLabels: {y_test}')\n",
    "print(f'Test accuracy: {accuracy_fn(y_true=y_test, y_pred=y_preds):.2f}%')"
   ],
   "metadata": {
    "collapsed": false,
    "pycharm": {
     "name": "#%%\n"
    }
   }
  },
  {
   "cell_type": "code",
   "execution_count": null,
   "outputs": [],
   "source": [
    "len(routes_df)"
   ],
   "metadata": {
    "collapsed": false,
    "pycharm": {
     "name": "#%%\n"
    }
   }
  },
  {
   "cell_type": "code",
   "execution_count": null,
   "outputs": [],
   "source": [
    "print(\n",
    "    f'Classification report for classifier {mc_model}:\\n'\n",
    "    f'{metrics.classification_report(y_test.cpu(), y_preds.cpu())}\\n'\n",
    ")"
   ],
   "metadata": {
    "collapsed": false,
    "pycharm": {
     "name": "#%%\n"
    }
   }
  },
  {
   "cell_type": "code",
   "execution_count": null,
   "outputs": [],
   "source": [
    "disp2 = metrics.ConfusionMatrixDisplay.from_predictions(y_test.cpu(), y_preds.cpu())\n",
    "disp2.figure_.suptitle('Confusion Matrix')\n",
    "print(f'Confusion Matrix:\\n{disp2.confusion_matrix}')\n",
    "plt.xlabel(classes)\n",
    "plt.show()"
   ],
   "metadata": {
    "collapsed": false,
    "pycharm": {
     "name": "#%%\n"
    }
   }
  },
  {
   "cell_type": "code",
   "execution_count": null,
   "outputs": [],
   "source": [],
   "metadata": {
    "collapsed": false,
    "pycharm": {
     "name": "#%%\n"
    }
   }
  }
 ],
 "metadata": {
  "kernelspec": {
   "display_name": "Python 3",
   "language": "python",
   "name": "python3"
  },
  "language_info": {
   "codemirror_mode": {
    "name": "ipython",
    "version": 2
   },
   "file_extension": ".py",
   "mimetype": "text/x-python",
   "name": "python",
   "nbconvert_exporter": "python",
   "pygments_lexer": "ipython2",
   "version": "2.7.6"
  }
 },
 "nbformat": 4,
 "nbformat_minor": 0
}