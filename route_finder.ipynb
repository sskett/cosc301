{
 "cells": [
  {
   "cell_type": "code",
   "execution_count": 1,
   "outputs": [],
   "source": [
    "import pandas as pd\n",
    "import pandas_profiling as pp\n",
    "import numpy as np\n",
    "import sklearn\n",
    "import matplotlib.pyplot as plt\n",
    "\n",
    "from sklearn.cluster import KMeans\n",
    "from sklearn.cluster import AgglomerativeClustering\n",
    "from sklearn.metrics import silhouette_score\n",
    "from sklearn.preprocessing import normalize\n",
    "from scipy.cluster.hierarchy import dendrogram\n",
    "import scipy.cluster.hierarchy as shc\n",
    "from itertools import combinations"
   ],
   "metadata": {
    "collapsed": false,
    "pycharm": {
     "name": "#%%\n"
    }
   }
  },
  {
   "cell_type": "code",
   "execution_count": 2,
   "outputs": [],
   "source": [
    "def define_pandas_options():\n",
    "    pd.set_option('display.max_rows', None)\n",
    "    pd.set_option('display.max_columns', None)\n",
    "    pd.set_option('display.width', None)\n",
    "    pd.set_option('display.max_colwidth', None)\n",
    "    pd.set_option('display.float_format', lambda x: '%.5f' % x)"
   ],
   "metadata": {
    "collapsed": false,
    "pycharm": {
     "name": "#%%\n"
    }
   }
  },
  {
   "cell_type": "code",
   "execution_count": 3,
   "outputs": [],
   "source": [
    "def string_to_vector(s):\n",
    "    try:\n",
    "        s = s.split('[')[1].split(']')[0]\n",
    "        x = float(s.split()[0])\n",
    "        y = float(s.split()[1])\n",
    "        return np.array([x, y])\n",
    "    except AttributeError:\n",
    "        return None\n",
    "\n",
    "def get_position_delta(row):\n",
    "    return row.s / 10 * row.dir_vec\n",
    "\n",
    "def get_relative_position(row):\n",
    "    if row.frameId == 1:\n",
    "        return np.array([0, 0])\n",
    "    else:\n",
    "        last_pos = row.shift(1).rel_pos\n",
    "        return last_pos + row.pos_delta"
   ],
   "metadata": {
    "collapsed": false,
    "pycharm": {
     "name": "#%%\n"
    }
   }
  },
  {
   "cell_type": "code",
   "execution_count": 4,
   "outputs": [],
   "source": [
    "pl_cols = ['gameId', 'playId', 'offense_h_play', 'offense_h_presnap', 'offense_h_to_throw', 'offense_h_to_arrived', 'offense_h_to_end', 'defense_h_play', 'defense_h_presnap', 'defense_h_to_throw', 'defense_h_to_arrived', 'defense_h_to_end', 'offense_p_play', 'offense_p_presnap', 'offense_p_to_throw', 'offense_p_to_arrived', 'offense_p_to_end', 'offense_m_play', 'offense_m_presnap', 'offense_m_to_throw', 'offense_m_to_arrived', 'offense_m_to_end', 'offense_v_play', 'offense_v_presnap', 'offense_v_to_throw', 'offense_v_to_arrived', 'offense_v_to_end', 'offense_a_play', 'offense_a_presnap', 'offense_a_to_throw', 'offense_a_to_arrived','offense_a_to_end', 'defense_p_play', 'defense_p_presnap','defense_p_to_throw', 'defense_p_to_arrived', 'defense_p_to_end','defense_m_play', 'defense_m_presnap', 'defense_m_to_throw','defense_m_to_arrived', 'defense_m_to_end', 'defense_v_play', 'defense_v_presnap', 'defense_v_to_throw', 'defense_v_to_arrived','defense_v_to_end', 'defense_a_play', 'defense_a_presnap','defense_a_to_throw', 'defense_a_to_arrived', 'defense_a_to_end','HITCH', 'OUT', 'FLAT', 'CROSS', 'GO', 'SLANT', 'SCREEN', 'CORNER', 'IN', 'ANGLE', 'POST', 'WHEEL']\n",
    "\n",
    "play_df = pd.read_csv('d20_intermediate_files/play_results.csv', usecols=pl_cols)\n",
    "play_df['num_routes'] = play_df[['HITCH', 'OUT', 'FLAT', 'CROSS', 'GO', 'SLANT', 'SCREEN', 'CORNER', 'IN', 'ANGLE', 'POST', 'WHEEL']].T.sum()\n",
    "play_df.drop(play_df[play_df['num_routes'] == 0].index, inplace=True)\n",
    "play_df.dropna(inplace=True)\n",
    "\n",
    "fr_cols = ['gameId', 'playId', 'frameId', 'offense_p_group', 'defense_p_group', 'offense_m_group', 'defense_m_group', 'o_state', 'd_state', 'offense_v_group', 'defense_v_group', 'offense_a_group', 'defense_a_group', 'a_group_ratio']\n",
    "frame_df = pd.read_csv('d20_intermediate_files/frame_results.csv', usecols=fr_cols)\n",
    "\n",
    "tr_cols = ['time', 's', 'a', 'dis', 'event', 'nflId', 'displayName', 'jerseyNumber', 'position', 'frameId', 'team', 'gameId', 'playId', 'playDirection', 'route', 'pos', 'teamType', 'o_vec', 'dir_vec', 'r_vec']\n",
    "tracking_df = pd.read_csv('d20_intermediate_files/tracking_results.csv', usecols=tr_cols)"
   ],
   "metadata": {
    "collapsed": false,
    "pycharm": {
     "name": "#%%\n"
    }
   }
  },
  {
   "cell_type": "code",
   "execution_count": 5,
   "outputs": [],
   "source": [
    "tracking_df['pos'] = tracking_df['pos'].apply(string_to_vector)\n",
    "tracking_df['o_vec'] = tracking_df['o_vec'].apply(string_to_vector)\n",
    "tracking_df['dir_vec'] = tracking_df['dir_vec'].apply(string_to_vector)\n",
    "tracking_df['r_vec'] = tracking_df['r_vec'].apply(string_to_vector)"
   ],
   "metadata": {
    "collapsed": false,
    "pycharm": {
     "name": "#%%\n"
    }
   }
  },
  {
   "cell_type": "code",
   "execution_count": 6,
   "outputs": [],
   "source": [
    "tracking_df['gpid'] = tracking_df.apply(lambda x: str(x.gameId) + '-' + str(x.playId), axis=1)"
   ],
   "metadata": {
    "collapsed": false,
    "pycharm": {
     "name": "#%%\n"
    }
   }
  },
  {
   "cell_type": "code",
   "execution_count": 7,
   "outputs": [],
   "source": [
    "runners = tracking_df.loc[(tracking_df['position'].isin(['WR'])) & (~tracking_df['route'].isna())].copy()"
   ],
   "metadata": {
    "collapsed": false,
    "pycharm": {
     "name": "#%%\n"
    }
   }
  },
  {
   "cell_type": "code",
   "execution_count": 8,
   "outputs": [],
   "source": [
    "# Convert nan forced floats to ints and NA\n",
    "runners['nflId'] = runners['nflId'].astype('Int64')\n",
    "runners['jerseyNumber'] = runners['jerseyNumber'].astype('Int64')"
   ],
   "metadata": {
    "collapsed": false,
    "pycharm": {
     "name": "#%%\n"
    }
   }
  },
  {
   "cell_type": "code",
   "execution_count": 14,
   "outputs": [],
   "source": [
    "gpids = runners['gpid'].unique().tolist()"
   ],
   "metadata": {
    "collapsed": false,
    "pycharm": {
     "name": "#%%\n"
    }
   }
  },
  {
   "cell_type": "code",
   "execution_count": 16,
   "outputs": [
    {
     "data": {
      "text/plain": "                                time     s     a   dis event    nflId  \\\n1   2018-09-07 01:07:14.599000+00:00  0.02  0.03  0.01  None  2495454   \n2   2018-09-07 01:07:14.599000+00:00  0.00  0.00  0.00  None  2533040   \n7   2018-09-07 01:07:14.700000+00:00  0.03  0.03  0.02  None  2495454   \n8   2018-09-07 01:07:14.700000+00:00  0.00  0.00  0.00  None  2533040   \n13  2018-09-07 01:07:14.799000+00:00  0.02  0.03  0.01  None  2495454   \n\n     displayName  jerseyNumber position  frameId  ...      gameId  playId  \\\n1    Julio Jones            11       WR        1  ...  2018090600      75   \n2   Mohamed Sanu            12       WR        1  ...  2018090600      75   \n7    Julio Jones            11       WR        2  ...  2018090600      75   \n8   Mohamed Sanu            12       WR        2  ...  2018090600      75   \n13   Julio Jones            11       WR        3  ...  2018090600      75   \n\n    playDirection  route             pos teamType                      o_vec  \\\n1            left  HITCH   [28.65, 9.14]  offense  [0.93697745, -0.34938985]   \n2            left  HITCH  [29.22, 17.15]  offense   [0.97670974, 0.21456486]   \n7            left  HITCH   [28.63, 9.13]  offense  [0.93697745, -0.34938985]   \n8            left  HITCH  [29.22, 17.15]  offense   [0.97670974, 0.21456486]   \n13           left  HITCH   [28.63, 9.13]  offense  [0.93697745, -0.34938985]   \n\n                       dir_vec                      r_vec           gpid  \n1    [-0.29003414, -0.9570163]  [0.12496368, -0.99216132]  2018090600-75  \n2     [0.24141382, 0.97042226]  [0.37023815, -0.92893687]  2018090600-75  \n7   [-0.49409361, -0.86940871]   [0.1238431, -0.99230181]  2018090600-75  \n8     [0.18806703, 0.98215619]  [0.37111407, -0.92858729]  2018090600-75  \n13  [-0.53287628, -0.84619317]  [0.12371046, -0.99231836]  2018090600-75  \n\n[5 rows x 21 columns]",
      "text/html": "<div>\n<style scoped>\n    .dataframe tbody tr th:only-of-type {\n        vertical-align: middle;\n    }\n\n    .dataframe tbody tr th {\n        vertical-align: top;\n    }\n\n    .dataframe thead th {\n        text-align: right;\n    }\n</style>\n<table border=\"1\" class=\"dataframe\">\n  <thead>\n    <tr style=\"text-align: right;\">\n      <th></th>\n      <th>time</th>\n      <th>s</th>\n      <th>a</th>\n      <th>dis</th>\n      <th>event</th>\n      <th>nflId</th>\n      <th>displayName</th>\n      <th>jerseyNumber</th>\n      <th>position</th>\n      <th>frameId</th>\n      <th>...</th>\n      <th>gameId</th>\n      <th>playId</th>\n      <th>playDirection</th>\n      <th>route</th>\n      <th>pos</th>\n      <th>teamType</th>\n      <th>o_vec</th>\n      <th>dir_vec</th>\n      <th>r_vec</th>\n      <th>gpid</th>\n    </tr>\n  </thead>\n  <tbody>\n    <tr>\n      <th>1</th>\n      <td>2018-09-07 01:07:14.599000+00:00</td>\n      <td>0.02</td>\n      <td>0.03</td>\n      <td>0.01</td>\n      <td>None</td>\n      <td>2495454</td>\n      <td>Julio Jones</td>\n      <td>11</td>\n      <td>WR</td>\n      <td>1</td>\n      <td>...</td>\n      <td>2018090600</td>\n      <td>75</td>\n      <td>left</td>\n      <td>HITCH</td>\n      <td>[28.65, 9.14]</td>\n      <td>offense</td>\n      <td>[0.93697745, -0.34938985]</td>\n      <td>[-0.29003414, -0.9570163]</td>\n      <td>[0.12496368, -0.99216132]</td>\n      <td>2018090600-75</td>\n    </tr>\n    <tr>\n      <th>2</th>\n      <td>2018-09-07 01:07:14.599000+00:00</td>\n      <td>0.00</td>\n      <td>0.00</td>\n      <td>0.00</td>\n      <td>None</td>\n      <td>2533040</td>\n      <td>Mohamed Sanu</td>\n      <td>12</td>\n      <td>WR</td>\n      <td>1</td>\n      <td>...</td>\n      <td>2018090600</td>\n      <td>75</td>\n      <td>left</td>\n      <td>HITCH</td>\n      <td>[29.22, 17.15]</td>\n      <td>offense</td>\n      <td>[0.97670974, 0.21456486]</td>\n      <td>[0.24141382, 0.97042226]</td>\n      <td>[0.37023815, -0.92893687]</td>\n      <td>2018090600-75</td>\n    </tr>\n    <tr>\n      <th>7</th>\n      <td>2018-09-07 01:07:14.700000+00:00</td>\n      <td>0.03</td>\n      <td>0.03</td>\n      <td>0.02</td>\n      <td>None</td>\n      <td>2495454</td>\n      <td>Julio Jones</td>\n      <td>11</td>\n      <td>WR</td>\n      <td>2</td>\n      <td>...</td>\n      <td>2018090600</td>\n      <td>75</td>\n      <td>left</td>\n      <td>HITCH</td>\n      <td>[28.63, 9.13]</td>\n      <td>offense</td>\n      <td>[0.93697745, -0.34938985]</td>\n      <td>[-0.49409361, -0.86940871]</td>\n      <td>[0.1238431, -0.99230181]</td>\n      <td>2018090600-75</td>\n    </tr>\n    <tr>\n      <th>8</th>\n      <td>2018-09-07 01:07:14.700000+00:00</td>\n      <td>0.00</td>\n      <td>0.00</td>\n      <td>0.00</td>\n      <td>None</td>\n      <td>2533040</td>\n      <td>Mohamed Sanu</td>\n      <td>12</td>\n      <td>WR</td>\n      <td>2</td>\n      <td>...</td>\n      <td>2018090600</td>\n      <td>75</td>\n      <td>left</td>\n      <td>HITCH</td>\n      <td>[29.22, 17.15]</td>\n      <td>offense</td>\n      <td>[0.97670974, 0.21456486]</td>\n      <td>[0.18806703, 0.98215619]</td>\n      <td>[0.37111407, -0.92858729]</td>\n      <td>2018090600-75</td>\n    </tr>\n    <tr>\n      <th>13</th>\n      <td>2018-09-07 01:07:14.799000+00:00</td>\n      <td>0.02</td>\n      <td>0.03</td>\n      <td>0.01</td>\n      <td>None</td>\n      <td>2495454</td>\n      <td>Julio Jones</td>\n      <td>11</td>\n      <td>WR</td>\n      <td>3</td>\n      <td>...</td>\n      <td>2018090600</td>\n      <td>75</td>\n      <td>left</td>\n      <td>HITCH</td>\n      <td>[28.63, 9.13]</td>\n      <td>offense</td>\n      <td>[0.93697745, -0.34938985]</td>\n      <td>[-0.53287628, -0.84619317]</td>\n      <td>[0.12371046, -0.99231836]</td>\n      <td>2018090600-75</td>\n    </tr>\n  </tbody>\n</table>\n<p>5 rows × 21 columns</p>\n</div>"
     },
     "execution_count": 16,
     "metadata": {},
     "output_type": "execute_result"
    }
   ],
   "source": [
    "runners.head()"
   ],
   "metadata": {
    "collapsed": false,
    "pycharm": {
     "name": "#%%\n"
    }
   }
  },
  {
   "cell_type": "code",
   "execution_count": 34,
   "outputs": [],
   "source": [
    "routes_df = pd.DataFrame(columns=['gpid', 'nflId', 'route', 'pos'])\n",
    "index = 0\n",
    "end_events = ['pass_arrived', 'pass_outcome_caught', 'out_of_bounds',\n",
    "                       'pass_outcome_incomplete', 'first_contact', 'tackle', 'man_in_motion', 'play_action', 'handoff',\n",
    "                       'pass_tipped', 'pass_outcome_interception', 'pass_shovel', 'line_set', 'pass_outcome_touchdown',\n",
    "                       'fumble', 'fumble_offense_recovered', 'fumble_defense_recovered', 'touchdown', 'shift',\n",
    "                       'touchback', 'penalty_flag', 'penalty_accepted', 'field_goal_blocked']\n",
    "\n",
    "# Generate vectors of positions\n",
    "for gpid in gpids[:100]:\n",
    "    df = runners.loc[runners['gpid'] == gpid]\n",
    "    players = df['nflId'].unique().tolist()\n",
    "    for player in players:\n",
    "        player_df = df.loc[(df['nflId'] == player)]\n",
    "        if player > 0:\n",
    "            start_frame = df.loc[(df['nflId'] == player) & (df['event'] == 'ball_snap')]['frameId'].min()\n",
    "            end_frame = df.loc[(df['nflId'] == player) & (df['event'].isin(end_events))]['frameId'].min()\n",
    "            if end_frame > start_frame:\n",
    "                positions = []\n",
    "                for frame in range(start_frame + 1, end_frame + 1):\n",
    "                    positions.append(player_df.loc[(player_df['frameId'] == frame)]['pos'].values[0].tolist())\n",
    "                positions = np.array(positions)\n",
    "                try:\n",
    "                    routes_df.loc[index] = {\n",
    "                        'gpid': str(),\n",
    "                        'nflId': int(player),\n",
    "                        'route': str(player_df.loc[(player_df['frameId'] == 1)]['route'].values[0]),\n",
    "                        'pos': positions - positions[0]\n",
    "                    }\n",
    "                    index += 1\n",
    "                except IndexError:\n",
    "                    print(f'Data error for gpid {gpid}, player {player} (Start {start_frame} | End {end_frame})')"
   ],
   "metadata": {
    "collapsed": false,
    "pycharm": {
     "name": "#%%\n"
    }
   }
  },
  {
   "cell_type": "code",
   "execution_count": 18,
   "outputs": [],
   "source": [
    "# Convert position sequences to 2d array with np.histogram2d"
   ],
   "metadata": {
    "collapsed": false,
    "pycharm": {
     "name": "#%%\n"
    }
   }
  },
  {
   "cell_type": "code",
   "execution_count": 19,
   "outputs": [],
   "source": [
    "# Convert 2d array to 1d array"
   ],
   "metadata": {
    "collapsed": false,
    "pycharm": {
     "name": "#%%\n"
    }
   }
  },
  {
   "cell_type": "code",
   "execution_count": 42,
   "outputs": [
    {
     "data": {
      "text/plain": "(-15.39, 12.82)"
     },
     "execution_count": 42,
     "metadata": {},
     "output_type": "execute_result"
    },
    {
     "data": {
      "text/plain": "<Figure size 432x288 with 1 Axes>",
      "image/png": "[encoded data removed]"
     },
     "metadata": {
      "needs_background": "light"
     },
     "output_type": "display_data"
    }
   ],
   "source": [
    "x = [0, 0]\n",
    "y = [0, 0]\n",
    "for idx, row in routes_df.loc[(routes_df['route'] == 'OUT')].iterrows():\n",
    "    if row['pos'][:, 0].min() < x[0]: x[0] = row['pos'][:, 0].min()\n",
    "    if row['pos'][:, 0].max() > x[1]: x[1] = row['pos'][:, 0].max()\n",
    "    if row['pos'][:, 1].min() < y[0]: y[0] = row['pos'][:, 1].min()\n",
    "    if row['pos'][:, 1].max() > y[1]: y[1] = row['pos'][:, 1].max()\n",
    "    plt.scatter(row['pos'][:, 0], row['pos'][:, 1])\n",
    "plt.xlim(x[0] - 1, x[1] + 1)\n",
    "plt.ylim(y[0] - 1, y[1] + 1)"
   ],
   "metadata": {
    "collapsed": false,
    "pycharm": {
     "name": "#%%\n"
    }
   }
  },
  {
   "cell_type": "code",
   "execution_count": null,
   "outputs": [],
   "source": [],
   "metadata": {
    "collapsed": false,
    "pycharm": {
     "name": "#%%\n"
    }
   }
  }
 ],
 "metadata": {
  "kernelspec": {
   "display_name": "Python 3",
   "language": "python",
   "name": "python3"
  },
  "language_info": {
   "codemirror_mode": {
    "name": "ipython",
    "version": 2
   },
   "file_extension": ".py",
   "mimetype": "text/x-python",
   "name": "python",
   "nbconvert_exporter": "python",
   "pygments_lexer": "ipython2",
   "version": "2.7.6"
  }
 },
 "nbformat": 4,
 "nbformat_minor": 0
}