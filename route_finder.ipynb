{
 "cells": [
  {
   "cell_type": "code",
   "execution_count": 1,
   "outputs": [],
   "source": [
    "import pandas as pd\n",
    "import numpy as np\n",
    "import matplotlib.pyplot as plt\n",
    "\n",
    "from sklearn import datasets, svm, metrics\n",
    "from sklearn.model_selection import train_test_split"
   ],
   "metadata": {
    "collapsed": false,
    "pycharm": {
     "name": "#%%\n"
    }
   }
  },
  {
   "cell_type": "code",
   "execution_count": 2,
   "outputs": [],
   "source": [
    "def define_pandas_options():\n",
    "    pd.set_option('display.max_rows', None)\n",
    "    pd.set_option('display.max_columns', None)\n",
    "    pd.set_option('display.width', None)\n",
    "    pd.set_option('display.max_colwidth', None)\n",
    "    pd.set_option('display.float_format', lambda x: '%.5f' % x)"
   ],
   "metadata": {
    "collapsed": false,
    "pycharm": {
     "name": "#%%\n"
    }
   }
  },
  {
   "cell_type": "code",
   "execution_count": 3,
   "outputs": [],
   "source": [
    "def string_to_vector(s):\n",
    "    try:\n",
    "        s = s.split('[')[1].split(']')[0]\n",
    "        x = float(s.split()[0])\n",
    "        y = float(s.split()[1])\n",
    "        return np.array([x, y])\n",
    "    except AttributeError:\n",
    "        return None\n",
    "\n",
    "def get_position_delta(row):\n",
    "    return row.s / 10 * row.dir_vec\n",
    "\n",
    "def get_relative_position(row):\n",
    "    if row.frameId == 1:\n",
    "        return np.array([0, 0])\n",
    "    else:\n",
    "        last_pos = row.shift(1).rel_pos\n",
    "        return last_pos + row.pos_delta"
   ],
   "metadata": {
    "collapsed": false,
    "pycharm": {
     "name": "#%%\n"
    }
   }
  },
  {
   "cell_type": "code",
   "execution_count": 4,
   "outputs": [],
   "source": [
    "pl_cols = ['gameId', 'playId', 'offense_h_play', 'offense_h_presnap', 'offense_h_to_throw', 'offense_h_to_arrived', 'offense_h_to_end', 'defense_h_play', 'defense_h_presnap', 'defense_h_to_throw', 'defense_h_to_arrived', 'defense_h_to_end', 'offense_p_play', 'offense_p_presnap', 'offense_p_to_throw', 'offense_p_to_arrived', 'offense_p_to_end', 'offense_m_play', 'offense_m_presnap', 'offense_m_to_throw', 'offense_m_to_arrived', 'offense_m_to_end', 'offense_v_play', 'offense_v_presnap', 'offense_v_to_throw', 'offense_v_to_arrived', 'offense_v_to_end', 'offense_a_play', 'offense_a_presnap', 'offense_a_to_throw', 'offense_a_to_arrived','offense_a_to_end', 'defense_p_play', 'defense_p_presnap','defense_p_to_throw', 'defense_p_to_arrived', 'defense_p_to_end','defense_m_play', 'defense_m_presnap', 'defense_m_to_throw','defense_m_to_arrived', 'defense_m_to_end', 'defense_v_play', 'defense_v_presnap', 'defense_v_to_throw', 'defense_v_to_arrived','defense_v_to_end', 'defense_a_play', 'defense_a_presnap','defense_a_to_throw', 'defense_a_to_arrived', 'defense_a_to_end','HITCH', 'OUT', 'FLAT', 'CROSS', 'GO', 'SLANT', 'SCREEN', 'CORNER', 'IN', 'ANGLE', 'POST', 'WHEEL']\n",
    "\n",
    "play_df = pd.read_csv('d20_intermediate_files/play_results.csv', usecols=pl_cols)\n",
    "play_df['num_routes'] = play_df[['HITCH', 'OUT', 'FLAT', 'CROSS', 'GO', 'SLANT', 'SCREEN', 'CORNER', 'IN', 'ANGLE', 'POST', 'WHEEL']].T.sum()\n",
    "play_df.drop(play_df[play_df['num_routes'] == 0].index, inplace=True)\n",
    "play_df.dropna(inplace=True)\n",
    "\n",
    "fr_cols = ['gameId', 'playId', 'frameId', 'offense_p_group', 'defense_p_group', 'offense_m_group', 'defense_m_group', 'o_state', 'd_state', 'offense_v_group', 'defense_v_group', 'offense_a_group', 'defense_a_group', 'a_group_ratio']\n",
    "frame_df = pd.read_csv('d20_intermediate_files/frame_results.csv', usecols=fr_cols)\n",
    "\n",
    "tr_cols = ['time', 's', 'a', 'dis', 'event', 'nflId', 'displayName', 'jerseyNumber', 'position', 'frameId', 'team', 'gameId', 'playId', 'playDirection', 'route', 'pos', 'teamType', 'o_vec', 'dir_vec', 'r_vec']\n",
    "tracking_df = pd.read_csv('d20_intermediate_files/tracking_results.csv', usecols=tr_cols, chunksize=1000000)"
   ],
   "metadata": {
    "collapsed": false,
    "pycharm": {
     "name": "#%%\n"
    }
   }
  },
  {
   "cell_type": "code",
   "execution_count": 204,
   "outputs": [],
   "source": [
    "#tracking_df['pos'] = tracking_df['pos'].apply(string_to_vector)\n",
    "#tracking_df['o_vec'] = tracking_df['o_vec'].apply(string_to_vector)\n",
    "#tracking_df['dir_vec'] = tracking_df['dir_vec'].apply(string_to_vector)\n",
    "#tracking_df['r_vec'] = tracking_df['r_vec'].apply(string_to_vector)"
   ],
   "metadata": {
    "collapsed": false,
    "pycharm": {
     "name": "#%%\n"
    }
   }
  },
  {
   "cell_type": "code",
   "execution_count": 205,
   "outputs": [],
   "source": [
    "#tracking_df['gpid'] = tracking_df.apply(lambda x: str(x.gameId) + '-' + str(x.playId), axis=1)"
   ],
   "metadata": {
    "collapsed": false,
    "pycharm": {
     "name": "#%%\n"
    }
   }
  },
  {
   "cell_type": "code",
   "execution_count": 206,
   "outputs": [],
   "source": [
    "runners = tracking_df.loc[(tracking_df['position'].isin(['QB', 'WR', 'RB', 'TE']))].copy()\n",
    "del tracking_df"
   ],
   "metadata": {
    "collapsed": false,
    "pycharm": {
     "name": "#%%\n"
    }
   }
  },
  {
   "cell_type": "code",
   "execution_count": 207,
   "outputs": [],
   "source": [
    "runners['pos'] = runners['pos'].apply(string_to_vector)\n",
    "runners['o_vec'] = runners['o_vec'].apply(string_to_vector)\n",
    "runners['dir_vec'] = runners['dir_vec'].apply(string_to_vector)\n",
    "runners['r_vec'] = runners['r_vec'].apply(string_to_vector)\n",
    "runners['gpid'] = runners.apply(lambda x: str(x.gameId) + '-' + str(x.playId), axis=1)"
   ],
   "metadata": {
    "collapsed": false,
    "pycharm": {
     "name": "#%%\n"
    }
   }
  },
  {
   "cell_type": "code",
   "execution_count": 208,
   "outputs": [],
   "source": [
    "qb_positions = runners.loc[(runners['frameId'] == 1) & (runners['position'] == 'QB')][['gpid', 'pos']].copy()"
   ],
   "metadata": {
    "collapsed": false,
    "pycharm": {
     "name": "#%%\n"
    }
   }
  },
  {
   "cell_type": "code",
   "execution_count": 209,
   "outputs": [],
   "source": [
    "runners = runners.loc[(~runners['route'].isna())]"
   ],
   "metadata": {
    "collapsed": false,
    "pycharm": {
     "name": "#%%\n"
    }
   }
  },
  {
   "cell_type": "code",
   "execution_count": 210,
   "outputs": [],
   "source": [
    "# Convert nan forced floats to ints and NA\n",
    "runners['nflId'] = runners['nflId'].astype('Int64')\n",
    "runners['jerseyNumber'] = runners['jerseyNumber'].astype('Int64')"
   ],
   "metadata": {
    "collapsed": false,
    "pycharm": {
     "name": "#%%\n"
    }
   }
  },
  {
   "cell_type": "code",
   "execution_count": 211,
   "outputs": [],
   "source": [
    "gpids = runners['gpid'].unique().tolist()"
   ],
   "metadata": {
    "collapsed": false,
    "pycharm": {
     "name": "#%%\n"
    }
   }
  },
  {
   "cell_type": "code",
   "execution_count": 214,
   "outputs": [],
   "source": [
    "routes_df = pd.DataFrame(columns=['gpid', 'nflId', 'route', 'pos'])\n",
    "index = 0\n",
    "end_events = ['pass_arrived', 'pass_outcome_caught', 'out_of_bounds',\n",
    "                       'pass_outcome_incomplete', 'first_contact', 'tackle', 'man_in_motion', 'play_action', 'handoff',\n",
    "                       'pass_tipped', 'pass_outcome_interception', 'pass_shovel', 'line_set', 'pass_outcome_touchdown',\n",
    "                       'fumble', 'fumble_offense_recovered', 'fumble_defense_recovered', 'touchdown', 'shift',\n",
    "                       'touchback', 'penalty_flag', 'penalty_accepted', 'field_goal_blocked']\n",
    "\n",
    "# Generate vectors of positions\n",
    "for gpid in gpids[:1000]:\n",
    "    df = runners.loc[runners['gpid'] == gpid]\n",
    "    players = df['nflId'].unique().tolist()\n",
    "    centre_pos = qb_positions.loc[(qb_positions['gpid'] == gpid)]['pos'].values[0][1]\n",
    "    for player in players:\n",
    "        player_df = df.loc[(df['nflId'] == player)]\n",
    "        if player > 0:\n",
    "            start_frame = player_df.loc[player_df['event'] == 'ball_snap']['frameId'].min()\n",
    "            end_frame = player_df.loc[player_df['event'].isin(end_events)]['frameId'].min()\n",
    "            if end_frame > start_frame:\n",
    "                positions = []\n",
    "                start_pos = player_df.loc[(player_df['frameId'] == start_frame)]['pos'].values[0]\n",
    "                flip_arr = True if start_pos[1] < centre_pos else False\n",
    "                for frame in range(start_frame + 1, end_frame + 1):\n",
    "                    # positions.append(player_df.loc[(player_df['frameId'] == frame)]['pos'].values[0].tolist())\n",
    "                    new_pos = player_df.loc[(player_df['frameId'] == frame)]['pos'].values[0].tolist()\n",
    "                    if flip_arr: new_pos[1] = new_pos[1] * -1\n",
    "                    new_pos.append(player_df.loc[(player_df['frameId'] == frame)]['s'].values[0])\n",
    "                    positions.append(new_pos)\n",
    "                positions = np.array(positions)\n",
    "                try:\n",
    "                    routes_df.loc[index] = {\n",
    "                        'gpid': str(gpid),\n",
    "                        'nflId': int(player),\n",
    "                        'route': str(player_df.loc[(player_df['frameId'] == 1)]['route'].values[0]),\n",
    "                        'pos': positions - positions[0]\n",
    "                    }\n",
    "                    index += 1\n",
    "                except IndexError:\n",
    "                    print(f'Data error for gpid {gpid}, player {player} (Start {start_frame} | End {end_frame})')\n",
    "\n",
    "del runners"
   ],
   "metadata": {
    "collapsed": false,
    "pycharm": {
     "name": "#%%\n"
    }
   }
  },
  {
   "cell_type": "code",
   "execution_count": 84,
   "outputs": [],
   "source": [
    "# Convert position sequences to 2d array with np.histogram2d"
   ],
   "metadata": {
    "collapsed": false,
    "pycharm": {
     "name": "#%%\n"
    }
   }
  },
  {
   "cell_type": "code",
   "execution_count": 85,
   "outputs": [],
   "source": [
    "# Convert 2d array to 1d array"
   ],
   "metadata": {
    "collapsed": false,
    "pycharm": {
     "name": "#%%\n"
    }
   }
  },
  {
   "cell_type": "code",
   "execution_count": 215,
   "outputs": [
    {
     "data": {
      "text/plain": "(-40.0, 40.0)"
     },
     "execution_count": 215,
     "metadata": {},
     "output_type": "execute_result"
    },
    {
     "data": {
      "text/plain": "<Figure size 432x288 with 1 Axes>",
      "image/png": "[encoded data removed]"
     },
     "metadata": {
      "needs_background": "light"
     },
     "output_type": "display_data"
    }
   ],
   "source": [
    "x = [0, 0]\n",
    "y = [0, 0]\n",
    "\n",
    "for idx, row in routes_df.iterrows():\n",
    "    if row['pos'][:, 0].min() < x[0]: x[0] = row['pos'][:, 0].min()\n",
    "    if row['pos'][:, 0].max() > x[1]: x[1] = row['pos'][:, 0].max()\n",
    "    if row['pos'][:, 1].min() < y[0]: y[0] = row['pos'][:, 1].min()\n",
    "    if row['pos'][:, 1].max() > y[1]: y[1] = row['pos'][:, 1].max()\n",
    "    plt.scatter(row['pos'][:, 0], row['pos'][:, 1], c=row['pos'][:, 2])\n",
    "x = [np.floor(x[0]), np.ceil(x[1])]\n",
    "plt.xlim(x[0] - 1, x[1] + 1)\n",
    "y[0] = -1 * np.ceil(max(abs(y[0]), abs(y[1])))\n",
    "y[1] = abs(y[0])\n",
    "plt.ylim(y[0] - 1, y[1] + 1)"
   ],
   "metadata": {
    "collapsed": false,
    "pycharm": {
     "name": "#%%\n"
    }
   }
  },
  {
   "cell_type": "code",
   "execution_count": 216,
   "outputs": [],
   "source": [
    "x_dim = int(abs(x[0]) + abs(x[1]))\n",
    "y_dim = int(abs(y[0]) + abs(y[1]))"
   ],
   "metadata": {
    "collapsed": false,
    "pycharm": {
     "name": "#%%\n"
    }
   }
  },
  {
   "cell_type": "code",
   "execution_count": 217,
   "outputs": [],
   "source": [
    "grid = np.zeros(x_dim * y_dim).reshape(x_dim, y_dim)"
   ],
   "metadata": {
    "collapsed": false,
    "pycharm": {
     "name": "#%%\n"
    }
   }
  },
  {
   "cell_type": "code",
   "execution_count": 218,
   "outputs": [],
   "source": [
    "grids = []\n",
    "for idx, row in routes_df.iterrows():\n",
    "    grid = np.zeros(x_dim * y_dim).reshape(x_dim, y_dim)\n",
    "    for position in row['pos']:\n",
    "        grid[int(position[0]), int(position[1])] = position[2]\n",
    "    grids.append(grid.reshape(x_dim * y_dim))"
   ],
   "metadata": {
    "collapsed": false,
    "pycharm": {
     "name": "#%%\n"
    }
   }
  },
  {
   "cell_type": "code",
   "execution_count": 219,
   "outputs": [],
   "source": [
    "routes_df['grid'] = grids\n",
    "#routes_df.drop(['pos'], axis=1, inplace=True)"
   ],
   "metadata": {
    "collapsed": false,
    "pycharm": {
     "name": "#%%\n"
    }
   }
  },
  {
   "cell_type": "code",
   "execution_count": 91,
   "outputs": [],
   "source": [
    "# flatten the images\n",
    "n_samples = len(grids)\n",
    "\n",
    "# Create a classifier: a support vector classifier\n",
    "clf = svm.SVC(gamma=0.005, kernel='rbf')\n",
    "\n",
    "# Split data into 50% train and 50% test subsets\n",
    "x_train, x_test, y_train, y_test = train_test_split(grids, routes_df['route'], test_size=0.6, shuffle=False, random_state=1)\n",
    "\n",
    "# Learn the digits on the train subset\n",
    "clf.fit(x_train, y_train)\n",
    "\n",
    "# Predict the value of the digit on the test subset\n",
    "predicted = clf.predict(x_test)"
   ],
   "metadata": {
    "collapsed": false,
    "pycharm": {
     "name": "#%%\n"
    }
   }
  },
  {
   "cell_type": "code",
   "execution_count": 92,
   "outputs": [
    {
     "name": "stdout",
     "output_type": "stream",
     "text": [
      "Classification report for classifier SVC(gamma=0.005):\n",
      "              precision    recall  f1-score   support\n",
      "\n",
      "       ANGLE       1.00      0.12      0.21        25\n",
      "      CORNER       0.00      0.00      0.00        22\n",
      "       CROSS       0.38      0.06      0.11        49\n",
      "        FLAT       0.51      0.75      0.61        71\n",
      "          GO       0.38      0.68      0.48       117\n",
      "       HITCH       0.45      0.71      0.55       111\n",
      "          IN       0.17      0.05      0.08        39\n",
      "         OUT       0.57      0.31      0.40        55\n",
      "        POST       0.00      0.00      0.00        30\n",
      "      SCREEN       0.35      0.30      0.32        30\n",
      "       SLANT       0.45      0.28      0.34        36\n",
      "   undefined       0.00      0.00      0.00         4\n",
      "\n",
      "    accuracy                           0.43       589\n",
      "   macro avg       0.35      0.27      0.26       589\n",
      "weighted avg       0.40      0.43      0.37       589\n",
      "\n",
      "\n"
     ]
    },
    {
     "name": "stderr",
     "output_type": "stream",
     "text": [
      "/Users/spencer/PycharmProjects/cosc301/venv/lib/python3.9/site-packages/sklearn/metrics/_classification.py:1327: UndefinedMetricWarning: Precision and F-score are ill-defined and being set to 0.0 in labels with no predicted samples. Use `zero_division` parameter to control this behavior.\n",
      "  _warn_prf(average, modifier, msg_start, len(result))\n",
      "/Users/spencer/PycharmProjects/cosc301/venv/lib/python3.9/site-packages/sklearn/metrics/_classification.py:1327: UndefinedMetricWarning: Precision and F-score are ill-defined and being set to 0.0 in labels with no predicted samples. Use `zero_division` parameter to control this behavior.\n",
      "  _warn_prf(average, modifier, msg_start, len(result))\n",
      "/Users/spencer/PycharmProjects/cosc301/venv/lib/python3.9/site-packages/sklearn/metrics/_classification.py:1327: UndefinedMetricWarning: Precision and F-score are ill-defined and being set to 0.0 in labels with no predicted samples. Use `zero_division` parameter to control this behavior.\n",
      "  _warn_prf(average, modifier, msg_start, len(result))\n"
     ]
    }
   ],
   "source": [
    "print(\n",
    "    f'Classification report for classifier {clf}:\\n'\n",
    "    f'{metrics.classification_report(y_test, predicted)}\\n'\n",
    ")"
   ],
   "metadata": {
    "collapsed": false,
    "pycharm": {
     "name": "#%%\n"
    }
   }
  },
  {
   "cell_type": "code",
   "execution_count": 93,
   "outputs": [
    {
     "name": "stdout",
     "output_type": "stream",
     "text": [
      "Confusion Matrix:\n",
      "[[ 3  0  0  9  5  6  0  0  0  2  0  0]\n",
      " [ 0  0  0  0 16  6  0  0  0  0  0  0]\n",
      " [ 0  0  3  9 21 14  0  0  0  2  0  0]\n",
      " [ 0  0  2 53  9  2  0  2  0  3  0  0]\n",
      " [ 0  0  0  5 79 20  3  5  0  5  0  0]\n",
      " [ 0  0  1  4 12 79  4  3  0  0  8  0]\n",
      " [ 0  0  0  0 16 14  2  2  0  2  3  0]\n",
      " [ 0  0  1  6 21  8  0 17  0  1  1  0]\n",
      " [ 0  0  0  0 24  5  1  0  0  0  0  0]\n",
      " [ 0  0  1 16  1  3  0  0  0  9  0  0]\n",
      " [ 0  0  0  1  6 15  2  0  0  2 10  0]\n",
      " [ 0  0  0  1  0  2  0  1  0  0  0  0]]\n"
     ]
    },
    {
     "data": {
      "text/plain": "<Figure size 432x288 with 2 Axes>",
      "image/png": "[encoded data removed]"
     },
     "metadata": {
      "needs_background": "light"
     },
     "output_type": "display_data"
    }
   ],
   "source": [
    "disp = metrics.ConfusionMatrixDisplay.from_predictions(y_test, predicted)\n",
    "disp.figure_.suptitle('Confusion Matrix')\n",
    "print(f'Confusion Matrix:\\n{disp.confusion_matrix}')\n",
    "plt.show()"
   ],
   "metadata": {
    "collapsed": false,
    "pycharm": {
     "name": "#%%\n"
    }
   }
  },
  {
   "cell_type": "code",
   "execution_count": 94,
   "outputs": [
    {
     "data": {
      "text/plain": "981"
     },
     "execution_count": 94,
     "metadata": {},
     "output_type": "execute_result"
    }
   ],
   "source": [
    "routes_df['route'].value_counts().sum()"
   ],
   "metadata": {
    "collapsed": false,
    "pycharm": {
     "name": "#%%\n"
    }
   }
  },
  {
   "cell_type": "code",
   "execution_count": 95,
   "outputs": [
    {
     "data": {
      "text/plain": "<BarContainer object of 13 artists>"
     },
     "execution_count": 95,
     "metadata": {},
     "output_type": "execute_result"
    },
    {
     "data": {
      "text/plain": "<Figure size 1440x720 with 1 Axes>",
      "image/png": "[encoded data removed]"
     },
     "metadata": {
      "needs_background": "light"
     },
     "output_type": "display_data"
    }
   ],
   "source": [
    "plt.figure(figsize=(20,10))\n",
    "plt.bar(routes_df['route'].value_counts().index, routes_df['route'].value_counts().values / routes_df['route'].value_counts().sum(), width=0.75)"
   ],
   "metadata": {
    "collapsed": false,
    "pycharm": {
     "name": "#%%\n"
    }
   }
  },
  {
   "cell_type": "code",
   "execution_count": 96,
   "outputs": [
    {
     "data": {
      "text/plain": "981"
     },
     "execution_count": 96,
     "metadata": {},
     "output_type": "execute_result"
    }
   ],
   "source": [
    "routes_df['route'].count()"
   ],
   "metadata": {
    "collapsed": false,
    "pycharm": {
     "name": "#%%\n"
    }
   }
  },
  {
   "cell_type": "code",
   "execution_count": 97,
   "outputs": [
    {
     "data": {
      "text/plain": "2"
     },
     "execution_count": 97,
     "metadata": {},
     "output_type": "execute_result"
    }
   ],
   "source": [
    "routes_df.loc[routes_df['route'] == 'WHEEL']['route'].count()"
   ],
   "metadata": {
    "collapsed": false,
    "pycharm": {
     "name": "#%%\n"
    }
   }
  },
  {
   "cell_type": "code",
   "execution_count": 98,
   "outputs": [
    {
     "data": {
      "text/plain": "0.1801488207844621"
     },
     "execution_count": 98,
     "metadata": {},
     "output_type": "execute_result"
    }
   ],
   "source": [
    "7142/39645"
   ],
   "metadata": {
    "collapsed": false,
    "pycharm": {
     "name": "#%%\n"
    }
   }
  },
  {
   "cell_type": "code",
   "execution_count": 99,
   "outputs": [],
   "source": [
    "from sklearn.neural_network import MLPClassifier\n",
    "from sklearn.preprocessing import StandardScaler"
   ],
   "metadata": {
    "collapsed": false,
    "pycharm": {
     "name": "#%%\n"
    }
   }
  },
  {
   "cell_type": "code",
   "execution_count": 100,
   "outputs": [],
   "source": [
    "scaler = StandardScaler()\n",
    "\n",
    "scaler.fit(x_train)\n",
    "x_train2 = scaler.transform(x_train)\n",
    "x_test2 = scaler.transform(x_test)"
   ],
   "metadata": {
    "collapsed": false,
    "pycharm": {
     "name": "#%%\n"
    }
   }
  },
  {
   "cell_type": "code",
   "execution_count": 101,
   "outputs": [
    {
     "data": {
      "text/plain": "MLPClassifier(max_iter=1000, random_state=1, solver='lbfgs')",
      "text/html": "<style>#sk-container-id-3 {color: black;background-color: white;}#sk-container-id-3 pre{padding: 0;}#sk-container-id-3 div.sk-toggleable {background-color: white;}#sk-container-id-3 label.sk-toggleable__label {cursor: pointer;display: block;width: 100%;margin-bottom: 0;padding: 0.3em;box-sizing: border-box;text-align: center;}#sk-container-id-3 label.sk-toggleable__label-arrow:before {content: \"▸\";float: left;margin-right: 0.25em;color: #696969;}#sk-container-id-3 label.sk-toggleable__label-arrow:hover:before {color: black;}#sk-container-id-3 div.sk-estimator:hover label.sk-toggleable__label-arrow:before {color: black;}#sk-container-id-3 div.sk-toggleable__content {max-height: 0;max-width: 0;overflow: hidden;text-align: left;background-color: #f0f8ff;}#sk-container-id-3 div.sk-toggleable__content pre {margin: 0.2em;color: black;border-radius: 0.25em;background-color: #f0f8ff;}#sk-container-id-3 input.sk-toggleable__control:checked~div.sk-toggleable__content {max-height: 200px;max-width: 100%;overflow: auto;}#sk-container-id-3 input.sk-toggleable__control:checked~label.sk-toggleable__label-arrow:before {content: \"▾\";}#sk-container-id-3 div.sk-estimator input.sk-toggleable__control:checked~label.sk-toggleable__label {background-color: #d4ebff;}#sk-container-id-3 div.sk-label input.sk-toggleable__control:checked~label.sk-toggleable__label {background-color: #d4ebff;}#sk-container-id-3 input.sk-hidden--visually {border: 0;clip: rect(1px 1px 1px 1px);clip: rect(1px, 1px, 1px, 1px);height: 1px;margin: -1px;overflow: hidden;padding: 0;position: absolute;width: 1px;}#sk-container-id-3 div.sk-estimator {font-family: monospace;background-color: #f0f8ff;border: 1px dotted black;border-radius: 0.25em;box-sizing: border-box;margin-bottom: 0.5em;}#sk-container-id-3 div.sk-estimator:hover {background-color: #d4ebff;}#sk-container-id-3 div.sk-parallel-item::after {content: \"\";width: 100%;border-bottom: 1px solid gray;flex-grow: 1;}#sk-container-id-3 div.sk-label:hover label.sk-toggleable__label {background-color: #d4ebff;}#sk-container-id-3 div.sk-serial::before {content: \"\";position: absolute;border-left: 1px solid gray;box-sizing: border-box;top: 0;bottom: 0;left: 50%;z-index: 0;}#sk-container-id-3 div.sk-serial {display: flex;flex-direction: column;align-items: center;background-color: white;padding-right: 0.2em;padding-left: 0.2em;position: relative;}#sk-container-id-3 div.sk-item {position: relative;z-index: 1;}#sk-container-id-3 div.sk-parallel {display: flex;align-items: stretch;justify-content: center;background-color: white;position: relative;}#sk-container-id-3 div.sk-item::before, #sk-container-id-3 div.sk-parallel-item::before {content: \"\";position: absolute;border-left: 1px solid gray;box-sizing: border-box;top: 0;bottom: 0;left: 50%;z-index: -1;}#sk-container-id-3 div.sk-parallel-item {display: flex;flex-direction: column;z-index: 1;position: relative;background-color: white;}#sk-container-id-3 div.sk-parallel-item:first-child::after {align-self: flex-end;width: 50%;}#sk-container-id-3 div.sk-parallel-item:last-child::after {align-self: flex-start;width: 50%;}#sk-container-id-3 div.sk-parallel-item:only-child::after {width: 0;}#sk-container-id-3 div.sk-dashed-wrapped {border: 1px dashed gray;margin: 0 0.4em 0.5em 0.4em;box-sizing: border-box;padding-bottom: 0.4em;background-color: white;}#sk-container-id-3 div.sk-label label {font-family: monospace;font-weight: bold;display: inline-block;line-height: 1.2em;}#sk-container-id-3 div.sk-label-container {text-align: center;}#sk-container-id-3 div.sk-container {/* jupyter's `normalize.less` sets `[hidden] { display: none; }` but bootstrap.min.css set `[hidden] { display: none !important; }` so we also need the `!important` here to be able to override the default hidden behavior on the sphinx rendered scikit-learn.org. See: https://github.com/scikit-learn/scikit-learn/issues/21755 */display: inline-block !important;position: relative;}#sk-container-id-3 div.sk-text-repr-fallback {display: none;}</style><div id=\"sk-container-id-3\" class=\"sk-top-container\"><div class=\"sk-text-repr-fallback\"><pre>MLPClassifier(max_iter=1000, random_state=1, solver=&#x27;lbfgs&#x27;)</pre><b>In a Jupyter environment, please rerun this cell to show the HTML representation or trust the notebook. <br />On GitHub, the HTML representation is unable to render, please try loading this page with nbviewer.org.</b></div><div class=\"sk-container\" hidden><div class=\"sk-item\"><div class=\"sk-estimator sk-toggleable\"><input class=\"sk-toggleable__control sk-hidden--visually\" id=\"sk-estimator-id-3\" type=\"checkbox\" checked><label for=\"sk-estimator-id-3\" class=\"sk-toggleable__label sk-toggleable__label-arrow\">MLPClassifier</label><div class=\"sk-toggleable__content\"><pre>MLPClassifier(max_iter=1000, random_state=1, solver=&#x27;lbfgs&#x27;)</pre></div></div></div></div></div>"
     },
     "execution_count": 101,
     "metadata": {},
     "output_type": "execute_result"
    }
   ],
   "source": [
    "clf2 = MLPClassifier(solver='lbfgs', random_state=1, max_iter=1000)\n",
    "clf2.fit(x_train2, y_train)"
   ],
   "metadata": {
    "collapsed": false,
    "pycharm": {
     "name": "#%%\n"
    }
   }
  },
  {
   "cell_type": "code",
   "execution_count": 192,
   "outputs": [],
   "source": [
    "predicted2 = clf2.predict(x_test2)"
   ],
   "metadata": {
    "collapsed": false,
    "pycharm": {
     "name": "#%%\n"
    }
   }
  },
  {
   "cell_type": "code",
   "execution_count": 103,
   "outputs": [
    {
     "name": "stdout",
     "output_type": "stream",
     "text": [
      "Classification report for classifier MLPClassifier(max_iter=1000, random_state=1, solver='lbfgs'):\n",
      "              precision    recall  f1-score   support\n",
      "\n",
      "       ANGLE       0.36      0.36      0.36        25\n",
      "      CORNER       0.05      0.05      0.05        22\n",
      "       CROSS       0.36      0.16      0.23        49\n",
      "        FLAT       0.61      0.72      0.66        71\n",
      "          GO       0.36      0.30      0.33       117\n",
      "       HITCH       0.33      0.39      0.35       111\n",
      "          IN       0.16      0.28      0.20        39\n",
      "         OUT       0.29      0.27      0.28        55\n",
      "        POST       0.20      0.20      0.20        30\n",
      "      SCREEN       0.39      0.23      0.29        30\n",
      "       SLANT       0.19      0.22      0.21        36\n",
      "   undefined       0.00      0.00      0.00         4\n",
      "\n",
      "    accuracy                           0.33       589\n",
      "   macro avg       0.28      0.27      0.26       589\n",
      "weighted avg       0.33      0.33      0.32       589\n",
      "\n",
      "\n"
     ]
    },
    {
     "name": "stderr",
     "output_type": "stream",
     "text": [
      "/Users/spencer/PycharmProjects/cosc301/venv/lib/python3.9/site-packages/sklearn/metrics/_classification.py:1327: UndefinedMetricWarning: Precision and F-score are ill-defined and being set to 0.0 in labels with no predicted samples. Use `zero_division` parameter to control this behavior.\n",
      "  _warn_prf(average, modifier, msg_start, len(result))\n",
      "/Users/spencer/PycharmProjects/cosc301/venv/lib/python3.9/site-packages/sklearn/metrics/_classification.py:1327: UndefinedMetricWarning: Precision and F-score are ill-defined and being set to 0.0 in labels with no predicted samples. Use `zero_division` parameter to control this behavior.\n",
      "  _warn_prf(average, modifier, msg_start, len(result))\n",
      "/Users/spencer/PycharmProjects/cosc301/venv/lib/python3.9/site-packages/sklearn/metrics/_classification.py:1327: UndefinedMetricWarning: Precision and F-score are ill-defined and being set to 0.0 in labels with no predicted samples. Use `zero_division` parameter to control this behavior.\n",
      "  _warn_prf(average, modifier, msg_start, len(result))\n"
     ]
    }
   ],
   "source": [
    "print(\n",
    "    f'Classification report for classifier {clf2}:\\n'\n",
    "    f'{metrics.classification_report(y_test, predicted2)}\\n'\n",
    ")"
   ],
   "metadata": {
    "collapsed": false,
    "pycharm": {
     "name": "#%%\n"
    }
   }
  },
  {
   "cell_type": "code",
   "execution_count": 104,
   "outputs": [
    {
     "name": "stdout",
     "output_type": "stream",
     "text": [
      "Confusion Matrix:\n",
      "[[ 9  0  1  3  3  4  0  2  1  1  1  0]\n",
      " [ 0  1  0  0  5  5  8  1  2  0  0  0]\n",
      " [ 0  1  8  4  3 10  5  3  1  4 10  0]\n",
      " [ 5  0  4 51  1  0  0  4  0  6  0  0]\n",
      " [ 2  9  0  5 35 28 10 17  9  0  2  0]\n",
      " [ 2  2  4  3 21 43 10  4  6  0 16  0]\n",
      " [ 1  1  0  1  5 13 11  0  3  0  4  0]\n",
      " [ 2  2  2  6 15  6  5 15  2  0  0  0]\n",
      " [ 0  3  0  0  5  7  8  1  6  0  0  0]\n",
      " [ 3  0  2  9  2  2  1  3  0  7  1  0]\n",
      " [ 1  0  1  1  1 12 11  1  0  0  8  0]\n",
      " [ 0  0  0  1  0  2  0  1  0  0  0  0]]\n"
     ]
    },
    {
     "data": {
      "text/plain": "<Figure size 432x288 with 2 Axes>",
      "image/png": "[encoded data removed]"
     },
     "metadata": {
      "needs_background": "light"
     },
     "output_type": "display_data"
    }
   ],
   "source": [
    "disp2 = metrics.ConfusionMatrixDisplay.from_predictions(y_test, predicted2)\n",
    "disp2.figure_.suptitle('Confusion Matrix')\n",
    "print(f'Confusion Matrix:\\n{disp2.confusion_matrix}')\n",
    "plt.show()"
   ],
   "metadata": {
    "collapsed": false,
    "pycharm": {
     "name": "#%%\n"
    }
   }
  },
  {
   "cell_type": "code",
   "execution_count": 105,
   "outputs": [],
   "source": [
    "from sklearn.ensemble import RandomForestClassifier\n",
    "model = RandomForestClassifier()"
   ],
   "metadata": {
    "collapsed": false,
    "pycharm": {
     "name": "#%%\n"
    }
   }
  },
  {
   "cell_type": "code",
   "execution_count": 106,
   "outputs": [
    {
     "data": {
      "text/plain": "RandomForestClassifier()",
      "text/html": "<style>#sk-container-id-4 {color: black;background-color: white;}#sk-container-id-4 pre{padding: 0;}#sk-container-id-4 div.sk-toggleable {background-color: white;}#sk-container-id-4 label.sk-toggleable__label {cursor: pointer;display: block;width: 100%;margin-bottom: 0;padding: 0.3em;box-sizing: border-box;text-align: center;}#sk-container-id-4 label.sk-toggleable__label-arrow:before {content: \"▸\";float: left;margin-right: 0.25em;color: #696969;}#sk-container-id-4 label.sk-toggleable__label-arrow:hover:before {color: black;}#sk-container-id-4 div.sk-estimator:hover label.sk-toggleable__label-arrow:before {color: black;}#sk-container-id-4 div.sk-toggleable__content {max-height: 0;max-width: 0;overflow: hidden;text-align: left;background-color: #f0f8ff;}#sk-container-id-4 div.sk-toggleable__content pre {margin: 0.2em;color: black;border-radius: 0.25em;background-color: #f0f8ff;}#sk-container-id-4 input.sk-toggleable__control:checked~div.sk-toggleable__content {max-height: 200px;max-width: 100%;overflow: auto;}#sk-container-id-4 input.sk-toggleable__control:checked~label.sk-toggleable__label-arrow:before {content: \"▾\";}#sk-container-id-4 div.sk-estimator input.sk-toggleable__control:checked~label.sk-toggleable__label {background-color: #d4ebff;}#sk-container-id-4 div.sk-label input.sk-toggleable__control:checked~label.sk-toggleable__label {background-color: #d4ebff;}#sk-container-id-4 input.sk-hidden--visually {border: 0;clip: rect(1px 1px 1px 1px);clip: rect(1px, 1px, 1px, 1px);height: 1px;margin: -1px;overflow: hidden;padding: 0;position: absolute;width: 1px;}#sk-container-id-4 div.sk-estimator {font-family: monospace;background-color: #f0f8ff;border: 1px dotted black;border-radius: 0.25em;box-sizing: border-box;margin-bottom: 0.5em;}#sk-container-id-4 div.sk-estimator:hover {background-color: #d4ebff;}#sk-container-id-4 div.sk-parallel-item::after {content: \"\";width: 100%;border-bottom: 1px solid gray;flex-grow: 1;}#sk-container-id-4 div.sk-label:hover label.sk-toggleable__label {background-color: #d4ebff;}#sk-container-id-4 div.sk-serial::before {content: \"\";position: absolute;border-left: 1px solid gray;box-sizing: border-box;top: 0;bottom: 0;left: 50%;z-index: 0;}#sk-container-id-4 div.sk-serial {display: flex;flex-direction: column;align-items: center;background-color: white;padding-right: 0.2em;padding-left: 0.2em;position: relative;}#sk-container-id-4 div.sk-item {position: relative;z-index: 1;}#sk-container-id-4 div.sk-parallel {display: flex;align-items: stretch;justify-content: center;background-color: white;position: relative;}#sk-container-id-4 div.sk-item::before, #sk-container-id-4 div.sk-parallel-item::before {content: \"\";position: absolute;border-left: 1px solid gray;box-sizing: border-box;top: 0;bottom: 0;left: 50%;z-index: -1;}#sk-container-id-4 div.sk-parallel-item {display: flex;flex-direction: column;z-index: 1;position: relative;background-color: white;}#sk-container-id-4 div.sk-parallel-item:first-child::after {align-self: flex-end;width: 50%;}#sk-container-id-4 div.sk-parallel-item:last-child::after {align-self: flex-start;width: 50%;}#sk-container-id-4 div.sk-parallel-item:only-child::after {width: 0;}#sk-container-id-4 div.sk-dashed-wrapped {border: 1px dashed gray;margin: 0 0.4em 0.5em 0.4em;box-sizing: border-box;padding-bottom: 0.4em;background-color: white;}#sk-container-id-4 div.sk-label label {font-family: monospace;font-weight: bold;display: inline-block;line-height: 1.2em;}#sk-container-id-4 div.sk-label-container {text-align: center;}#sk-container-id-4 div.sk-container {/* jupyter's `normalize.less` sets `[hidden] { display: none; }` but bootstrap.min.css set `[hidden] { display: none !important; }` so we also need the `!important` here to be able to override the default hidden behavior on the sphinx rendered scikit-learn.org. See: https://github.com/scikit-learn/scikit-learn/issues/21755 */display: inline-block !important;position: relative;}#sk-container-id-4 div.sk-text-repr-fallback {display: none;}</style><div id=\"sk-container-id-4\" class=\"sk-top-container\"><div class=\"sk-text-repr-fallback\"><pre>RandomForestClassifier()</pre><b>In a Jupyter environment, please rerun this cell to show the HTML representation or trust the notebook. <br />On GitHub, the HTML representation is unable to render, please try loading this page with nbviewer.org.</b></div><div class=\"sk-container\" hidden><div class=\"sk-item\"><div class=\"sk-estimator sk-toggleable\"><input class=\"sk-toggleable__control sk-hidden--visually\" id=\"sk-estimator-id-4\" type=\"checkbox\" checked><label for=\"sk-estimator-id-4\" class=\"sk-toggleable__label sk-toggleable__label-arrow\">RandomForestClassifier</label><div class=\"sk-toggleable__content\"><pre>RandomForestClassifier()</pre></div></div></div></div></div>"
     },
     "execution_count": 106,
     "metadata": {},
     "output_type": "execute_result"
    }
   ],
   "source": [
    "model.fit(x_train2, y_train)"
   ],
   "metadata": {
    "collapsed": false,
    "pycharm": {
     "name": "#%%\n"
    }
   }
  },
  {
   "cell_type": "code",
   "execution_count": 107,
   "outputs": [],
   "source": [
    "y_pred = model.predict(x_test2)"
   ],
   "metadata": {
    "collapsed": false,
    "pycharm": {
     "name": "#%%\n"
    }
   }
  },
  {
   "cell_type": "code",
   "execution_count": 108,
   "outputs": [],
   "source": [
    "from sklearn.metrics import accuracy_score,confusion_matrix,classification_report"
   ],
   "metadata": {
    "collapsed": false,
    "pycharm": {
     "name": "#%%\n"
    }
   }
  },
  {
   "cell_type": "code",
   "execution_count": 109,
   "outputs": [
    {
     "name": "stdout",
     "output_type": "stream",
     "text": [
      "              precision    recall  f1-score   support\n",
      "\n",
      "       ANGLE       0.36      0.36      0.36        25\n",
      "      CORNER       0.00      0.00      0.00         4\n",
      "       CROSS       0.33      0.44      0.38        36\n",
      "        FLAT       0.73      0.52      0.61       100\n",
      "          GO       0.56      0.50      0.53       132\n",
      "       HITCH       0.59      0.52      0.55       128\n",
      "          IN       0.10      0.14      0.12        29\n",
      "         OUT       0.31      0.39      0.34        44\n",
      "        POST       0.30      0.35      0.32        26\n",
      "      SCREEN       0.27      0.50      0.35        16\n",
      "       SLANT       0.44      0.33      0.38        48\n",
      "       WHEEL       0.00      0.00      0.00         1\n",
      "   undefined       0.00      0.00      0.00         0\n",
      "\n",
      "    accuracy                           0.45       589\n",
      "   macro avg       0.31      0.31      0.30       589\n",
      "weighted avg       0.50      0.45      0.47       589\n",
      "\n"
     ]
    },
    {
     "name": "stderr",
     "output_type": "stream",
     "text": [
      "/Users/spencer/PycharmProjects/cosc301/venv/lib/python3.9/site-packages/sklearn/metrics/_classification.py:1327: UndefinedMetricWarning: Precision and F-score are ill-defined and being set to 0.0 in labels with no predicted samples. Use `zero_division` parameter to control this behavior.\n",
      "  _warn_prf(average, modifier, msg_start, len(result))\n",
      "/Users/spencer/PycharmProjects/cosc301/venv/lib/python3.9/site-packages/sklearn/metrics/_classification.py:1327: UndefinedMetricWarning: Recall and F-score are ill-defined and being set to 0.0 in labels with no true samples. Use `zero_division` parameter to control this behavior.\n",
      "  _warn_prf(average, modifier, msg_start, len(result))\n",
      "/Users/spencer/PycharmProjects/cosc301/venv/lib/python3.9/site-packages/sklearn/metrics/_classification.py:1327: UndefinedMetricWarning: Precision and F-score are ill-defined and being set to 0.0 in labels with no predicted samples. Use `zero_division` parameter to control this behavior.\n",
      "  _warn_prf(average, modifier, msg_start, len(result))\n",
      "/Users/spencer/PycharmProjects/cosc301/venv/lib/python3.9/site-packages/sklearn/metrics/_classification.py:1327: UndefinedMetricWarning: Recall and F-score are ill-defined and being set to 0.0 in labels with no true samples. Use `zero_division` parameter to control this behavior.\n",
      "  _warn_prf(average, modifier, msg_start, len(result))\n",
      "/Users/spencer/PycharmProjects/cosc301/venv/lib/python3.9/site-packages/sklearn/metrics/_classification.py:1327: UndefinedMetricWarning: Precision and F-score are ill-defined and being set to 0.0 in labels with no predicted samples. Use `zero_division` parameter to control this behavior.\n",
      "  _warn_prf(average, modifier, msg_start, len(result))\n",
      "/Users/spencer/PycharmProjects/cosc301/venv/lib/python3.9/site-packages/sklearn/metrics/_classification.py:1327: UndefinedMetricWarning: Recall and F-score are ill-defined and being set to 0.0 in labels with no true samples. Use `zero_division` parameter to control this behavior.\n",
      "  _warn_prf(average, modifier, msg_start, len(result))\n"
     ]
    }
   ],
   "source": [
    "accuracy_score(y_pred, y_test)\n",
    "print(classification_report(y_pred, y_test))"
   ],
   "metadata": {
    "collapsed": false,
    "pycharm": {
     "name": "#%%\n"
    }
   }
  },
  {
   "cell_type": "code",
   "execution_count": 110,
   "outputs": [
    {
     "data": {
      "text/plain": "array([[ 9,  0,  1,  5,  1,  4,  0,  3,  0,  1,  1,  0,  0],\n       [ 0,  0,  2,  0,  1,  0,  0,  0,  1,  0,  0,  0,  0],\n       [ 1,  1, 16,  4,  3,  5,  0,  1,  0,  3,  2,  0,  0],\n       [ 4,  0, 10, 52,  9,  4,  1,  6,  0, 11,  2,  0,  1],\n       [ 2,  9,  3,  2, 66,  6,  7, 17, 14,  2,  3,  0,  1],\n       [ 2,  4,  9,  1, 11, 66, 15,  6,  3,  2,  9,  0,  0],\n       [ 1,  2,  1,  0,  5,  9,  4,  1,  2,  1,  3,  0,  0],\n       [ 2,  1,  1,  3, 11,  5,  2, 17,  0,  1,  0,  0,  1],\n       [ 0,  4,  1,  0,  6,  1,  3,  2,  9,  0,  0,  0,  0],\n       [ 1,  0,  2,  4,  0,  0,  0,  1,  0,  8,  0,  0,  0],\n       [ 3,  1,  3,  0,  3, 11,  7,  1,  1,  1, 16,  0,  1],\n       [ 0,  0,  0,  0,  1,  0,  0,  0,  0,  0,  0,  0,  0],\n       [ 0,  0,  0,  0,  0,  0,  0,  0,  0,  0,  0,  0,  0]])"
     },
     "execution_count": 110,
     "metadata": {},
     "output_type": "execute_result"
    }
   ],
   "source": [
    "confusion_matrix(y_pred, y_test)"
   ],
   "metadata": {
    "collapsed": false,
    "pycharm": {
     "name": "#%%\n"
    }
   }
  },
  {
   "cell_type": "code",
   "execution_count": null,
   "outputs": [],
   "source": [
    "classes = {}\n",
    "index = 0\n",
    "for route in routes_df['route'].unique().tolist():\n",
    "    classes[index] = route\n",
    "    index += 1\n",
    "classes"
   ],
   "metadata": {
    "collapsed": false,
    "pycharm": {
     "name": "#%%\n"
    }
   }
  },
  {
   "cell_type": "code",
   "execution_count": null,
   "outputs": [],
   "source": [
    "route_idx = {}\n",
    "for idx, value in classes.items():\n",
    "    route_idx[value] = idx\n",
    "route_idx"
   ],
   "metadata": {
    "collapsed": false,
    "pycharm": {
     "name": "#%%\n"
    }
   }
  },
  {
   "cell_type": "code",
   "execution_count": null,
   "outputs": [],
   "source": [
    "routes_df['route_int'] = routes_df['route'].apply(lambda x: route_idx[x])\n",
    "routes_df.head()"
   ],
   "metadata": {
    "collapsed": false,
    "pycharm": {
     "name": "#%%\n"
    }
   }
  },
  {
   "cell_type": "code",
   "execution_count": null,
   "outputs": [],
   "source": [
    "import torch\n",
    "from torch import nn\n",
    "\n",
    "# Create device agnostic code\n",
    "if torch.cuda.is_available():\n",
    "    device = \"cuda\"\n",
    "elif torch.backends.mps.is_available():\n",
    "    device = \"mps\"\n",
    "else:\n",
    "    device = \"cpu\"\n",
    "device"
   ],
   "metadata": {
    "collapsed": false,
    "pycharm": {
     "name": "#%%\n"
    }
   }
  },
  {
   "cell_type": "code",
   "execution_count": null,
   "outputs": [],
   "source": [
    "class MultiClassModel(nn.Module):\n",
    "    def __init__(self, input_features, output_features, hidden_units=0):\n",
    "        super().__init__()\n",
    "        self.linear_layer_stack = nn.Sequential(\n",
    "            nn.Linear(in_features=input_features, out_features=hidden_units),\n",
    "            nn.ReLU(),\n",
    "            nn.Linear(in_features=hidden_units, out_features=hidden_units),\n",
    "            nn.ReLU(),\n",
    "            nn.Linear(in_features=hidden_units, out_features=output_features),\n",
    "        )\n",
    "\n",
    "    def forward(self, x):\n",
    "        return self.linear_layer_stack(x)\n",
    "\n",
    "def accuracy_fn(y_true, y_pred):\n",
    "    correct = torch.eq(y_true, y_pred).sum().item()\n",
    "    acc = (correct/ len(y_pred)) * 100\n",
    "    return acc\n",
    "\n",
    "mc_model = MultiClassModel(input_features=x_dim*y_dim, output_features=len(classes), hidden_units=1024).to(device)\n",
    "\n",
    "loss_fn = nn.CrossEntropyLoss()\n",
    "optimiser = torch.optim.SGD(mc_model.parameters(), lr=1)"
   ],
   "metadata": {
    "collapsed": false,
    "pycharm": {
     "name": "#%%\n"
    }
   }
  },
  {
   "cell_type": "code",
   "execution_count": null,
   "outputs": [],
   "source": [
    "# Split data into 50% train and 50% test subsets\n",
    "x_train, x_test, y_train, y_test = train_test_split(grids, routes_df['route_int'], test_size=0.2, shuffle=False, random_state=1)\n",
    "\n",
    "torch.manual_seed(42)\n",
    "epochs = 500\n",
    "\n",
    "x_train, y_train = torch.as_tensor(x_train).float().to(device), torch.as_tensor(y_train.to_numpy()).to(device)\n",
    "x_test, y_test = torch.as_tensor(x_test).float().to(device), torch.as_tensor(y_test.to_numpy()).to(device)\n",
    "\n",
    "for epoch in range(epochs):\n",
    "    ### Training\n",
    "    mc_model.train()\n",
    "\n",
    "    # 1. Forward Pass\n",
    "    y_logits = mc_model(x_train)\n",
    "    y_pred = torch.softmax(y_logits, dim=1).argmax(dim=1)\n",
    "\n",
    "    # 2. Calculate loss and energy\n",
    "    loss = loss_fn(y_logits, y_train)\n",
    "    acc = accuracy_fn(y_true=y_train, y_pred=y_pred)\n",
    "\n",
    "    # 3. Optimiser zero grad (clear gradients)\n",
    "    optimiser.zero_grad()\n",
    "\n",
    "    # 4. Loss backwards\n",
    "    loss.backward()\n",
    "\n",
    "    # 5. Optimiser step\n",
    "    optimiser.step()\n",
    "\n",
    "    ### Testing\n",
    "    mc_model.eval()\n",
    "    with torch.inference_mode():\n",
    "      # 1. Forward pass\n",
    "      test_logits = mc_model(x_test)\n",
    "      test_pred = torch.softmax(test_logits, dim=1).argmax(dim=1)\n",
    "      # 2. Calculate test loss and accuracy\n",
    "      test_loss = loss_fn(test_logits, y_test)\n",
    "      test_acc = accuracy_fn(y_true=y_test,\n",
    "                             y_pred=test_pred)\n",
    "\n",
    "    # Print out what's happening\n",
    "    if epoch % 10 == 0:\n",
    "        print(f\"Epoch: {epoch} | Loss: {loss:.5f}, Acc: {acc:.2f}% | Test Loss: {test_loss:.5f}, Test Acc: {test_acc:.2f}%\")"
   ],
   "metadata": {
    "collapsed": false,
    "pycharm": {
     "name": "#%%\n"
    }
   }
  },
  {
   "cell_type": "code",
   "execution_count": null,
   "outputs": [],
   "source": [
    "mc_model.eval()\n",
    "with torch.inference_mode():\n",
    "    y_logits = mc_model(x_test)\n",
    "\n",
    "y_pred_probs = torch.softmax(y_logits, dim=1)\n",
    "y_preds = y_pred_probs.argmax(dim=1)\n",
    "\n",
    "#print(f'Predictions: {y_preds}\\nLabels: {y_test}')\n",
    "print(f'Test accuracy: {accuracy_fn(y_true=y_test, y_pred=y_preds):.2f}%')"
   ],
   "metadata": {
    "collapsed": false,
    "pycharm": {
     "name": "#%%\n"
    }
   }
  },
  {
   "cell_type": "code",
   "execution_count": null,
   "outputs": [],
   "source": [
    "print(\n",
    "    f'Classification report for classifier {mc_model}:\\n'\n",
    "    f'{metrics.classification_report(y_test.cpu(), y_preds.cpu())}\\n'\n",
    ")"
   ],
   "metadata": {
    "collapsed": false,
    "pycharm": {
     "name": "#%%\n"
    }
   }
  },
  {
   "cell_type": "code",
   "execution_count": null,
   "outputs": [],
   "source": [
    "disp2 = metrics.ConfusionMatrixDisplay.from_predictions(y_test.cpu(), y_preds.cpu())\n",
    "disp2.figure_.suptitle('Confusion Matrix')\n",
    "print(f'Confusion Matrix:\\n{disp2.confusion_matrix}')\n",
    "plt.xlabel(classes)\n",
    "plt.show()"
   ],
   "metadata": {
    "collapsed": false,
    "pycharm": {
     "name": "#%%\n"
    }
   }
  },
  {
   "cell_type": "code",
   "execution_count": null,
   "outputs": [],
   "source": [],
   "metadata": {
    "collapsed": false,
    "pycharm": {
     "name": "#%%\n"
    }
   }
  }
 ],
 "metadata": {
  "kernelspec": {
   "display_name": "Python 3",
   "language": "python",
   "name": "python3"
  },
  "language_info": {
   "codemirror_mode": {
    "name": "ipython",
    "version": 2
   },
   "file_extension": ".py",
   "mimetype": "text/x-python",
   "name": "python",
   "nbconvert_exporter": "python",
   "pygments_lexer": "ipython2",
   "version": "2.7.6"
  }
 },
 "nbformat": 4,
 "nbformat_minor": 0
}