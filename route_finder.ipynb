{
 "cells": [
  {
   "cell_type": "code",
   "execution_count": 1,
   "outputs": [],
   "source": [
    "import pandas as pd\n",
    "import numpy as np\n",
    "import matplotlib.pyplot as plt\n",
    "\n",
    "from sklearn import datasets, svm, metrics\n",
    "from sklearn.model_selection import train_test_split\n",
    "\n",
    "import ray\n",
    "import time\n",
    "from sklearn.neural_network import MLPClassifier\n",
    "from sklearn.preprocessing import StandardScaler\n",
    "from sklearn.ensemble import RandomForestClassifier\n",
    "import torch\n",
    "from torch import nn\n",
    "from sklearn.metrics import accuracy_score,confusion_matrix,classification_report"
   ],
   "metadata": {
    "collapsed": false,
    "pycharm": {
     "name": "#%%\n"
    }
   }
  },
  {
   "cell_type": "code",
   "execution_count": 2,
   "outputs": [],
   "source": [
    "def define_pandas_options():\n",
    "    pd.set_option('display.max_rows', None)\n",
    "    pd.set_option('display.max_columns', None)\n",
    "    pd.set_option('display.width', None)\n",
    "    pd.set_option('display.max_colwidth', None)\n",
    "    pd.set_option('display.float_format', lambda x: '%.5f' % x)"
   ],
   "metadata": {
    "collapsed": false,
    "pycharm": {
     "name": "#%%\n"
    }
   }
  },
  {
   "cell_type": "code",
   "execution_count": 3,
   "outputs": [],
   "source": [
    "def string_to_vector(s):\n",
    "    try:\n",
    "        s = s.split('[')[1].split(']')[0]\n",
    "        x = float(s.split()[0])\n",
    "        y = float(s.split()[1])\n",
    "        return np.array([x, y])\n",
    "    except AttributeError:\n",
    "        return None\n",
    "\n",
    "def get_position_delta(row):\n",
    "    return row.s / 10 * row.dir_vec\n",
    "\n",
    "def get_relative_position(row):\n",
    "    if row.frameId == 1:\n",
    "        return np.array([0, 0])\n",
    "    else:\n",
    "        last_pos = row.shift(1).rel_pos\n",
    "        return last_pos + row.pos_delta"
   ],
   "metadata": {
    "collapsed": false,
    "pycharm": {
     "name": "#%%\n"
    }
   }
  },
  {
   "cell_type": "markdown",
   "source": [
    "# Prep data"
   ],
   "metadata": {
    "collapsed": false,
    "pycharm": {
     "name": "#%% md\n"
    }
   }
  },
  {
   "cell_type": "code",
   "execution_count": 4,
   "outputs": [],
   "source": [
    "prog_start = time.time()"
   ],
   "metadata": {
    "collapsed": false,
    "pycharm": {
     "name": "#%%\n"
    }
   }
  },
  {
   "cell_type": "code",
   "execution_count": 5,
   "outputs": [],
   "source": [
    "pl_cols = ['gameId', 'playId', 'offense_h_play', 'offense_h_presnap', 'offense_h_to_throw', 'offense_h_to_arrived', 'offense_h_to_end', 'defense_h_play', 'defense_h_presnap', 'defense_h_to_throw', 'defense_h_to_arrived', 'defense_h_to_end', 'offense_p_play', 'offense_p_presnap', 'offense_p_to_throw', 'offense_p_to_arrived', 'offense_p_to_end', 'offense_m_play', 'offense_m_presnap', 'offense_m_to_throw', 'offense_m_to_arrived', 'offense_m_to_end', 'offense_v_play', 'offense_v_presnap', 'offense_v_to_throw', 'offense_v_to_arrived', 'offense_v_to_end', 'offense_a_play', 'offense_a_presnap', 'offense_a_to_throw', 'offense_a_to_arrived','offense_a_to_end', 'defense_p_play', 'defense_p_presnap','defense_p_to_throw', 'defense_p_to_arrived', 'defense_p_to_end','defense_m_play', 'defense_m_presnap', 'defense_m_to_throw','defense_m_to_arrived', 'defense_m_to_end', 'defense_v_play', 'defense_v_presnap', 'defense_v_to_throw', 'defense_v_to_arrived','defense_v_to_end', 'defense_a_play', 'defense_a_presnap','defense_a_to_throw', 'defense_a_to_arrived', 'defense_a_to_end','HITCH', 'OUT', 'FLAT', 'CROSS', 'GO', 'SLANT', 'SCREEN', 'CORNER', 'IN', 'ANGLE', 'POST', 'WHEEL']\n",
    "\n",
    "play_df = pd.read_csv('d20_intermediate_files/play_results.csv', usecols=pl_cols)\n",
    "play_df['num_routes'] = play_df[['HITCH', 'OUT', 'FLAT', 'CROSS', 'GO', 'SLANT', 'SCREEN', 'CORNER', 'IN', 'ANGLE', 'POST', 'WHEEL']].T.sum()\n",
    "play_df.drop(play_df[play_df['num_routes'] == 0].index, inplace=True)\n",
    "play_df.dropna(inplace=True)\n",
    "\n",
    "fr_cols = ['gameId', 'playId', 'frameId', 'offense_p_group', 'defense_p_group', 'offense_m_group', 'defense_m_group', 'o_state', 'd_state', 'offense_v_group', 'defense_v_group', 'offense_a_group', 'defense_a_group', 'a_group_ratio']\n",
    "frame_df = pd.read_csv('d20_intermediate_files/frame_results.csv', usecols=fr_cols)\n",
    "\n",
    "tr_cols = ['time', 's', 'a', 'dis', 'event', 'nflId', 'displayName', 'jerseyNumber', 'position', 'frameId', 'team', 'gameId', 'playId', 'playDirection', 'route', 'pos', 'teamType', 'o_vec', 'dir_vec', 'r_vec']\n",
    "tracking_df = pd.read_csv('d20_intermediate_files/tracking_results.csv', usecols=tr_cols)"
   ],
   "metadata": {
    "collapsed": false,
    "pycharm": {
     "name": "#%%\n"
    }
   }
  },
  {
   "cell_type": "code",
   "execution_count": 6,
   "outputs": [],
   "source": [
    "route_types = ['HITCH', 'OUT', 'FLAT', 'CROSS', 'GO', 'SLANT', 'SCREEN', 'CORNER', 'IN', 'ANGLE', 'POST', 'WHEEL']\n",
    "runners = tracking_df.loc[(tracking_df['position'].isin(['QB', 'WR', 'RB', 'TE']))].copy()\n",
    "del tracking_df"
   ],
   "metadata": {
    "collapsed": false,
    "pycharm": {
     "name": "#%%\n"
    }
   }
  },
  {
   "cell_type": "code",
   "execution_count": 7,
   "outputs": [],
   "source": [
    "runners['pos'] = runners['pos'].apply(string_to_vector)\n",
    "runners['o_vec'] = runners['o_vec'].apply(string_to_vector)\n",
    "runners['dir_vec'] = runners['dir_vec'].apply(string_to_vector)\n",
    "runners['r_vec'] = runners['r_vec'].apply(string_to_vector)\n",
    "runners['gpid'] = runners.apply(lambda x: str(x.gameId) + '-' + str(x.playId), axis=1)"
   ],
   "metadata": {
    "collapsed": false,
    "pycharm": {
     "name": "#%%\n"
    }
   }
  },
  {
   "cell_type": "code",
   "execution_count": 8,
   "outputs": [],
   "source": [
    "qb_positions = runners.loc[(runners['frameId'] == 1) & (runners['position'] == 'QB')][['gpid', 'pos']].copy()"
   ],
   "metadata": {
    "collapsed": false,
    "pycharm": {
     "name": "#%%\n"
    }
   }
  },
  {
   "cell_type": "code",
   "execution_count": 9,
   "outputs": [],
   "source": [
    "indexNames = runners[runners['route'] == 'undefined'].index\n",
    "indexNames\n",
    "# Delete these row indexes from dataFrame\n",
    "runners.drop(indexNames , inplace=True)"
   ],
   "metadata": {
    "collapsed": false,
    "pycharm": {
     "name": "#%%\n"
    }
   }
  },
  {
   "cell_type": "code",
   "execution_count": 10,
   "outputs": [],
   "source": [
    "runners = runners.loc[(~runners['route'].isna())]"
   ],
   "metadata": {
    "collapsed": false,
    "pycharm": {
     "name": "#%%\n"
    }
   }
  },
  {
   "cell_type": "code",
   "execution_count": 11,
   "outputs": [],
   "source": [
    "# Convert nan forced floats to ints and NA\n",
    "runners['nflId'] = runners['nflId'].astype('Int64')\n",
    "runners['jerseyNumber'] = runners['jerseyNumber'].astype('Int64')"
   ],
   "metadata": {
    "collapsed": false,
    "pycharm": {
     "name": "#%%\n"
    }
   }
  },
  {
   "cell_type": "code",
   "execution_count": 12,
   "outputs": [],
   "source": [
    "gpids = runners['gpid'].unique().tolist()"
   ],
   "metadata": {
    "collapsed": false,
    "pycharm": {
     "name": "#%%\n"
    }
   }
  },
  {
   "cell_type": "code",
   "execution_count": 13,
   "outputs": [],
   "source": [
    "@ray.remote\n",
    "def process_data(dataset, qb_positions):\n",
    "    routes_df = pd.DataFrame(columns=['gpid', 'nflId', 'route', 'pos'])\n",
    "    index = 0\n",
    "    end_events = ['pass_arrived', 'pass_outcome_caught', 'out_of_bounds',\n",
    "                       'pass_outcome_incomplete', 'first_contact', 'tackle', 'man_in_motion', 'play_action', 'handoff',\n",
    "                       'pass_tipped', 'pass_outcome_interception', 'pass_shovel', 'line_set', 'pass_outcome_touchdown',\n",
    "                       'fumble', 'fumble_offense_recovered', 'fumble_defense_recovered', 'touchdown', 'shift',\n",
    "                       'touchback', 'penalty_flag', 'penalty_accepted', 'field_goal_blocked']\n",
    "\n",
    "    gpids = dataset['gpid'].unique().tolist()\n",
    "    for gpid in gpids:\n",
    "        try:\n",
    "            df = dataset.loc[dataset['gpid'] == gpid]\n",
    "            players = df['nflId'].unique().tolist()\n",
    "            centre_pos = qb_positions.loc[(qb_positions['gpid'] == gpid)]['pos'].values[0][1]\n",
    "            for player in players:\n",
    "                player_df = df.loc[(df['nflId'] == player)]\n",
    "                if player > 0:\n",
    "                    start_frame = player_df.loc[player_df['event'] == 'ball_snap']['frameId'].min()\n",
    "                    end_frame = player_df.loc[player_df['event'].isin(end_events)]['frameId'].min()\n",
    "                    if end_frame > start_frame:\n",
    "                        positions = []\n",
    "                        start_pos = player_df.loc[(player_df['frameId'] == start_frame)]['pos'].values[0]\n",
    "                        flip_arr = True if start_pos[1] < centre_pos else False\n",
    "                        for frame in range(start_frame + 1, end_frame + 1):\n",
    "                            # positions.append(player_df.loc[(player_df['frameId'] == frame)]['pos'].values[0].tolist())\n",
    "                            new_pos = player_df.loc[(player_df['frameId'] == frame)]['pos'].values[0].tolist()\n",
    "                            if flip_arr: new_pos[1] = new_pos[1] * -1\n",
    "                            new_pos.append(player_df.loc[(player_df['frameId'] == frame)]['s'].values[0])\n",
    "                            positions.append(new_pos)\n",
    "                        positions = np.array(positions)\n",
    "                        routes_df.loc[index] = {\n",
    "                            'gpid': str(gpid),\n",
    "                            'nflId': int(player),\n",
    "                            'route': str(player_df.loc[(player_df['frameId'] == 1)]['route'].values[0]),\n",
    "                            'pos': positions - positions[0]\n",
    "                        }\n",
    "                        index += 1\n",
    "        except IndexError:\n",
    "            print(f'Data error for gpid {gpid}, player {player} (Start {start_frame} | End {end_frame})')\n",
    "    return routes_df"
   ],
   "metadata": {
    "collapsed": false,
    "pycharm": {
     "name": "#%%\n"
    }
   }
  },
  {
   "cell_type": "code",
   "execution_count": 14,
   "outputs": [
    {
     "data": {
      "text/plain": "RayContext(dashboard_url='', python_version='3.9.12', ray_version='1.12.0', ray_commit='f18fc31c7562990955556899090f8e8656b48d2d', address_info={'node_ip_address': '192.168.1.95', 'raylet_ip_address': '192.168.1.95', 'redis_address': None, 'object_store_address': '/tmp/ray/session_2022-06-06_19-36-55_081529_18224/sockets/plasma_store', 'raylet_socket_name': '/tmp/ray/session_2022-06-06_19-36-55_081529_18224/sockets/raylet', 'webui_url': '', 'session_dir': '/tmp/ray/session_2022-06-06_19-36-55_081529_18224', 'metrics_export_port': 63673, 'gcs_address': '192.168.1.95:53970', 'address': '192.168.1.95:53970', 'node_id': 'c69280e0f9ce5333a908648d5f80c7d37e2bd13821b34f65fdce8c8f'})"
     },
     "execution_count": 14,
     "metadata": {},
     "output_type": "execute_result"
    }
   ],
   "source": [
    "n_procs = 24\n",
    "ray.shutdown()\n",
    "ray.init(num_cpus=n_procs)"
   ],
   "metadata": {
    "collapsed": false,
    "pycharm": {
     "name": "#%%\n"
    }
   }
  },
  {
   "cell_type": "code",
   "execution_count": 15,
   "outputs": [],
   "source": [
    "n_gpids = len(gpids)\n",
    "max_gpids = int(len(gpids[:n_gpids]))\n",
    "gpid_sets = []\n",
    "set_pos = 0\n",
    "step = int(max_gpids / (n_procs - 1))\n",
    "\n",
    "while set_pos < max_gpids:\n",
    "    start = 0 if set_pos == 0 else set_pos + 1\n",
    "    set_pos = set_pos + step\n",
    "    end = set_pos if set_pos < max_gpids else max_gpids\n",
    "    gpid_sets.append((start, end))"
   ],
   "metadata": {
    "collapsed": false,
    "pycharm": {
     "name": "#%%\n"
    }
   }
  },
  {
   "cell_type": "code",
   "execution_count": 16,
   "outputs": [
    {
     "name": "stdout",
     "output_type": "stream",
     "text": [
      "\u001B[2m\u001B[36m(process_data pid=18468)\u001B[0m Data error for gpid 2018100702-4007, player 2556190 (Start 11 | End 44)\n",
      "\u001B[2m\u001B[36m(process_data pid=18470)\u001B[0m Data error for gpid 2018112508-1729, player 2561272 (Start 11 | End 44)\n",
      "\u001B[2m\u001B[36m(process_data pid=18461)\u001B[0m Data error for gpid 2018121000-1364, player 2557991 (Start 11 | End 42)\n",
      "Took 199.4687159061432 seconds\n"
     ]
    },
    {
     "data": {
      "text/plain": "             gpid    nflId  route  \\\n0   2018090600-75  2495454  HITCH   \n1   2018090600-75  2533040  HITCH   \n2   2018090600-75  2555415    OUT   \n3  2018090600-146  2543583   FLAT   \n4  2018090600-146  2552418  CROSS   \n\n                                                 pos  \n0  [[0.0, 0.0, 0.0], [0.030000000000001137, 0.0, ...  \n1  [[0.0, 0.0, 0.0], [0.010000000000001563, 0.0, ...  \n2  [[0.0, 0.0, 0.0], [0.010000000000001563, 0.009...  \n3  [[0.0, 0.0, 0.0], [0.0, 0.0, 0.04], [0.0099999...  \n4  [[0.0, 0.0, 0.0], [0.01999999999999602, 0.0199...  ",
      "text/html": "<div>\n<style scoped>\n    .dataframe tbody tr th:only-of-type {\n        vertical-align: middle;\n    }\n\n    .dataframe tbody tr th {\n        vertical-align: top;\n    }\n\n    .dataframe thead th {\n        text-align: right;\n    }\n</style>\n<table border=\"1\" class=\"dataframe\">\n  <thead>\n    <tr style=\"text-align: right;\">\n      <th></th>\n      <th>gpid</th>\n      <th>nflId</th>\n      <th>route</th>\n      <th>pos</th>\n    </tr>\n  </thead>\n  <tbody>\n    <tr>\n      <th>0</th>\n      <td>2018090600-75</td>\n      <td>2495454</td>\n      <td>HITCH</td>\n      <td>[[0.0, 0.0, 0.0], [0.030000000000001137, 0.0, ...</td>\n    </tr>\n    <tr>\n      <th>1</th>\n      <td>2018090600-75</td>\n      <td>2533040</td>\n      <td>HITCH</td>\n      <td>[[0.0, 0.0, 0.0], [0.010000000000001563, 0.0, ...</td>\n    </tr>\n    <tr>\n      <th>2</th>\n      <td>2018090600-75</td>\n      <td>2555415</td>\n      <td>OUT</td>\n      <td>[[0.0, 0.0, 0.0], [0.010000000000001563, 0.009...</td>\n    </tr>\n    <tr>\n      <th>3</th>\n      <td>2018090600-146</td>\n      <td>2543583</td>\n      <td>FLAT</td>\n      <td>[[0.0, 0.0, 0.0], [0.0, 0.0, 0.04], [0.0099999...</td>\n    </tr>\n    <tr>\n      <th>4</th>\n      <td>2018090600-146</td>\n      <td>2552418</td>\n      <td>CROSS</td>\n      <td>[[0.0, 0.0, 0.0], [0.01999999999999602, 0.0199...</td>\n    </tr>\n  </tbody>\n</table>\n</div>"
     },
     "execution_count": 16,
     "metadata": {},
     "output_type": "execute_result"
    }
   ],
   "source": [
    "# Generate vectors of positions\n",
    "start = time.time()\n",
    "\n",
    "routes_df = pd.DataFrame(columns=['gpid', 'nflId', 'route', 'pos'])\n",
    "futures = [process_data.remote(runners.loc[(runners['gpid'].isin(gpids[idx[0]:idx[1]]))], qb_positions) for idx in gpid_sets]\n",
    "results = ray.get(futures)\n",
    "\n",
    "for i in range(0, len(results)):\n",
    "    routes_df = pd.concat([routes_df, results[i]], ignore_index=True)\n",
    "\n",
    "finish = time.time()\n",
    "print(f'Took {finish - start} seconds')\n",
    "routes_df.head()"
   ],
   "metadata": {
    "collapsed": false,
    "pycharm": {
     "name": "#%%\n"
    }
   }
  },
  {
   "cell_type": "code",
   "execution_count": 17,
   "outputs": [],
   "source": [
    "# Convert position sequences to 2d array with np.histogram2d"
   ],
   "metadata": {
    "collapsed": false,
    "pycharm": {
     "name": "#%%\n"
    }
   }
  },
  {
   "cell_type": "code",
   "execution_count": 18,
   "outputs": [],
   "source": [
    "# Convert 2d array to 1d array"
   ],
   "metadata": {
    "collapsed": false,
    "pycharm": {
     "name": "#%%\n"
    }
   }
  },
  {
   "cell_type": "code",
   "execution_count": 19,
   "outputs": [],
   "source": [
    "@ray.remote\n",
    "def find_min_max_from_dataframe(df):\n",
    "    x = [0, 0]\n",
    "    y = [0, 0]\n",
    "\n",
    "    for idx, row in df.iterrows():\n",
    "        if row['pos'][:, 0].min() < x[0]: x[0] = row['pos'][:, 0].min()\n",
    "        if row['pos'][:, 0].max() > x[1]: x[1] = row['pos'][:, 0].max()\n",
    "        if row['pos'][:, 1].min() < y[0]: y[0] = row['pos'][:, 1].min()\n",
    "        if row['pos'][:, 1].max() > y[1]: y[1] = row['pos'][:, 1].max()\n",
    "\n",
    "    x = [np.floor(x[0]), np.ceil(x[1])]\n",
    "    y[0] = -1 * np.ceil(max(abs(y[0]), abs(y[1])))\n",
    "    y[1] = abs(y[0])\n",
    "\n",
    "    return x, y"
   ],
   "metadata": {
    "collapsed": false,
    "pycharm": {
     "name": "#%%\n"
    }
   }
  },
  {
   "cell_type": "code",
   "execution_count": 20,
   "outputs": [],
   "source": [
    "def find_min_max_from_arrays(x_list, y_list):\n",
    "    x = [0, 0]\n",
    "    x[0] = x_list[:, 0].min()\n",
    "    x[1] = x_list[:, 1].max()\n",
    "\n",
    "    y = [0, 0]\n",
    "    y[1] = np.abs(y_list.max())\n",
    "    y[0] = -y[1]\n",
    "\n",
    "    return x, y"
   ],
   "metadata": {
    "collapsed": false,
    "pycharm": {
     "name": "#%%\n"
    }
   }
  },
  {
   "cell_type": "code",
   "execution_count": 21,
   "outputs": [
    {
     "name": "stdout",
     "output_type": "stream",
     "text": [
      "[(0, 2841), (2842, 5682), (5683, 8523), (8524, 11364), (11365, 14205), (14206, 17046), (17047, 19887), (19888, 22728), (22729, 25569), (25570, 28410), (28411, 31251), (31252, 34092), (34093, 36933), (36934, 39774), (39775, 42615), (42616, 45456), (45457, 48297), (48298, 51138), (51139, 53979), (53980, 56820), (56821, 59661), (59662, 62502), (62503, 65343), (65344, 65364)]\n"
     ]
    }
   ],
   "source": [
    "n_rows = len(routes_df)\n",
    "max_rows = int(len(routes_df[:n_rows]))\n",
    "row_sets = []\n",
    "set_pos = 0\n",
    "step = int(max_rows / (n_procs - 1))\n",
    "\n",
    "while set_pos < max_rows:\n",
    "    start = 0 if set_pos == 0 else set_pos + 1\n",
    "    set_pos = set_pos + step\n",
    "    end = set_pos if set_pos < max_rows else max_rows\n",
    "    row_sets.append((start, end))\n",
    "\n",
    "print(row_sets)"
   ],
   "metadata": {
    "collapsed": false,
    "pycharm": {
     "name": "#%%\n"
    }
   }
  },
  {
   "cell_type": "code",
   "execution_count": 22,
   "outputs": [
    {
     "name": "stdout",
     "output_type": "stream",
     "text": [
      "Took 0.5911824703216553 seconds\n",
      "[-34.0, 68.0] [-45.0, 45.0]\n"
     ]
    }
   ],
   "source": [
    "start = time.time()\n",
    "\n",
    "x = []\n",
    "y = []\n",
    "\n",
    "futures = [find_min_max_from_dataframe.remote(routes_df[idx[0]:idx[1]]) for idx in row_sets]\n",
    "results = ray.get(futures)\n",
    "\n",
    "for i in range(0, len(results)):\n",
    "    x.append(results[i][0])\n",
    "    y.append(results[i][1])\n",
    "\n",
    "x, y = find_min_max_from_arrays(np.array(x), np.array(y))\n",
    "\n",
    "finish = time.time()\n",
    "print(f'Took {finish - start} seconds')\n",
    "print(x, y)"
   ],
   "metadata": {
    "collapsed": false,
    "pycharm": {
     "name": "#%%\n"
    }
   }
  },
  {
   "cell_type": "code",
   "execution_count": 23,
   "outputs": [],
   "source": [
    "x_dim = int(abs(x[0]) + abs(x[1]))\n",
    "y_dim = int(abs(y[0]) + abs(y[1]))"
   ],
   "metadata": {
    "collapsed": false,
    "pycharm": {
     "name": "#%%\n"
    }
   }
  },
  {
   "cell_type": "code",
   "execution_count": 24,
   "outputs": [],
   "source": [
    "grid = np.zeros(x_dim * y_dim).reshape(x_dim, y_dim)"
   ],
   "metadata": {
    "collapsed": false,
    "pycharm": {
     "name": "#%%\n"
    }
   }
  },
  {
   "cell_type": "code",
   "execution_count": 25,
   "outputs": [],
   "source": [
    "grids = []\n",
    "for idx, row in routes_df.iterrows():\n",
    "    grid = np.zeros(x_dim * y_dim).reshape(x_dim, y_dim)\n",
    "    for position in row['pos']:\n",
    "        grid[int(position[0]), int(position[1])] = position[2]\n",
    "    grids.append(grid.reshape(x_dim * y_dim))"
   ],
   "metadata": {
    "collapsed": false,
    "pycharm": {
     "name": "#%%\n"
    }
   }
  },
  {
   "cell_type": "code",
   "execution_count": 26,
   "outputs": [],
   "source": [
    "routes_df['grid'] = grids\n",
    "#routes_df.drop(['pos'], axis=1, inplace=True)"
   ],
   "metadata": {
    "collapsed": false,
    "pycharm": {
     "name": "#%%\n"
    }
   }
  },
  {
   "cell_type": "code",
   "execution_count": 27,
   "outputs": [
    {
     "name": "stdout",
     "output_type": "stream",
     "text": [
      "Program took 354.5132279396057 seconds\n"
     ]
    }
   ],
   "source": [
    "prog_end = time.time()\n",
    "print(f'Program took {prog_end - prog_start} seconds')"
   ],
   "metadata": {
    "collapsed": false,
    "pycharm": {
     "name": "#%%\n"
    }
   }
  },
  {
   "cell_type": "markdown",
   "source": [
    "## SVM"
   ],
   "metadata": {
    "collapsed": false,
    "pycharm": {
     "name": "#%% md\n"
    }
   }
  },
  {
   "cell_type": "code",
   "execution_count": 28,
   "outputs": [],
   "source": [
    "# flatten the images\n",
    "n_samples = len(grids)\n",
    "\n",
    "# Create a classifier: a support vector classifier\n",
    "clf = svm.SVC(gamma=0.005, kernel='rbf')\n",
    "\n",
    "# Split data into 60% train and 40% test subsets\n",
    "x_train, x_test, y_train, y_test = train_test_split(routes_df['grid'].tolist(), routes_df['route'], test_size=0.4, shuffle=False, random_state=1)\n",
    "\n",
    "scaler = StandardScaler()\n",
    "\n",
    "scaler.fit(x_train)\n",
    "x_train2 = scaler.transform(x_train)\n",
    "x_test2 = scaler.transform(x_test)"
   ],
   "metadata": {
    "collapsed": false,
    "pycharm": {
     "name": "#%%\n"
    }
   }
  },
  {
   "cell_type": "code",
   "execution_count": 30,
   "outputs": [
    {
     "name": "stderr",
     "output_type": "stream",
     "text": [
      "/home/spencer/Projects/cosc301/venv/lib/python3.9/site-packages/sklearn/svm/_base.py:301: ConvergenceWarning: Solver terminated early (max_iter=100).  Consider pre-processing your data with StandardScaler or MinMaxScaler.\n",
      "  warnings.warn(\n"
     ]
    },
    {
     "data": {
      "text/plain": "SVC(gamma=0.005, max_iter=100)",
      "text/html": "<style>#sk-container-id-1 {color: black;background-color: white;}#sk-container-id-1 pre{padding: 0;}#sk-container-id-1 div.sk-toggleable {background-color: white;}#sk-container-id-1 label.sk-toggleable__label {cursor: pointer;display: block;width: 100%;margin-bottom: 0;padding: 0.3em;box-sizing: border-box;text-align: center;}#sk-container-id-1 label.sk-toggleable__label-arrow:before {content: \"▸\";float: left;margin-right: 0.25em;color: #696969;}#sk-container-id-1 label.sk-toggleable__label-arrow:hover:before {color: black;}#sk-container-id-1 div.sk-estimator:hover label.sk-toggleable__label-arrow:before {color: black;}#sk-container-id-1 div.sk-toggleable__content {max-height: 0;max-width: 0;overflow: hidden;text-align: left;background-color: #f0f8ff;}#sk-container-id-1 div.sk-toggleable__content pre {margin: 0.2em;color: black;border-radius: 0.25em;background-color: #f0f8ff;}#sk-container-id-1 input.sk-toggleable__control:checked~div.sk-toggleable__content {max-height: 200px;max-width: 100%;overflow: auto;}#sk-container-id-1 input.sk-toggleable__control:checked~label.sk-toggleable__label-arrow:before {content: \"▾\";}#sk-container-id-1 div.sk-estimator input.sk-toggleable__control:checked~label.sk-toggleable__label {background-color: #d4ebff;}#sk-container-id-1 div.sk-label input.sk-toggleable__control:checked~label.sk-toggleable__label {background-color: #d4ebff;}#sk-container-id-1 input.sk-hidden--visually {border: 0;clip: rect(1px 1px 1px 1px);clip: rect(1px, 1px, 1px, 1px);height: 1px;margin: -1px;overflow: hidden;padding: 0;position: absolute;width: 1px;}#sk-container-id-1 div.sk-estimator {font-family: monospace;background-color: #f0f8ff;border: 1px dotted black;border-radius: 0.25em;box-sizing: border-box;margin-bottom: 0.5em;}#sk-container-id-1 div.sk-estimator:hover {background-color: #d4ebff;}#sk-container-id-1 div.sk-parallel-item::after {content: \"\";width: 100%;border-bottom: 1px solid gray;flex-grow: 1;}#sk-container-id-1 div.sk-label:hover label.sk-toggleable__label {background-color: #d4ebff;}#sk-container-id-1 div.sk-serial::before {content: \"\";position: absolute;border-left: 1px solid gray;box-sizing: border-box;top: 0;bottom: 0;left: 50%;z-index: 0;}#sk-container-id-1 div.sk-serial {display: flex;flex-direction: column;align-items: center;background-color: white;padding-right: 0.2em;padding-left: 0.2em;position: relative;}#sk-container-id-1 div.sk-item {position: relative;z-index: 1;}#sk-container-id-1 div.sk-parallel {display: flex;align-items: stretch;justify-content: center;background-color: white;position: relative;}#sk-container-id-1 div.sk-item::before, #sk-container-id-1 div.sk-parallel-item::before {content: \"\";position: absolute;border-left: 1px solid gray;box-sizing: border-box;top: 0;bottom: 0;left: 50%;z-index: -1;}#sk-container-id-1 div.sk-parallel-item {display: flex;flex-direction: column;z-index: 1;position: relative;background-color: white;}#sk-container-id-1 div.sk-parallel-item:first-child::after {align-self: flex-end;width: 50%;}#sk-container-id-1 div.sk-parallel-item:last-child::after {align-self: flex-start;width: 50%;}#sk-container-id-1 div.sk-parallel-item:only-child::after {width: 0;}#sk-container-id-1 div.sk-dashed-wrapped {border: 1px dashed gray;margin: 0 0.4em 0.5em 0.4em;box-sizing: border-box;padding-bottom: 0.4em;background-color: white;}#sk-container-id-1 div.sk-label label {font-family: monospace;font-weight: bold;display: inline-block;line-height: 1.2em;}#sk-container-id-1 div.sk-label-container {text-align: center;}#sk-container-id-1 div.sk-container {/* jupyter's `normalize.less` sets `[hidden] { display: none; }` but bootstrap.min.css set `[hidden] { display: none !important; }` so we also need the `!important` here to be able to override the default hidden behavior on the sphinx rendered scikit-learn.org. See: https://github.com/scikit-learn/scikit-learn/issues/21755 */display: inline-block !important;position: relative;}#sk-container-id-1 div.sk-text-repr-fallback {display: none;}</style><div id=\"sk-container-id-1\" class=\"sk-top-container\"><div class=\"sk-text-repr-fallback\"><pre>SVC(gamma=0.005, max_iter=100)</pre><b>In a Jupyter environment, please rerun this cell to show the HTML representation or trust the notebook. <br />On GitHub, the HTML representation is unable to render, please try loading this page with nbviewer.org.</b></div><div class=\"sk-container\" hidden><div class=\"sk-item\"><div class=\"sk-estimator sk-toggleable\"><input class=\"sk-toggleable__control sk-hidden--visually\" id=\"sk-estimator-id-1\" type=\"checkbox\" checked><label for=\"sk-estimator-id-1\" class=\"sk-toggleable__label sk-toggleable__label-arrow\">SVC</label><div class=\"sk-toggleable__content\"><pre>SVC(gamma=0.005, max_iter=100)</pre></div></div></div></div></div>"
     },
     "execution_count": 30,
     "metadata": {},
     "output_type": "execute_result"
    }
   ],
   "source": [
    "# Learn the digits on the train subset\n",
    "clf.fit(x_train2, y_train)"
   ],
   "metadata": {
    "collapsed": false,
    "pycharm": {
     "name": "#%%\n"
    }
   }
  },
  {
   "cell_type": "code",
   "execution_count": 31,
   "outputs": [],
   "source": [
    "# Predict the value of the digit on the test subset\n",
    "predicted = clf.predict(x_test2)"
   ],
   "metadata": {
    "collapsed": false,
    "pycharm": {
     "name": "#%%\n"
    }
   }
  },
  {
   "cell_type": "code",
   "execution_count": 32,
   "outputs": [
    {
     "name": "stdout",
     "output_type": "stream",
     "text": [
      "Classification report for classifier SVC(gamma=0.005, max_iter=100):\n",
      "              precision    recall  f1-score   support\n",
      "\n",
      "       ANGLE       0.06      0.27      0.09       898\n",
      "      CORNER       0.06      0.65      0.11      1009\n",
      "       CROSS       0.12      0.00      0.01      2425\n",
      "        FLAT       0.42      0.05      0.09      3700\n",
      "          GO       0.06      0.00      0.00      4874\n",
      "       HITCH       0.34      0.07      0.12      4247\n",
      "          IN       0.17      0.02      0.04      1878\n",
      "         OUT       0.13      0.00      0.01      2772\n",
      "        POST       0.06      0.02      0.03      1686\n",
      "      SCREEN       0.13      0.37      0.20      1012\n",
      "       SLANT       0.08      0.30      0.12      1514\n",
      "       WHEEL       0.27      0.30      0.28       131\n",
      "\n",
      "    accuracy                           0.09     26146\n",
      "   macro avg       0.16      0.17      0.09     26146\n",
      "weighted avg       0.18      0.09      0.06     26146\n",
      "\n",
      "\n"
     ]
    }
   ],
   "source": [
    "print(\n",
    "    f'Classification report for classifier {clf}:\\n'\n",
    "    f'{metrics.classification_report(y_test, predicted)}\\n'\n",
    ")"
   ],
   "metadata": {
    "collapsed": false,
    "pycharm": {
     "name": "#%%\n"
    }
   }
  },
  {
   "cell_type": "code",
   "execution_count": 31,
   "outputs": [
    {
     "name": "stdout",
     "output_type": "stream",
     "text": [
      "Confusion Matrix:\n",
      "[[ 389    1   30  130   37   67   29   91    3   51   70    0]\n",
      " [   6  261  222   40  319   17    7   83    1   17   36    0]\n",
      " [   6    0 1787  197   93   30   10   12   27   96  167    0]\n",
      " [  29    0  342 2940   30   13    0   44    0  272   29    1]\n",
      " [  29   99  731  452 2495  245   83  359   92  115  174    0]\n",
      " [  96   36  257   85 1018  866  326  920   63   85  495    0]\n",
      " [  11    1  252   22  357   62  701   84  147   24  217    0]\n",
      " [  53  169  180  336  560  101   33 1159    3   59  119    0]\n",
      " [   5    0  353   26  533   36  174   40  431   19   69    0]\n",
      " [  19    0   69  308    9    8    0   22    0  550   27    0]\n",
      " [  20    0  253   40   48   91   69   33   12   56  892    0]\n",
      " [   4    1   46   69    4    1    1    0    1    4    0    0]]\n"
     ]
    },
    {
     "data": {
      "text/plain": "<Figure size 432x288 with 2 Axes>",
      "image/png": "[encoded data removed]"
     },
     "metadata": {
      "needs_background": "light"
     },
     "output_type": "display_data"
    }
   ],
   "source": [
    "disp = metrics.ConfusionMatrixDisplay.from_predictions(y_test, predicted)\n",
    "disp.figure_.suptitle('Confusion Matrix')\n",
    "print(f'Confusion Matrix:\\n{disp.confusion_matrix}')\n",
    "plt.show()"
   ],
   "metadata": {
    "collapsed": false,
    "pycharm": {
     "name": "#%%\n"
    }
   }
  },
  {
   "cell_type": "code",
   "execution_count": 29,
   "outputs": [
    {
     "data": {
      "text/plain": "65364"
     },
     "execution_count": 29,
     "metadata": {},
     "output_type": "execute_result"
    }
   ],
   "source": [
    "routes_df['route'].value_counts().sum()"
   ],
   "metadata": {
    "collapsed": false,
    "pycharm": {
     "name": "#%%\n"
    }
   }
  },
  {
   "cell_type": "code",
   "execution_count": 30,
   "outputs": [
    {
     "data": {
      "text/plain": "<BarContainer object of 12 artists>"
     },
     "execution_count": 30,
     "metadata": {},
     "output_type": "execute_result"
    },
    {
     "data": {
      "text/plain": "<Figure size 1440x720 with 1 Axes>",
      "image/png": "[encoded data removed]"
     },
     "metadata": {
      "needs_background": "light"
     },
     "output_type": "display_data"
    }
   ],
   "source": [
    "plt.figure(figsize=(20,10))\n",
    "plt.bar(routes_df['route'].value_counts().index, routes_df['route'].value_counts().values / routes_df['route'].value_counts().sum(), width=0.75)"
   ],
   "metadata": {
    "collapsed": false,
    "pycharm": {
     "name": "#%%\n"
    }
   }
  },
  {
   "cell_type": "code",
   "execution_count": 31,
   "outputs": [
    {
     "data": {
      "text/plain": "65364"
     },
     "execution_count": 31,
     "metadata": {},
     "output_type": "execute_result"
    }
   ],
   "source": [
    "routes_df['route'].count()"
   ],
   "metadata": {
    "collapsed": false,
    "pycharm": {
     "name": "#%%\n"
    }
   }
  },
  {
   "cell_type": "markdown",
   "source": [
    "## MLP Classifier"
   ],
   "metadata": {
    "collapsed": false,
    "pycharm": {
     "name": "#%% md\n"
    }
   }
  },
  {
   "cell_type": "code",
   "execution_count": 34,
   "outputs": [
    {
     "name": "stderr",
     "output_type": "stream",
     "text": [
      "/home/spencer/Projects/cosc301/venv/lib/python3.9/site-packages/sklearn/neural_network/_multilayer_perceptron.py:559: ConvergenceWarning: lbfgs failed to converge (status=1):\n",
      "STOP: TOTAL NO. of ITERATIONS REACHED LIMIT.\n",
      "\n",
      "Increase the number of iterations (max_iter) or scale the data as shown in:\n",
      "    https://scikit-learn.org/stable/modules/preprocessing.html\n",
      "  self.n_iter_ = _check_optimize_result(\"lbfgs\", opt_res, self.max_iter)\n"
     ]
    },
    {
     "data": {
      "text/plain": "MLPClassifier(max_iter=1000, random_state=1, solver='lbfgs')",
      "text/html": "<style>#sk-container-id-1 {color: black;background-color: white;}#sk-container-id-1 pre{padding: 0;}#sk-container-id-1 div.sk-toggleable {background-color: white;}#sk-container-id-1 label.sk-toggleable__label {cursor: pointer;display: block;width: 100%;margin-bottom: 0;padding: 0.3em;box-sizing: border-box;text-align: center;}#sk-container-id-1 label.sk-toggleable__label-arrow:before {content: \"▸\";float: left;margin-right: 0.25em;color: #696969;}#sk-container-id-1 label.sk-toggleable__label-arrow:hover:before {color: black;}#sk-container-id-1 div.sk-estimator:hover label.sk-toggleable__label-arrow:before {color: black;}#sk-container-id-1 div.sk-toggleable__content {max-height: 0;max-width: 0;overflow: hidden;text-align: left;background-color: #f0f8ff;}#sk-container-id-1 div.sk-toggleable__content pre {margin: 0.2em;color: black;border-radius: 0.25em;background-color: #f0f8ff;}#sk-container-id-1 input.sk-toggleable__control:checked~div.sk-toggleable__content {max-height: 200px;max-width: 100%;overflow: auto;}#sk-container-id-1 input.sk-toggleable__control:checked~label.sk-toggleable__label-arrow:before {content: \"▾\";}#sk-container-id-1 div.sk-estimator input.sk-toggleable__control:checked~label.sk-toggleable__label {background-color: #d4ebff;}#sk-container-id-1 div.sk-label input.sk-toggleable__control:checked~label.sk-toggleable__label {background-color: #d4ebff;}#sk-container-id-1 input.sk-hidden--visually {border: 0;clip: rect(1px 1px 1px 1px);clip: rect(1px, 1px, 1px, 1px);height: 1px;margin: -1px;overflow: hidden;padding: 0;position: absolute;width: 1px;}#sk-container-id-1 div.sk-estimator {font-family: monospace;background-color: #f0f8ff;border: 1px dotted black;border-radius: 0.25em;box-sizing: border-box;margin-bottom: 0.5em;}#sk-container-id-1 div.sk-estimator:hover {background-color: #d4ebff;}#sk-container-id-1 div.sk-parallel-item::after {content: \"\";width: 100%;border-bottom: 1px solid gray;flex-grow: 1;}#sk-container-id-1 div.sk-label:hover label.sk-toggleable__label {background-color: #d4ebff;}#sk-container-id-1 div.sk-serial::before {content: \"\";position: absolute;border-left: 1px solid gray;box-sizing: border-box;top: 0;bottom: 0;left: 50%;z-index: 0;}#sk-container-id-1 div.sk-serial {display: flex;flex-direction: column;align-items: center;background-color: white;padding-right: 0.2em;padding-left: 0.2em;position: relative;}#sk-container-id-1 div.sk-item {position: relative;z-index: 1;}#sk-container-id-1 div.sk-parallel {display: flex;align-items: stretch;justify-content: center;background-color: white;position: relative;}#sk-container-id-1 div.sk-item::before, #sk-container-id-1 div.sk-parallel-item::before {content: \"\";position: absolute;border-left: 1px solid gray;box-sizing: border-box;top: 0;bottom: 0;left: 50%;z-index: -1;}#sk-container-id-1 div.sk-parallel-item {display: flex;flex-direction: column;z-index: 1;position: relative;background-color: white;}#sk-container-id-1 div.sk-parallel-item:first-child::after {align-self: flex-end;width: 50%;}#sk-container-id-1 div.sk-parallel-item:last-child::after {align-self: flex-start;width: 50%;}#sk-container-id-1 div.sk-parallel-item:only-child::after {width: 0;}#sk-container-id-1 div.sk-dashed-wrapped {border: 1px dashed gray;margin: 0 0.4em 0.5em 0.4em;box-sizing: border-box;padding-bottom: 0.4em;background-color: white;}#sk-container-id-1 div.sk-label label {font-family: monospace;font-weight: bold;display: inline-block;line-height: 1.2em;}#sk-container-id-1 div.sk-label-container {text-align: center;}#sk-container-id-1 div.sk-container {/* jupyter's `normalize.less` sets `[hidden] { display: none; }` but bootstrap.min.css set `[hidden] { display: none !important; }` so we also need the `!important` here to be able to override the default hidden behavior on the sphinx rendered scikit-learn.org. See: https://github.com/scikit-learn/scikit-learn/issues/21755 */display: inline-block !important;position: relative;}#sk-container-id-1 div.sk-text-repr-fallback {display: none;}</style><div id=\"sk-container-id-1\" class=\"sk-top-container\"><div class=\"sk-text-repr-fallback\"><pre>MLPClassifier(max_iter=1000, random_state=1, solver=&#x27;lbfgs&#x27;)</pre><b>In a Jupyter environment, please rerun this cell to show the HTML representation or trust the notebook. <br />On GitHub, the HTML representation is unable to render, please try loading this page with nbviewer.org.</b></div><div class=\"sk-container\" hidden><div class=\"sk-item\"><div class=\"sk-estimator sk-toggleable\"><input class=\"sk-toggleable__control sk-hidden--visually\" id=\"sk-estimator-id-1\" type=\"checkbox\" checked><label for=\"sk-estimator-id-1\" class=\"sk-toggleable__label sk-toggleable__label-arrow\">MLPClassifier</label><div class=\"sk-toggleable__content\"><pre>MLPClassifier(max_iter=1000, random_state=1, solver=&#x27;lbfgs&#x27;)</pre></div></div></div></div></div>"
     },
     "execution_count": 34,
     "metadata": {},
     "output_type": "execute_result"
    }
   ],
   "source": [
    "clf2 = MLPClassifier(solver='lbfgs', random_state=1, max_iter=1000)\n",
    "clf2.fit(x_train2, y_train)"
   ],
   "metadata": {
    "collapsed": false,
    "pycharm": {
     "name": "#%%\n"
    }
   }
  },
  {
   "cell_type": "code",
   "execution_count": 35,
   "outputs": [],
   "source": [
    "predicted2 = clf2.predict(x_test2)"
   ],
   "metadata": {
    "collapsed": false,
    "pycharm": {
     "name": "#%%\n"
    }
   }
  },
  {
   "cell_type": "code",
   "execution_count": 36,
   "outputs": [
    {
     "name": "stdout",
     "output_type": "stream",
     "text": [
      "Classification report for classifier MLPClassifier(max_iter=1000, random_state=1, solver='lbfgs'):\n",
      "              precision    recall  f1-score   support\n",
      "\n",
      "       ANGLE       0.42      0.34      0.37       898\n",
      "      CORNER       0.45      0.35      0.40      1009\n",
      "       CROSS       0.62      0.62      0.62      2425\n",
      "        FLAT       0.73      0.76      0.74      3700\n",
      "          GO       0.59      0.68      0.64      4874\n",
      "       HITCH       0.63      0.60      0.62      4247\n",
      "          IN       0.54      0.48      0.51      1878\n",
      "         OUT       0.65      0.60      0.62      2772\n",
      "        POST       0.48      0.53      0.50      1686\n",
      "      SCREEN       0.45      0.52      0.48      1012\n",
      "       SLANT       0.53      0.45      0.49      1514\n",
      "       WHEEL       0.32      0.27      0.30       131\n",
      "\n",
      "    accuracy                           0.60     26146\n",
      "   macro avg       0.53      0.52      0.52     26146\n",
      "weighted avg       0.59      0.60      0.59     26146\n",
      "\n",
      "\n"
     ]
    }
   ],
   "source": [
    "print(\n",
    "    f'Classification report for classifier {clf2}:\\n'\n",
    "    f'{metrics.classification_report(y_test, predicted2)}\\n'\n",
    ")"
   ],
   "metadata": {
    "collapsed": false,
    "pycharm": {
     "name": "#%%\n"
    }
   }
  },
  {
   "cell_type": "code",
   "execution_count": 37,
   "outputs": [
    {
     "name": "stdout",
     "output_type": "stream",
     "text": [
      "Confusion Matrix:\n",
      "[[ 303    7   21   88   83  185   35   74   12   44   41    5]\n",
      " [  13  358   48    7  317   53    7  141   47    9    5    4]\n",
      " [  18   21 1494  204  135   80   80   52  126   66  147    2]\n",
      " [  55    2  134 2827  132   46   13  140    3  300   22   26]\n",
      " [  63  194   62  159 3335  415   73  146  316   52   30   29]\n",
      " [ 118   51  122   61  554 2560  195  222  129   65  167    3]\n",
      " [  30    8  119    9  185  199  902   48  250   18  110    0]\n",
      " [  63  132   54  185  267  215   48 1662   52   38   48    8]\n",
      " [  11   15   87    8  364   66  192   17  894   10   22    0]\n",
      " [  28    3   42  272   59   39    4   24    2  526   13    0]\n",
      " [  23    4  215   39  145  180  113   46   32   32  685    0]\n",
      " [   2    2    4   31   38    3    0    2    7    6    0   36]]\n"
     ]
    },
    {
     "data": {
      "text/plain": "<Figure size 432x288 with 2 Axes>",
      "image/png": "[encoded data removed]"
     },
     "metadata": {
      "needs_background": "light"
     },
     "output_type": "display_data"
    }
   ],
   "source": [
    "disp2 = metrics.ConfusionMatrixDisplay.from_predictions(y_test, predicted2)\n",
    "disp2.figure_.suptitle('Confusion Matrix')\n",
    "print(f'Confusion Matrix:\\n{disp2.confusion_matrix}')\n",
    "plt.show()"
   ],
   "metadata": {
    "collapsed": false,
    "pycharm": {
     "name": "#%%\n"
    }
   }
  },
  {
   "cell_type": "markdown",
   "source": [
    "## Random Forest"
   ],
   "metadata": {
    "collapsed": false,
    "pycharm": {
     "name": "#%% md\n"
    }
   }
  },
  {
   "cell_type": "code",
   "execution_count": null,
   "outputs": [],
   "source": [
    "model = RandomForestClassifier(n_jobs=-1, n_estimators=1000, max_depth=10)"
   ],
   "metadata": {
    "collapsed": false,
    "pycharm": {
     "name": "#%%\n"
    }
   }
  },
  {
   "cell_type": "code",
   "execution_count": null,
   "outputs": [],
   "source": [
    "model.fit(x_train2, y_train)"
   ],
   "metadata": {
    "collapsed": false,
    "pycharm": {
     "name": "#%%\n"
    }
   }
  },
  {
   "cell_type": "code",
   "execution_count": null,
   "outputs": [],
   "source": [
    "y_pred = model.predict(x_test2)"
   ],
   "metadata": {
    "collapsed": false,
    "pycharm": {
     "name": "#%%\n"
    }
   }
  },
  {
   "cell_type": "code",
   "execution_count": null,
   "outputs": [],
   "source": [
    "accuracy_score(y_pred, y_test)\n",
    "print(classification_report(y_pred, y_test))"
   ],
   "metadata": {
    "collapsed": false,
    "pycharm": {
     "name": "#%%\n"
    }
   }
  },
  {
   "cell_type": "code",
   "execution_count": null,
   "outputs": [],
   "source": [
    "confusion_matrix(y_pred, y_test)"
   ],
   "metadata": {
    "collapsed": false,
    "pycharm": {
     "name": "#%%\n"
    }
   }
  },
  {
   "cell_type": "markdown",
   "source": [
    "## Pytorch"
   ],
   "metadata": {
    "collapsed": false,
    "pycharm": {
     "name": "#%% md\n"
    }
   }
  },
  {
   "cell_type": "code",
   "execution_count": 38,
   "outputs": [
    {
     "data": {
      "text/plain": "{0: 'HITCH',\n 1: 'OUT',\n 2: 'FLAT',\n 3: 'CROSS',\n 4: 'GO',\n 5: 'SLANT',\n 6: 'SCREEN',\n 7: 'CORNER',\n 8: 'IN',\n 9: 'ANGLE',\n 10: 'POST',\n 11: 'WHEEL'}"
     },
     "execution_count": 38,
     "metadata": {},
     "output_type": "execute_result"
    }
   ],
   "source": [
    "classes = {}\n",
    "index = 0\n",
    "for route in routes_df['route'].unique().tolist():\n",
    "    classes[index] = route\n",
    "    index += 1\n",
    "classes"
   ],
   "metadata": {
    "collapsed": false,
    "pycharm": {
     "name": "#%%\n"
    }
   }
  },
  {
   "cell_type": "code",
   "execution_count": 39,
   "outputs": [
    {
     "data": {
      "text/plain": "{'HITCH': 0,\n 'OUT': 1,\n 'FLAT': 2,\n 'CROSS': 3,\n 'GO': 4,\n 'SLANT': 5,\n 'SCREEN': 6,\n 'CORNER': 7,\n 'IN': 8,\n 'ANGLE': 9,\n 'POST': 10,\n 'WHEEL': 11}"
     },
     "execution_count": 39,
     "metadata": {},
     "output_type": "execute_result"
    }
   ],
   "source": [
    "route_idx = {}\n",
    "for idx, value in classes.items():\n",
    "    route_idx[value] = idx\n",
    "route_idx"
   ],
   "metadata": {
    "collapsed": false,
    "pycharm": {
     "name": "#%%\n"
    }
   }
  },
  {
   "cell_type": "code",
   "execution_count": 40,
   "outputs": [],
   "source": [
    "routes_df['route_int'] = routes_df['route'].apply(lambda x: route_idx[x])"
   ],
   "metadata": {
    "collapsed": false,
    "pycharm": {
     "name": "#%%\n"
    }
   }
  },
  {
   "cell_type": "code",
   "execution_count": 42,
   "outputs": [
    {
     "data": {
      "text/plain": "'cuda'"
     },
     "execution_count": 42,
     "metadata": {},
     "output_type": "execute_result"
    }
   ],
   "source": [
    "# Create device agnostic code\n",
    "if torch.cuda.is_available():\n",
    "    device = \"cuda\"\n",
    "elif torch.backends.mps.is_available():\n",
    "    device = \"mps\"\n",
    "else:\n",
    "    device = \"cpu\"\n",
    "device"
   ],
   "metadata": {
    "collapsed": false,
    "pycharm": {
     "name": "#%%\n"
    }
   }
  },
  {
   "cell_type": "code",
   "execution_count": 107,
   "outputs": [],
   "source": [
    "class MultiClassModel(nn.Module):\n",
    "    def __init__(self, input_features, output_features, hidden_units=0):\n",
    "        super().__init__()\n",
    "        self.linear_layer_stack = nn.Sequential(\n",
    "            nn.Linear(in_features=input_features, out_features=hidden_units),\n",
    "            nn.ReLU(),\n",
    "            nn.Linear(in_features=hidden_units, out_features=hidden_units),\n",
    "            nn.ReLU(),\n",
    "            nn.Linear(in_features=hidden_units, out_features=hidden_units),\n",
    "            nn.ReLU(),\n",
    "            nn.Linear(in_features=hidden_units, out_features=output_features),\n",
    "        )\n",
    "\n",
    "    def forward(self, x):\n",
    "        return self.linear_layer_stack(x)\n",
    "\n",
    "def accuracy_fn(y_true, y_pred):\n",
    "    correct = torch.eq(y_true, y_pred).sum().item()\n",
    "    acc = (correct/ len(y_pred)) * 100\n",
    "    return acc"
   ],
   "metadata": {
    "collapsed": false,
    "pycharm": {
     "name": "#%%\n"
    }
   }
  },
  {
   "cell_type": "code",
   "execution_count": 108,
   "outputs": [],
   "source": [
    "LEARNING_RATE = 0.5\n",
    "EPOCHS = 2000\n",
    "HIDDEN_UNITS = 256"
   ],
   "metadata": {
    "collapsed": false,
    "pycharm": {
     "name": "#%%\n"
    }
   }
  },
  {
   "cell_type": "code",
   "execution_count": 109,
   "outputs": [
    {
     "name": "stdout",
     "output_type": "stream",
     "text": [
      "Epoch: 0 | Loss: 2.47626, Acc: 9.04% | Test Loss: 2.44836, Test Acc: 19.25%\n",
      "Epoch: 10 | Loss: 2.16694, Acc: 19.14% | Test Loss: 2.11941, Test Acc: 19.79%\n",
      "Epoch: 20 | Loss: 1.84624, Acc: 36.05% | Test Loss: 1.77346, Test Acc: 39.85%\n",
      "Epoch: 30 | Loss: 1.68385, Acc: 40.92% | Test Loss: 1.63129, Test Acc: 42.29%\n",
      "Epoch: 40 | Loss: 1.59658, Acc: 42.62% | Test Loss: 1.56291, Test Acc: 45.17%\n",
      "Epoch: 50 | Loss: 1.60995, Acc: 41.70% | Test Loss: 1.52048, Test Acc: 46.65%\n",
      "Epoch: 60 | Loss: 1.51007, Acc: 46.66% | Test Loss: 1.48485, Test Acc: 46.40%\n",
      "Epoch: 70 | Loss: 1.50721, Acc: 47.36% | Test Loss: 1.43304, Test Acc: 48.75%\n",
      "Epoch: 80 | Loss: 1.47223, Acc: 47.64% | Test Loss: 1.42405, Test Acc: 49.29%\n",
      "Epoch: 90 | Loss: 1.50822, Acc: 45.85% | Test Loss: 1.41161, Test Acc: 49.19%\n",
      "Epoch: 100 | Loss: 1.44596, Acc: 48.99% | Test Loss: 1.38406, Test Acc: 49.93%\n",
      "Epoch: 110 | Loss: 1.37317, Acc: 50.01% | Test Loss: 1.35737, Test Acc: 51.20%\n",
      "Epoch: 120 | Loss: 1.33179, Acc: 51.86% | Test Loss: 1.34918, Test Acc: 51.03%\n",
      "Epoch: 130 | Loss: 1.35122, Acc: 51.83% | Test Loss: 1.35832, Test Acc: 52.17%\n",
      "Epoch: 140 | Loss: 1.28960, Acc: 54.75% | Test Loss: 1.31160, Test Acc: 54.17%\n",
      "Epoch: 150 | Loss: 1.26564, Acc: 55.11% | Test Loss: 1.26758, Test Acc: 55.77%\n",
      "Epoch: 160 | Loss: 1.29192, Acc: 55.11% | Test Loss: 1.24282, Test Acc: 56.20%\n",
      "Epoch: 170 | Loss: 1.31438, Acc: 53.95% | Test Loss: 1.32129, Test Acc: 52.37%\n",
      "Epoch: 180 | Loss: 1.26856, Acc: 52.76% | Test Loss: 1.22746, Test Acc: 55.82%\n",
      "Epoch: 190 | Loss: 1.19491, Acc: 57.62% | Test Loss: 1.21238, Test Acc: 57.21%\n",
      "Epoch: 200 | Loss: 1.16194, Acc: 59.32% | Test Loss: 1.17883, Test Acc: 58.77%\n",
      "Epoch: 210 | Loss: 1.36285, Acc: 51.11% | Test Loss: 1.22355, Test Acc: 56.22%\n",
      "Epoch: 220 | Loss: 1.17815, Acc: 58.70% | Test Loss: 1.20117, Test Acc: 57.97%\n",
      "Epoch: 230 | Loss: 1.17036, Acc: 58.27% | Test Loss: 1.17491, Test Acc: 57.56%\n",
      "Epoch: 240 | Loss: 1.22801, Acc: 56.49% | Test Loss: 1.21021, Test Acc: 57.70%\n",
      "Epoch: 250 | Loss: 1.14994, Acc: 59.09% | Test Loss: 1.18069, Test Acc: 57.83%\n",
      "Epoch: 260 | Loss: 1.12637, Acc: 60.44% | Test Loss: 1.14934, Test Acc: 59.37%\n",
      "Epoch: 270 | Loss: 1.16977, Acc: 58.05% | Test Loss: 1.16744, Test Acc: 58.04%\n",
      "Epoch: 280 | Loss: 1.15653, Acc: 58.46% | Test Loss: 1.21737, Test Acc: 55.43%\n",
      "Epoch: 290 | Loss: 1.10022, Acc: 61.06% | Test Loss: 1.13020, Test Acc: 60.40%\n",
      "Epoch: 300 | Loss: 1.12440, Acc: 59.33% | Test Loss: 1.23202, Test Acc: 55.99%\n",
      "Epoch: 310 | Loss: 1.09568, Acc: 60.10% | Test Loss: 1.16037, Test Acc: 59.02%\n",
      "Epoch: 320 | Loss: 1.12152, Acc: 59.92% | Test Loss: 1.16260, Test Acc: 58.71%\n",
      "Epoch: 330 | Loss: 1.10965, Acc: 59.41% | Test Loss: 1.20856, Test Acc: 56.77%\n",
      "Epoch: 340 | Loss: 1.05591, Acc: 61.46% | Test Loss: 1.14599, Test Acc: 58.92%\n",
      "Epoch: 350 | Loss: 1.08079, Acc: 62.12% | Test Loss: 1.13460, Test Acc: 60.06%\n",
      "Epoch: 360 | Loss: 1.08882, Acc: 61.03% | Test Loss: 1.12052, Test Acc: 60.52%\n",
      "Epoch: 370 | Loss: 1.14072, Acc: 58.31% | Test Loss: 1.11702, Test Acc: 60.18%\n",
      "Epoch: 380 | Loss: 1.03116, Acc: 63.17% | Test Loss: 1.09510, Test Acc: 61.50%\n",
      "Epoch: 390 | Loss: 1.06614, Acc: 62.15% | Test Loss: 1.10226, Test Acc: 61.68%\n",
      "Epoch: 400 | Loss: 1.06981, Acc: 61.14% | Test Loss: 1.08835, Test Acc: 61.23%\n",
      "Epoch: 410 | Loss: 1.04424, Acc: 61.71% | Test Loss: 1.09216, Test Acc: 61.49%\n",
      "Epoch: 420 | Loss: 1.04082, Acc: 61.34% | Test Loss: 1.13819, Test Acc: 59.26%\n",
      "Epoch: 430 | Loss: 1.03425, Acc: 63.14% | Test Loss: 1.13019, Test Acc: 60.92%\n",
      "Epoch: 440 | Loss: 1.12507, Acc: 59.20% | Test Loss: 1.19193, Test Acc: 57.42%\n",
      "Epoch: 450 | Loss: 1.01173, Acc: 62.99% | Test Loss: 1.09551, Test Acc: 61.06%\n",
      "Epoch: 460 | Loss: 0.97551, Acc: 64.55% | Test Loss: 1.06235, Test Acc: 62.43%\n",
      "Epoch: 470 | Loss: 1.07758, Acc: 60.99% | Test Loss: 1.08835, Test Acc: 60.48%\n",
      "Epoch: 480 | Loss: 0.97908, Acc: 64.82% | Test Loss: 1.11400, Test Acc: 60.72%\n",
      "Epoch: 490 | Loss: 0.99250, Acc: 64.82% | Test Loss: 1.08135, Test Acc: 60.96%\n",
      "Epoch: 500 | Loss: 0.98400, Acc: 64.37% | Test Loss: 1.09303, Test Acc: 60.51%\n",
      "Epoch: 510 | Loss: 0.98628, Acc: 64.73% | Test Loss: 1.11425, Test Acc: 60.84%\n",
      "Epoch: 520 | Loss: 0.98257, Acc: 64.51% | Test Loss: 1.08149, Test Acc: 60.19%\n",
      "Epoch: 530 | Loss: 0.93652, Acc: 66.30% | Test Loss: 1.07289, Test Acc: 61.70%\n",
      "Epoch: 540 | Loss: 1.01909, Acc: 63.59% | Test Loss: 1.15954, Test Acc: 59.57%\n",
      "Epoch: 550 | Loss: 0.97511, Acc: 65.23% | Test Loss: 1.13532, Test Acc: 60.19%\n",
      "Epoch: 560 | Loss: 0.93214, Acc: 66.14% | Test Loss: 1.06765, Test Acc: 62.72%\n",
      "Epoch: 570 | Loss: 0.96887, Acc: 64.17% | Test Loss: 1.22843, Test Acc: 57.81%\n",
      "Epoch: 580 | Loss: 0.96111, Acc: 64.87% | Test Loss: 1.14678, Test Acc: 59.87%\n",
      "Epoch: 590 | Loss: 0.92339, Acc: 66.54% | Test Loss: 1.07650, Test Acc: 62.50%\n",
      "Epoch: 600 | Loss: 0.91300, Acc: 67.16% | Test Loss: 1.08960, Test Acc: 62.47%\n",
      "Epoch: 610 | Loss: 0.91445, Acc: 67.25% | Test Loss: 1.07123, Test Acc: 62.35%\n",
      "Epoch: 620 | Loss: 0.93356, Acc: 66.54% | Test Loss: 1.06639, Test Acc: 61.55%\n",
      "Epoch: 630 | Loss: 0.91479, Acc: 66.82% | Test Loss: 1.12462, Test Acc: 61.52%\n",
      "Epoch: 640 | Loss: 0.93361, Acc: 65.77% | Test Loss: 1.12737, Test Acc: 60.78%\n",
      "Epoch: 650 | Loss: 0.99218, Acc: 63.81% | Test Loss: 1.17574, Test Acc: 58.30%\n",
      "Epoch: 660 | Loss: 0.93869, Acc: 65.63% | Test Loss: 1.15618, Test Acc: 60.37%\n",
      "Epoch: 670 | Loss: 0.88175, Acc: 68.53% | Test Loss: 1.08231, Test Acc: 63.05%\n",
      "Epoch: 680 | Loss: 0.94483, Acc: 65.54% | Test Loss: 1.09044, Test Acc: 62.63%\n",
      "Epoch: 690 | Loss: 0.91597, Acc: 66.37% | Test Loss: 1.14534, Test Acc: 60.93%\n",
      "Epoch: 700 | Loss: 0.86844, Acc: 68.38% | Test Loss: 1.05337, Test Acc: 63.41%\n",
      "Epoch: 710 | Loss: 0.91785, Acc: 66.63% | Test Loss: 1.07703, Test Acc: 63.46%\n",
      "Epoch: 720 | Loss: 0.87376, Acc: 69.01% | Test Loss: 1.05738, Test Acc: 63.00%\n",
      "Epoch: 730 | Loss: 0.90934, Acc: 66.42% | Test Loss: 1.09436, Test Acc: 62.26%\n",
      "Epoch: 740 | Loss: 0.89950, Acc: 67.37% | Test Loss: 1.08697, Test Acc: 62.37%\n",
      "Epoch: 750 | Loss: 0.88688, Acc: 68.19% | Test Loss: 1.10730, Test Acc: 61.19%\n",
      "Epoch: 760 | Loss: 0.85286, Acc: 69.25% | Test Loss: 1.07644, Test Acc: 61.91%\n",
      "Epoch: 770 | Loss: 0.85792, Acc: 69.60% | Test Loss: 1.09465, Test Acc: 62.69%\n",
      "Epoch: 780 | Loss: 0.90349, Acc: 67.53% | Test Loss: 1.18485, Test Acc: 60.48%\n",
      "Epoch: 790 | Loss: 0.82825, Acc: 70.42% | Test Loss: 1.04258, Test Acc: 63.66%\n",
      "Epoch: 800 | Loss: 0.81653, Acc: 70.94% | Test Loss: 1.06112, Test Acc: 63.28%\n",
      "Epoch: 810 | Loss: 0.91179, Acc: 67.64% | Test Loss: 1.09585, Test Acc: 62.81%\n",
      "Epoch: 820 | Loss: 0.89077, Acc: 68.41% | Test Loss: 1.10318, Test Acc: 62.63%\n",
      "Epoch: 830 | Loss: 0.92387, Acc: 66.83% | Test Loss: 1.13003, Test Acc: 62.04%\n",
      "Epoch: 840 | Loss: 0.89712, Acc: 67.53% | Test Loss: 1.24959, Test Acc: 59.15%\n",
      "Epoch: 850 | Loss: 0.85522, Acc: 69.48% | Test Loss: 1.07703, Test Acc: 63.62%\n",
      "Epoch: 860 | Loss: 0.94193, Acc: 65.85% | Test Loss: 1.12466, Test Acc: 61.20%\n",
      "Epoch: 870 | Loss: 0.81499, Acc: 70.55% | Test Loss: 1.10671, Test Acc: 63.02%\n",
      "Epoch: 880 | Loss: 0.89016, Acc: 67.49% | Test Loss: 1.18836, Test Acc: 60.51%\n",
      "Epoch: 890 | Loss: 0.80891, Acc: 71.28% | Test Loss: 1.05963, Test Acc: 63.67%\n",
      "Epoch: 900 | Loss: 0.85286, Acc: 69.49% | Test Loss: 1.10819, Test Acc: 63.27%\n",
      "Epoch: 910 | Loss: 0.81480, Acc: 70.86% | Test Loss: 1.10484, Test Acc: 63.18%\n",
      "Epoch: 920 | Loss: 0.84738, Acc: 70.15% | Test Loss: 1.12758, Test Acc: 63.04%\n",
      "Epoch: 930 | Loss: 0.97420, Acc: 64.49% | Test Loss: 1.12435, Test Acc: 59.85%\n",
      "Epoch: 940 | Loss: 0.81032, Acc: 71.01% | Test Loss: 1.12809, Test Acc: 62.93%\n",
      "Epoch: 950 | Loss: 0.87010, Acc: 68.77% | Test Loss: 1.10263, Test Acc: 63.08%\n",
      "Epoch: 960 | Loss: 0.78147, Acc: 72.25% | Test Loss: 1.06437, Test Acc: 64.26%\n",
      "Epoch: 970 | Loss: 0.82007, Acc: 70.66% | Test Loss: 1.10423, Test Acc: 63.22%\n",
      "Epoch: 980 | Loss: 0.78807, Acc: 72.08% | Test Loss: 1.10636, Test Acc: 63.57%\n",
      "Epoch: 990 | Loss: 0.97809, Acc: 65.10% | Test Loss: 1.13119, Test Acc: 62.24%\n",
      "Epoch: 1000 | Loss: 0.80155, Acc: 71.23% | Test Loss: 1.13629, Test Acc: 62.78%\n",
      "Epoch: 1010 | Loss: 0.80867, Acc: 71.30% | Test Loss: 1.16164, Test Acc: 62.60%\n",
      "Epoch: 1020 | Loss: 0.76575, Acc: 72.71% | Test Loss: 1.07959, Test Acc: 63.50%\n",
      "Epoch: 1030 | Loss: 0.76869, Acc: 72.51% | Test Loss: 1.10967, Test Acc: 63.35%\n",
      "Epoch: 1040 | Loss: 0.74988, Acc: 73.24% | Test Loss: 1.13217, Test Acc: 63.20%\n",
      "Epoch: 1050 | Loss: 0.78581, Acc: 71.74% | Test Loss: 1.15956, Test Acc: 63.11%\n",
      "Epoch: 1060 | Loss: 0.78747, Acc: 71.39% | Test Loss: 1.10716, Test Acc: 63.10%\n",
      "Epoch: 1070 | Loss: 0.78634, Acc: 72.05% | Test Loss: 1.15676, Test Acc: 63.62%\n",
      "Epoch: 1080 | Loss: 0.91940, Acc: 67.02% | Test Loss: 1.17103, Test Acc: 61.94%\n",
      "Epoch: 1090 | Loss: 0.80147, Acc: 71.14% | Test Loss: 1.16863, Test Acc: 62.84%\n",
      "Epoch: 1100 | Loss: 0.71598, Acc: 74.70% | Test Loss: 1.09387, Test Acc: 64.64%\n",
      "Epoch: 1110 | Loss: 0.84227, Acc: 69.71% | Test Loss: 1.16244, Test Acc: 61.62%\n",
      "Epoch: 1120 | Loss: 0.74755, Acc: 73.55% | Test Loss: 1.13720, Test Acc: 64.64%\n",
      "Epoch: 1130 | Loss: 0.74604, Acc: 72.86% | Test Loss: 1.13773, Test Acc: 63.79%\n",
      "Epoch: 1140 | Loss: 0.74908, Acc: 73.42% | Test Loss: 1.10376, Test Acc: 65.06%\n",
      "Epoch: 1150 | Loss: 0.72844, Acc: 74.49% | Test Loss: 1.15832, Test Acc: 62.87%\n",
      "Epoch: 1160 | Loss: 0.74748, Acc: 73.09% | Test Loss: 1.17130, Test Acc: 63.32%\n",
      "Epoch: 1170 | Loss: 0.81691, Acc: 70.78% | Test Loss: 1.12750, Test Acc: 63.15%\n",
      "Epoch: 1180 | Loss: 0.72466, Acc: 74.02% | Test Loss: 1.12577, Test Acc: 64.45%\n",
      "Epoch: 1190 | Loss: 0.73030, Acc: 74.38% | Test Loss: 1.15472, Test Acc: 63.96%\n",
      "Epoch: 1200 | Loss: 0.79626, Acc: 70.33% | Test Loss: 1.33237, Test Acc: 59.54%\n",
      "Epoch: 1210 | Loss: 0.86470, Acc: 69.05% | Test Loss: 1.28043, Test Acc: 60.86%\n",
      "Epoch: 1220 | Loss: 0.73194, Acc: 73.42% | Test Loss: 1.19664, Test Acc: 62.24%\n",
      "Epoch: 1230 | Loss: 0.71321, Acc: 74.76% | Test Loss: 1.13973, Test Acc: 64.37%\n",
      "Epoch: 1240 | Loss: 0.73841, Acc: 73.73% | Test Loss: 1.17127, Test Acc: 62.58%\n",
      "Epoch: 1250 | Loss: 0.70484, Acc: 75.08% | Test Loss: 1.14893, Test Acc: 64.64%\n",
      "Epoch: 1260 | Loss: 0.76776, Acc: 72.53% | Test Loss: 1.39775, Test Acc: 58.07%\n",
      "Epoch: 1270 | Loss: 0.75724, Acc: 72.63% | Test Loss: 1.21265, Test Acc: 63.11%\n",
      "Epoch: 1280 | Loss: 0.73514, Acc: 73.61% | Test Loss: 1.18395, Test Acc: 63.01%\n",
      "Epoch: 1290 | Loss: 0.72701, Acc: 73.54% | Test Loss: 1.17166, Test Acc: 63.36%\n",
      "Epoch: 1300 | Loss: 0.68510, Acc: 75.81% | Test Loss: 1.19264, Test Acc: 63.84%\n",
      "Epoch: 1310 | Loss: 0.77859, Acc: 72.79% | Test Loss: 1.25071, Test Acc: 62.76%\n",
      "Epoch: 1320 | Loss: 0.70432, Acc: 74.51% | Test Loss: 1.18450, Test Acc: 62.84%\n",
      "Epoch: 1330 | Loss: 0.68239, Acc: 75.90% | Test Loss: 1.18970, Test Acc: 63.65%\n",
      "Epoch: 1340 | Loss: 0.66016, Acc: 76.88% | Test Loss: 1.14345, Test Acc: 64.64%\n",
      "Epoch: 1350 | Loss: 0.69388, Acc: 74.89% | Test Loss: 1.19744, Test Acc: 64.04%\n",
      "Epoch: 1360 | Loss: 0.70703, Acc: 75.20% | Test Loss: 1.18224, Test Acc: 63.57%\n",
      "Epoch: 1370 | Loss: 0.66641, Acc: 76.15% | Test Loss: 1.19528, Test Acc: 63.04%\n",
      "Epoch: 1380 | Loss: 0.65930, Acc: 76.72% | Test Loss: 1.16878, Test Acc: 64.93%\n",
      "Epoch: 1390 | Loss: 0.72051, Acc: 73.32% | Test Loss: 1.25407, Test Acc: 61.90%\n",
      "Epoch: 1400 | Loss: 0.71076, Acc: 74.26% | Test Loss: 1.22494, Test Acc: 63.42%\n",
      "Epoch: 1410 | Loss: 0.64292, Acc: 77.39% | Test Loss: 1.17893, Test Acc: 64.51%\n",
      "Epoch: 1420 | Loss: 0.65651, Acc: 76.54% | Test Loss: 1.23330, Test Acc: 63.47%\n",
      "Epoch: 1430 | Loss: 0.63950, Acc: 77.59% | Test Loss: 1.18853, Test Acc: 64.70%\n",
      "Epoch: 1440 | Loss: 0.63780, Acc: 77.23% | Test Loss: 1.21507, Test Acc: 63.77%\n",
      "Epoch: 1450 | Loss: 0.64647, Acc: 77.36% | Test Loss: 1.19103, Test Acc: 64.91%\n",
      "Epoch: 1460 | Loss: 0.72878, Acc: 73.90% | Test Loss: 1.29484, Test Acc: 62.35%\n",
      "Epoch: 1470 | Loss: 0.63733, Acc: 77.27% | Test Loss: 1.24919, Test Acc: 63.35%\n",
      "Epoch: 1480 | Loss: 0.69423, Acc: 74.87% | Test Loss: 1.24712, Test Acc: 63.08%\n",
      "Epoch: 1490 | Loss: 0.65123, Acc: 76.55% | Test Loss: 1.22647, Test Acc: 63.46%\n",
      "Epoch: 1500 | Loss: 0.68426, Acc: 75.76% | Test Loss: 1.28581, Test Acc: 64.35%\n",
      "Epoch: 1510 | Loss: 0.68967, Acc: 75.35% | Test Loss: 1.16889, Test Acc: 65.01%\n",
      "Epoch: 1520 | Loss: 0.66326, Acc: 76.37% | Test Loss: 1.25371, Test Acc: 63.86%\n",
      "Epoch: 1530 | Loss: 0.63025, Acc: 77.70% | Test Loss: 1.24029, Test Acc: 64.20%\n",
      "Epoch: 1540 | Loss: 0.92329, Acc: 68.98% | Test Loss: 1.36540, Test Acc: 60.90%\n",
      "Epoch: 1550 | Loss: 0.67317, Acc: 75.57% | Test Loss: 1.28203, Test Acc: 62.35%\n",
      "Epoch: 1560 | Loss: 0.65206, Acc: 76.90% | Test Loss: 1.28014, Test Acc: 64.01%\n",
      "Epoch: 1570 | Loss: 0.66865, Acc: 76.19% | Test Loss: 1.24087, Test Acc: 63.52%\n",
      "Epoch: 1580 | Loss: 0.65917, Acc: 76.40% | Test Loss: 1.24095, Test Acc: 64.30%\n",
      "Epoch: 1590 | Loss: 0.74539, Acc: 73.70% | Test Loss: 1.22964, Test Acc: 64.07%\n",
      "Epoch: 1600 | Loss: 0.69340, Acc: 74.61% | Test Loss: 1.25046, Test Acc: 62.96%\n",
      "Epoch: 1610 | Loss: 0.60861, Acc: 78.71% | Test Loss: 1.25510, Test Acc: 65.16%\n",
      "Epoch: 1620 | Loss: 0.70946, Acc: 75.01% | Test Loss: 1.40826, Test Acc: 61.49%\n",
      "Epoch: 1630 | Loss: 0.59112, Acc: 79.44% | Test Loss: 1.22984, Test Acc: 65.26%\n",
      "Epoch: 1640 | Loss: 0.61874, Acc: 77.97% | Test Loss: 1.29534, Test Acc: 63.73%\n",
      "Epoch: 1650 | Loss: 0.61806, Acc: 78.16% | Test Loss: 1.25055, Test Acc: 64.61%\n",
      "Epoch: 1660 | Loss: 0.68691, Acc: 74.85% | Test Loss: 1.35785, Test Acc: 62.05%\n",
      "Epoch: 1670 | Loss: 0.58242, Acc: 79.48% | Test Loss: 1.29690, Test Acc: 64.54%\n",
      "Epoch: 1680 | Loss: 0.65442, Acc: 76.57% | Test Loss: 1.32318, Test Acc: 62.89%\n",
      "Epoch: 1690 | Loss: 0.60171, Acc: 78.86% | Test Loss: 1.26816, Test Acc: 65.01%\n",
      "Epoch: 1700 | Loss: 0.70207, Acc: 74.45% | Test Loss: 1.31381, Test Acc: 63.18%\n",
      "Epoch: 1710 | Loss: 0.74763, Acc: 73.37% | Test Loss: 1.29834, Test Acc: 64.81%\n",
      "Epoch: 1720 | Loss: 0.75536, Acc: 72.67% | Test Loss: 1.35739, Test Acc: 62.40%\n",
      "Epoch: 1730 | Loss: 0.60434, Acc: 78.93% | Test Loss: 1.23196, Test Acc: 65.36%\n",
      "Epoch: 1740 | Loss: 0.69385, Acc: 74.67% | Test Loss: 1.32384, Test Acc: 62.32%\n",
      "Epoch: 1750 | Loss: 0.59493, Acc: 79.02% | Test Loss: 1.30768, Test Acc: 64.92%\n",
      "Epoch: 1760 | Loss: 0.65920, Acc: 76.16% | Test Loss: 1.32869, Test Acc: 63.19%\n",
      "Epoch: 1770 | Loss: 0.59355, Acc: 78.81% | Test Loss: 1.33926, Test Acc: 63.74%\n",
      "Epoch: 1780 | Loss: 1.25230, Acc: 65.46% | Test Loss: 1.90788, Test Acc: 51.07%\n",
      "Epoch: 1790 | Loss: 0.63202, Acc: 77.76% | Test Loss: 1.20500, Test Acc: 65.13%\n",
      "Epoch: 1800 | Loss: 0.58412, Acc: 79.64% | Test Loss: 1.23151, Test Acc: 65.52%\n",
      "Epoch: 1810 | Loss: 0.61410, Acc: 77.93% | Test Loss: 1.29460, Test Acc: 64.42%\n",
      "Epoch: 1820 | Loss: 0.57882, Acc: 79.78% | Test Loss: 1.24027, Test Acc: 65.61%\n",
      "Epoch: 1830 | Loss: 0.59061, Acc: 79.14% | Test Loss: 1.29699, Test Acc: 64.53%\n",
      "Epoch: 1840 | Loss: 0.62466, Acc: 78.23% | Test Loss: 1.34260, Test Acc: 63.71%\n",
      "Epoch: 1850 | Loss: 0.65016, Acc: 76.43% | Test Loss: 1.40383, Test Acc: 61.65%\n",
      "Epoch: 1860 | Loss: 0.56025, Acc: 80.30% | Test Loss: 1.34650, Test Acc: 64.38%\n",
      "Epoch: 1870 | Loss: 0.61675, Acc: 77.97% | Test Loss: 1.40580, Test Acc: 63.14%\n",
      "Epoch: 1880 | Loss: 0.57045, Acc: 79.90% | Test Loss: 1.40586, Test Acc: 63.95%\n",
      "Epoch: 1890 | Loss: 0.59776, Acc: 78.97% | Test Loss: 1.35157, Test Acc: 64.83%\n",
      "Epoch: 1900 | Loss: 0.59110, Acc: 79.18% | Test Loss: 1.40614, Test Acc: 63.99%\n",
      "Epoch: 1910 | Loss: 0.65122, Acc: 77.19% | Test Loss: 1.32626, Test Acc: 63.50%\n",
      "Epoch: 1920 | Loss: 0.57404, Acc: 79.51% | Test Loss: 1.31589, Test Acc: 64.39%\n",
      "Epoch: 1930 | Loss: 0.58813, Acc: 78.76% | Test Loss: 1.39452, Test Acc: 63.67%\n",
      "Epoch: 1940 | Loss: 0.55648, Acc: 80.57% | Test Loss: 1.41138, Test Acc: 64.37%\n",
      "Epoch: 1950 | Loss: 0.65206, Acc: 76.54% | Test Loss: 1.26945, Test Acc: 64.95%\n",
      "Epoch: 1960 | Loss: 0.55227, Acc: 80.69% | Test Loss: 1.35720, Test Acc: 64.32%\n",
      "Epoch: 1970 | Loss: 0.60731, Acc: 78.32% | Test Loss: 1.38487, Test Acc: 64.09%\n",
      "Epoch: 1980 | Loss: 0.58414, Acc: 79.58% | Test Loss: 1.43628, Test Acc: 63.15%\n",
      "Epoch: 1990 | Loss: 0.53793, Acc: 81.24% | Test Loss: 1.38728, Test Acc: 64.92%\n"
     ]
    }
   ],
   "source": [
    "torch.manual_seed(42)\n",
    "mc_model = MultiClassModel(input_features=x_dim*y_dim, output_features=len(classes), hidden_units=HIDDEN_UNITS).to(device)\n",
    "\n",
    "loss_fn = nn.CrossEntropyLoss()\n",
    "optimiser = torch.optim.SGD(mc_model.parameters(), lr=LEARNING_RATE)\n",
    "epochs = EPOCHS\n",
    "\n",
    "# Split data into 80% train and 20% test subsets\n",
    "x_train, x_test, y_train, y_test = train_test_split(grids, routes_df['route_int'], test_size=0.2, shuffle=False, random_state=1)\n",
    "x_train, y_train = torch.as_tensor(x_train).float().to(device), torch.as_tensor(y_train.to_numpy()).to(device)\n",
    "x_test, y_test = torch.as_tensor(x_test).float().to(device), torch.as_tensor(y_test.to_numpy()).to(device)\n",
    "\n",
    "for epoch in range(epochs):\n",
    "    ### Training\n",
    "    mc_model.train()\n",
    "\n",
    "    # 1. Forward Pass\n",
    "    y_logits = mc_model(x_train)\n",
    "    y_pred = torch.softmax(y_logits, dim=1).argmax(dim=1)\n",
    "\n",
    "    # 2. Calculate loss and energy\n",
    "    loss = loss_fn(y_logits, y_train)\n",
    "    acc = accuracy_fn(y_true=y_train, y_pred=y_pred)\n",
    "\n",
    "    # 3. Optimiser zero grad (clear gradients)\n",
    "    optimiser.zero_grad()\n",
    "\n",
    "    # 4. Loss backwards\n",
    "    loss.backward()\n",
    "\n",
    "    # 5. Optimiser step\n",
    "    optimiser.step()\n",
    "\n",
    "    ### Testing\n",
    "    mc_model.eval()\n",
    "    with torch.inference_mode():\n",
    "      # 1. Forward pass\n",
    "      test_logits = mc_model(x_test)\n",
    "      test_pred = torch.softmax(test_logits, dim=1).argmax(dim=1)\n",
    "      # 2. Calculate test loss and accuracy\n",
    "      test_loss = loss_fn(test_logits, y_test)\n",
    "      test_acc = accuracy_fn(y_true=y_test,\n",
    "                             y_pred=test_pred)\n",
    "\n",
    "    # Print out what's happening\n",
    "    if epoch % 10 == 0:\n",
    "        pass\n",
    "        print(f\"Epoch: {epoch} | Loss: {loss:.5f}, Acc: {acc:.2f}% | Test Loss: {test_loss:.5f}, Test Acc: {test_acc:.2f}%\")"
   ],
   "metadata": {
    "collapsed": false,
    "pycharm": {
     "name": "#%%\n"
    }
   }
  },
  {
   "cell_type": "code",
   "execution_count": 110,
   "outputs": [
    {
     "name": "stdout",
     "output_type": "stream",
     "text": [
      "Test accuracy: 65.08%\n"
     ]
    }
   ],
   "source": [
    "mc_model.eval()\n",
    "with torch.inference_mode():\n",
    "    y_logits = mc_model(x_test)\n",
    "\n",
    "y_pred_probs = torch.softmax(y_logits, dim=1)\n",
    "y_preds = y_pred_probs.argmax(dim=1)\n",
    "\n",
    "#print(f'Predictions: {y_preds}\\nLabels: {y_test}')\n",
    "print(f'Test accuracy: {accuracy_fn(y_true=y_test, y_pred=y_preds):.2f}%')"
   ],
   "metadata": {
    "collapsed": false,
    "pycharm": {
     "name": "#%%\n"
    }
   }
  },
  {
   "cell_type": "code",
   "execution_count": null,
   "outputs": [],
   "source": [
    "print(\n",
    "    f'Classification report for classifier {mc_model}:\\n'\n",
    "    f'{metrics.classification_report(y_test.cpu(), y_preds.cpu())}\\n'\n",
    ")"
   ],
   "metadata": {
    "collapsed": false,
    "pycharm": {
     "name": "#%%\n"
    }
   }
  },
  {
   "cell_type": "code",
   "execution_count": null,
   "outputs": [],
   "source": [
    "disp2 = metrics.ConfusionMatrixDisplay.from_predictions(y_test.cpu(), y_preds.cpu())\n",
    "disp2.figure_.suptitle('Confusion Matrix')\n",
    "print(f'Confusion Matrix:\\n{disp2.confusion_matrix}')\n",
    "plt.xlabel(classes)\n",
    "plt.show()"
   ],
   "metadata": {
    "collapsed": false,
    "pycharm": {
     "name": "#%%\n"
    }
   }
  }
 ],
 "metadata": {
  "kernelspec": {
   "display_name": "Python 3",
   "language": "python",
   "name": "python3"
  },
  "language_info": {
   "codemirror_mode": {
    "name": "ipython",
    "version": 2
   },
   "file_extension": ".py",
   "mimetype": "text/x-python",
   "name": "python",
   "nbconvert_exporter": "python",
   "pygments_lexer": "ipython2",
   "version": "2.7.6"
  }
 },
 "nbformat": 4,
 "nbformat_minor": 0
}