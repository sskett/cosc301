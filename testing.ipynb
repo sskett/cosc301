{
 "cells": [
  {
   "cell_type": "code",
   "execution_count": 53,
   "outputs": [],
   "source": [
    "import pandas as pd\n",
    "import pandas_profiling as pp\n",
    "import numpy as np\n",
    "import sklearn\n",
    "import matplotlib.pyplot as plt\n",
    "\n",
    "from sklearn.cluster import KMeans\n",
    "from sklearn.cluster import AgglomerativeClustering\n",
    "from sklearn.metrics import silhouette_score\n",
    "from sklearn.preprocessing import normalize\n",
    "from scipy.cluster.hierarchy import dendrogram\n",
    "import scipy.cluster.hierarchy as shc\n",
    "from itertools import combinations"
   ],
   "metadata": {
    "collapsed": false,
    "pycharm": {
     "name": "#%%\n"
    }
   }
  },
  {
   "cell_type": "code",
   "execution_count": 54,
   "outputs": [],
   "source": [
    "def define_pandas_options():\n",
    "    pd.set_option('display.max_rows', None)\n",
    "    pd.set_option('display.max_columns', None)\n",
    "    pd.set_option('display.width', None)\n",
    "    pd.set_option('display.max_colwidth', None)\n",
    "    pd.set_option('display.float_format', lambda x: '%.5f' % x)"
   ],
   "metadata": {
    "collapsed": false,
    "pycharm": {
     "name": "#%%\n"
    }
   }
  },
  {
   "cell_type": "code",
   "execution_count": 77,
   "outputs": [],
   "source": [
    "pl_cols = ['gameId', 'playId', 'offense_h_play', 'offense_h_presnap', 'offense_h_to_throw', 'offense_h_to_arrived', 'offense_h_to_end', 'defense_h_play', 'defense_h_presnap', 'defense_h_to_throw', 'defense_h_to_arrived', 'defense_h_to_end', 'offense_p_play', 'offense_p_presnap', 'offense_p_to_throw', 'offense_p_to_arrived', 'offense_p_to_end', 'offense_m_play', 'offense_m_presnap', 'offense_m_to_throw', 'offense_m_to_arrived', 'offense_m_to_end', 'offense_v_play', 'offense_v_presnap', 'offense_v_to_throw', 'offense_v_to_arrived', 'offense_v_to_end', 'offense_a_play', 'offense_a_presnap', 'offense_a_to_throw', 'offense_a_to_arrived','offense_a_to_end', 'defense_p_play', 'defense_p_presnap','defense_p_to_throw', 'defense_p_to_arrived', 'defense_p_to_end','defense_m_play', 'defense_m_presnap', 'defense_m_to_throw','defense_m_to_arrived', 'defense_m_to_end', 'defense_v_play', 'defense_v_presnap', 'defense_v_to_throw', 'defense_v_to_arrived','defense_v_to_end', 'defense_a_play', 'defense_a_presnap','defense_a_to_throw', 'defense_a_to_arrived', 'defense_a_to_end','HITCH', 'OUT', 'FLAT', 'CROSS', 'GO', 'SLANT', 'SCREEN', 'CORNER', 'IN', 'ANGLE', 'POST', 'WHEEL', 'num_routes']\n",
    "play_df = pd.read_csv('d20_intermediate_files/play_results.csv', usecols=pl_cols)\n",
    "play_df.drop(play_df[play_df['num_routes'] == 0].index, inplace=True)\n",
    "play_df.dropna(inplace=True)\n",
    "\n",
    "fr_cols = ['gameId', 'playId', 'frameId', 'offense_p_group', 'defense_p_group', 'offense_m_group', 'defense_m_group', 'o_state', 'd_state', 'offense_v_group', 'defense_v_group', 'offense_a_group', 'defense_a_group', 'a_group_ratio']\n",
    "frame_df = pd.read_csv('d20_intermediate_files/frame_results.csv', usecols=fr_cols)\n",
    "\n",
    "tr_cols = ['time', 's', 'a', 'dis', 'event', 'nflId', 'displayName', 'jerseyNumber', 'position', 'frameId', 'team', 'gameId', 'playId', 'playDirection', 'route', 'pos', 'teamType', 'o_vec', 'dir_vec', 'r_vec']\n",
    "tracking_df = pd.read_csv('d20_intermediate_files/tracking_results.csv', usecols=tr_cols)"
   ],
   "metadata": {
    "collapsed": false,
    "pycharm": {
     "name": "#%%\n"
    }
   }
  },
  {
   "cell_type": "code",
   "execution_count": 78,
   "outputs": [
    {
     "data": {
      "text/plain": "         gameId  playId  offense_h_play  offense_h_presnap  \\\n0    2018091602      51        4.563989          -0.000000   \n1    2018091602      75        4.739197           0.329846   \n2    2018091602     141        5.244124          -0.000000   \n4    2018091602     199        5.311352           1.081988   \n5    2018091602     242        5.432691          -0.000000   \n..          ...     ...             ...                ...   \n235  2018092304    3330        5.629911           0.113274   \n238  2018092304    3567        5.555004          -0.000000   \n239  2018092304    3803        5.154549           0.266765   \n240  2018092304    3832        4.762376          -0.000000   \n241  2018092304    3864        5.831064           0.113274   \n\n     offense_h_to_throw  offense_h_to_arrived  offense_h_to_end  \\\n0              4.318318              4.425326          3.596252   \n1              4.211677              3.829987          4.649391   \n2              5.631546              4.078897          3.637780   \n4              4.670134              3.324092          5.122701   \n5              5.818093              3.419382          4.343448   \n..                  ...                   ...               ...   \n235            5.564091              4.195752          4.782337   \n238            4.712670              3.531645          5.311345   \n239            4.169312              3.695190          4.942504   \n240            5.029039              3.698998          3.578697   \n241            4.602851              4.006867          5.778990   \n\n     defense_h_play  defense_h_presnap  defense_h_to_throw  ...  CROSS  GO  \\\n0          4.301343           0.237508            3.887902  ...      0   1   \n1          5.660144           2.066397            4.342403  ...      0   1   \n2          5.242657           1.214913            5.182584  ...      1   0   \n4          5.035327           2.011104            3.369678  ...      0   1   \n5          5.841834           1.557855            5.692065  ...      2   0   \n..              ...                ...                 ...  ...    ...  ..   \n235        5.337208           0.890305            4.835691  ...      1   0   \n238        5.426882           0.520335            4.006425  ...      0   0   \n239        5.624974           1.907458            3.969413  ...      1   2   \n240        5.279938           2.125105            5.063748  ...      2   0   \n241        5.880623           2.222062            4.144491  ...      2   1   \n\n     SLANT  SCREEN  CORNER  IN  ANGLE  POST  WHEEL  num_routes  \n0        0       0       0   1      0     0      0           5  \n1        0       1       0   0      1     0      0           3  \n2        0       0       0   1      0     0      0           5  \n4        1       1       0   1      0     1      0           5  \n5        0       0       1   0      0     0      0           5  \n..     ...     ...     ...  ..    ...   ...    ...         ...  \n235      1       0       1   0      0     0      0           4  \n238      2       1       0   0      0     0      0           5  \n239      0       0       0   0      0     0      0           5  \n240      0       0       0   0      0     1      0           5  \n241      0       0       0   0      1     0      0           5  \n\n[123 rows x 65 columns]",
      "text/html": "<div>\n<style scoped>\n    .dataframe tbody tr th:only-of-type {\n        vertical-align: middle;\n    }\n\n    .dataframe tbody tr th {\n        vertical-align: top;\n    }\n\n    .dataframe thead th {\n        text-align: right;\n    }\n</style>\n<table border=\"1\" class=\"dataframe\">\n  <thead>\n    <tr style=\"text-align: right;\">\n      <th></th>\n      <th>gameId</th>\n      <th>playId</th>\n      <th>offense_h_play</th>\n      <th>offense_h_presnap</th>\n      <th>offense_h_to_throw</th>\n      <th>offense_h_to_arrived</th>\n      <th>offense_h_to_end</th>\n      <th>defense_h_play</th>\n      <th>defense_h_presnap</th>\n      <th>defense_h_to_throw</th>\n      <th>...</th>\n      <th>CROSS</th>\n      <th>GO</th>\n      <th>SLANT</th>\n      <th>SCREEN</th>\n      <th>CORNER</th>\n      <th>IN</th>\n      <th>ANGLE</th>\n      <th>POST</th>\n      <th>WHEEL</th>\n      <th>num_routes</th>\n    </tr>\n  </thead>\n  <tbody>\n    <tr>\n      <th>0</th>\n      <td>2018091602</td>\n      <td>51</td>\n      <td>4.563989</td>\n      <td>-0.000000</td>\n      <td>4.318318</td>\n      <td>4.425326</td>\n      <td>3.596252</td>\n      <td>4.301343</td>\n      <td>0.237508</td>\n      <td>3.887902</td>\n      <td>...</td>\n      <td>0</td>\n      <td>1</td>\n      <td>0</td>\n      <td>0</td>\n      <td>0</td>\n      <td>1</td>\n      <td>0</td>\n      <td>0</td>\n      <td>0</td>\n      <td>5</td>\n    </tr>\n    <tr>\n      <th>1</th>\n      <td>2018091602</td>\n      <td>75</td>\n      <td>4.739197</td>\n      <td>0.329846</td>\n      <td>4.211677</td>\n      <td>3.829987</td>\n      <td>4.649391</td>\n      <td>5.660144</td>\n      <td>2.066397</td>\n      <td>4.342403</td>\n      <td>...</td>\n      <td>0</td>\n      <td>1</td>\n      <td>0</td>\n      <td>1</td>\n      <td>0</td>\n      <td>0</td>\n      <td>1</td>\n      <td>0</td>\n      <td>0</td>\n      <td>3</td>\n    </tr>\n    <tr>\n      <th>2</th>\n      <td>2018091602</td>\n      <td>141</td>\n      <td>5.244124</td>\n      <td>-0.000000</td>\n      <td>5.631546</td>\n      <td>4.078897</td>\n      <td>3.637780</td>\n      <td>5.242657</td>\n      <td>1.214913</td>\n      <td>5.182584</td>\n      <td>...</td>\n      <td>1</td>\n      <td>0</td>\n      <td>0</td>\n      <td>0</td>\n      <td>0</td>\n      <td>1</td>\n      <td>0</td>\n      <td>0</td>\n      <td>0</td>\n      <td>5</td>\n    </tr>\n    <tr>\n      <th>4</th>\n      <td>2018091602</td>\n      <td>199</td>\n      <td>5.311352</td>\n      <td>1.081988</td>\n      <td>4.670134</td>\n      <td>3.324092</td>\n      <td>5.122701</td>\n      <td>5.035327</td>\n      <td>2.011104</td>\n      <td>3.369678</td>\n      <td>...</td>\n      <td>0</td>\n      <td>1</td>\n      <td>1</td>\n      <td>1</td>\n      <td>0</td>\n      <td>1</td>\n      <td>0</td>\n      <td>1</td>\n      <td>0</td>\n      <td>5</td>\n    </tr>\n    <tr>\n      <th>5</th>\n      <td>2018091602</td>\n      <td>242</td>\n      <td>5.432691</td>\n      <td>-0.000000</td>\n      <td>5.818093</td>\n      <td>3.419382</td>\n      <td>4.343448</td>\n      <td>5.841834</td>\n      <td>1.557855</td>\n      <td>5.692065</td>\n      <td>...</td>\n      <td>2</td>\n      <td>0</td>\n      <td>0</td>\n      <td>0</td>\n      <td>1</td>\n      <td>0</td>\n      <td>0</td>\n      <td>0</td>\n      <td>0</td>\n      <td>5</td>\n    </tr>\n    <tr>\n      <th>...</th>\n      <td>...</td>\n      <td>...</td>\n      <td>...</td>\n      <td>...</td>\n      <td>...</td>\n      <td>...</td>\n      <td>...</td>\n      <td>...</td>\n      <td>...</td>\n      <td>...</td>\n      <td>...</td>\n      <td>...</td>\n      <td>...</td>\n      <td>...</td>\n      <td>...</td>\n      <td>...</td>\n      <td>...</td>\n      <td>...</td>\n      <td>...</td>\n      <td>...</td>\n      <td>...</td>\n    </tr>\n    <tr>\n      <th>235</th>\n      <td>2018092304</td>\n      <td>3330</td>\n      <td>5.629911</td>\n      <td>0.113274</td>\n      <td>5.564091</td>\n      <td>4.195752</td>\n      <td>4.782337</td>\n      <td>5.337208</td>\n      <td>0.890305</td>\n      <td>4.835691</td>\n      <td>...</td>\n      <td>1</td>\n      <td>0</td>\n      <td>1</td>\n      <td>0</td>\n      <td>1</td>\n      <td>0</td>\n      <td>0</td>\n      <td>0</td>\n      <td>0</td>\n      <td>4</td>\n    </tr>\n    <tr>\n      <th>238</th>\n      <td>2018092304</td>\n      <td>3567</td>\n      <td>5.555004</td>\n      <td>-0.000000</td>\n      <td>4.712670</td>\n      <td>3.531645</td>\n      <td>5.311345</td>\n      <td>5.426882</td>\n      <td>0.520335</td>\n      <td>4.006425</td>\n      <td>...</td>\n      <td>0</td>\n      <td>0</td>\n      <td>2</td>\n      <td>1</td>\n      <td>0</td>\n      <td>0</td>\n      <td>0</td>\n      <td>0</td>\n      <td>0</td>\n      <td>5</td>\n    </tr>\n    <tr>\n      <th>239</th>\n      <td>2018092304</td>\n      <td>3803</td>\n      <td>5.154549</td>\n      <td>0.266765</td>\n      <td>4.169312</td>\n      <td>3.695190</td>\n      <td>4.942504</td>\n      <td>5.624974</td>\n      <td>1.907458</td>\n      <td>3.969413</td>\n      <td>...</td>\n      <td>1</td>\n      <td>2</td>\n      <td>0</td>\n      <td>0</td>\n      <td>0</td>\n      <td>0</td>\n      <td>0</td>\n      <td>0</td>\n      <td>0</td>\n      <td>5</td>\n    </tr>\n    <tr>\n      <th>240</th>\n      <td>2018092304</td>\n      <td>3832</td>\n      <td>4.762376</td>\n      <td>-0.000000</td>\n      <td>5.029039</td>\n      <td>3.698998</td>\n      <td>3.578697</td>\n      <td>5.279938</td>\n      <td>2.125105</td>\n      <td>5.063748</td>\n      <td>...</td>\n      <td>2</td>\n      <td>0</td>\n      <td>0</td>\n      <td>0</td>\n      <td>0</td>\n      <td>0</td>\n      <td>0</td>\n      <td>1</td>\n      <td>0</td>\n      <td>5</td>\n    </tr>\n    <tr>\n      <th>241</th>\n      <td>2018092304</td>\n      <td>3864</td>\n      <td>5.831064</td>\n      <td>0.113274</td>\n      <td>4.602851</td>\n      <td>4.006867</td>\n      <td>5.778990</td>\n      <td>5.880623</td>\n      <td>2.222062</td>\n      <td>4.144491</td>\n      <td>...</td>\n      <td>2</td>\n      <td>1</td>\n      <td>0</td>\n      <td>0</td>\n      <td>0</td>\n      <td>0</td>\n      <td>1</td>\n      <td>0</td>\n      <td>0</td>\n      <td>5</td>\n    </tr>\n  </tbody>\n</table>\n<p>123 rows × 65 columns</p>\n</div>"
     },
     "execution_count": 78,
     "metadata": {},
     "output_type": "execute_result"
    }
   ],
   "source": [
    "play_df"
   ],
   "metadata": {
    "collapsed": false,
    "pycharm": {
     "name": "#%%\n"
    }
   }
  },
  {
   "cell_type": "code",
   "execution_count": 79,
   "outputs": [],
   "source": [
    "def string_to_vector(s):\n",
    "    try:\n",
    "        s = s.split('[')[1].split(']')[0]\n",
    "        x = float(s.split()[0])\n",
    "        y = float(s.split()[1])\n",
    "        return np.array([x, y])\n",
    "    except AttributeError:\n",
    "        return None\n",
    "\n",
    "def get_position_delta(row):\n",
    "    return row.s / 10 * row.dir_vec\n",
    "\n",
    "def get_relative_position(row):\n",
    "    if row.frameId == 1:\n",
    "        return np.array([0, 0])\n",
    "    else:\n",
    "        last_pos = row.shift(1).rel_pos\n",
    "        return last_pos + row.pos_delta"
   ],
   "metadata": {
    "collapsed": false,
    "pycharm": {
     "name": "#%%\n"
    }
   }
  },
  {
   "cell_type": "code",
   "execution_count": 80,
   "outputs": [],
   "source": [
    "tracking_df['pos'] = tracking_df['pos'].apply(string_to_vector)\n",
    "tracking_df['o_vec'] = tracking_df['o_vec'].apply(string_to_vector)\n",
    "tracking_df['dir_vec'] = tracking_df['dir_vec'].apply(string_to_vector)\n",
    "tracking_df['r_vec'] = tracking_df['r_vec'].apply(string_to_vector)"
   ],
   "metadata": {
    "collapsed": false,
    "pycharm": {
     "name": "#%%\n"
    }
   }
  },
  {
   "cell_type": "code",
   "execution_count": 81,
   "outputs": [],
   "source": [
    "# Attempt clustering of play data"
   ],
   "metadata": {
    "collapsed": false,
    "pycharm": {
     "name": "#%%\n"
    }
   }
  },
  {
   "cell_type": "code",
   "execution_count": 294,
   "outputs": [],
   "source": [
    "df = play_df[['gameId', 'playId', 'offense_h_presnap',\n",
    "       'offense_h_to_throw', 'offense_h_to_arrived',\n",
    "       'offense_p_presnap', 'offense_p_to_throw', 'offense_p_to_arrived',\n",
    "       'offense_m_presnap',\n",
    "       'offense_m_to_throw', 'offense_m_to_arrived', 'offense_v_presnap', 'offense_v_to_throw',\n",
    "       'offense_v_to_arrived',\n",
    "       'offense_a_presnap', 'offense_a_to_throw', 'offense_a_to_arrived',\n",
    "       'HITCH', 'OUT', 'FLAT', 'CROSS', 'GO', 'SLANT', 'SCREEN', 'CORNER',\n",
    "       'IN', 'ANGLE', 'POST', 'WHEEL', 'num_routes']].dropna().copy()\n",
    "\n",
    "df_scaled = normalize(df)\n",
    "df_scaled = pd.DataFrame(df_scaled, columns=df.columns).drop(['gameId', 'playId'], axis=1)"
   ],
   "metadata": {
    "collapsed": false,
    "pycharm": {
     "name": "#%%\n"
    }
   }
  },
  {
   "cell_type": "code",
   "execution_count": 85,
   "outputs": [],
   "source": [
    "km = KMeans(\n",
    "    n_clusters=8, init='random',\n",
    "    n_init=3, max_iter=300,\n",
    "    tol=1e-04, random_state=0\n",
    ")\n",
    "\n",
    "y_km = km.fit_predict(df_scaled)"
   ],
   "metadata": {
    "collapsed": false,
    "pycharm": {
     "name": "#%%\n"
    }
   }
  },
  {
   "cell_type": "code",
   "execution_count": 87,
   "outputs": [
    {
     "data": {
      "text/plain": "<Figure size 432x288 with 1 Axes>",
      "image/png": "[encoded data removed]"
     },
     "metadata": {
      "needs_background": "light"
     },
     "output_type": "display_data"
    }
   ],
   "source": [
    "distortions = []\n",
    "num_plays = 15\n",
    "\n",
    "for i in range(1, num_plays + 1):\n",
    "     km = KMeans(\n",
    "        n_clusters=i, init='random',\n",
    "        n_init=10, max_iter=300,\n",
    "        tol=1e-04, random_state=0\n",
    "    )\n",
    "     km.fit(df_scaled)\n",
    "     distortions.append(km.inertia_)\n",
    "\n",
    "plt.plot(range(1, num_plays + 1), distortions, marker='o')\n",
    "plt.xlabel('Number of clusters')\n",
    "plt.ylabel('Distortion')\n",
    "plt.title('Elbow method for Optimal K')\n",
    "plt.show()"
   ],
   "metadata": {
    "collapsed": false,
    "pycharm": {
     "name": "#%%\n"
    }
   }
  },
  {
   "cell_type": "code",
   "execution_count": 156,
   "outputs": [
    {
     "data": {
      "text/plain": "<Figure size 432x288 with 1 Axes>",
      "image/png": "[encoded data removed]"
     },
     "metadata": {
      "needs_background": "light"
     },
     "output_type": "display_data"
    }
   ],
   "source": [
    "range_clusters = [2, 3, 4, 5, 6, 7, 8, 9, 10, 11, 12, 13, 14, 15, 16, 17, 18, 19, 20]\n",
    "silhouette_avg = []\n",
    "for i in range_clusters:\n",
    "    km = KMeans(\n",
    "        n_clusters=i, init='random',\n",
    "        n_init=10, max_iter=300,\n",
    "        tol=1e-04, random_state=0\n",
    "    )\n",
    "    km.fit(df_scaled)\n",
    "    cluster_labels = km.labels_\n",
    "\n",
    "    silhouette_avg.append(silhouette_score(df_scaled, cluster_labels))\n",
    "\n",
    "plt.plot(range_clusters, silhouette_avg)\n",
    "plt.xlabel('Values of K')\n",
    "plt.ylabel('Silhouette Score')\n",
    "plt.title('Silhouette analysis for Optimal K')\n",
    "plt.show()"
   ],
   "metadata": {
    "collapsed": false,
    "pycharm": {
     "name": "#%%\n"
    }
   }
  },
  {
   "cell_type": "code",
   "execution_count": 166,
   "outputs": [],
   "source": [
    "limit = 0.0000001\n",
    "model = AgglomerativeClustering(linkage='ward',\n",
    "                                affinity='euclidean',\n",
    "                                distance_threshold=limit,\n",
    "                                n_clusters=None)\n",
    "model.fit(df_scaled)\n",
    "df['cluster'] = model.labels_"
   ],
   "metadata": {
    "collapsed": false,
    "pycharm": {
     "name": "#%%\n"
    }
   }
  },
  {
   "cell_type": "code",
   "execution_count": 228,
   "outputs": [
    {
     "data": {
      "text/plain": "<Figure size 432x288 with 1 Axes>",
      "image/png": "[encoded data removed]"
     },
     "metadata": {
      "needs_background": "light"
     },
     "output_type": "display_data"
    }
   ],
   "source": [
    "range_clusters = []\n",
    "n_samples = df_scaled.shape[0]\n",
    "[range_clusters.append(x) for x in range(2, 21)]\n",
    "silhouette_avg = []\n",
    "\n",
    "for i in range_clusters:\n",
    "    model = AgglomerativeClustering(linkage='ward',\n",
    "                                affinity='euclidean',\n",
    "                                distance_threshold=None,\n",
    "                                n_clusters=i)\n",
    "    model.fit(df_scaled)\n",
    "    cluster_labels = model.labels_\n",
    "    silhouette_avg.append(silhouette_score(df_scaled, cluster_labels))\n",
    "\n",
    "fig, ax = plt.subplots()\n",
    "ax.plot(range_clusters, silhouette_avg)\n",
    "ax.set_xlabel('Distance Threshold')\n",
    "ax.set_ylabel('Silhouette Score')\n",
    "ax.set_title('Silhouette analysis for Optimal Clusters')\n",
    "plt.show()"
   ],
   "metadata": {
    "collapsed": false,
    "pycharm": {
     "name": "#%%\n"
    }
   }
  },
  {
   "cell_type": "code",
   "execution_count": 303,
   "outputs": [
    {
     "data": {
      "text/plain": "AgglomerativeClustering()",
      "text/html": "<style>#sk-container-id-11 {color: black;background-color: white;}#sk-container-id-11 pre{padding: 0;}#sk-container-id-11 div.sk-toggleable {background-color: white;}#sk-container-id-11 label.sk-toggleable__label {cursor: pointer;display: block;width: 100%;margin-bottom: 0;padding: 0.3em;box-sizing: border-box;text-align: center;}#sk-container-id-11 label.sk-toggleable__label-arrow:before {content: \"▸\";float: left;margin-right: 0.25em;color: #696969;}#sk-container-id-11 label.sk-toggleable__label-arrow:hover:before {color: black;}#sk-container-id-11 div.sk-estimator:hover label.sk-toggleable__label-arrow:before {color: black;}#sk-container-id-11 div.sk-toggleable__content {max-height: 0;max-width: 0;overflow: hidden;text-align: left;background-color: #f0f8ff;}#sk-container-id-11 div.sk-toggleable__content pre {margin: 0.2em;color: black;border-radius: 0.25em;background-color: #f0f8ff;}#sk-container-id-11 input.sk-toggleable__control:checked~div.sk-toggleable__content {max-height: 200px;max-width: 100%;overflow: auto;}#sk-container-id-11 input.sk-toggleable__control:checked~label.sk-toggleable__label-arrow:before {content: \"▾\";}#sk-container-id-11 div.sk-estimator input.sk-toggleable__control:checked~label.sk-toggleable__label {background-color: #d4ebff;}#sk-container-id-11 div.sk-label input.sk-toggleable__control:checked~label.sk-toggleable__label {background-color: #d4ebff;}#sk-container-id-11 input.sk-hidden--visually {border: 0;clip: rect(1px 1px 1px 1px);clip: rect(1px, 1px, 1px, 1px);height: 1px;margin: -1px;overflow: hidden;padding: 0;position: absolute;width: 1px;}#sk-container-id-11 div.sk-estimator {font-family: monospace;background-color: #f0f8ff;border: 1px dotted black;border-radius: 0.25em;box-sizing: border-box;margin-bottom: 0.5em;}#sk-container-id-11 div.sk-estimator:hover {background-color: #d4ebff;}#sk-container-id-11 div.sk-parallel-item::after {content: \"\";width: 100%;border-bottom: 1px solid gray;flex-grow: 1;}#sk-container-id-11 div.sk-label:hover label.sk-toggleable__label {background-color: #d4ebff;}#sk-container-id-11 div.sk-serial::before {content: \"\";position: absolute;border-left: 1px solid gray;box-sizing: border-box;top: 0;bottom: 0;left: 50%;z-index: 0;}#sk-container-id-11 div.sk-serial {display: flex;flex-direction: column;align-items: center;background-color: white;padding-right: 0.2em;padding-left: 0.2em;position: relative;}#sk-container-id-11 div.sk-item {position: relative;z-index: 1;}#sk-container-id-11 div.sk-parallel {display: flex;align-items: stretch;justify-content: center;background-color: white;position: relative;}#sk-container-id-11 div.sk-item::before, #sk-container-id-11 div.sk-parallel-item::before {content: \"\";position: absolute;border-left: 1px solid gray;box-sizing: border-box;top: 0;bottom: 0;left: 50%;z-index: -1;}#sk-container-id-11 div.sk-parallel-item {display: flex;flex-direction: column;z-index: 1;position: relative;background-color: white;}#sk-container-id-11 div.sk-parallel-item:first-child::after {align-self: flex-end;width: 50%;}#sk-container-id-11 div.sk-parallel-item:last-child::after {align-self: flex-start;width: 50%;}#sk-container-id-11 div.sk-parallel-item:only-child::after {width: 0;}#sk-container-id-11 div.sk-dashed-wrapped {border: 1px dashed gray;margin: 0 0.4em 0.5em 0.4em;box-sizing: border-box;padding-bottom: 0.4em;background-color: white;}#sk-container-id-11 div.sk-label label {font-family: monospace;font-weight: bold;display: inline-block;line-height: 1.2em;}#sk-container-id-11 div.sk-label-container {text-align: center;}#sk-container-id-11 div.sk-container {/* jupyter's `normalize.less` sets `[hidden] { display: none; }` but bootstrap.min.css set `[hidden] { display: none !important; }` so we also need the `!important` here to be able to override the default hidden behavior on the sphinx rendered scikit-learn.org. See: https://github.com/scikit-learn/scikit-learn/issues/21755 */display: inline-block !important;position: relative;}#sk-container-id-11 div.sk-text-repr-fallback {display: none;}</style><div id=\"sk-container-id-11\" class=\"sk-top-container\"><div class=\"sk-text-repr-fallback\"><pre>AgglomerativeClustering()</pre><b>In a Jupyter environment, please rerun this cell to show the HTML representation or trust the notebook. <br />On GitHub, the HTML representation is unable to render, please try loading this page with nbviewer.org.</b></div><div class=\"sk-container\" hidden><div class=\"sk-item\"><div class=\"sk-estimator sk-toggleable\"><input class=\"sk-toggleable__control sk-hidden--visually\" id=\"sk-estimator-id-11\" type=\"checkbox\" checked><label for=\"sk-estimator-id-11\" class=\"sk-toggleable__label sk-toggleable__label-arrow\">AgglomerativeClustering</label><div class=\"sk-toggleable__content\"><pre>AgglomerativeClustering()</pre></div></div></div></div></div>"
     },
     "execution_count": 303,
     "metadata": {},
     "output_type": "execute_result"
    }
   ],
   "source": [
    "model = AgglomerativeClustering(linkage='ward',\n",
    "                                affinity='euclidean',\n",
    "                                distance_threshold=None,\n",
    "                                n_clusters=2)\n",
    "model.fit(df_scaled)"
   ],
   "metadata": {
    "collapsed": false,
    "pycharm": {
     "name": "#%%\n"
    }
   }
  },
  {
   "cell_type": "code",
   "execution_count": 304,
   "outputs": [
    {
     "name": "stdout",
     "output_type": "stream",
     "text": [
      "0    86\n",
      "1    37\n",
      "Name: cluster, dtype: int64\n"
     ]
    }
   ],
   "source": [
    "df_scaled['cluster'] = model.labels_\n",
    "print(df_scaled['cluster'].value_counts())"
   ],
   "metadata": {
    "collapsed": false,
    "pycharm": {
     "name": "#%%\n"
    }
   }
  },
  {
   "cell_type": "code",
   "execution_count": 305,
   "outputs": [
    {
     "data": {
      "text/plain": "RandomForestClassifier(random_state=0)",
      "text/html": "<style>#sk-container-id-12 {color: black;background-color: white;}#sk-container-id-12 pre{padding: 0;}#sk-container-id-12 div.sk-toggleable {background-color: white;}#sk-container-id-12 label.sk-toggleable__label {cursor: pointer;display: block;width: 100%;margin-bottom: 0;padding: 0.3em;box-sizing: border-box;text-align: center;}#sk-container-id-12 label.sk-toggleable__label-arrow:before {content: \"▸\";float: left;margin-right: 0.25em;color: #696969;}#sk-container-id-12 label.sk-toggleable__label-arrow:hover:before {color: black;}#sk-container-id-12 div.sk-estimator:hover label.sk-toggleable__label-arrow:before {color: black;}#sk-container-id-12 div.sk-toggleable__content {max-height: 0;max-width: 0;overflow: hidden;text-align: left;background-color: #f0f8ff;}#sk-container-id-12 div.sk-toggleable__content pre {margin: 0.2em;color: black;border-radius: 0.25em;background-color: #f0f8ff;}#sk-container-id-12 input.sk-toggleable__control:checked~div.sk-toggleable__content {max-height: 200px;max-width: 100%;overflow: auto;}#sk-container-id-12 input.sk-toggleable__control:checked~label.sk-toggleable__label-arrow:before {content: \"▾\";}#sk-container-id-12 div.sk-estimator input.sk-toggleable__control:checked~label.sk-toggleable__label {background-color: #d4ebff;}#sk-container-id-12 div.sk-label input.sk-toggleable__control:checked~label.sk-toggleable__label {background-color: #d4ebff;}#sk-container-id-12 input.sk-hidden--visually {border: 0;clip: rect(1px 1px 1px 1px);clip: rect(1px, 1px, 1px, 1px);height: 1px;margin: -1px;overflow: hidden;padding: 0;position: absolute;width: 1px;}#sk-container-id-12 div.sk-estimator {font-family: monospace;background-color: #f0f8ff;border: 1px dotted black;border-radius: 0.25em;box-sizing: border-box;margin-bottom: 0.5em;}#sk-container-id-12 div.sk-estimator:hover {background-color: #d4ebff;}#sk-container-id-12 div.sk-parallel-item::after {content: \"\";width: 100%;border-bottom: 1px solid gray;flex-grow: 1;}#sk-container-id-12 div.sk-label:hover label.sk-toggleable__label {background-color: #d4ebff;}#sk-container-id-12 div.sk-serial::before {content: \"\";position: absolute;border-left: 1px solid gray;box-sizing: border-box;top: 0;bottom: 0;left: 50%;z-index: 0;}#sk-container-id-12 div.sk-serial {display: flex;flex-direction: column;align-items: center;background-color: white;padding-right: 0.2em;padding-left: 0.2em;position: relative;}#sk-container-id-12 div.sk-item {position: relative;z-index: 1;}#sk-container-id-12 div.sk-parallel {display: flex;align-items: stretch;justify-content: center;background-color: white;position: relative;}#sk-container-id-12 div.sk-item::before, #sk-container-id-12 div.sk-parallel-item::before {content: \"\";position: absolute;border-left: 1px solid gray;box-sizing: border-box;top: 0;bottom: 0;left: 50%;z-index: -1;}#sk-container-id-12 div.sk-parallel-item {display: flex;flex-direction: column;z-index: 1;position: relative;background-color: white;}#sk-container-id-12 div.sk-parallel-item:first-child::after {align-self: flex-end;width: 50%;}#sk-container-id-12 div.sk-parallel-item:last-child::after {align-self: flex-start;width: 50%;}#sk-container-id-12 div.sk-parallel-item:only-child::after {width: 0;}#sk-container-id-12 div.sk-dashed-wrapped {border: 1px dashed gray;margin: 0 0.4em 0.5em 0.4em;box-sizing: border-box;padding-bottom: 0.4em;background-color: white;}#sk-container-id-12 div.sk-label label {font-family: monospace;font-weight: bold;display: inline-block;line-height: 1.2em;}#sk-container-id-12 div.sk-label-container {text-align: center;}#sk-container-id-12 div.sk-container {/* jupyter's `normalize.less` sets `[hidden] { display: none; }` but bootstrap.min.css set `[hidden] { display: none !important; }` so we also need the `!important` here to be able to override the default hidden behavior on the sphinx rendered scikit-learn.org. See: https://github.com/scikit-learn/scikit-learn/issues/21755 */display: inline-block !important;position: relative;}#sk-container-id-12 div.sk-text-repr-fallback {display: none;}</style><div id=\"sk-container-id-12\" class=\"sk-top-container\"><div class=\"sk-text-repr-fallback\"><pre>RandomForestClassifier(random_state=0)</pre><b>In a Jupyter environment, please rerun this cell to show the HTML representation or trust the notebook. <br />On GitHub, the HTML representation is unable to render, please try loading this page with nbviewer.org.</b></div><div class=\"sk-container\" hidden><div class=\"sk-item\"><div class=\"sk-estimator sk-toggleable\"><input class=\"sk-toggleable__control sk-hidden--visually\" id=\"sk-estimator-id-12\" type=\"checkbox\" checked><label for=\"sk-estimator-id-12\" class=\"sk-toggleable__label sk-toggleable__label-arrow\">RandomForestClassifier</label><div class=\"sk-toggleable__content\"><pre>RandomForestClassifier(random_state=0)</pre></div></div></div></div></div>"
     },
     "execution_count": 305,
     "metadata": {},
     "output_type": "execute_result"
    }
   ],
   "source": [
    "from sklearn.ensemble import RandomForestClassifier\n",
    "clf = RandomForestClassifier(random_state=0)\n",
    "clf.fit(df_scaled[['offense_h_presnap', 'offense_h_to_throw', 'offense_h_to_arrived',\n",
    "       'offense_p_presnap', 'offense_p_to_throw', 'offense_p_to_arrived',\n",
    "       'offense_m_presnap', 'offense_m_to_throw', 'offense_m_to_arrived',\n",
    "       'offense_v_presnap', 'offense_v_to_throw', 'offense_v_to_arrived',\n",
    "       'offense_a_presnap', 'offense_a_to_throw', 'offense_a_to_arrived',\n",
    "       'HITCH', 'OUT', 'FLAT', 'CROSS', 'GO', 'SLANT', 'SCREEN', 'CORNER',\n",
    "       'IN', 'ANGLE', 'POST', 'WHEEL']], df_scaled['cluster'])"
   ],
   "metadata": {
    "collapsed": false,
    "pycharm": {
     "name": "#%%\n"
    }
   }
  },
  {
   "cell_type": "code",
   "execution_count": 306,
   "outputs": [
    {
     "data": {
      "text/plain": "0.6991869918699187"
     },
     "execution_count": 306,
     "metadata": {},
     "output_type": "execute_result"
    }
   ],
   "source": [
    "clf.score(df_scaled[['offense_h_presnap', 'offense_h_to_throw', 'offense_h_to_arrived',\n",
    "       'offense_p_presnap', 'offense_p_to_throw', 'offense_p_to_arrived',\n",
    "       'offense_m_presnap', 'offense_m_to_throw', 'offense_m_to_arrived',\n",
    "       'offense_v_presnap', 'offense_v_to_throw', 'offense_v_to_arrived',\n",
    "       'offense_a_presnap', 'offense_a_to_throw', 'offense_a_to_arrived',\n",
    "       'HITCH', 'OUT', 'FLAT', 'CROSS', 'GO', 'SLANT', 'SCREEN', 'CORNER',\n",
    "       'IN', 'ANGLE', 'POST', 'WHEEL']], df_scaled['cluster'])"
   ],
   "metadata": {
    "collapsed": false,
    "pycharm": {
     "name": "#%%\n"
    }
   }
  },
  {
   "cell_type": "code",
   "execution_count": null,
   "outputs": [],
   "source": [
    "sorted_feature_weight_indexes = np.argsort(clf.feature_importances_)[::-1]\n",
    "\n",
    "most_imp_features = np.take_along_axis(\n",
    "    np.array(df_scaled.iloc[:, 1:28].columns.tolist()),\n",
    "    sorted_feature_weight_indexes, axis=0)\n",
    "most_imp_weights = np.take_along_axis(\n",
    "    np.array(clf.feature_importances_),\n",
    "    sorted_feature_weight_indexes, axis=0)\n",
    "\n",
    "list(zip(most_imp_features, most_imp_weights))"
   ],
   "metadata": {
    "collapsed": false,
    "pycharm": {
     "name": "#%%\n"
    }
   }
  },
  {
   "cell_type": "code",
   "execution_count": 264,
   "outputs": [
    {
     "data": {
      "text/plain": "array([0., 0., 0., 0., 0., 0., 0., 0., 0., 0., 0., 0., 0., 0., 0., 0., 0.,\n       0., 0., 0., 0., 0., 0., 0., 0., 0., 0.])"
     },
     "execution_count": 264,
     "metadata": {},
     "output_type": "execute_result"
    }
   ],
   "source": [
    "clf.feature_importances_"
   ],
   "metadata": {
    "collapsed": false,
    "pycharm": {
     "name": "#%%\n"
    }
   }
  },
  {
   "cell_type": "code",
   "execution_count": 262,
   "outputs": [
    {
     "data": {
      "text/plain": "     offense_h_presnap  offense_h_to_throw  offense_h_to_arrived  \\\n0        -0.000000e+00        2.139803e-09          2.192827e-09   \n1         1.634445e-10        2.086960e-09          1.897826e-09   \n2        -0.000000e+00        2.790530e-09          2.021165e-09   \n3         5.361441e-10        2.314134e-09          1.647146e-09   \n4        -0.000000e+00        2.882968e-09          1.694364e-09   \n..                 ...                 ...                   ...   \n118       5.612940e-11        2.757104e-09          2.079069e-09   \n119      -0.000000e+00        2.335210e-09          1.749992e-09   \n120       1.321867e-10        2.065967e-09          1.831031e-09   \n121      -0.000000e+00        2.491977e-09          1.832918e-09   \n122       5.612940e-11        2.280793e-09          1.985472e-09   \n\n     offense_p_presnap  offense_p_to_throw  offense_p_to_arrived  \\\n0         1.188526e-10        3.024231e-10          2.196935e-10   \n1         2.350800e-10        1.363060e-10          2.157313e-10   \n2         2.962438e-10        2.755622e-10          2.158115e-10   \n3         2.101253e-10        2.666717e-10          1.376139e-10   \n4         2.362618e-10        2.328780e-10          2.730207e-10   \n..                 ...                 ...                   ...   \n118       8.927506e-11        1.571982e-10          3.448700e-10   \n119       2.373395e-10        3.353290e-10          3.030397e-10   \n120       9.135558e-11        2.896089e-10          3.909149e-10   \n121       1.733760e-10        3.433332e-10          4.545964e-10   \n122       1.888842e-10        3.067684e-10          2.639163e-10   \n\n     offense_m_presnap  offense_m_to_throw  offense_m_to_arrived  \\\n0         6.097653e-11        1.425837e-10          1.988548e-10   \n1         1.649357e-10        1.516809e-10          1.079273e-10   \n2         9.072329e-11        8.866837e-11          1.839219e-10   \n3         1.644267e-10        1.495394e-10          2.162581e-10   \n4         1.480589e-10        2.238643e-10          1.341884e-10   \n..                 ...                 ...                   ...   \n118       1.563989e-10        1.730857e-10          1.545535e-10   \n119       5.990944e-11        1.131989e-10          1.443958e-10   \n120       9.217725e-11        1.333376e-10          7.787041e-11   \n121       9.949883e-11        1.232832e-10          1.030213e-10   \n122       1.357854e-10        1.305357e-10          9.178430e-11   \n\n     offense_v_presnap  ...          FLAT         CROSS            GO  \\\n0         4.613993e-12  ...  4.955176e-10  0.000000e+00  4.955176e-10   \n1         1.171512e-11  ...  0.000000e+00  0.000000e+00  4.955176e-10   \n2         5.071832e-12  ...  0.000000e+00  4.955176e-10  0.000000e+00   \n3         2.640190e-11  ...  0.000000e+00  0.000000e+00  4.955176e-10   \n4         5.526019e-12  ...  9.910353e-10  9.910353e-10  0.000000e+00   \n..                 ...  ...           ...           ...           ...   \n118       7.445588e-12  ...  4.955175e-10  4.955175e-10  0.000000e+00   \n119       2.864338e-12  ...  9.910349e-10  0.000000e+00  0.000000e+00   \n120       8.554056e-12  ...  4.955175e-10  4.955175e-10  9.910349e-10   \n121       9.142345e-12  ...  4.955175e-10  9.910349e-10  0.000000e+00   \n122       4.570809e-12  ...  0.000000e+00  9.910349e-10  4.955175e-10   \n\n            SLANT        SCREEN        CORNER            IN         ANGLE  \\\n0    0.000000e+00  0.000000e+00  0.000000e+00  4.955176e-10  0.000000e+00   \n1    0.000000e+00  4.955176e-10  0.000000e+00  0.000000e+00  4.955176e-10   \n2    0.000000e+00  0.000000e+00  0.000000e+00  4.955176e-10  0.000000e+00   \n3    4.955176e-10  4.955176e-10  0.000000e+00  4.955176e-10  0.000000e+00   \n4    0.000000e+00  0.000000e+00  4.955176e-10  0.000000e+00  0.000000e+00   \n..            ...           ...           ...           ...           ...   \n118  4.955175e-10  0.000000e+00  4.955175e-10  0.000000e+00  0.000000e+00   \n119  9.910349e-10  4.955175e-10  0.000000e+00  0.000000e+00  0.000000e+00   \n120  0.000000e+00  0.000000e+00  0.000000e+00  0.000000e+00  0.000000e+00   \n121  0.000000e+00  0.000000e+00  0.000000e+00  0.000000e+00  0.000000e+00   \n122  0.000000e+00  0.000000e+00  0.000000e+00  0.000000e+00  4.955175e-10   \n\n             POST  WHEEL  \n0    0.000000e+00    0.0  \n1    0.000000e+00    0.0  \n2    0.000000e+00    0.0  \n3    4.955176e-10    0.0  \n4    0.000000e+00    0.0  \n..            ...    ...  \n118  0.000000e+00    0.0  \n119  0.000000e+00    0.0  \n120  0.000000e+00    0.0  \n121  4.955175e-10    0.0  \n122  0.000000e+00    0.0  \n\n[123 rows x 27 columns]",
      "text/html": "<div>\n<style scoped>\n    .dataframe tbody tr th:only-of-type {\n        vertical-align: middle;\n    }\n\n    .dataframe tbody tr th {\n        vertical-align: top;\n    }\n\n    .dataframe thead th {\n        text-align: right;\n    }\n</style>\n<table border=\"1\" class=\"dataframe\">\n  <thead>\n    <tr style=\"text-align: right;\">\n      <th></th>\n      <th>offense_h_presnap</th>\n      <th>offense_h_to_throw</th>\n      <th>offense_h_to_arrived</th>\n      <th>offense_p_presnap</th>\n      <th>offense_p_to_throw</th>\n      <th>offense_p_to_arrived</th>\n      <th>offense_m_presnap</th>\n      <th>offense_m_to_throw</th>\n      <th>offense_m_to_arrived</th>\n      <th>offense_v_presnap</th>\n      <th>...</th>\n      <th>FLAT</th>\n      <th>CROSS</th>\n      <th>GO</th>\n      <th>SLANT</th>\n      <th>SCREEN</th>\n      <th>CORNER</th>\n      <th>IN</th>\n      <th>ANGLE</th>\n      <th>POST</th>\n      <th>WHEEL</th>\n    </tr>\n  </thead>\n  <tbody>\n    <tr>\n      <th>0</th>\n      <td>-0.000000e+00</td>\n      <td>2.139803e-09</td>\n      <td>2.192827e-09</td>\n      <td>1.188526e-10</td>\n      <td>3.024231e-10</td>\n      <td>2.196935e-10</td>\n      <td>6.097653e-11</td>\n      <td>1.425837e-10</td>\n      <td>1.988548e-10</td>\n      <td>4.613993e-12</td>\n      <td>...</td>\n      <td>4.955176e-10</td>\n      <td>0.000000e+00</td>\n      <td>4.955176e-10</td>\n      <td>0.000000e+00</td>\n      <td>0.000000e+00</td>\n      <td>0.000000e+00</td>\n      <td>4.955176e-10</td>\n      <td>0.000000e+00</td>\n      <td>0.000000e+00</td>\n      <td>0.0</td>\n    </tr>\n    <tr>\n      <th>1</th>\n      <td>1.634445e-10</td>\n      <td>2.086960e-09</td>\n      <td>1.897826e-09</td>\n      <td>2.350800e-10</td>\n      <td>1.363060e-10</td>\n      <td>2.157313e-10</td>\n      <td>1.649357e-10</td>\n      <td>1.516809e-10</td>\n      <td>1.079273e-10</td>\n      <td>1.171512e-11</td>\n      <td>...</td>\n      <td>0.000000e+00</td>\n      <td>0.000000e+00</td>\n      <td>4.955176e-10</td>\n      <td>0.000000e+00</td>\n      <td>4.955176e-10</td>\n      <td>0.000000e+00</td>\n      <td>0.000000e+00</td>\n      <td>4.955176e-10</td>\n      <td>0.000000e+00</td>\n      <td>0.0</td>\n    </tr>\n    <tr>\n      <th>2</th>\n      <td>-0.000000e+00</td>\n      <td>2.790530e-09</td>\n      <td>2.021165e-09</td>\n      <td>2.962438e-10</td>\n      <td>2.755622e-10</td>\n      <td>2.158115e-10</td>\n      <td>9.072329e-11</td>\n      <td>8.866837e-11</td>\n      <td>1.839219e-10</td>\n      <td>5.071832e-12</td>\n      <td>...</td>\n      <td>0.000000e+00</td>\n      <td>4.955176e-10</td>\n      <td>0.000000e+00</td>\n      <td>0.000000e+00</td>\n      <td>0.000000e+00</td>\n      <td>0.000000e+00</td>\n      <td>4.955176e-10</td>\n      <td>0.000000e+00</td>\n      <td>0.000000e+00</td>\n      <td>0.0</td>\n    </tr>\n    <tr>\n      <th>3</th>\n      <td>5.361441e-10</td>\n      <td>2.314134e-09</td>\n      <td>1.647146e-09</td>\n      <td>2.101253e-10</td>\n      <td>2.666717e-10</td>\n      <td>1.376139e-10</td>\n      <td>1.644267e-10</td>\n      <td>1.495394e-10</td>\n      <td>2.162581e-10</td>\n      <td>2.640190e-11</td>\n      <td>...</td>\n      <td>0.000000e+00</td>\n      <td>0.000000e+00</td>\n      <td>4.955176e-10</td>\n      <td>4.955176e-10</td>\n      <td>4.955176e-10</td>\n      <td>0.000000e+00</td>\n      <td>4.955176e-10</td>\n      <td>0.000000e+00</td>\n      <td>4.955176e-10</td>\n      <td>0.0</td>\n    </tr>\n    <tr>\n      <th>4</th>\n      <td>-0.000000e+00</td>\n      <td>2.882968e-09</td>\n      <td>1.694364e-09</td>\n      <td>2.362618e-10</td>\n      <td>2.328780e-10</td>\n      <td>2.730207e-10</td>\n      <td>1.480589e-10</td>\n      <td>2.238643e-10</td>\n      <td>1.341884e-10</td>\n      <td>5.526019e-12</td>\n      <td>...</td>\n      <td>9.910353e-10</td>\n      <td>9.910353e-10</td>\n      <td>0.000000e+00</td>\n      <td>0.000000e+00</td>\n      <td>0.000000e+00</td>\n      <td>4.955176e-10</td>\n      <td>0.000000e+00</td>\n      <td>0.000000e+00</td>\n      <td>0.000000e+00</td>\n      <td>0.0</td>\n    </tr>\n    <tr>\n      <th>...</th>\n      <td>...</td>\n      <td>...</td>\n      <td>...</td>\n      <td>...</td>\n      <td>...</td>\n      <td>...</td>\n      <td>...</td>\n      <td>...</td>\n      <td>...</td>\n      <td>...</td>\n      <td>...</td>\n      <td>...</td>\n      <td>...</td>\n      <td>...</td>\n      <td>...</td>\n      <td>...</td>\n      <td>...</td>\n      <td>...</td>\n      <td>...</td>\n      <td>...</td>\n      <td>...</td>\n    </tr>\n    <tr>\n      <th>118</th>\n      <td>5.612940e-11</td>\n      <td>2.757104e-09</td>\n      <td>2.079069e-09</td>\n      <td>8.927506e-11</td>\n      <td>1.571982e-10</td>\n      <td>3.448700e-10</td>\n      <td>1.563989e-10</td>\n      <td>1.730857e-10</td>\n      <td>1.545535e-10</td>\n      <td>7.445588e-12</td>\n      <td>...</td>\n      <td>4.955175e-10</td>\n      <td>4.955175e-10</td>\n      <td>0.000000e+00</td>\n      <td>4.955175e-10</td>\n      <td>0.000000e+00</td>\n      <td>4.955175e-10</td>\n      <td>0.000000e+00</td>\n      <td>0.000000e+00</td>\n      <td>0.000000e+00</td>\n      <td>0.0</td>\n    </tr>\n    <tr>\n      <th>119</th>\n      <td>-0.000000e+00</td>\n      <td>2.335210e-09</td>\n      <td>1.749992e-09</td>\n      <td>2.373395e-10</td>\n      <td>3.353290e-10</td>\n      <td>3.030397e-10</td>\n      <td>5.990944e-11</td>\n      <td>1.131989e-10</td>\n      <td>1.443958e-10</td>\n      <td>2.864338e-12</td>\n      <td>...</td>\n      <td>9.910349e-10</td>\n      <td>0.000000e+00</td>\n      <td>0.000000e+00</td>\n      <td>9.910349e-10</td>\n      <td>4.955175e-10</td>\n      <td>0.000000e+00</td>\n      <td>0.000000e+00</td>\n      <td>0.000000e+00</td>\n      <td>0.000000e+00</td>\n      <td>0.0</td>\n    </tr>\n    <tr>\n      <th>120</th>\n      <td>1.321867e-10</td>\n      <td>2.065967e-09</td>\n      <td>1.831031e-09</td>\n      <td>9.135558e-11</td>\n      <td>2.896089e-10</td>\n      <td>3.909149e-10</td>\n      <td>9.217725e-11</td>\n      <td>1.333376e-10</td>\n      <td>7.787041e-11</td>\n      <td>8.554056e-12</td>\n      <td>...</td>\n      <td>4.955175e-10</td>\n      <td>4.955175e-10</td>\n      <td>9.910349e-10</td>\n      <td>0.000000e+00</td>\n      <td>0.000000e+00</td>\n      <td>0.000000e+00</td>\n      <td>0.000000e+00</td>\n      <td>0.000000e+00</td>\n      <td>0.000000e+00</td>\n      <td>0.0</td>\n    </tr>\n    <tr>\n      <th>121</th>\n      <td>-0.000000e+00</td>\n      <td>2.491977e-09</td>\n      <td>1.832918e-09</td>\n      <td>1.733760e-10</td>\n      <td>3.433332e-10</td>\n      <td>4.545964e-10</td>\n      <td>9.949883e-11</td>\n      <td>1.232832e-10</td>\n      <td>1.030213e-10</td>\n      <td>9.142345e-12</td>\n      <td>...</td>\n      <td>4.955175e-10</td>\n      <td>9.910349e-10</td>\n      <td>0.000000e+00</td>\n      <td>0.000000e+00</td>\n      <td>0.000000e+00</td>\n      <td>0.000000e+00</td>\n      <td>0.000000e+00</td>\n      <td>0.000000e+00</td>\n      <td>4.955175e-10</td>\n      <td>0.0</td>\n    </tr>\n    <tr>\n      <th>122</th>\n      <td>5.612940e-11</td>\n      <td>2.280793e-09</td>\n      <td>1.985472e-09</td>\n      <td>1.888842e-10</td>\n      <td>3.067684e-10</td>\n      <td>2.639163e-10</td>\n      <td>1.357854e-10</td>\n      <td>1.305357e-10</td>\n      <td>9.178430e-11</td>\n      <td>4.570809e-12</td>\n      <td>...</td>\n      <td>0.000000e+00</td>\n      <td>9.910349e-10</td>\n      <td>4.955175e-10</td>\n      <td>0.000000e+00</td>\n      <td>0.000000e+00</td>\n      <td>0.000000e+00</td>\n      <td>0.000000e+00</td>\n      <td>4.955175e-10</td>\n      <td>0.000000e+00</td>\n      <td>0.0</td>\n    </tr>\n  </tbody>\n</table>\n<p>123 rows × 27 columns</p>\n</div>"
     },
     "execution_count": 262,
     "metadata": {},
     "output_type": "execute_result"
    }
   ],
   "source": [
    "df_scaled[['offense_h_presnap', 'offense_h_to_throw', 'offense_h_to_arrived',\n",
    "       'offense_p_presnap', 'offense_p_to_throw', 'offense_p_to_arrived',\n",
    "       'offense_m_presnap', 'offense_m_to_throw', 'offense_m_to_arrived',\n",
    "       'offense_v_presnap', 'offense_v_to_throw', 'offense_v_to_arrived',\n",
    "       'offense_a_presnap', 'offense_a_to_throw', 'offense_a_to_arrived',\n",
    "       'HITCH', 'OUT', 'FLAT', 'CROSS', 'GO', 'SLANT', 'SCREEN', 'CORNER',\n",
    "       'IN', 'ANGLE', 'POST', 'WHEEL']]"
   ],
   "metadata": {
    "collapsed": false,
    "pycharm": {
     "name": "#%%\n"
    }
   }
  },
  {
   "cell_type": "code",
   "execution_count": 216,
   "outputs": [
    {
     "name": "stdout",
     "output_type": "stream",
     "text": [
      "[5e-07, 4.5e-07, 4e-07, 3.5e-07, 3e-07, 2.5e-07, 2e-07, 1.5e-07, 1e-07, 5e-08]\n"
     ]
    },
    {
     "ename": "ValueError",
     "evalue": "Number of labels is 1. Valid values are 2 to n_samples - 1 (inclusive)",
     "output_type": "error",
     "traceback": [
      "\u001B[0;31m---------------------------------------------------------------------------\u001B[0m",
      "\u001B[0;31mValueError\u001B[0m                                Traceback (most recent call last)",
      "Input \u001B[0;32mIn [216]\u001B[0m, in \u001B[0;36m<cell line: 6>\u001B[0;34m()\u001B[0m\n\u001B[1;32m     12\u001B[0m     cluster_labels \u001B[38;5;241m=\u001B[39m model\u001B[38;5;241m.\u001B[39mlabels_\n\u001B[1;32m     13\u001B[0m     n_clusters\u001B[38;5;241m.\u001B[39mappend(\u001B[38;5;28mlen\u001B[39m(np\u001B[38;5;241m.\u001B[39munique(model\u001B[38;5;241m.\u001B[39mlabels_)))\n\u001B[0;32m---> 15\u001B[0m     silhouette_avg\u001B[38;5;241m.\u001B[39mappend(\u001B[43msilhouette_score\u001B[49m\u001B[43m(\u001B[49m\u001B[43mdf_scaled\u001B[49m\u001B[43m,\u001B[49m\u001B[43m \u001B[49m\u001B[43mcluster_labels\u001B[49m\u001B[43m)\u001B[49m)\n\u001B[1;32m     17\u001B[0m fig, ax \u001B[38;5;241m=\u001B[39m plt\u001B[38;5;241m.\u001B[39msubplots()\n\u001B[1;32m     18\u001B[0m ax\u001B[38;5;241m.\u001B[39mplot(range_limit, silhouette_avg)\n",
      "File \u001B[0;32m~/PycharmProjects/cosc301/venv/lib/python3.9/site-packages/sklearn/metrics/cluster/_unsupervised.py:117\u001B[0m, in \u001B[0;36msilhouette_score\u001B[0;34m(X, labels, metric, sample_size, random_state, **kwds)\u001B[0m\n\u001B[1;32m    115\u001B[0m     \u001B[38;5;28;01melse\u001B[39;00m:\n\u001B[1;32m    116\u001B[0m         X, labels \u001B[38;5;241m=\u001B[39m X[indices], labels[indices]\n\u001B[0;32m--> 117\u001B[0m \u001B[38;5;28;01mreturn\u001B[39;00m np\u001B[38;5;241m.\u001B[39mmean(\u001B[43msilhouette_samples\u001B[49m\u001B[43m(\u001B[49m\u001B[43mX\u001B[49m\u001B[43m,\u001B[49m\u001B[43m \u001B[49m\u001B[43mlabels\u001B[49m\u001B[43m,\u001B[49m\u001B[43m \u001B[49m\u001B[43mmetric\u001B[49m\u001B[38;5;241;43m=\u001B[39;49m\u001B[43mmetric\u001B[49m\u001B[43m,\u001B[49m\u001B[43m \u001B[49m\u001B[38;5;241;43m*\u001B[39;49m\u001B[38;5;241;43m*\u001B[39;49m\u001B[43mkwds\u001B[49m\u001B[43m)\u001B[49m)\n",
      "File \u001B[0;32m~/PycharmProjects/cosc301/venv/lib/python3.9/site-packages/sklearn/metrics/cluster/_unsupervised.py:231\u001B[0m, in \u001B[0;36msilhouette_samples\u001B[0;34m(X, labels, metric, **kwds)\u001B[0m\n\u001B[1;32m    229\u001B[0m n_samples \u001B[38;5;241m=\u001B[39m \u001B[38;5;28mlen\u001B[39m(labels)\n\u001B[1;32m    230\u001B[0m label_freqs \u001B[38;5;241m=\u001B[39m np\u001B[38;5;241m.\u001B[39mbincount(labels)\n\u001B[0;32m--> 231\u001B[0m \u001B[43mcheck_number_of_labels\u001B[49m\u001B[43m(\u001B[49m\u001B[38;5;28;43mlen\u001B[39;49m\u001B[43m(\u001B[49m\u001B[43mle\u001B[49m\u001B[38;5;241;43m.\u001B[39;49m\u001B[43mclasses_\u001B[49m\u001B[43m)\u001B[49m\u001B[43m,\u001B[49m\u001B[43m \u001B[49m\u001B[43mn_samples\u001B[49m\u001B[43m)\u001B[49m\n\u001B[1;32m    233\u001B[0m kwds[\u001B[38;5;124m\"\u001B[39m\u001B[38;5;124mmetric\u001B[39m\u001B[38;5;124m\"\u001B[39m] \u001B[38;5;241m=\u001B[39m metric\n\u001B[1;32m    234\u001B[0m reduce_func \u001B[38;5;241m=\u001B[39m functools\u001B[38;5;241m.\u001B[39mpartial(\n\u001B[1;32m    235\u001B[0m     _silhouette_reduce, labels\u001B[38;5;241m=\u001B[39mlabels, label_freqs\u001B[38;5;241m=\u001B[39mlabel_freqs\n\u001B[1;32m    236\u001B[0m )\n",
      "File \u001B[0;32m~/PycharmProjects/cosc301/venv/lib/python3.9/site-packages/sklearn/metrics/cluster/_unsupervised.py:33\u001B[0m, in \u001B[0;36mcheck_number_of_labels\u001B[0;34m(n_labels, n_samples)\u001B[0m\n\u001B[1;32m     22\u001B[0m \u001B[38;5;124;03m\"\"\"Check that number of labels are valid.\u001B[39;00m\n\u001B[1;32m     23\u001B[0m \n\u001B[1;32m     24\u001B[0m \u001B[38;5;124;03mParameters\u001B[39;00m\n\u001B[0;32m   (...)\u001B[0m\n\u001B[1;32m     30\u001B[0m \u001B[38;5;124;03m    Number of samples.\u001B[39;00m\n\u001B[1;32m     31\u001B[0m \u001B[38;5;124;03m\"\"\"\u001B[39;00m\n\u001B[1;32m     32\u001B[0m \u001B[38;5;28;01mif\u001B[39;00m \u001B[38;5;129;01mnot\u001B[39;00m \u001B[38;5;241m1\u001B[39m \u001B[38;5;241m<\u001B[39m n_labels \u001B[38;5;241m<\u001B[39m n_samples:\n\u001B[0;32m---> 33\u001B[0m     \u001B[38;5;28;01mraise\u001B[39;00m \u001B[38;5;167;01mValueError\u001B[39;00m(\n\u001B[1;32m     34\u001B[0m         \u001B[38;5;124m\"\u001B[39m\u001B[38;5;124mNumber of labels is \u001B[39m\u001B[38;5;132;01m%d\u001B[39;00m\u001B[38;5;124m. Valid values are 2 to n_samples - 1 (inclusive)\u001B[39m\u001B[38;5;124m\"\u001B[39m\n\u001B[1;32m     35\u001B[0m         \u001B[38;5;241m%\u001B[39m n_labels\n\u001B[1;32m     36\u001B[0m     )\n",
      "\u001B[0;31mValueError\u001B[0m: Number of labels is 1. Valid values are 2 to n_samples - 1 (inclusive)"
     ]
    }
   ],
   "source": [
    "range_limit = []\n",
    "[range_limit.append(n) for n in np.linspace(5*10**-7, 5*10**-8, 10)]\n",
    "print(range_limit)\n",
    "silhouette_avg = []\n",
    "n_clusters = []\n",
    "for i in range_limit:\n",
    "    model = AgglomerativeClustering(linkage='ward',\n",
    "                                affinity='euclidean',\n",
    "                                distance_threshold=i,\n",
    "                                n_clusters=None)\n",
    "    model.fit(df_scaled)\n",
    "    cluster_labels = model.labels_\n",
    "    n_clusters.append(len(np.unique(model.labels_)))\n",
    "\n",
    "    silhouette_avg.append(silhouette_score(df_scaled, cluster_labels))\n",
    "\n",
    "fig, ax = plt.subplots()\n",
    "ax.plot(range_limit, silhouette_avg)\n",
    "ax.set_xlabel('Distance Threshold')\n",
    "ax.set_ylabel('Silhouette Score')\n",
    "ax.set_title('Silhouette analysis for Optimal Clusters')\n",
    "ax2 = ax.twinx()\n",
    "ax2.plot(range_limit, n_clusters, color='r')\n",
    "ax2.set_ylabel('Number of clusters')\n",
    "plt.show()"
   ],
   "metadata": {
    "collapsed": false,
    "pycharm": {
     "name": "#%%\n"
    }
   }
  },
  {
   "cell_type": "code",
   "execution_count": 167,
   "outputs": [
    {
     "data": {
      "text/plain": "8"
     },
     "execution_count": 167,
     "metadata": {},
     "output_type": "execute_result"
    }
   ],
   "source": [
    "len(np.unique(model.labels_))"
   ],
   "metadata": {
    "collapsed": false,
    "pycharm": {
     "name": "#%%\n"
    }
   }
  },
  {
   "cell_type": "code",
   "execution_count": 150,
   "outputs": [
    {
     "data": {
      "text/plain": "cluster\n0     4\n1     2\n2     3\n3     5\n4     2\n     ..\n69    1\n70    1\n71    1\n72    1\n73    2\nLength: 74, dtype: int64"
     },
     "execution_count": 150,
     "metadata": {},
     "output_type": "execute_result"
    }
   ],
   "source": [
    "agglom_sizes = df.groupby('cluster').size()\n",
    "agglom_sizes"
   ],
   "metadata": {
    "collapsed": false,
    "pycharm": {
     "name": "#%%\n"
    }
   }
  },
  {
   "cell_type": "code",
   "execution_count": 151,
   "outputs": [
    {
     "data": {
      "text/plain": "offense_h_presnap         0.32672\noffense_h_to_throw        5.01410\noffense_h_to_arrived      4.21912\noffense_p_presnap         0.43686\noffense_p_to_throw        0.44648\noffense_p_to_arrived      0.48222\noffense_m_presnap         0.35593\noffense_m_to_throw        0.30515\noffense_m_to_arrived      0.39719\noffense_v_presnap         0.04954\noffense_v_to_throw        0.63288\noffense_v_to_arrived      1.06961\noffense_a_presnap        45.92950\noffense_a_to_throw       86.31813\noffense_a_to_arrived    241.81201\nHITCH                     0.66667\nOUT                       0.66667\nFLAT                      0.33333\nCROSS                     1.00000\nGO                        1.33333\nSLANT                     0.00000\nSCREEN                    0.00000\nCORNER                    0.33333\nIN                        0.33333\nANGLE                     0.33333\nPOST                      0.00000\nWHEEL                     0.00000\nnum_routes                5.00000\ndtype: object"
     },
     "execution_count": 151,
     "metadata": {},
     "output_type": "execute_result"
    }
   ],
   "source": [
    "cluster6 = df.drop(['gameId', 'playId', 'cluster'], axis=1).loc[(df['cluster'] == 6)]\n",
    "cluster6.mean().apply(lambda x: '%.5f' % x)"
   ],
   "metadata": {
    "collapsed": false,
    "pycharm": {
     "name": "#%%\n"
    }
   }
  },
  {
   "cell_type": "code",
   "execution_count": 99,
   "outputs": [
    {
     "data": {
      "text/plain": "       gameId  playId  offense_h_presnap  offense_h_to_throw  \\\n0  2018091602      51          -0.000000            4.318318   \n1  2018091602      75           0.329846            4.211677   \n2  2018091602     141          -0.000000            5.631546   \n4  2018091602     199           1.081988            4.670134   \n5  2018091602     242          -0.000000            5.818093   \n\n   offense_h_to_arrived  offense_p_presnap  offense_p_to_throw  \\\n0              4.425326           0.239856            0.610317   \n1              3.829987           0.474413            0.275078   \n2              4.078897           0.597847            0.556110   \n4              3.324092           0.424052            0.538168   \n5              3.419382           0.476798            0.469969   \n\n   offense_p_to_arrived  offense_m_presnap  offense_m_to_throw  ...  GO  \\\n0              0.443362           0.123056            0.287747  ...   1   \n1              0.435366           0.332855            0.306106  ...   1   \n2              0.435527           0.183088            0.178941  ...   0   \n4              0.277718           0.331828            0.301784  ...   1   \n5              0.550981           0.298796            0.451779  ...   0   \n\n   SLANT  SCREEN  CORNER  IN  ANGLE  POST  WHEEL  num_routes  cluster  \n0      0       0       0   1      0     0      0           5        0  \n1      0       1       0   0      1     0      0           3        1  \n2      0       0       0   1      0     0      0           5        5  \n4      1       1       0   1      0     1      0           5        3  \n5      0       0       1   0      0     0      0           5        5  \n\n[5 rows x 31 columns]",
      "text/html": "<div>\n<style scoped>\n    .dataframe tbody tr th:only-of-type {\n        vertical-align: middle;\n    }\n\n    .dataframe tbody tr th {\n        vertical-align: top;\n    }\n\n    .dataframe thead th {\n        text-align: right;\n    }\n</style>\n<table border=\"1\" class=\"dataframe\">\n  <thead>\n    <tr style=\"text-align: right;\">\n      <th></th>\n      <th>gameId</th>\n      <th>playId</th>\n      <th>offense_h_presnap</th>\n      <th>offense_h_to_throw</th>\n      <th>offense_h_to_arrived</th>\n      <th>offense_p_presnap</th>\n      <th>offense_p_to_throw</th>\n      <th>offense_p_to_arrived</th>\n      <th>offense_m_presnap</th>\n      <th>offense_m_to_throw</th>\n      <th>...</th>\n      <th>GO</th>\n      <th>SLANT</th>\n      <th>SCREEN</th>\n      <th>CORNER</th>\n      <th>IN</th>\n      <th>ANGLE</th>\n      <th>POST</th>\n      <th>WHEEL</th>\n      <th>num_routes</th>\n      <th>cluster</th>\n    </tr>\n  </thead>\n  <tbody>\n    <tr>\n      <th>0</th>\n      <td>2018091602</td>\n      <td>51</td>\n      <td>-0.000000</td>\n      <td>4.318318</td>\n      <td>4.425326</td>\n      <td>0.239856</td>\n      <td>0.610317</td>\n      <td>0.443362</td>\n      <td>0.123056</td>\n      <td>0.287747</td>\n      <td>...</td>\n      <td>1</td>\n      <td>0</td>\n      <td>0</td>\n      <td>0</td>\n      <td>1</td>\n      <td>0</td>\n      <td>0</td>\n      <td>0</td>\n      <td>5</td>\n      <td>0</td>\n    </tr>\n    <tr>\n      <th>1</th>\n      <td>2018091602</td>\n      <td>75</td>\n      <td>0.329846</td>\n      <td>4.211677</td>\n      <td>3.829987</td>\n      <td>0.474413</td>\n      <td>0.275078</td>\n      <td>0.435366</td>\n      <td>0.332855</td>\n      <td>0.306106</td>\n      <td>...</td>\n      <td>1</td>\n      <td>0</td>\n      <td>1</td>\n      <td>0</td>\n      <td>0</td>\n      <td>1</td>\n      <td>0</td>\n      <td>0</td>\n      <td>3</td>\n      <td>1</td>\n    </tr>\n    <tr>\n      <th>2</th>\n      <td>2018091602</td>\n      <td>141</td>\n      <td>-0.000000</td>\n      <td>5.631546</td>\n      <td>4.078897</td>\n      <td>0.597847</td>\n      <td>0.556110</td>\n      <td>0.435527</td>\n      <td>0.183088</td>\n      <td>0.178941</td>\n      <td>...</td>\n      <td>0</td>\n      <td>0</td>\n      <td>0</td>\n      <td>0</td>\n      <td>1</td>\n      <td>0</td>\n      <td>0</td>\n      <td>0</td>\n      <td>5</td>\n      <td>5</td>\n    </tr>\n    <tr>\n      <th>4</th>\n      <td>2018091602</td>\n      <td>199</td>\n      <td>1.081988</td>\n      <td>4.670134</td>\n      <td>3.324092</td>\n      <td>0.424052</td>\n      <td>0.538168</td>\n      <td>0.277718</td>\n      <td>0.331828</td>\n      <td>0.301784</td>\n      <td>...</td>\n      <td>1</td>\n      <td>1</td>\n      <td>1</td>\n      <td>0</td>\n      <td>1</td>\n      <td>0</td>\n      <td>1</td>\n      <td>0</td>\n      <td>5</td>\n      <td>3</td>\n    </tr>\n    <tr>\n      <th>5</th>\n      <td>2018091602</td>\n      <td>242</td>\n      <td>-0.000000</td>\n      <td>5.818093</td>\n      <td>3.419382</td>\n      <td>0.476798</td>\n      <td>0.469969</td>\n      <td>0.550981</td>\n      <td>0.298796</td>\n      <td>0.451779</td>\n      <td>...</td>\n      <td>0</td>\n      <td>0</td>\n      <td>0</td>\n      <td>1</td>\n      <td>0</td>\n      <td>0</td>\n      <td>0</td>\n      <td>0</td>\n      <td>5</td>\n      <td>5</td>\n    </tr>\n  </tbody>\n</table>\n<p>5 rows × 31 columns</p>\n</div>"
     },
     "execution_count": 99,
     "metadata": {},
     "output_type": "execute_result"
    }
   ],
   "source": [
    "df.head()"
   ],
   "metadata": {
    "collapsed": false,
    "pycharm": {
     "name": "#%%\n"
    }
   }
  },
  {
   "cell_type": "code",
   "execution_count": 116,
   "outputs": [
    {
     "data": {
      "text/plain": "cluster         0         1         2         3         4         5    6     7\nHITCH    1.041667  0.928571  1.000000  0.681818  0.666667  0.777778  0.0  0.50\nOUT      0.625000  0.357143  0.736842  0.636364  0.500000  0.611111  1.5  1.00\nFLAT     0.625000  0.750000  0.368421  0.545455  0.666667  0.611111  0.0  0.50\nCROSS    0.458333  0.321429  0.315789  0.318182  0.500000  0.555556  0.0  0.00\nGO       0.583333  0.392857  0.842105  0.636364  1.333333  0.777778  1.0  1.50\nSLANT    0.041667  0.785714  0.368421  0.909091  0.000000  0.111111  0.0  0.00\nSCREEN   0.250000  0.464286  0.263158  0.136364  0.000000  0.111111  0.5  0.00\nCORNER   0.166667  0.107143  0.052632  0.227273  0.000000  0.222222  0.5  0.50\nIN       0.375000  0.071429  0.210526  0.318182  0.166667  0.555556  0.0  0.00\nANGLE    0.166667  0.285714  0.210526  0.181818  0.000000  0.111111  0.5  0.25\nPOST     0.250000  0.000000  0.157895  0.090909  1.000000  0.333333  1.0  0.25\nWHEEL    0.041667  0.000000  0.000000  0.000000  0.000000  0.055556  0.0  0.00",
      "text/html": "<div>\n<style scoped>\n    .dataframe tbody tr th:only-of-type {\n        vertical-align: middle;\n    }\n\n    .dataframe tbody tr th {\n        vertical-align: top;\n    }\n\n    .dataframe thead th {\n        text-align: right;\n    }\n</style>\n<table border=\"1\" class=\"dataframe\">\n  <thead>\n    <tr style=\"text-align: right;\">\n      <th>cluster</th>\n      <th>0</th>\n      <th>1</th>\n      <th>2</th>\n      <th>3</th>\n      <th>4</th>\n      <th>5</th>\n      <th>6</th>\n      <th>7</th>\n    </tr>\n  </thead>\n  <tbody>\n    <tr>\n      <th>HITCH</th>\n      <td>1.041667</td>\n      <td>0.928571</td>\n      <td>1.000000</td>\n      <td>0.681818</td>\n      <td>0.666667</td>\n      <td>0.777778</td>\n      <td>0.0</td>\n      <td>0.50</td>\n    </tr>\n    <tr>\n      <th>OUT</th>\n      <td>0.625000</td>\n      <td>0.357143</td>\n      <td>0.736842</td>\n      <td>0.636364</td>\n      <td>0.500000</td>\n      <td>0.611111</td>\n      <td>1.5</td>\n      <td>1.00</td>\n    </tr>\n    <tr>\n      <th>FLAT</th>\n      <td>0.625000</td>\n      <td>0.750000</td>\n      <td>0.368421</td>\n      <td>0.545455</td>\n      <td>0.666667</td>\n      <td>0.611111</td>\n      <td>0.0</td>\n      <td>0.50</td>\n    </tr>\n    <tr>\n      <th>CROSS</th>\n      <td>0.458333</td>\n      <td>0.321429</td>\n      <td>0.315789</td>\n      <td>0.318182</td>\n      <td>0.500000</td>\n      <td>0.555556</td>\n      <td>0.0</td>\n      <td>0.00</td>\n    </tr>\n    <tr>\n      <th>GO</th>\n      <td>0.583333</td>\n      <td>0.392857</td>\n      <td>0.842105</td>\n      <td>0.636364</td>\n      <td>1.333333</td>\n      <td>0.777778</td>\n      <td>1.0</td>\n      <td>1.50</td>\n    </tr>\n    <tr>\n      <th>SLANT</th>\n      <td>0.041667</td>\n      <td>0.785714</td>\n      <td>0.368421</td>\n      <td>0.909091</td>\n      <td>0.000000</td>\n      <td>0.111111</td>\n      <td>0.0</td>\n      <td>0.00</td>\n    </tr>\n    <tr>\n      <th>SCREEN</th>\n      <td>0.250000</td>\n      <td>0.464286</td>\n      <td>0.263158</td>\n      <td>0.136364</td>\n      <td>0.000000</td>\n      <td>0.111111</td>\n      <td>0.5</td>\n      <td>0.00</td>\n    </tr>\n    <tr>\n      <th>CORNER</th>\n      <td>0.166667</td>\n      <td>0.107143</td>\n      <td>0.052632</td>\n      <td>0.227273</td>\n      <td>0.000000</td>\n      <td>0.222222</td>\n      <td>0.5</td>\n      <td>0.50</td>\n    </tr>\n    <tr>\n      <th>IN</th>\n      <td>0.375000</td>\n      <td>0.071429</td>\n      <td>0.210526</td>\n      <td>0.318182</td>\n      <td>0.166667</td>\n      <td>0.555556</td>\n      <td>0.0</td>\n      <td>0.00</td>\n    </tr>\n    <tr>\n      <th>ANGLE</th>\n      <td>0.166667</td>\n      <td>0.285714</td>\n      <td>0.210526</td>\n      <td>0.181818</td>\n      <td>0.000000</td>\n      <td>0.111111</td>\n      <td>0.5</td>\n      <td>0.25</td>\n    </tr>\n    <tr>\n      <th>POST</th>\n      <td>0.250000</td>\n      <td>0.000000</td>\n      <td>0.157895</td>\n      <td>0.090909</td>\n      <td>1.000000</td>\n      <td>0.333333</td>\n      <td>1.0</td>\n      <td>0.25</td>\n    </tr>\n    <tr>\n      <th>WHEEL</th>\n      <td>0.041667</td>\n      <td>0.000000</td>\n      <td>0.000000</td>\n      <td>0.000000</td>\n      <td>0.000000</td>\n      <td>0.055556</td>\n      <td>0.0</td>\n      <td>0.00</td>\n    </tr>\n  </tbody>\n</table>\n</div>"
     },
     "execution_count": 116,
     "metadata": {},
     "output_type": "execute_result"
    }
   ],
   "source": [
    "df.groupby('cluster')[['HITCH', 'OUT', 'FLAT', 'CROSS', 'GO', 'SLANT', 'SCREEN', 'CORNER',\n",
    "       'IN', 'ANGLE', 'POST', 'WHEEL']].mean().T"
   ],
   "metadata": {
    "collapsed": false,
    "pycharm": {
     "name": "#%%\n"
    }
   }
  },
  {
   "cell_type": "code",
   "execution_count": 121,
   "outputs": [
    {
     "data": {
      "text/plain": "gameId  2018091602  2018091605  2018092304\nHITCH     0.727273    1.058824       0.975\nOUT       0.757576    0.352941       0.450\nFLAT      0.545455    0.588235       0.650\nCROSS     0.318182    0.294118       0.500\nGO        0.621212    0.882353       0.725\nSLANT     0.484848    0.352941       0.350\nSCREEN    0.181818    0.470588       0.250\nCORNER    0.196970    0.176471       0.100\nIN        0.303030    0.235294       0.225\nANGLE     0.181818    0.058824       0.275\nPOST      0.227273    0.352941       0.125\nWHEEL     0.030303    0.000000       0.000",
      "text/html": "<div>\n<style scoped>\n    .dataframe tbody tr th:only-of-type {\n        vertical-align: middle;\n    }\n\n    .dataframe tbody tr th {\n        vertical-align: top;\n    }\n\n    .dataframe thead th {\n        text-align: right;\n    }\n</style>\n<table border=\"1\" class=\"dataframe\">\n  <thead>\n    <tr style=\"text-align: right;\">\n      <th>gameId</th>\n      <th>2018091602</th>\n      <th>2018091605</th>\n      <th>2018092304</th>\n    </tr>\n  </thead>\n  <tbody>\n    <tr>\n      <th>HITCH</th>\n      <td>0.727273</td>\n      <td>1.058824</td>\n      <td>0.975</td>\n    </tr>\n    <tr>\n      <th>OUT</th>\n      <td>0.757576</td>\n      <td>0.352941</td>\n      <td>0.450</td>\n    </tr>\n    <tr>\n      <th>FLAT</th>\n      <td>0.545455</td>\n      <td>0.588235</td>\n      <td>0.650</td>\n    </tr>\n    <tr>\n      <th>CROSS</th>\n      <td>0.318182</td>\n      <td>0.294118</td>\n      <td>0.500</td>\n    </tr>\n    <tr>\n      <th>GO</th>\n      <td>0.621212</td>\n      <td>0.882353</td>\n      <td>0.725</td>\n    </tr>\n    <tr>\n      <th>SLANT</th>\n      <td>0.484848</td>\n      <td>0.352941</td>\n      <td>0.350</td>\n    </tr>\n    <tr>\n      <th>SCREEN</th>\n      <td>0.181818</td>\n      <td>0.470588</td>\n      <td>0.250</td>\n    </tr>\n    <tr>\n      <th>CORNER</th>\n      <td>0.196970</td>\n      <td>0.176471</td>\n      <td>0.100</td>\n    </tr>\n    <tr>\n      <th>IN</th>\n      <td>0.303030</td>\n      <td>0.235294</td>\n      <td>0.225</td>\n    </tr>\n    <tr>\n      <th>ANGLE</th>\n      <td>0.181818</td>\n      <td>0.058824</td>\n      <td>0.275</td>\n    </tr>\n    <tr>\n      <th>POST</th>\n      <td>0.227273</td>\n      <td>0.352941</td>\n      <td>0.125</td>\n    </tr>\n    <tr>\n      <th>WHEEL</th>\n      <td>0.030303</td>\n      <td>0.000000</td>\n      <td>0.000</td>\n    </tr>\n  </tbody>\n</table>\n</div>"
     },
     "execution_count": 121,
     "metadata": {},
     "output_type": "execute_result"
    }
   ],
   "source": [
    "df.groupby(['gameId'])[['HITCH', 'OUT', 'FLAT', 'CROSS', 'GO', 'SLANT', 'SCREEN', 'CORNER',\n",
    "       'IN', 'ANGLE', 'POST', 'WHEEL']].mean().T"
   ],
   "metadata": {
    "collapsed": false,
    "pycharm": {
     "name": "#%%\n"
    }
   }
  },
  {
   "cell_type": "code",
   "execution_count": 122,
   "outputs": [
    {
     "data": {
      "text/plain": "<AxesSubplot:>"
     },
     "execution_count": 122,
     "metadata": {},
     "output_type": "execute_result"
    },
    {
     "data": {
      "text/plain": "<Figure size 432x288 with 1 Axes>",
      "image/png": "[encoded data removed]"
     },
     "metadata": {
      "needs_background": "light"
     },
     "output_type": "display_data"
    }
   ],
   "source": [
    "df.groupby(['gameId'])[['HITCH', 'OUT', 'FLAT', 'CROSS', 'GO', 'SLANT', 'SCREEN', 'CORNER',\n",
    "       'IN', 'ANGLE', 'POST', 'WHEEL']].mean().plot.box()"
   ],
   "metadata": {
    "collapsed": false,
    "pycharm": {
     "name": "#%%\n"
    }
   }
  },
  {
   "cell_type": "code",
   "execution_count": 118,
   "outputs": [
    {
     "data": {
      "text/plain": "<AxesSubplot:>"
     },
     "execution_count": 118,
     "metadata": {},
     "output_type": "execute_result"
    },
    {
     "data": {
      "text/plain": "<Figure size 432x288 with 1 Axes>",
      "image/png": "[encoded data removed]"
     },
     "metadata": {
      "needs_background": "light"
     },
     "output_type": "display_data"
    }
   ],
   "source": [
    "df.groupby('cluster')[['HITCH', 'OUT', 'FLAT', 'CROSS', 'GO', 'SLANT', 'SCREEN', 'CORNER',\n",
    "       'IN', 'ANGLE', 'POST', 'WHEEL']].mean().plot.box()"
   ],
   "metadata": {
    "collapsed": false,
    "pycharm": {
     "name": "#%%\n"
    }
   }
  },
  {
   "cell_type": "code",
   "execution_count": 123,
   "outputs": [
    {
     "data": {
      "text/plain": "offense_h_presnap         0.11056\noffense_h_to_throw        4.88934\noffense_h_to_arrived      4.01610\noffense_p_presnap         0.40691\noffense_p_to_throw        0.50254\noffense_p_to_arrived      0.52226\noffense_m_presnap         0.23361\noffense_m_to_throw        0.32628\noffense_m_to_arrived      0.33030\noffense_v_presnap         0.02961\noffense_v_to_throw        0.67587\noffense_v_to_arrived      0.77777\noffense_a_presnap        60.55073\noffense_a_to_throw      142.89714\noffense_a_to_arrived    340.50560\nHITCH                     1.04167\nOUT                       0.62500\nFLAT                      0.62500\nCROSS                     0.45833\nGO                        0.58333\nSLANT                     0.04167\nSCREEN                    0.25000\nCORNER                    0.16667\nIN                        0.37500\nANGLE                     0.16667\nPOST                      0.25000\nWHEEL                     0.04167\nnum_routes                4.62500\ndtype: object"
     },
     "execution_count": 123,
     "metadata": {},
     "output_type": "execute_result"
    }
   ],
   "source": [
    "cluster0 = df.drop(['gameId', 'playId', 'cluster'], axis=1).loc[(df['cluster'] == 0)]\n",
    "cluster0.mean().apply(lambda x: '%.5f' % x)"
   ],
   "metadata": {
    "collapsed": false,
    "pycharm": {
     "name": "#%%\n"
    }
   }
  },
  {
   "cell_type": "code",
   "execution_count": 124,
   "outputs": [
    {
     "data": {
      "text/plain": "offense_h_presnap         0.12106\noffense_h_to_throw        4.83392\noffense_h_to_arrived      3.89285\noffense_p_presnap         0.44192\noffense_p_to_throw        0.52005\noffense_p_to_arrived      0.53159\noffense_m_presnap         0.24757\noffense_m_to_throw        0.31156\noffense_m_to_arrived      0.31986\noffense_v_presnap         0.02869\noffense_v_to_throw        0.67564\noffense_v_to_arrived      0.86626\noffense_a_presnap        68.75553\noffense_a_to_throw      141.66808\noffense_a_to_arrived    278.76568\nHITCH                     1.00000\nOUT                       0.73684\nFLAT                      0.36842\nCROSS                     0.31579\nGO                        0.84211\nSLANT                     0.36842\nSCREEN                    0.26316\nCORNER                    0.05263\nIN                        0.21053\nANGLE                     0.21053\nPOST                      0.15789\nWHEEL                     0.00000\nnum_routes                4.52632\ndtype: object"
     },
     "execution_count": 124,
     "metadata": {},
     "output_type": "execute_result"
    }
   ],
   "source": [
    "cluster2 = df.drop(['gameId', 'playId', 'cluster'], axis=1).loc[(df['cluster'] == 2)]\n",
    "cluster2.mean().apply(lambda x: '%.5f' % x)"
   ],
   "metadata": {
    "collapsed": false,
    "pycharm": {
     "name": "#%%\n"
    }
   }
  },
  {
   "cell_type": "code",
   "execution_count": 125,
   "outputs": [
    {
     "data": {
      "text/plain": "Index(['offense_h_presnap', 'offense_h_to_throw', 'offense_h_to_arrived',\n       'offense_p_presnap', 'offense_p_to_throw', 'offense_p_to_arrived',\n       'offense_m_presnap', 'offense_m_to_throw', 'offense_m_to_arrived',\n       'offense_v_presnap', 'offense_v_to_throw', 'offense_v_to_arrived',\n       'offense_a_presnap', 'offense_a_to_throw', 'offense_a_to_arrived',\n       'HITCH', 'OUT', 'FLAT', 'CROSS', 'GO', 'SLANT', 'SCREEN', 'CORNER',\n       'IN', 'ANGLE', 'POST', 'WHEEL', 'num_routes'],\n      dtype='object')"
     },
     "execution_count": 125,
     "metadata": {},
     "output_type": "execute_result"
    }
   ],
   "source": [
    "cluster0.columns"
   ],
   "metadata": {
    "collapsed": false,
    "pycharm": {
     "name": "#%%\n"
    }
   }
  },
  {
   "cell_type": "code",
   "execution_count": 126,
   "outputs": [
    {
     "data": {
      "text/plain": "<Figure size 432x288 with 1 Axes>",
      "image/png": "[encoded data removed]"
     },
     "metadata": {
      "needs_background": "light"
     },
     "output_type": "display_data"
    },
    {
     "data": {
      "text/plain": "<Figure size 432x288 with 1 Axes>",
      "image/png": "[encoded data removed]"
     },
     "metadata": {
      "needs_background": "light"
     },
     "output_type": "display_data"
    }
   ],
   "source": [
    "plt.boxplot(cluster0[['HITCH', 'OUT', 'FLAT', 'CROSS', 'GO', 'SLANT', 'SCREEN', 'CORNER',\n",
    "       'IN', 'ANGLE', 'POST', 'WHEEL']])\n",
    "plt.show()\n",
    "plt.boxplot(cluster2[['HITCH', 'OUT', 'FLAT', 'CROSS', 'GO', 'SLANT', 'SCREEN', 'CORNER',\n",
    "       'IN', 'ANGLE', 'POST', 'WHEEL']])\n",
    "plt.show()"
   ],
   "metadata": {
    "collapsed": false,
    "pycharm": {
     "name": "#%%\n"
    }
   }
  },
  {
   "cell_type": "code",
   "execution_count": 127,
   "outputs": [
    {
     "data": {
      "text/plain": "[]"
     },
     "execution_count": 127,
     "metadata": {},
     "output_type": "execute_result"
    }
   ],
   "source": [
    "verticals = df.loc[(df['GO'] == 4)]\n",
    "sorted(verticals['cluster'].unique().tolist())"
   ],
   "metadata": {
    "collapsed": false,
    "pycharm": {
     "name": "#%%\n"
    }
   }
  },
  {
   "cell_type": "code",
   "execution_count": 128,
   "outputs": [
    {
     "data": {
      "text/plain": "[]"
     },
     "execution_count": 128,
     "metadata": {},
     "output_type": "execute_result"
    }
   ],
   "source": [
    "flood = df.loc[(df['CORNER'] == 1) & (df['OUT'] == 1) & (df['FLAT'] == 1) & (df['POST'] == 1)]\n",
    "sorted(flood['cluster'].unique().tolist())"
   ],
   "metadata": {
    "collapsed": false,
    "pycharm": {
     "name": "#%%\n"
    }
   }
  },
  {
   "cell_type": "code",
   "execution_count": 129,
   "outputs": [
    {
     "data": {
      "text/plain": "[1, 3]"
     },
     "execution_count": 129,
     "metadata": {},
     "output_type": "execute_result"
    }
   ],
   "source": [
    "slants = df.loc[(df['SLANT'] >= 2)]\n",
    "sorted(slants['cluster'].unique().tolist())"
   ],
   "metadata": {
    "collapsed": false,
    "pycharm": {
     "name": "#%%\n"
    }
   }
  },
  {
   "cell_type": "code",
   "execution_count": 130,
   "outputs": [],
   "source": [
    "def plot_relationship(df, xcol, ycol, labels):\n",
    "    fig = plt.figure(figsize=(6, 6))\n",
    "    grid = plt.GridSpec(4, 4, hspace=0.2, wspace=0.2)\n",
    "    main_ax = fig.add_subplot(grid[:-1, 1:])\n",
    "    y_hist = fig.add_subplot(grid[:-1, 0], xticklabels=[], sharey=main_ax)\n",
    "    x_hist = fig.add_subplot(grid[-1, 1:], yticklabels=[], sharex=main_ax)\n",
    "\n",
    "    main_ax.tick_params(\n",
    "        axis='both',          # changes apply to the x-axis\n",
    "        which='both',      # both major and minor ticks are affected\n",
    "        bottom=True,      # ticks along the bottom edge are off\n",
    "        left=True,\n",
    "        top=False,         # ticks along the top edge are off\n",
    "        labelbottom=False,\n",
    "        labelleft=False) # labels along the bottom edge are off\n",
    "    x = df[xcol]\n",
    "    y = df[ycol]\n",
    "    main_ax.scatter(x, y, c=labels)\n",
    "\n",
    "    x_hist.hist(x, 40, histtype='stepfilled', orientation='vertical', color='gray')\n",
    "    x_hist.invert_yaxis()\n",
    "    x_hist.set_xlabel(xcol)\n",
    "\n",
    "    y_hist.hist(y, 40, histtype='stepfilled', orientation='horizontal', color='gray')\n",
    "    y_hist.invert_xaxis()\n",
    "    y_hist.set_ylabel(ycol)"
   ],
   "metadata": {
    "collapsed": false,
    "pycharm": {
     "name": "#%%\n"
    }
   }
  },
  {
   "cell_type": "code",
   "execution_count": 131,
   "outputs": [
    {
     "data": {
      "text/plain": "<Figure size 432x432 with 3 Axes>",
      "image/png": "[encoded data removed]"
     },
     "metadata": {
      "needs_background": "light"
     },
     "output_type": "display_data"
    }
   ],
   "source": [
    "df_columns = df.drop(['gameId', 'playId', 'cluster'], axis=1).columns.tolist()\n",
    "plot_relationship(df, df_columns[0], df_columns[1], model.labels_)"
   ],
   "metadata": {
    "collapsed": false,
    "pycharm": {
     "name": "#%%\n"
    }
   }
  },
  {
   "cell_type": "code",
   "execution_count": null,
   "outputs": [],
   "source": [
    "df_columns = df.drop(['gameId', 'playId', 'cluster'], axis=1).columns.tolist()\n",
    "for subset in combinations(df_columns, 2):\n",
    "    plot_relationship(df, subset[0], subset[1], model.labels_)"
   ],
   "metadata": {
    "collapsed": false,
    "pycharm": {
     "name": "#%%\n"
    }
   }
  },
  {
   "cell_type": "code",
   "execution_count": 132,
   "outputs": [
    {
     "data": {
      "text/plain": "(array([70.,  0.,  0., 36.,  0.,  0., 13.,  0.,  0.,  4.]),\n array([0. , 0.3, 0.6, 0.9, 1.2, 1.5, 1.8, 2.1, 2.4, 2.7, 3. ]),\n <BarContainer object of 10 artists>)"
     },
     "execution_count": 132,
     "metadata": {},
     "output_type": "execute_result"
    },
    {
     "data": {
      "text/plain": "<Figure size 432x288 with 1 Axes>",
      "image/png": "[encoded data removed]"
     },
     "metadata": {
      "needs_background": "light"
     },
     "output_type": "display_data"
    }
   ],
   "source": [
    "plt.hist(df['HITCH'])\n",
    "plt.hist(df['GO'])\n",
    "plt.hist(df['OUT'])"
   ],
   "metadata": {
    "collapsed": false,
    "pycharm": {
     "name": "#%%\n"
    }
   }
  },
  {
   "cell_type": "code",
   "execution_count": null,
   "outputs": [],
   "source": [
    "from mpl_toolkits import mplot3d\n",
    "%matplotlib notebook"
   ],
   "metadata": {
    "collapsed": false,
    "pycharm": {
     "name": "#%%\n"
    }
   }
  },
  {
   "cell_type": "code",
   "execution_count": null,
   "outputs": [],
   "source": [
    "ax = plt.axes(projection='3d')\n",
    "x = df_scaled['offense_a_presnap']\n",
    "y = df_scaled['offense_a_to_throw']\n",
    "z = df_scaled['offense_a_to_arrived']\n",
    "ax.scatter3D(x, y, z, c=model.labels_)"
   ],
   "metadata": {
    "collapsed": false,
    "pycharm": {
     "name": "#%%\n"
    }
   }
  }
 ],
 "metadata": {
  "kernelspec": {
   "display_name": "Python 3",
   "language": "python",
   "name": "python3"
  },
  "language_info": {
   "codemirror_mode": {
    "name": "ipython",
    "version": 2
   },
   "file_extension": ".py",
   "mimetype": "text/x-python",
   "name": "python",
   "nbconvert_exporter": "python",
   "pygments_lexer": "ipython2",
   "version": "2.7.6"
  }
 },
 "nbformat": 4,
 "nbformat_minor": 0
}