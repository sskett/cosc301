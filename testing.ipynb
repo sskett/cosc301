{
 "cells": [
  {
   "cell_type": "code",
   "execution_count": 87,
   "outputs": [],
   "source": [
    "import pandas as pd\n",
    "import numpy as np\n",
    "import matplotlib.pyplot as plt\n",
    "from matplotlib.colors import LinearSegmentedColormap"
   ],
   "metadata": {
    "collapsed": false,
    "pycharm": {
     "name": "#%%\n"
    }
   }
  },
  {
   "cell_type": "code",
   "execution_count": 88,
   "outputs": [],
   "source": [
    "play_df = pd.read_csv('d20_intermediate_files/play_results.csv')\n",
    "frame_df = pd.read_csv('d20_intermediate_files/frame_results.csv')"
   ],
   "metadata": {
    "collapsed": false,
    "pycharm": {
     "name": "#%%\n"
    }
   }
  },
  {
   "cell_type": "code",
   "execution_count": 154,
   "outputs": [],
   "source": [
    "def plot_prob_heatmap(df, x_col, x_dim, y_col, y_dim, game_id, play_id):\n",
    "\n",
    "    x = df.loc[(df['gameId'] == game_id) & (df['playId'] == play_id)][x_col].tolist()\n",
    "    y = df.loc[(df['gameId'] == game_id) & (df['playId'] == play_id)][y_col].tolist()\n",
    "\n",
    "    bins = np.zeros(x_dim * y_dim).reshape((x_dim, y_dim))\n",
    "\n",
    "    for frame in zip(x, y):\n",
    "        x_bin = int(np.floor(frame[0] * 50))\n",
    "        y_bin = int(np.floor(frame[1] * 50))\n",
    "        bins[x_bin][y_bin] = bins[x_bin][y_bin] + 1\n",
    "\n",
    "    binned_p = np.zeros(x_dim * y_dim).reshape((x_dim, y_dim))\n",
    "\n",
    "    for i in range(0, x_dim):\n",
    "        for j in range(0, y_dim):\n",
    "            count = 0\n",
    "            samples = 0\n",
    "            for row in range(-1, 2):\n",
    "                for col in range(-1, 2):\n",
    "                    if 0 <= i + row <= x_dim - 1 and 0 <= j + col <= y_dim - 1:\n",
    "                        samples = samples + 1\n",
    "                        count = count + bins[i + row][j + col]\n",
    "            binned_p[i][j] = count / samples\n",
    "\n",
    "    colors = [(0, 0, 1), (0, 1, 1), (0, 1, 0.75), (0, 1, 0), (0.75, 1, 0), (1, 1, 0), (1, 0.8, 0), (1, 0.7, 0), (1, 0, 0)]\n",
    "    cm = LinearSegmentedColormap.from_list('sample', colors)\n",
    "    plt.imshow(binned_p, cmap=cm)\n",
    "    plt.show()"
   ],
   "metadata": {
    "collapsed": false,
    "pycharm": {
     "name": "#%%\n"
    }
   }
  },
  {
   "cell_type": "code",
   "execution_count": 158,
   "outputs": [
    {
     "data": {
      "text/plain": "       gameId  playId  frameId  offense_p_group  defense_p_group  \\\n0  2018090600      75      1.0         0.538470         0.413698   \n1  2018090600      75      2.0         0.529709         0.525295   \n2  2018090600      75      3.0         0.539574         0.535192   \n3  2018090600      75      4.0         0.540062         0.526223   \n4  2018090600      75      5.0         0.509301         0.499902   \n\n   offense_m_group  defense_m_group       o_state       d_state  \\\n0         0.405248         0.372372  transitional  transitional   \n1         0.388188         0.350750  transitional  transitional   \n2         0.396913         0.341001  transitional  transitional   \n3         0.430916         0.374983  transitional  transitional   \n4         0.501201         0.384229  transitional  transitional   \n\n           offense_v_group          defense_v_group  offense_a_group  \\\n0                  [0. 0.]                  [0. 0.]         83.68815   \n1  [0.05       0.03333333]  [0.07142857 0.        ]         83.73575   \n2  [0.01666667 0.01666667]  [0.01428571 0.        ]         83.78335   \n3  [0.01666667 0.01666667]  [0.02857143 0.02857143]         83.78375   \n4  [0.01666667 0.03333333]  [0.05714286 0.02857143]         83.79405   \n\n   defense_a_group  a_group_ratio  \n0        194.31095       0.430692  \n1        194.31055       0.430938  \n2        194.35200       0.431091  \n3        194.57140       0.430607  \n4        194.88905       0.429958  ",
      "text/html": "<div>\n<style scoped>\n    .dataframe tbody tr th:only-of-type {\n        vertical-align: middle;\n    }\n\n    .dataframe tbody tr th {\n        vertical-align: top;\n    }\n\n    .dataframe thead th {\n        text-align: right;\n    }\n</style>\n<table border=\"1\" class=\"dataframe\">\n  <thead>\n    <tr style=\"text-align: right;\">\n      <th></th>\n      <th>gameId</th>\n      <th>playId</th>\n      <th>frameId</th>\n      <th>offense_p_group</th>\n      <th>defense_p_group</th>\n      <th>offense_m_group</th>\n      <th>defense_m_group</th>\n      <th>o_state</th>\n      <th>d_state</th>\n      <th>offense_v_group</th>\n      <th>defense_v_group</th>\n      <th>offense_a_group</th>\n      <th>defense_a_group</th>\n      <th>a_group_ratio</th>\n    </tr>\n  </thead>\n  <tbody>\n    <tr>\n      <th>0</th>\n      <td>2018090600</td>\n      <td>75</td>\n      <td>1.0</td>\n      <td>0.538470</td>\n      <td>0.413698</td>\n      <td>0.405248</td>\n      <td>0.372372</td>\n      <td>transitional</td>\n      <td>transitional</td>\n      <td>[0. 0.]</td>\n      <td>[0. 0.]</td>\n      <td>83.68815</td>\n      <td>194.31095</td>\n      <td>0.430692</td>\n    </tr>\n    <tr>\n      <th>1</th>\n      <td>2018090600</td>\n      <td>75</td>\n      <td>2.0</td>\n      <td>0.529709</td>\n      <td>0.525295</td>\n      <td>0.388188</td>\n      <td>0.350750</td>\n      <td>transitional</td>\n      <td>transitional</td>\n      <td>[0.05       0.03333333]</td>\n      <td>[0.07142857 0.        ]</td>\n      <td>83.73575</td>\n      <td>194.31055</td>\n      <td>0.430938</td>\n    </tr>\n    <tr>\n      <th>2</th>\n      <td>2018090600</td>\n      <td>75</td>\n      <td>3.0</td>\n      <td>0.539574</td>\n      <td>0.535192</td>\n      <td>0.396913</td>\n      <td>0.341001</td>\n      <td>transitional</td>\n      <td>transitional</td>\n      <td>[0.01666667 0.01666667]</td>\n      <td>[0.01428571 0.        ]</td>\n      <td>83.78335</td>\n      <td>194.35200</td>\n      <td>0.431091</td>\n    </tr>\n    <tr>\n      <th>3</th>\n      <td>2018090600</td>\n      <td>75</td>\n      <td>4.0</td>\n      <td>0.540062</td>\n      <td>0.526223</td>\n      <td>0.430916</td>\n      <td>0.374983</td>\n      <td>transitional</td>\n      <td>transitional</td>\n      <td>[0.01666667 0.01666667]</td>\n      <td>[0.02857143 0.02857143]</td>\n      <td>83.78375</td>\n      <td>194.57140</td>\n      <td>0.430607</td>\n    </tr>\n    <tr>\n      <th>4</th>\n      <td>2018090600</td>\n      <td>75</td>\n      <td>5.0</td>\n      <td>0.509301</td>\n      <td>0.499902</td>\n      <td>0.501201</td>\n      <td>0.384229</td>\n      <td>transitional</td>\n      <td>transitional</td>\n      <td>[0.01666667 0.03333333]</td>\n      <td>[0.05714286 0.02857143]</td>\n      <td>83.79405</td>\n      <td>194.88905</td>\n      <td>0.429958</td>\n    </tr>\n  </tbody>\n</table>\n</div>"
     },
     "execution_count": 158,
     "metadata": {},
     "output_type": "execute_result"
    }
   ],
   "source": [
    "frame_df.head()"
   ],
   "metadata": {
    "collapsed": false,
    "pycharm": {
     "name": "#%%\n"
    }
   }
  },
  {
   "cell_type": "code",
   "execution_count": null,
   "outputs": [],
   "source": [
    "# p_group vs m_group\n",
    "game = 2018090600\n",
    "plays = frame_df.loc[(frame_df['gameId'] == game)]['playId'].unique().tolist()\n",
    "\n",
    "for play in plays:\n",
    "    plot_prob_heatmap(frame_df, 'offense_p_group', 50, 'offense_m_group', 50, game, play)"
   ],
   "metadata": {
    "collapsed": false,
    "pycharm": {
     "name": "#%%\n",
     "is_executing": true
    }
   }
  },
  {
   "cell_type": "code",
   "execution_count": 159,
   "outputs": [
    {
     "ename": "TypeError",
     "evalue": "ufunc 'floor' not supported for the input types, and the inputs could not be safely coerced to any supported types according to the casting rule ''safe''",
     "output_type": "error",
     "traceback": [
      "\u001B[0;31m---------------------------------------------------------------------------\u001B[0m",
      "\u001B[0;31mTypeError\u001B[0m                                 Traceback (most recent call last)",
      "Input \u001B[0;32mIn [159]\u001B[0m, in \u001B[0;36m<cell line: 5>\u001B[0;34m()\u001B[0m\n\u001B[1;32m      3\u001B[0m plays \u001B[38;5;241m=\u001B[39m frame_df\u001B[38;5;241m.\u001B[39mloc[(frame_df[\u001B[38;5;124m'\u001B[39m\u001B[38;5;124mgameId\u001B[39m\u001B[38;5;124m'\u001B[39m] \u001B[38;5;241m==\u001B[39m game)][\u001B[38;5;124m'\u001B[39m\u001B[38;5;124mplayId\u001B[39m\u001B[38;5;124m'\u001B[39m]\u001B[38;5;241m.\u001B[39munique()\u001B[38;5;241m.\u001B[39mtolist()\n\u001B[1;32m      5\u001B[0m \u001B[38;5;28;01mfor\u001B[39;00m play \u001B[38;5;129;01min\u001B[39;00m plays:\n\u001B[0;32m----> 6\u001B[0m     \u001B[43mplot_prob_heatmap\u001B[49m\u001B[43m(\u001B[49m\u001B[43mframe_df\u001B[49m\u001B[43m,\u001B[49m\u001B[43m \u001B[49m\u001B[38;5;124;43m'\u001B[39;49m\u001B[38;5;124;43moffense_p_group\u001B[39;49m\u001B[38;5;124;43m'\u001B[39;49m\u001B[43m,\u001B[49m\u001B[43m \u001B[49m\u001B[38;5;241;43m50\u001B[39;49m\u001B[43m,\u001B[49m\u001B[43m \u001B[49m\u001B[38;5;124;43m'\u001B[39;49m\u001B[38;5;124;43moffense_v_group\u001B[39;49m\u001B[38;5;124;43m'\u001B[39;49m\u001B[43m,\u001B[49m\u001B[43m \u001B[49m\u001B[38;5;241;43m60\u001B[39;49m\u001B[43m,\u001B[49m\u001B[43m \u001B[49m\u001B[43mgame\u001B[49m\u001B[43m,\u001B[49m\u001B[43m \u001B[49m\u001B[43mplay\u001B[49m\u001B[43m)\u001B[49m\n",
      "Input \u001B[0;32mIn [154]\u001B[0m, in \u001B[0;36mplot_prob_heatmap\u001B[0;34m(df, x_col, x_dim, y_col, y_dim, game_id, play_id)\u001B[0m\n\u001B[1;32m      8\u001B[0m \u001B[38;5;28;01mfor\u001B[39;00m frame \u001B[38;5;129;01min\u001B[39;00m \u001B[38;5;28mzip\u001B[39m(x, y):\n\u001B[1;32m      9\u001B[0m     x_bin \u001B[38;5;241m=\u001B[39m \u001B[38;5;28mint\u001B[39m(np\u001B[38;5;241m.\u001B[39mfloor(frame[\u001B[38;5;241m0\u001B[39m] \u001B[38;5;241m*\u001B[39m \u001B[38;5;241m50\u001B[39m))\n\u001B[0;32m---> 10\u001B[0m     y_bin \u001B[38;5;241m=\u001B[39m \u001B[38;5;28mint\u001B[39m(\u001B[43mnp\u001B[49m\u001B[38;5;241;43m.\u001B[39;49m\u001B[43mfloor\u001B[49m\u001B[43m(\u001B[49m\u001B[43mframe\u001B[49m\u001B[43m[\u001B[49m\u001B[38;5;241;43m1\u001B[39;49m\u001B[43m]\u001B[49m\u001B[43m \u001B[49m\u001B[38;5;241;43m*\u001B[39;49m\u001B[43m \u001B[49m\u001B[38;5;241;43m50\u001B[39;49m\u001B[43m)\u001B[49m)\n\u001B[1;32m     11\u001B[0m     bins[x_bin][y_bin] \u001B[38;5;241m=\u001B[39m bins[x_bin][y_bin] \u001B[38;5;241m+\u001B[39m \u001B[38;5;241m1\u001B[39m\n\u001B[1;32m     13\u001B[0m binned_p \u001B[38;5;241m=\u001B[39m np\u001B[38;5;241m.\u001B[39mzeros(x_dim \u001B[38;5;241m*\u001B[39m y_dim)\u001B[38;5;241m.\u001B[39mreshape((x_dim, y_dim))\n",
      "\u001B[0;31mTypeError\u001B[0m: ufunc 'floor' not supported for the input types, and the inputs could not be safely coerced to any supported types according to the casting rule ''safe''"
     ]
    }
   ],
   "source": [
    "# p_group vs v_group\n",
    "game = 2018090600\n",
    "plays = frame_df.loc[(frame_df['gameId'] == game)]['playId'].unique().tolist()\n",
    "\n",
    "for play in plays:\n",
    "    plot_prob_heatmap(frame_df, 'offense_p_group', 50, 'offense_v_group', 60, game, play)"
   ],
   "metadata": {
    "collapsed": false,
    "pycharm": {
     "name": "#%%\n"
    }
   }
  },
  {
   "cell_type": "code",
   "execution_count": null,
   "outputs": [],
   "source": [],
   "metadata": {
    "collapsed": false,
    "pycharm": {
     "name": "#%%\n"
    }
   }
  }
 ],
 "metadata": {
  "kernelspec": {
   "display_name": "Python 3",
   "language": "python",
   "name": "python3"
  },
  "language_info": {
   "codemirror_mode": {
    "name": "ipython",
    "version": 2
   },
   "file_extension": ".py",
   "mimetype": "text/x-python",
   "name": "python",
   "nbconvert_exporter": "python",
   "pygments_lexer": "ipython2",
   "version": "2.7.6"
  }
 },
 "nbformat": 4,
 "nbformat_minor": 0
}