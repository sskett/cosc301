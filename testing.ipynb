{
 "cells": [
  {
   "cell_type": "code",
   "execution_count": 25,
   "metadata": {
    "pycharm": {
     "name": "#%%\n"
    }
   },
   "outputs": [],
   "source": [
    "import pandas as pd\n",
    "import pandas_profiling as pp\n",
    "import numpy as np\n",
    "import sklearn\n",
    "import matplotlib.pyplot as plt\n",
    "\n",
    "from sklearn.cluster import KMeans\n",
    "from sklearn.cluster import AgglomerativeClustering\n",
    "from sklearn.metrics import silhouette_score\n",
    "from sklearn.preprocessing import normalize\n",
    "from scipy.cluster.hierarchy import dendrogram\n",
    "import scipy.cluster.hierarchy as shc\n",
    "from itertools import combinations"
   ]
  },
  {
   "cell_type": "code",
   "execution_count": 26,
   "metadata": {
    "pycharm": {
     "name": "#%%\n"
    }
   },
   "outputs": [],
   "source": [
    "def define_pandas_options():\n",
    "    pd.set_option('display.max_rows', None)\n",
    "    pd.set_option('display.max_columns', None)\n",
    "    pd.set_option('display.width', None)\n",
    "    pd.set_option('display.max_colwidth', None)\n",
    "    pd.set_option('display.float_format', lambda x: '%.5f' % x)"
   ]
  },
  {
   "cell_type": "code",
   "execution_count": 27,
   "metadata": {
    "pycharm": {
     "name": "#%%\n"
    }
   },
   "outputs": [],
   "source": [
    "pl_cols = ['gameId', 'playId', 'offense_h_play', 'offense_h_presnap', 'offense_h_to_throw', 'offense_h_to_arrived', 'offense_h_to_end', 'defense_h_play', 'defense_h_presnap', 'defense_h_to_throw', 'defense_h_to_arrived', 'defense_h_to_end', 'offense_p_play', 'offense_p_presnap', 'offense_p_to_throw', 'offense_p_to_arrived', 'offense_p_to_end', 'offense_m_play', 'offense_m_presnap', 'offense_m_to_throw', 'offense_m_to_arrived', 'offense_m_to_end', 'offense_v_play', 'offense_v_presnap', 'offense_v_to_throw', 'offense_v_to_arrived', 'offense_v_to_end', 'offense_a_play', 'offense_a_presnap', 'offense_a_to_throw', 'offense_a_to_arrived','offense_a_to_end', 'defense_p_play', 'defense_p_presnap','defense_p_to_throw', 'defense_p_to_arrived', 'defense_p_to_end','defense_m_play', 'defense_m_presnap', 'defense_m_to_throw','defense_m_to_arrived', 'defense_m_to_end', 'defense_v_play', 'defense_v_presnap', 'defense_v_to_throw', 'defense_v_to_arrived','defense_v_to_end', 'defense_a_play', 'defense_a_presnap','defense_a_to_throw', 'defense_a_to_arrived', 'defense_a_to_end','HITCH', 'OUT', 'FLAT', 'CROSS', 'GO', 'SLANT', 'SCREEN', 'CORNER', 'IN', 'ANGLE', 'POST', 'WHEEL']\n",
    "\n",
    "play_df = pd.read_csv('d20_intermediate_files/play_results.csv', usecols=pl_cols)\n",
    "play_df['num_routes'] = play_df[['HITCH', 'OUT', 'FLAT', 'CROSS', 'GO', 'SLANT', 'SCREEN', 'CORNER', 'IN', 'ANGLE', 'POST', 'WHEEL']].T.sum()\n",
    "play_df.drop(play_df[play_df['num_routes'] == 0].index, inplace=True)\n",
    "play_df.dropna(inplace=True)\n",
    "\n",
    "fr_cols = ['gameId', 'playId', 'frameId', 'offense_p_group', 'defense_p_group', 'offense_m_group', 'defense_m_group', 'o_state', 'd_state', 'offense_v_group', 'defense_v_group', 'offense_a_group', 'defense_a_group', 'a_group_ratio']\n",
    "frame_df = pd.read_csv('d20_intermediate_files/frame_results.csv', usecols=fr_cols)\n",
    "\n",
    "tr_cols = ['time', 's', 'a', 'dis', 'event', 'nflId', 'displayName', 'jerseyNumber', 'position', 'frameId', 'team', 'gameId', 'playId', 'playDirection', 'route', 'pos', 'teamType', 'o_vec', 'dir_vec', 'r_vec']\n",
    "tracking_df = pd.read_csv('d20_intermediate_files/tracking_results.csv', usecols=tr_cols)"
   ]
  },
  {
   "cell_type": "code",
   "execution_count": 28,
   "outputs": [
    {
     "data": {
      "text/plain": "(6053, 65)"
     },
     "execution_count": 28,
     "metadata": {},
     "output_type": "execute_result"
    }
   ],
   "source": [
    "play_df.shape"
   ],
   "metadata": {
    "collapsed": false,
    "pycharm": {
     "name": "#%%\n"
    }
   }
  },
  {
   "cell_type": "code",
   "execution_count": 29,
   "metadata": {
    "pycharm": {
     "name": "#%%\n"
    }
   },
   "outputs": [
    {
     "data": {
      "text/plain": "Empty DataFrame\nColumns: [gameId, playId, offense_h_play, offense_h_presnap, offense_h_to_throw, offense_h_to_arrived, offense_h_to_end, defense_h_play, defense_h_presnap, defense_h_to_throw, defense_h_to_arrived, defense_h_to_end, offense_p_play, offense_p_presnap, offense_p_to_throw, offense_p_to_arrived, offense_p_to_end, offense_m_play, offense_m_presnap, offense_m_to_throw, offense_m_to_arrived, offense_m_to_end, offense_v_play, offense_v_presnap, offense_v_to_throw, offense_v_to_arrived, offense_v_to_end, offense_a_play, offense_a_presnap, offense_a_to_throw, offense_a_to_arrived, offense_a_to_end, defense_p_play, defense_p_presnap, defense_p_to_throw, defense_p_to_arrived, defense_p_to_end, defense_m_play, defense_m_presnap, defense_m_to_throw, defense_m_to_arrived, defense_m_to_end, defense_v_play, defense_v_presnap, defense_v_to_throw, defense_v_to_arrived, defense_v_to_end, defense_a_play, defense_a_presnap, defense_a_to_throw, defense_a_to_arrived, defense_a_to_end, HITCH, OUT, FLAT, CROSS, GO, SLANT, SCREEN, CORNER, IN, ANGLE, POST, WHEEL, num_routes]\nIndex: []\n\n[0 rows x 65 columns]",
      "text/html": "<div>\n<style scoped>\n    .dataframe tbody tr th:only-of-type {\n        vertical-align: middle;\n    }\n\n    .dataframe tbody tr th {\n        vertical-align: top;\n    }\n\n    .dataframe thead th {\n        text-align: right;\n    }\n</style>\n<table border=\"1\" class=\"dataframe\">\n  <thead>\n    <tr style=\"text-align: right;\">\n      <th></th>\n      <th>gameId</th>\n      <th>playId</th>\n      <th>offense_h_play</th>\n      <th>offense_h_presnap</th>\n      <th>offense_h_to_throw</th>\n      <th>offense_h_to_arrived</th>\n      <th>offense_h_to_end</th>\n      <th>defense_h_play</th>\n      <th>defense_h_presnap</th>\n      <th>defense_h_to_throw</th>\n      <th>...</th>\n      <th>CROSS</th>\n      <th>GO</th>\n      <th>SLANT</th>\n      <th>SCREEN</th>\n      <th>CORNER</th>\n      <th>IN</th>\n      <th>ANGLE</th>\n      <th>POST</th>\n      <th>WHEEL</th>\n      <th>num_routes</th>\n    </tr>\n  </thead>\n  <tbody>\n  </tbody>\n</table>\n<p>0 rows × 65 columns</p>\n</div>"
     },
     "execution_count": 29,
     "metadata": {},
     "output_type": "execute_result"
    }
   ],
   "source": [
    "play_df.loc[play_df['num_routes'] == 0]"
   ]
  },
  {
   "cell_type": "code",
   "execution_count": 30,
   "outputs": [
    {
     "data": {
      "text/plain": "                                   time     s     a   dis    event      nflId  \\\n11099  2018-09-07 01:37:29.799000+00:00  0.00  0.00  0.00     None  2506467.0   \n11100  2018-09-07 01:37:29.799000+00:00  0.00  0.00  0.00     None  2507763.0   \n11101  2018-09-07 01:37:29.799000+00:00  0.00  0.00  0.00     None  2532842.0   \n11102  2018-09-07 01:37:29.799000+00:00  0.00  0.00  0.00     None  2540158.0   \n11103  2018-09-07 01:37:29.799000+00:00  0.00  0.00  0.00     None  2552600.0   \n...                                 ...   ...   ...   ...      ...        ...   \n11844  2018-09-07 01:37:34.299000+00:00  2.28  2.13  0.24     None        NaN   \n11845  2018-09-07 01:37:34.400000+00:00  2.22  2.07  0.37     None        NaN   \n11846  2018-09-07 01:37:34.500000+00:00  2.03  1.87  0.21     None        NaN   \n11847  2018-09-07 01:37:34.599000+00:00  2.56  0.60  0.37  qb_sack        NaN   \n11848  2018-09-07 01:37:34.700000+00:00  2.49  0.75  0.18     None        NaN   \n\n          displayName  jerseyNumber position  frameId      team      gameId  \\\n11099  Darren Sproles          43.0       RB        1      home  2018090600   \n11100    Mike Wallace          14.0       WR        1      home  2018090600   \n11101      Nick Foles           9.0       QB        1      home  2018090600   \n11102       Zach Ertz          86.0       TE        1      home  2018090600   \n11103  Nelson Agholor          13.0       WR        1      home  2018090600   \n...               ...           ...      ...      ...       ...         ...   \n11844        Football           NaN      NaN       46  football  2018090600   \n11845        Football           NaN      NaN       47  football  2018090600   \n11846        Football           NaN      NaN       48  football  2018090600   \n11847        Football           NaN      NaN       49  football  2018090600   \n11848        Football           NaN      NaN       50  football  2018090600   \n\n       playId playDirection route            pos teamType  \\\n11099     776         right   NaN  [47.45 27.75]  offense   \n11100     776         right   NaN  [51.05 21.6 ]  offense   \n11101     776         right   NaN  [47.75 29.85]  offense   \n11102     776         right   NaN  [51.75 36.57]  offense   \n11103     776         right   NaN  [50.31 16.36]  offense   \n...       ...           ...   ...            ...      ...   \n11844     776         right   NaN  [43.66 31.25]     ball   \n11845     776         right   NaN  [43.35 31.45]     ball   \n11846     776         right   NaN  [43.17 31.57]     ball   \n11847     776         right   NaN  [42.85 31.75]     ball   \n11848     776         right   NaN  [42.69 31.83]     ball   \n\n                           o_vec                    dir_vec  \\\n11099  [ 0.81895178 -0.57386234]  [-0.83350029  0.55251901]   \n11100  [ 0.99514186 -0.09845136]  [-0.78822561  0.61538637]   \n11101  [ 0.99997915 -0.00645767]    [0.99739063 0.07219377]   \n11102    [0.92226845 0.38655   ]  [ 0.99896264 -0.04553734]   \n11103    [0.97771001 0.20995986]  [-0.42151068 -0.90682344]   \n...                          ...                        ...   \n11844                  [nan nan]                  [nan nan]   \n11845                  [nan nan]                  [nan nan]   \n11846                  [nan nan]                  [nan nan]   \n11847                  [nan nan]                  [nan nan]   \n11848                  [nan nan]                  [nan nan]   \n\n                           r_vec  \n11099  [-0.48032631  0.87708987]  \n11100  [ 0.57111566 -0.8208696 ]  \n11101  [-0.31395389  0.94943823]  \n11102    [0.13237362 0.99119989]  \n11103  [ 0.05135233 -0.9986806 ]  \n...                          ...  \n11844                    [0. 0.]  \n11845                    [0. 0.]  \n11846                    [0. 0.]  \n11847                    [0. 0.]  \n11848                    [0. 0.]  \n\n[750 rows x 20 columns]",
      "text/html": "<div>\n<style scoped>\n    .dataframe tbody tr th:only-of-type {\n        vertical-align: middle;\n    }\n\n    .dataframe tbody tr th {\n        vertical-align: top;\n    }\n\n    .dataframe thead th {\n        text-align: right;\n    }\n</style>\n<table border=\"1\" class=\"dataframe\">\n  <thead>\n    <tr style=\"text-align: right;\">\n      <th></th>\n      <th>time</th>\n      <th>s</th>\n      <th>a</th>\n      <th>dis</th>\n      <th>event</th>\n      <th>nflId</th>\n      <th>displayName</th>\n      <th>jerseyNumber</th>\n      <th>position</th>\n      <th>frameId</th>\n      <th>team</th>\n      <th>gameId</th>\n      <th>playId</th>\n      <th>playDirection</th>\n      <th>route</th>\n      <th>pos</th>\n      <th>teamType</th>\n      <th>o_vec</th>\n      <th>dir_vec</th>\n      <th>r_vec</th>\n    </tr>\n  </thead>\n  <tbody>\n    <tr>\n      <th>11099</th>\n      <td>2018-09-07 01:37:29.799000+00:00</td>\n      <td>0.00</td>\n      <td>0.00</td>\n      <td>0.00</td>\n      <td>None</td>\n      <td>2506467.0</td>\n      <td>Darren Sproles</td>\n      <td>43.0</td>\n      <td>RB</td>\n      <td>1</td>\n      <td>home</td>\n      <td>2018090600</td>\n      <td>776</td>\n      <td>right</td>\n      <td>NaN</td>\n      <td>[47.45 27.75]</td>\n      <td>offense</td>\n      <td>[ 0.81895178 -0.57386234]</td>\n      <td>[-0.83350029  0.55251901]</td>\n      <td>[-0.48032631  0.87708987]</td>\n    </tr>\n    <tr>\n      <th>11100</th>\n      <td>2018-09-07 01:37:29.799000+00:00</td>\n      <td>0.00</td>\n      <td>0.00</td>\n      <td>0.00</td>\n      <td>None</td>\n      <td>2507763.0</td>\n      <td>Mike Wallace</td>\n      <td>14.0</td>\n      <td>WR</td>\n      <td>1</td>\n      <td>home</td>\n      <td>2018090600</td>\n      <td>776</td>\n      <td>right</td>\n      <td>NaN</td>\n      <td>[51.05 21.6 ]</td>\n      <td>offense</td>\n      <td>[ 0.99514186 -0.09845136]</td>\n      <td>[-0.78822561  0.61538637]</td>\n      <td>[ 0.57111566 -0.8208696 ]</td>\n    </tr>\n    <tr>\n      <th>11101</th>\n      <td>2018-09-07 01:37:29.799000+00:00</td>\n      <td>0.00</td>\n      <td>0.00</td>\n      <td>0.00</td>\n      <td>None</td>\n      <td>2532842.0</td>\n      <td>Nick Foles</td>\n      <td>9.0</td>\n      <td>QB</td>\n      <td>1</td>\n      <td>home</td>\n      <td>2018090600</td>\n      <td>776</td>\n      <td>right</td>\n      <td>NaN</td>\n      <td>[47.75 29.85]</td>\n      <td>offense</td>\n      <td>[ 0.99997915 -0.00645767]</td>\n      <td>[0.99739063 0.07219377]</td>\n      <td>[-0.31395389  0.94943823]</td>\n    </tr>\n    <tr>\n      <th>11102</th>\n      <td>2018-09-07 01:37:29.799000+00:00</td>\n      <td>0.00</td>\n      <td>0.00</td>\n      <td>0.00</td>\n      <td>None</td>\n      <td>2540158.0</td>\n      <td>Zach Ertz</td>\n      <td>86.0</td>\n      <td>TE</td>\n      <td>1</td>\n      <td>home</td>\n      <td>2018090600</td>\n      <td>776</td>\n      <td>right</td>\n      <td>NaN</td>\n      <td>[51.75 36.57]</td>\n      <td>offense</td>\n      <td>[0.92226845 0.38655   ]</td>\n      <td>[ 0.99896264 -0.04553734]</td>\n      <td>[0.13237362 0.99119989]</td>\n    </tr>\n    <tr>\n      <th>11103</th>\n      <td>2018-09-07 01:37:29.799000+00:00</td>\n      <td>0.00</td>\n      <td>0.00</td>\n      <td>0.00</td>\n      <td>None</td>\n      <td>2552600.0</td>\n      <td>Nelson Agholor</td>\n      <td>13.0</td>\n      <td>WR</td>\n      <td>1</td>\n      <td>home</td>\n      <td>2018090600</td>\n      <td>776</td>\n      <td>right</td>\n      <td>NaN</td>\n      <td>[50.31 16.36]</td>\n      <td>offense</td>\n      <td>[0.97771001 0.20995986]</td>\n      <td>[-0.42151068 -0.90682344]</td>\n      <td>[ 0.05135233 -0.9986806 ]</td>\n    </tr>\n    <tr>\n      <th>...</th>\n      <td>...</td>\n      <td>...</td>\n      <td>...</td>\n      <td>...</td>\n      <td>...</td>\n      <td>...</td>\n      <td>...</td>\n      <td>...</td>\n      <td>...</td>\n      <td>...</td>\n      <td>...</td>\n      <td>...</td>\n      <td>...</td>\n      <td>...</td>\n      <td>...</td>\n      <td>...</td>\n      <td>...</td>\n      <td>...</td>\n      <td>...</td>\n      <td>...</td>\n    </tr>\n    <tr>\n      <th>11844</th>\n      <td>2018-09-07 01:37:34.299000+00:00</td>\n      <td>2.28</td>\n      <td>2.13</td>\n      <td>0.24</td>\n      <td>None</td>\n      <td>NaN</td>\n      <td>Football</td>\n      <td>NaN</td>\n      <td>NaN</td>\n      <td>46</td>\n      <td>football</td>\n      <td>2018090600</td>\n      <td>776</td>\n      <td>right</td>\n      <td>NaN</td>\n      <td>[43.66 31.25]</td>\n      <td>ball</td>\n      <td>[nan nan]</td>\n      <td>[nan nan]</td>\n      <td>[0. 0.]</td>\n    </tr>\n    <tr>\n      <th>11845</th>\n      <td>2018-09-07 01:37:34.400000+00:00</td>\n      <td>2.22</td>\n      <td>2.07</td>\n      <td>0.37</td>\n      <td>None</td>\n      <td>NaN</td>\n      <td>Football</td>\n      <td>NaN</td>\n      <td>NaN</td>\n      <td>47</td>\n      <td>football</td>\n      <td>2018090600</td>\n      <td>776</td>\n      <td>right</td>\n      <td>NaN</td>\n      <td>[43.35 31.45]</td>\n      <td>ball</td>\n      <td>[nan nan]</td>\n      <td>[nan nan]</td>\n      <td>[0. 0.]</td>\n    </tr>\n    <tr>\n      <th>11846</th>\n      <td>2018-09-07 01:37:34.500000+00:00</td>\n      <td>2.03</td>\n      <td>1.87</td>\n      <td>0.21</td>\n      <td>None</td>\n      <td>NaN</td>\n      <td>Football</td>\n      <td>NaN</td>\n      <td>NaN</td>\n      <td>48</td>\n      <td>football</td>\n      <td>2018090600</td>\n      <td>776</td>\n      <td>right</td>\n      <td>NaN</td>\n      <td>[43.17 31.57]</td>\n      <td>ball</td>\n      <td>[nan nan]</td>\n      <td>[nan nan]</td>\n      <td>[0. 0.]</td>\n    </tr>\n    <tr>\n      <th>11847</th>\n      <td>2018-09-07 01:37:34.599000+00:00</td>\n      <td>2.56</td>\n      <td>0.60</td>\n      <td>0.37</td>\n      <td>qb_sack</td>\n      <td>NaN</td>\n      <td>Football</td>\n      <td>NaN</td>\n      <td>NaN</td>\n      <td>49</td>\n      <td>football</td>\n      <td>2018090600</td>\n      <td>776</td>\n      <td>right</td>\n      <td>NaN</td>\n      <td>[42.85 31.75]</td>\n      <td>ball</td>\n      <td>[nan nan]</td>\n      <td>[nan nan]</td>\n      <td>[0. 0.]</td>\n    </tr>\n    <tr>\n      <th>11848</th>\n      <td>2018-09-07 01:37:34.700000+00:00</td>\n      <td>2.49</td>\n      <td>0.75</td>\n      <td>0.18</td>\n      <td>None</td>\n      <td>NaN</td>\n      <td>Football</td>\n      <td>NaN</td>\n      <td>NaN</td>\n      <td>50</td>\n      <td>football</td>\n      <td>2018090600</td>\n      <td>776</td>\n      <td>right</td>\n      <td>NaN</td>\n      <td>[42.69 31.83]</td>\n      <td>ball</td>\n      <td>[nan nan]</td>\n      <td>[nan nan]</td>\n      <td>[0. 0.]</td>\n    </tr>\n  </tbody>\n</table>\n<p>750 rows × 20 columns</p>\n</div>"
     },
     "execution_count": 30,
     "metadata": {},
     "output_type": "execute_result"
    }
   ],
   "source": [
    "tracking_df.loc[(tracking_df['gameId'] == 2018090600) & (tracking_df['playId'] == 776)]"
   ],
   "metadata": {
    "collapsed": false,
    "pycharm": {
     "name": "#%%\n"
    }
   }
  },
  {
   "cell_type": "code",
   "execution_count": 31,
   "metadata": {
    "pycharm": {
     "name": "#%%\n"
    }
   },
   "outputs": [],
   "source": [
    "def string_to_vector(s):\n",
    "    try:\n",
    "        s = s.split('[')[1].split(']')[0]\n",
    "        x = float(s.split()[0])\n",
    "        y = float(s.split()[1])\n",
    "        return np.array([x, y])\n",
    "    except AttributeError:\n",
    "        return None\n",
    "\n",
    "def get_position_delta(row):\n",
    "    return row.s / 10 * row.dir_vec\n",
    "\n",
    "def get_relative_position(row):\n",
    "    if row.frameId == 1:\n",
    "        return np.array([0, 0])\n",
    "    else:\n",
    "        last_pos = row.shift(1).rel_pos\n",
    "        return last_pos + row.pos_delta"
   ]
  },
  {
   "cell_type": "code",
   "execution_count": 32,
   "metadata": {
    "pycharm": {
     "name": "#%%\n"
    }
   },
   "outputs": [],
   "source": [
    "tracking_df['pos'] = tracking_df['pos'].apply(string_to_vector)\n",
    "tracking_df['o_vec'] = tracking_df['o_vec'].apply(string_to_vector)\n",
    "tracking_df['dir_vec'] = tracking_df['dir_vec'].apply(string_to_vector)\n",
    "tracking_df['r_vec'] = tracking_df['r_vec'].apply(string_to_vector)"
   ]
  },
  {
   "cell_type": "code",
   "execution_count": 33,
   "metadata": {
    "pycharm": {
     "name": "#%%\n"
    }
   },
   "outputs": [],
   "source": [
    "# Attempt clustering of play data"
   ]
  },
  {
   "cell_type": "code",
   "execution_count": 34,
   "metadata": {
    "pycharm": {
     "name": "#%%\n"
    }
   },
   "outputs": [],
   "source": [
    "df = play_df[['gameId', 'playId', 'offense_h_presnap',\n",
    "       'offense_h_to_throw', 'offense_h_to_arrived',\n",
    "       'offense_p_presnap', 'offense_p_to_throw', 'offense_p_to_arrived',\n",
    "       'offense_m_presnap',\n",
    "       'offense_m_to_throw', 'offense_m_to_arrived', 'offense_v_presnap', 'offense_v_to_throw',\n",
    "       'offense_v_to_arrived',\n",
    "       'offense_a_presnap', 'offense_a_to_throw', 'offense_a_to_arrived',\n",
    "       'HITCH', 'OUT', 'FLAT', 'CROSS', 'GO', 'SLANT', 'SCREEN', 'CORNER',\n",
    "       'IN', 'ANGLE', 'POST', 'WHEEL', 'num_routes']].dropna().copy()\n",
    "\n",
    "df_scaled = normalize(df)\n",
    "df_scaled = pd.DataFrame(df_scaled, columns=df.columns).drop(['gameId', 'playId'], axis=1)"
   ]
  },
  {
   "cell_type": "code",
   "execution_count": 35,
   "metadata": {
    "pycharm": {
     "name": "#%%\n"
    }
   },
   "outputs": [],
   "source": [
    "km = KMeans(\n",
    "    n_clusters=8, init='random',\n",
    "    n_init=3, max_iter=300,\n",
    "    tol=1e-04, random_state=0\n",
    ")\n",
    "\n",
    "y_km = km.fit_predict(df_scaled)"
   ]
  },
  {
   "cell_type": "code",
   "execution_count": 36,
   "metadata": {
    "pycharm": {
     "name": "#%%\n"
    }
   },
   "outputs": [
    {
     "data": {
      "text/plain": "<Figure size 432x288 with 1 Axes>",
      "image/png": "[encoded data removed]"
     },
     "metadata": {
      "needs_background": "light"
     },
     "output_type": "display_data"
    }
   ],
   "source": [
    "distortions = []\n",
    "num_plays = 15\n",
    "\n",
    "for i in range(1, num_plays + 1):\n",
    "     km = KMeans(\n",
    "        n_clusters=i, init='random',\n",
    "        n_init=10, max_iter=300,\n",
    "        tol=1e-04, random_state=0\n",
    "    )\n",
    "     km.fit(df_scaled)\n",
    "     distortions.append(km.inertia_)\n",
    "\n",
    "plt.plot(range(1, num_plays + 1), distortions, marker='o')\n",
    "plt.xlabel('Number of clusters')\n",
    "plt.ylabel('Distortion')\n",
    "plt.title('Elbow method for Optimal K')\n",
    "plt.show()"
   ]
  },
  {
   "cell_type": "code",
   "execution_count": 37,
   "metadata": {
    "pycharm": {
     "name": "#%%\n"
    }
   },
   "outputs": [
    {
     "data": {
      "text/plain": "<Figure size 432x288 with 1 Axes>",
      "image/png": "[encoded data removed]"
     },
     "metadata": {
      "needs_background": "light"
     },
     "output_type": "display_data"
    }
   ],
   "source": [
    "range_clusters = [2, 3, 4, 5, 6, 7, 8, 9, 10, 11, 12, 13, 14, 15, 16, 17, 18, 19, 20]\n",
    "silhouette_avg = []\n",
    "for i in range_clusters:\n",
    "    km = KMeans(\n",
    "        n_clusters=i, init='random',\n",
    "        n_init=10, max_iter=300,\n",
    "        tol=1e-04, random_state=0\n",
    "    )\n",
    "    km.fit(df_scaled)\n",
    "    cluster_labels = km.labels_\n",
    "\n",
    "    silhouette_avg.append(silhouette_score(df_scaled, cluster_labels))\n",
    "\n",
    "plt.plot(range_clusters, silhouette_avg)\n",
    "plt.xlabel('Values of K')\n",
    "plt.ylabel('Silhouette Score')\n",
    "plt.title('Silhouette analysis for Optimal K')\n",
    "plt.show()"
   ]
  },
  {
   "cell_type": "code",
   "execution_count": 38,
   "metadata": {
    "pycharm": {
     "name": "#%%\n"
    }
   },
   "outputs": [],
   "source": [
    "limit = 0.0000001\n",
    "model = AgglomerativeClustering(linkage='ward',\n",
    "                                affinity='euclidean',\n",
    "                                distance_threshold=limit,\n",
    "                                n_clusters=None)\n",
    "model.fit(df_scaled)\n",
    "df['cluster'] = model.labels_"
   ]
  },
  {
   "cell_type": "code",
   "execution_count": 39,
   "metadata": {
    "pycharm": {
     "name": "#%%\n"
    }
   },
   "outputs": [
    {
     "data": {
      "text/plain": "<Figure size 432x288 with 1 Axes>",
      "image/png": "[encoded data removed]"
     },
     "metadata": {
      "needs_background": "light"
     },
     "output_type": "display_data"
    }
   ],
   "source": [
    "range_clusters = []\n",
    "n_samples = df_scaled.shape[0]\n",
    "[range_clusters.append(x) for x in range(2, 21)]\n",
    "silhouette_avg = []\n",
    "\n",
    "for i in range_clusters:\n",
    "    model = AgglomerativeClustering(linkage='ward',\n",
    "                                affinity='euclidean',\n",
    "                                distance_threshold=None,\n",
    "                                n_clusters=i)\n",
    "    model.fit(df_scaled)\n",
    "    cluster_labels = model.labels_\n",
    "    silhouette_avg.append(silhouette_score(df_scaled, cluster_labels))\n",
    "\n",
    "fig, ax = plt.subplots()\n",
    "ax.plot(range_clusters, silhouette_avg)\n",
    "ax.set_xlabel('Distance Threshold')\n",
    "ax.set_ylabel('Silhouette Score')\n",
    "ax.set_title('Silhouette analysis for Optimal Clusters')\n",
    "plt.show()"
   ]
  },
  {
   "cell_type": "code",
   "execution_count": 40,
   "outputs": [
    {
     "data": {
      "text/plain": "0        56\n1        37\n3        13\n4        52\n5        27\n         ..\n17901    34\n17902     9\n17903    27\n17905     0\n17906     1\nName: cluster, Length: 6053, dtype: int64"
     },
     "execution_count": 40,
     "metadata": {},
     "output_type": "execute_result"
    }
   ],
   "source": [
    "df['cluster']"
   ],
   "metadata": {
    "collapsed": false,
    "pycharm": {
     "name": "#%%\n"
    }
   }
  },
  {
   "cell_type": "code",
   "execution_count": 41,
   "metadata": {
    "pycharm": {
     "name": "#%%\n"
    }
   },
   "outputs": [
    {
     "data": {
      "text/plain": "AgglomerativeClustering(n_clusters=8)",
      "text/html": "<style>#sk-container-id-1 {color: black;background-color: white;}#sk-container-id-1 pre{padding: 0;}#sk-container-id-1 div.sk-toggleable {background-color: white;}#sk-container-id-1 label.sk-toggleable__label {cursor: pointer;display: block;width: 100%;margin-bottom: 0;padding: 0.3em;box-sizing: border-box;text-align: center;}#sk-container-id-1 label.sk-toggleable__label-arrow:before {content: \"▸\";float: left;margin-right: 0.25em;color: #696969;}#sk-container-id-1 label.sk-toggleable__label-arrow:hover:before {color: black;}#sk-container-id-1 div.sk-estimator:hover label.sk-toggleable__label-arrow:before {color: black;}#sk-container-id-1 div.sk-toggleable__content {max-height: 0;max-width: 0;overflow: hidden;text-align: left;background-color: #f0f8ff;}#sk-container-id-1 div.sk-toggleable__content pre {margin: 0.2em;color: black;border-radius: 0.25em;background-color: #f0f8ff;}#sk-container-id-1 input.sk-toggleable__control:checked~div.sk-toggleable__content {max-height: 200px;max-width: 100%;overflow: auto;}#sk-container-id-1 input.sk-toggleable__control:checked~label.sk-toggleable__label-arrow:before {content: \"▾\";}#sk-container-id-1 div.sk-estimator input.sk-toggleable__control:checked~label.sk-toggleable__label {background-color: #d4ebff;}#sk-container-id-1 div.sk-label input.sk-toggleable__control:checked~label.sk-toggleable__label {background-color: #d4ebff;}#sk-container-id-1 input.sk-hidden--visually {border: 0;clip: rect(1px 1px 1px 1px);clip: rect(1px, 1px, 1px, 1px);height: 1px;margin: -1px;overflow: hidden;padding: 0;position: absolute;width: 1px;}#sk-container-id-1 div.sk-estimator {font-family: monospace;background-color: #f0f8ff;border: 1px dotted black;border-radius: 0.25em;box-sizing: border-box;margin-bottom: 0.5em;}#sk-container-id-1 div.sk-estimator:hover {background-color: #d4ebff;}#sk-container-id-1 div.sk-parallel-item::after {content: \"\";width: 100%;border-bottom: 1px solid gray;flex-grow: 1;}#sk-container-id-1 div.sk-label:hover label.sk-toggleable__label {background-color: #d4ebff;}#sk-container-id-1 div.sk-serial::before {content: \"\";position: absolute;border-left: 1px solid gray;box-sizing: border-box;top: 0;bottom: 0;left: 50%;z-index: 0;}#sk-container-id-1 div.sk-serial {display: flex;flex-direction: column;align-items: center;background-color: white;padding-right: 0.2em;padding-left: 0.2em;position: relative;}#sk-container-id-1 div.sk-item {position: relative;z-index: 1;}#sk-container-id-1 div.sk-parallel {display: flex;align-items: stretch;justify-content: center;background-color: white;position: relative;}#sk-container-id-1 div.sk-item::before, #sk-container-id-1 div.sk-parallel-item::before {content: \"\";position: absolute;border-left: 1px solid gray;box-sizing: border-box;top: 0;bottom: 0;left: 50%;z-index: -1;}#sk-container-id-1 div.sk-parallel-item {display: flex;flex-direction: column;z-index: 1;position: relative;background-color: white;}#sk-container-id-1 div.sk-parallel-item:first-child::after {align-self: flex-end;width: 50%;}#sk-container-id-1 div.sk-parallel-item:last-child::after {align-self: flex-start;width: 50%;}#sk-container-id-1 div.sk-parallel-item:only-child::after {width: 0;}#sk-container-id-1 div.sk-dashed-wrapped {border: 1px dashed gray;margin: 0 0.4em 0.5em 0.4em;box-sizing: border-box;padding-bottom: 0.4em;background-color: white;}#sk-container-id-1 div.sk-label label {font-family: monospace;font-weight: bold;display: inline-block;line-height: 1.2em;}#sk-container-id-1 div.sk-label-container {text-align: center;}#sk-container-id-1 div.sk-container {/* jupyter's `normalize.less` sets `[hidden] { display: none; }` but bootstrap.min.css set `[hidden] { display: none !important; }` so we also need the `!important` here to be able to override the default hidden behavior on the sphinx rendered scikit-learn.org. See: https://github.com/scikit-learn/scikit-learn/issues/21755 */display: inline-block !important;position: relative;}#sk-container-id-1 div.sk-text-repr-fallback {display: none;}</style><div id=\"sk-container-id-1\" class=\"sk-top-container\"><div class=\"sk-text-repr-fallback\"><pre>AgglomerativeClustering(n_clusters=8)</pre><b>In a Jupyter environment, please rerun this cell to show the HTML representation or trust the notebook. <br />On GitHub, the HTML representation is unable to render, please try loading this page with nbviewer.org.</b></div><div class=\"sk-container\" hidden><div class=\"sk-item\"><div class=\"sk-estimator sk-toggleable\"><input class=\"sk-toggleable__control sk-hidden--visually\" id=\"sk-estimator-id-1\" type=\"checkbox\" checked><label for=\"sk-estimator-id-1\" class=\"sk-toggleable__label sk-toggleable__label-arrow\">AgglomerativeClustering</label><div class=\"sk-toggleable__content\"><pre>AgglomerativeClustering(n_clusters=8)</pre></div></div></div></div></div>"
     },
     "execution_count": 41,
     "metadata": {},
     "output_type": "execute_result"
    }
   ],
   "source": [
    "model = AgglomerativeClustering(linkage='ward',\n",
    "                                affinity='euclidean',\n",
    "                                distance_threshold=None,\n",
    "                                n_clusters=8)\n",
    "model.fit(df_scaled)"
   ]
  },
  {
   "cell_type": "code",
   "execution_count": 42,
   "metadata": {
    "pycharm": {
     "name": "#%%\n"
    }
   },
   "outputs": [
    {
     "name": "stdout",
     "output_type": "stream",
     "text": [
      "0    1736\n",
      "4    1328\n",
      "1    1189\n",
      "2     905\n",
      "5     452\n",
      "6     260\n",
      "7     130\n",
      "3      53\n",
      "Name: cluster, dtype: int64\n"
     ]
    }
   ],
   "source": [
    "df_scaled['cluster'] = model.labels_\n",
    "print(df_scaled['cluster'].value_counts())"
   ]
  },
  {
   "cell_type": "code",
   "execution_count": 43,
   "outputs": [
    {
     "name": "stdout",
     "output_type": "stream",
     "text": [
      "2     250\n",
      "1     228\n",
      "4     209\n",
      "12    206\n",
      "13    179\n",
      "     ... \n",
      "29      7\n",
      "35      6\n",
      "40      5\n",
      "66      1\n",
      "64      1\n",
      "Name: cluster, Length: 78, dtype: int64\n"
     ]
    }
   ],
   "source": [
    "print(df['cluster'].value_counts())"
   ],
   "metadata": {
    "collapsed": false,
    "pycharm": {
     "name": "#%%\n"
    }
   }
  },
  {
   "cell_type": "code",
   "execution_count": 43,
   "metadata": {
    "pycharm": {
     "name": "#%%\n"
    }
   },
   "outputs": [],
   "source": []
  },
  {
   "cell_type": "code",
   "execution_count": 44,
   "metadata": {
    "pycharm": {
     "name": "#%%\n"
    }
   },
   "outputs": [
    {
     "data": {
      "text/plain": "RandomForestClassifier(max_depth=10, n_estimators=10000, n_jobs=-1)",
      "text/html": "<style>#sk-container-id-2 {color: black;background-color: white;}#sk-container-id-2 pre{padding: 0;}#sk-container-id-2 div.sk-toggleable {background-color: white;}#sk-container-id-2 label.sk-toggleable__label {cursor: pointer;display: block;width: 100%;margin-bottom: 0;padding: 0.3em;box-sizing: border-box;text-align: center;}#sk-container-id-2 label.sk-toggleable__label-arrow:before {content: \"▸\";float: left;margin-right: 0.25em;color: #696969;}#sk-container-id-2 label.sk-toggleable__label-arrow:hover:before {color: black;}#sk-container-id-2 div.sk-estimator:hover label.sk-toggleable__label-arrow:before {color: black;}#sk-container-id-2 div.sk-toggleable__content {max-height: 0;max-width: 0;overflow: hidden;text-align: left;background-color: #f0f8ff;}#sk-container-id-2 div.sk-toggleable__content pre {margin: 0.2em;color: black;border-radius: 0.25em;background-color: #f0f8ff;}#sk-container-id-2 input.sk-toggleable__control:checked~div.sk-toggleable__content {max-height: 200px;max-width: 100%;overflow: auto;}#sk-container-id-2 input.sk-toggleable__control:checked~label.sk-toggleable__label-arrow:before {content: \"▾\";}#sk-container-id-2 div.sk-estimator input.sk-toggleable__control:checked~label.sk-toggleable__label {background-color: #d4ebff;}#sk-container-id-2 div.sk-label input.sk-toggleable__control:checked~label.sk-toggleable__label {background-color: #d4ebff;}#sk-container-id-2 input.sk-hidden--visually {border: 0;clip: rect(1px 1px 1px 1px);clip: rect(1px, 1px, 1px, 1px);height: 1px;margin: -1px;overflow: hidden;padding: 0;position: absolute;width: 1px;}#sk-container-id-2 div.sk-estimator {font-family: monospace;background-color: #f0f8ff;border: 1px dotted black;border-radius: 0.25em;box-sizing: border-box;margin-bottom: 0.5em;}#sk-container-id-2 div.sk-estimator:hover {background-color: #d4ebff;}#sk-container-id-2 div.sk-parallel-item::after {content: \"\";width: 100%;border-bottom: 1px solid gray;flex-grow: 1;}#sk-container-id-2 div.sk-label:hover label.sk-toggleable__label {background-color: #d4ebff;}#sk-container-id-2 div.sk-serial::before {content: \"\";position: absolute;border-left: 1px solid gray;box-sizing: border-box;top: 0;bottom: 0;left: 50%;z-index: 0;}#sk-container-id-2 div.sk-serial {display: flex;flex-direction: column;align-items: center;background-color: white;padding-right: 0.2em;padding-left: 0.2em;position: relative;}#sk-container-id-2 div.sk-item {position: relative;z-index: 1;}#sk-container-id-2 div.sk-parallel {display: flex;align-items: stretch;justify-content: center;background-color: white;position: relative;}#sk-container-id-2 div.sk-item::before, #sk-container-id-2 div.sk-parallel-item::before {content: \"\";position: absolute;border-left: 1px solid gray;box-sizing: border-box;top: 0;bottom: 0;left: 50%;z-index: -1;}#sk-container-id-2 div.sk-parallel-item {display: flex;flex-direction: column;z-index: 1;position: relative;background-color: white;}#sk-container-id-2 div.sk-parallel-item:first-child::after {align-self: flex-end;width: 50%;}#sk-container-id-2 div.sk-parallel-item:last-child::after {align-self: flex-start;width: 50%;}#sk-container-id-2 div.sk-parallel-item:only-child::after {width: 0;}#sk-container-id-2 div.sk-dashed-wrapped {border: 1px dashed gray;margin: 0 0.4em 0.5em 0.4em;box-sizing: border-box;padding-bottom: 0.4em;background-color: white;}#sk-container-id-2 div.sk-label label {font-family: monospace;font-weight: bold;display: inline-block;line-height: 1.2em;}#sk-container-id-2 div.sk-label-container {text-align: center;}#sk-container-id-2 div.sk-container {/* jupyter's `normalize.less` sets `[hidden] { display: none; }` but bootstrap.min.css set `[hidden] { display: none !important; }` so we also need the `!important` here to be able to override the default hidden behavior on the sphinx rendered scikit-learn.org. See: https://github.com/scikit-learn/scikit-learn/issues/21755 */display: inline-block !important;position: relative;}#sk-container-id-2 div.sk-text-repr-fallback {display: none;}</style><div id=\"sk-container-id-2\" class=\"sk-top-container\"><div class=\"sk-text-repr-fallback\"><pre>RandomForestClassifier(max_depth=10, n_estimators=10000, n_jobs=-1)</pre><b>In a Jupyter environment, please rerun this cell to show the HTML representation or trust the notebook. <br />On GitHub, the HTML representation is unable to render, please try loading this page with nbviewer.org.</b></div><div class=\"sk-container\" hidden><div class=\"sk-item\"><div class=\"sk-estimator sk-toggleable\"><input class=\"sk-toggleable__control sk-hidden--visually\" id=\"sk-estimator-id-2\" type=\"checkbox\" checked><label for=\"sk-estimator-id-2\" class=\"sk-toggleable__label sk-toggleable__label-arrow\">RandomForestClassifier</label><div class=\"sk-toggleable__content\"><pre>RandomForestClassifier(max_depth=10, n_estimators=10000, n_jobs=-1)</pre></div></div></div></div></div>"
     },
     "execution_count": 44,
     "metadata": {},
     "output_type": "execute_result"
    }
   ],
   "source": [
    "from sklearn.ensemble import RandomForestClassifier\n",
    "clf = RandomForestClassifier(n_jobs=-1, n_estimators=10000, max_depth=10)\n",
    "clf.fit(df[['offense_h_presnap', 'offense_h_to_throw', 'offense_h_to_arrived',\n",
    "       'offense_p_presnap', 'offense_p_to_throw', 'offense_p_to_arrived',\n",
    "       'offense_m_presnap', 'offense_m_to_throw', 'offense_m_to_arrived',\n",
    "       'offense_v_presnap', 'offense_v_to_throw', 'offense_v_to_arrived',\n",
    "       'offense_a_presnap', 'offense_a_to_throw', 'offense_a_to_arrived',\n",
    "       'HITCH', 'OUT', 'FLAT', 'CROSS', 'GO', 'SLANT', 'SCREEN', 'CORNER',\n",
    "       'IN', 'ANGLE', 'POST', 'WHEEL']], df['cluster'])"
   ]
  },
  {
   "cell_type": "code",
   "execution_count": 45,
   "metadata": {
    "pycharm": {
     "name": "#%%\n"
    }
   },
   "outputs": [
    {
     "data": {
      "text/plain": "array([0.01148464, 0.04509316, 0.03348701, 0.02372276, 0.02718487,\n       0.02358878, 0.02325563, 0.02829884, 0.02926604, 0.02456918,\n       0.03568414, 0.02587685, 0.0933778 , 0.19021374, 0.3171602 ,\n       0.00811365, 0.00589762, 0.00678444, 0.00570331, 0.00874539,\n       0.0102081 , 0.00536362, 0.00320123, 0.00522315, 0.00381961,\n       0.00382981, 0.00084645])"
     },
     "execution_count": 45,
     "metadata": {},
     "output_type": "execute_result"
    }
   ],
   "source": [
    "clf.feature_importances_"
   ]
  },
  {
   "cell_type": "code",
   "execution_count": 46,
   "metadata": {
    "pycharm": {
     "name": "#%%\n"
    }
   },
   "outputs": [
    {
     "data": {
      "text/plain": "0.0"
     },
     "execution_count": 46,
     "metadata": {},
     "output_type": "execute_result"
    }
   ],
   "source": [
    "clf.score(df_scaled[['offense_h_presnap', 'offense_h_to_throw', 'offense_h_to_arrived',\n",
    "       'offense_p_presnap', 'offense_p_to_throw', 'offense_p_to_arrived',\n",
    "       'offense_m_presnap', 'offense_m_to_throw', 'offense_m_to_arrived',\n",
    "       'offense_v_presnap', 'offense_v_to_throw', 'offense_v_to_arrived',\n",
    "       'offense_a_presnap', 'offense_a_to_throw', 'offense_a_to_arrived',\n",
    "       'HITCH', 'OUT', 'FLAT', 'CROSS', 'GO', 'SLANT', 'SCREEN', 'CORNER',\n",
    "       'IN', 'ANGLE', 'POST', 'WHEEL']], df_scaled['cluster'])"
   ]
  },
  {
   "cell_type": "code",
   "execution_count": 47,
   "metadata": {
    "pycharm": {
     "name": "#%%\n"
    }
   },
   "outputs": [
    {
     "data": {
      "text/plain": "array([0.01148464, 0.04509316, 0.03348701, 0.02372276, 0.02718487,\n       0.02358878, 0.02325563, 0.02829884, 0.02926604, 0.02456918,\n       0.03568414, 0.02587685, 0.0933778 , 0.19021374, 0.3171602 ,\n       0.00811365, 0.00589762, 0.00678444, 0.00570331, 0.00874539,\n       0.0102081 , 0.00536362, 0.00320123, 0.00522315, 0.00381961,\n       0.00382981, 0.00084645])"
     },
     "execution_count": 47,
     "metadata": {},
     "output_type": "execute_result"
    }
   ],
   "source": [
    "clf.feature_importances_"
   ]
  },
  {
   "cell_type": "code",
   "execution_count": 48,
   "outputs": [
    {
     "data": {
      "text/plain": "<BarContainer object of 27 artists>"
     },
     "execution_count": 48,
     "metadata": {},
     "output_type": "execute_result"
    },
    {
     "data": {
      "text/plain": "<Figure size 1080x720 with 1 Axes>",
      "image/png": "[encoded data removed]"
     },
     "metadata": {
      "needs_background": "light"
     },
     "output_type": "display_data"
    }
   ],
   "source": [
    "plt.figure(figsize=(15, 10))\n",
    "sorted_idx = clf.feature_importances_.argsort()\n",
    "plt.barh(clf.feature_names_in_[sorted_idx], clf.feature_importances_[sorted_idx])"
   ],
   "metadata": {
    "collapsed": false,
    "pycharm": {
     "name": "#%%\n"
    }
   }
  },
  {
   "cell_type": "code",
   "execution_count": 49,
   "outputs": [],
   "source": [
    "from sklearn.inspection import permutation_importance"
   ],
   "metadata": {
    "collapsed": false,
    "pycharm": {
     "name": "#%%\n"
    }
   }
  },
  {
   "cell_type": "code",
   "execution_count": 50,
   "metadata": {
    "pycharm": {
     "name": "#%%\n"
    }
   },
   "outputs": [],
   "source": [
    "perm_imp = permutation_importance(clf, df[['offense_h_presnap', 'offense_h_to_throw', 'offense_h_to_arrived',\n",
    "       'offense_p_presnap', 'offense_p_to_throw', 'offense_p_to_arrived',\n",
    "       'offense_m_presnap', 'offense_m_to_throw', 'offense_m_to_arrived',\n",
    "       'offense_v_presnap', 'offense_v_to_throw', 'offense_v_to_arrived',\n",
    "       'offense_a_presnap', 'offense_a_to_throw', 'offense_a_to_arrived',\n",
    "       'HITCH', 'OUT', 'FLAT', 'CROSS', 'GO', 'SLANT', 'SCREEN', 'CORNER',\n",
    "       'IN', 'ANGLE', 'POST', 'WHEEL']], df['cluster'])"
   ]
  },
  {
   "cell_type": "code",
   "execution_count": 51,
   "outputs": [
    {
     "data": {
      "text/plain": "<BarContainer object of 27 artists>"
     },
     "execution_count": 51,
     "metadata": {},
     "output_type": "execute_result"
    },
    {
     "data": {
      "text/plain": "<Figure size 1080x720 with 1 Axes>",
      "image/png": "[encoded data removed]"
     },
     "metadata": {
      "needs_background": "light"
     },
     "output_type": "display_data"
    }
   ],
   "source": [
    "plt.figure(figsize=(15, 10))\n",
    "sorted_idx = perm_imp.importances_mean.argsort()\n",
    "plt.barh(clf.feature_names_in_[sorted_idx], perm_imp.importances_mean[sorted_idx])"
   ],
   "metadata": {
    "collapsed": false,
    "pycharm": {
     "name": "#%%\n"
    }
   }
  },
  {
   "cell_type": "code",
   "execution_count": null,
   "metadata": {
    "pycharm": {
     "name": "#%%\n",
     "is_executing": true
    }
   },
   "outputs": [],
   "source": [
    "df_scaled[['offense_h_presnap', 'offense_h_to_throw', 'offense_h_to_arrived',\n",
    "       'offense_p_presnap', 'offense_p_to_throw', 'offense_p_to_arrived',\n",
    "       'offense_m_presnap', 'offense_m_to_throw', 'offense_m_to_arrived',\n",
    "       'offense_v_presnap', 'offense_v_to_throw', 'offense_v_to_arrived',\n",
    "       'offense_a_presnap', 'offense_a_to_throw', 'offense_a_to_arrived',\n",
    "       'HITCH', 'OUT', 'FLAT', 'CROSS', 'GO', 'SLANT', 'SCREEN', 'CORNER',\n",
    "       'IN', 'ANGLE', 'POST', 'WHEEL']]"
   ]
  },
  {
   "cell_type": "code",
   "execution_count": null,
   "metadata": {
    "pycharm": {
     "name": "#%%\n",
     "is_executing": true
    }
   },
   "outputs": [],
   "source": [
    "range_limit = []\n",
    "[range_limit.append(n) for n in np.linspace(5*10**-7, 5*10**-8, 10)]\n",
    "print(range_limit)\n",
    "silhouette_avg = []\n",
    "n_clusters = []\n",
    "for i in range_limit:\n",
    "    model = AgglomerativeClustering(linkage='ward',\n",
    "                                affinity='euclidean',\n",
    "                                distance_threshold=i,\n",
    "                                n_clusters=None)\n",
    "    model.fit(df_scaled)\n",
    "    cluster_labels = model.labels_\n",
    "    n_clusters.append(len(np.unique(model.labels_)))\n",
    "\n",
    "    silhouette_avg.append(silhouette_score(df_scaled, cluster_labels))\n",
    "\n",
    "fig, ax = plt.subplots()\n",
    "ax.plot(range_limit, silhouette_avg)\n",
    "ax.set_xlabel('Distance Threshold')\n",
    "ax.set_ylabel('Silhouette Score')\n",
    "ax.set_title('Silhouette analysis for Optimal Clusters')\n",
    "ax2 = ax.twinx()\n",
    "ax2.plot(range_limit, n_clusters, color='r')\n",
    "ax2.set_ylabel('Number of clusters')\n",
    "plt.show()"
   ]
  },
  {
   "cell_type": "code",
   "execution_count": null,
   "metadata": {
    "pycharm": {
     "name": "#%%\n"
    }
   },
   "outputs": [],
   "source": [
    "len(np.unique(model.labels_))"
   ]
  },
  {
   "cell_type": "code",
   "execution_count": null,
   "metadata": {
    "pycharm": {
     "name": "#%%\n"
    }
   },
   "outputs": [],
   "source": [
    "agglom_sizes = df.groupby('cluster').size()\n",
    "agglom_sizes"
   ]
  },
  {
   "cell_type": "code",
   "execution_count": null,
   "metadata": {
    "pycharm": {
     "name": "#%%\n"
    }
   },
   "outputs": [],
   "source": [
    "cluster6 = df.drop(['gameId', 'playId', 'cluster'], axis=1).loc[(df['cluster'] == 6)]\n",
    "cluster6.mean().apply(lambda x: '%.5f' % x)"
   ]
  },
  {
   "cell_type": "code",
   "execution_count": null,
   "metadata": {
    "pycharm": {
     "name": "#%%\n"
    }
   },
   "outputs": [],
   "source": [
    "df.head()"
   ]
  },
  {
   "cell_type": "code",
   "execution_count": null,
   "metadata": {
    "pycharm": {
     "name": "#%%\n"
    }
   },
   "outputs": [],
   "source": [
    "df.groupby('cluster')[['HITCH', 'OUT', 'FLAT', 'CROSS', 'GO', 'SLANT', 'SCREEN', 'CORNER',\n",
    "       'IN', 'ANGLE', 'POST', 'WHEEL']].mean().T"
   ]
  },
  {
   "cell_type": "code",
   "execution_count": null,
   "metadata": {
    "pycharm": {
     "name": "#%%\n"
    }
   },
   "outputs": [],
   "source": [
    "df.groupby(['gameId'])[['HITCH', 'OUT', 'FLAT', 'CROSS', 'GO', 'SLANT', 'SCREEN', 'CORNER',\n",
    "       'IN', 'ANGLE', 'POST', 'WHEEL']].mean().T"
   ]
  },
  {
   "cell_type": "code",
   "execution_count": null,
   "metadata": {
    "pycharm": {
     "name": "#%%\n"
    }
   },
   "outputs": [],
   "source": [
    "df.groupby(['gameId'])[['HITCH', 'OUT', 'FLAT', 'CROSS', 'GO', 'SLANT', 'SCREEN', 'CORNER',\n",
    "       'IN', 'ANGLE', 'POST', 'WHEEL']].mean().plot.box()"
   ]
  },
  {
   "cell_type": "code",
   "execution_count": null,
   "metadata": {
    "pycharm": {
     "name": "#%%\n"
    }
   },
   "outputs": [],
   "source": [
    "df.groupby('cluster')[['HITCH', 'OUT', 'FLAT', 'CROSS', 'GO', 'SLANT', 'SCREEN', 'CORNER',\n",
    "       'IN', 'ANGLE', 'POST', 'WHEEL']].mean().plot.box()"
   ]
  },
  {
   "cell_type": "code",
   "execution_count": null,
   "metadata": {
    "pycharm": {
     "name": "#%%\n"
    }
   },
   "outputs": [],
   "source": [
    "cluster0 = df.drop(['gameId', 'playId', 'cluster'], axis=1).loc[(df['cluster'] == 0)]\n",
    "cluster0.mean().apply(lambda x: '%.5f' % x)"
   ]
  },
  {
   "cell_type": "code",
   "execution_count": null,
   "metadata": {
    "pycharm": {
     "name": "#%%\n"
    }
   },
   "outputs": [],
   "source": [
    "cluster2 = df.drop(['gameId', 'playId', 'cluster'], axis=1).loc[(df['cluster'] == 2)]\n",
    "cluster2.mean().apply(lambda x: '%.5f' % x)"
   ]
  },
  {
   "cell_type": "code",
   "execution_count": null,
   "metadata": {
    "pycharm": {
     "name": "#%%\n"
    }
   },
   "outputs": [],
   "source": [
    "cluster0.columns"
   ]
  },
  {
   "cell_type": "code",
   "execution_count": null,
   "metadata": {
    "pycharm": {
     "name": "#%%\n"
    }
   },
   "outputs": [],
   "source": [
    "plt.boxplot(cluster0[['HITCH', 'OUT', 'FLAT', 'CROSS', 'GO', 'SLANT', 'SCREEN', 'CORNER',\n",
    "       'IN', 'ANGLE', 'POST', 'WHEEL']])\n",
    "plt.show()\n",
    "plt.boxplot(cluster2[['HITCH', 'OUT', 'FLAT', 'CROSS', 'GO', 'SLANT', 'SCREEN', 'CORNER',\n",
    "       'IN', 'ANGLE', 'POST', 'WHEEL']])\n",
    "plt.show()"
   ]
  },
  {
   "cell_type": "code",
   "execution_count": null,
   "metadata": {
    "pycharm": {
     "name": "#%%\n"
    }
   },
   "outputs": [],
   "source": [
    "verticals = df.loc[(df['GO'] == 4)]\n",
    "sorted(verticals['cluster'].unique().tolist())"
   ]
  },
  {
   "cell_type": "code",
   "execution_count": null,
   "metadata": {
    "pycharm": {
     "name": "#%%\n"
    }
   },
   "outputs": [],
   "source": [
    "flood = df.loc[(df['CORNER'] == 1) & (df['OUT'] == 1) & (df['FLAT'] == 1) & (df['POST'] == 1)]\n",
    "sorted(flood['cluster'].unique().tolist())"
   ]
  },
  {
   "cell_type": "code",
   "execution_count": null,
   "metadata": {
    "pycharm": {
     "name": "#%%\n"
    }
   },
   "outputs": [],
   "source": [
    "slants = df.loc[(df['SLANT'] >= 2)]\n",
    "sorted(slants['cluster'].unique().tolist())"
   ]
  },
  {
   "cell_type": "code",
   "execution_count": null,
   "metadata": {
    "pycharm": {
     "name": "#%%\n"
    }
   },
   "outputs": [],
   "source": [
    "def plot_relationship(df, xcol, ycol, labels):\n",
    "    fig = plt.figure(figsize=(6, 6))\n",
    "    grid = plt.GridSpec(4, 4, hspace=0.2, wspace=0.2)\n",
    "    main_ax = fig.add_subplot(grid[:-1, 1:])\n",
    "    y_hist = fig.add_subplot(grid[:-1, 0], xticklabels=[], sharey=main_ax)\n",
    "    x_hist = fig.add_subplot(grid[-1, 1:], yticklabels=[], sharex=main_ax)\n",
    "\n",
    "    main_ax.tick_params(\n",
    "        axis='both',          # changes apply to the x-axis\n",
    "        which='both',      # both major and minor ticks are affected\n",
    "        bottom=True,      # ticks along the bottom edge are off\n",
    "        left=True,\n",
    "        top=False,         # ticks along the top edge are off\n",
    "        labelbottom=False,\n",
    "        labelleft=False) # labels along the bottom edge are off\n",
    "    x = df[xcol]\n",
    "    y = df[ycol]\n",
    "    main_ax.scatter(x, y, c=labels)\n",
    "\n",
    "    x_hist.hist(x, 40, histtype='stepfilled', orientation='vertical', color='gray')\n",
    "    x_hist.invert_yaxis()\n",
    "    x_hist.set_xlabel(xcol)\n",
    "\n",
    "    y_hist.hist(y, 40, histtype='stepfilled', orientation='horizontal', color='gray')\n",
    "    y_hist.invert_xaxis()\n",
    "    y_hist.set_ylabel(ycol)"
   ]
  },
  {
   "cell_type": "code",
   "execution_count": null,
   "metadata": {
    "pycharm": {
     "name": "#%%\n"
    }
   },
   "outputs": [],
   "source": [
    "df_columns = df.drop(['gameId', 'playId', 'cluster'], axis=1).columns.tolist()\n",
    "plot_relationship(df, df_columns[0], df_columns[1], model.labels_)"
   ]
  },
  {
   "cell_type": "code",
   "execution_count": null,
   "metadata": {
    "pycharm": {
     "name": "#%%\n"
    }
   },
   "outputs": [],
   "source": [
    "df_columns = df.drop(['gameId', 'playId', 'cluster'], axis=1).columns.tolist()\n",
    "for subset in combinations(df_columns, 2):\n",
    "    plot_relationship(df, subset[0], subset[1], model.labels_)"
   ]
  },
  {
   "cell_type": "code",
   "execution_count": null,
   "metadata": {
    "pycharm": {
     "name": "#%%\n"
    }
   },
   "outputs": [],
   "source": [
    "plt.hist(df['HITCH'])\n",
    "plt.hist(df['GO'])\n",
    "plt.hist(df['OUT'])"
   ]
  },
  {
   "cell_type": "code",
   "execution_count": null,
   "metadata": {
    "pycharm": {
     "name": "#%%\n"
    }
   },
   "outputs": [],
   "source": [
    "from mpl_toolkits import mplot3d\n",
    "%matplotlib notebook"
   ]
  },
  {
   "cell_type": "code",
   "execution_count": null,
   "metadata": {
    "pycharm": {
     "name": "#%%\n"
    }
   },
   "outputs": [],
   "source": [
    "ax = plt.axes(projection='3d')\n",
    "x = df_scaled['offense_a_presnap']\n",
    "y = df_scaled['offense_a_to_throw']\n",
    "z = df_scaled['offense_a_to_arrived']\n",
    "ax.scatter3D(x, y, z, c=model.labels_)"
   ]
  },
  {
   "cell_type": "code",
   "execution_count": null,
   "outputs": [],
   "source": [
    "df_columns = df.drop(['gameId', 'playId', 'cluster'], axis=1).columns.tolist()\n",
    "for subset in combinations(df_columns, 2):\n",
    "    plot_relationship(df, subset[0], subset[1], model.labels_)"
   ],
   "metadata": {
    "collapsed": false,
    "pycharm": {
     "name": "#%%\n"
    }
   }
  },
  {
   "cell_type": "code",
   "execution_count": null,
   "outputs": [],
   "source": [
    "plt.hist(df['HITCH'])\n",
    "plt.hist(df['GO'])\n",
    "plt.hist(df['OUT'])"
   ],
   "metadata": {
    "collapsed": false,
    "pycharm": {
     "name": "#%%\n"
    }
   }
  },
  {
   "cell_type": "code",
   "execution_count": null,
   "outputs": [],
   "source": [
    "from mpl_toolkits import mplot3d\n",
    "%matplotlib notebook"
   ],
   "metadata": {
    "collapsed": false,
    "pycharm": {
     "name": "#%%\n"
    }
   }
  },
  {
   "cell_type": "code",
   "execution_count": null,
   "outputs": [],
   "source": [
    "ax = plt.axes(projection='3d')\n",
    "x = df_scaled['offense_a_presnap']\n",
    "y = df_scaled['offense_a_to_throw']\n",
    "z = df_scaled['offense_a_to_arrived']\n",
    "ax.scatter3D(x, y, z, c=model.labels_)"
   ],
   "metadata": {
    "collapsed": false,
    "pycharm": {
     "name": "#%%\n"
    }
   }
  },
  {
   "cell_type": "code",
   "execution_count": null,
   "metadata": {
    "pycharm": {
     "name": "#%%\n"
    }
   },
   "outputs": [],
   "source": [
    "df_columns = df.drop(['gameId', 'playId', 'cluster'], axis=1).columns.tolist()\n",
    "for subset in combinations(df_columns, 2):\n",
    "    plot_relationship(df, subset[0], subset[1], model.labels_)"
   ]
  },
  {
   "cell_type": "code",
   "execution_count": 132,
   "metadata": {
    "pycharm": {
     "name": "#%%\n"
    }
   },
   "outputs": [
    {
     "data": {
      "text/plain": [
       "(array([70.,  0.,  0., 36.,  0.,  0., 13.,  0.,  0.,  4.]),\n",
       " array([0. , 0.3, 0.6, 0.9, 1.2, 1.5, 1.8, 2.1, 2.4, 2.7, 3. ]),\n",
       " <BarContainer object of 10 artists>)"
      ]
     },
     "execution_count": 132,
     "metadata": {},
     "output_type": "execute_result"
    },
    {
     "data": {
      "image/png": "[encoded data removed]",
      "text/plain": [
       "<Figure size 432x288 with 1 Axes>"
      ]
     },
     "metadata": {
      "needs_background": "light"
     },
     "output_type": "display_data"
    }
   ],
   "source": [
    "plt.hist(df['HITCH'])\n",
    "plt.hist(df['GO'])\n",
    "plt.hist(df['OUT'])"
   ]
  },
  {
   "cell_type": "code",
   "execution_count": null,
   "metadata": {
    "pycharm": {
     "name": "#%%\n"
    }
   },
   "outputs": [],
   "source": [
    "from mpl_toolkits import mplot3d\n",
    "%matplotlib notebook"
   ]
  },
  {
   "cell_type": "code",
   "execution_count": null,
   "metadata": {
    "pycharm": {
     "name": "#%%\n"
    }
   },
   "outputs": [],
   "source": [
    "ax = plt.axes(projection='3d')\n",
    "x = df_scaled['offense_a_presnap']\n",
    "y = df_scaled['offense_a_to_throw']\n",
    "z = df_scaled['offense_a_to_arrived']\n",
    "ax.scatter3D(x, y, z, c=model.labels_)"
   ]
  }
 ],
 "metadata": {
  "kernelspec": {
   "display_name": "Python 3 (ipykernel)",
   "language": "python",
   "name": "python3"
  },
  "language_info": {
   "codemirror_mode": {
    "name": "ipython",
    "version": 3
   },
   "file_extension": ".py",
   "mimetype": "text/x-python",
   "name": "python",
   "nbconvert_exporter": "python",
   "pygments_lexer": "ipython3",
   "version": "3.9.12"
  }
 },
 "nbformat": 4,
 "nbformat_minor": 1
}