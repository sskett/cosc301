{
 "cells": [
  {
   "cell_type": "code",
   "execution_count": 1,
   "metadata": {
    "pycharm": {
     "name": "#%%\n"
    }
   },
   "outputs": [],
   "source": [
    "import pandas as pd\n",
    "import pandas_profiling as pp\n",
    "import numpy as np\n",
    "import sklearn\n",
    "import matplotlib.pyplot as plt\n",
    "\n",
    "from sklearn.cluster import KMeans\n",
    "from sklearn.cluster import AgglomerativeClustering\n",
    "from sklearn.metrics import silhouette_score\n",
    "from sklearn.preprocessing import normalize\n",
    "from scipy.cluster.hierarchy import dendrogram\n",
    "import scipy.cluster.hierarchy as shc\n",
    "from itertools import combinations"
   ]
  },
  {
   "cell_type": "code",
   "execution_count": 2,
   "metadata": {
    "pycharm": {
     "name": "#%%\n"
    }
   },
   "outputs": [],
   "source": [
    "def define_pandas_options():\n",
    "    pd.set_option('display.max_rows', None)\n",
    "    pd.set_option('display.max_columns', None)\n",
    "    pd.set_option('display.width', None)\n",
    "    pd.set_option('display.max_colwidth', None)\n",
    "    pd.set_option('display.float_format', lambda x: '%.5f' % x)"
   ]
  },
  {
   "cell_type": "code",
   "execution_count": 3,
   "metadata": {
    "pycharm": {
     "name": "#%%\n"
    }
   },
   "outputs": [],
   "source": [
    "pl_cols = ['gameId', 'playId', 'offense_h_play', 'offense_h_presnap', 'offense_h_to_throw', 'offense_h_to_arrived', 'offense_h_to_end', 'defense_h_play', 'defense_h_presnap', 'defense_h_to_throw', 'defense_h_to_arrived', 'defense_h_to_end', 'offense_p_play', 'offense_p_presnap', 'offense_p_to_throw', 'offense_p_to_arrived', 'offense_p_to_end', 'offense_m_play', 'offense_m_presnap', 'offense_m_to_throw', 'offense_m_to_arrived', 'offense_m_to_end', 'offense_v_play', 'offense_v_presnap', 'offense_v_to_throw', 'offense_v_to_arrived', 'offense_v_to_end', 'offense_a_play', 'offense_a_presnap', 'offense_a_to_throw', 'offense_a_to_arrived','offense_a_to_end', 'defense_p_play', 'defense_p_presnap','defense_p_to_throw', 'defense_p_to_arrived', 'defense_p_to_end','defense_m_play', 'defense_m_presnap', 'defense_m_to_throw','defense_m_to_arrived', 'defense_m_to_end', 'defense_v_play', 'defense_v_presnap', 'defense_v_to_throw', 'defense_v_to_arrived','defense_v_to_end', 'defense_a_play', 'defense_a_presnap','defense_a_to_throw', 'defense_a_to_arrived', 'defense_a_to_end','HITCH', 'OUT', 'FLAT', 'CROSS', 'GO', 'SLANT', 'SCREEN', 'CORNER', 'IN', 'ANGLE', 'POST', 'WHEEL']\n",
    "\n",
    "play_df = pd.read_csv('d20_intermediate_files/play_results.csv', usecols=pl_cols)\n",
    "play_df['num_routes'] = play_df[['HITCH', 'OUT', 'FLAT', 'CROSS', 'GO', 'SLANT', 'SCREEN', 'CORNER', 'IN', 'ANGLE', 'POST', 'WHEEL']].T.sum()\n",
    "play_df.drop(play_df[play_df['num_routes'] == 0].index, inplace=True)\n",
    "play_df.dropna(inplace=True)\n",
    "\n",
    "fr_cols = ['gameId', 'playId', 'frameId', 'offense_p_group', 'defense_p_group', 'offense_m_group', 'defense_m_group', 'o_state', 'd_state', 'offense_v_group', 'defense_v_group', 'offense_a_group', 'defense_a_group', 'a_group_ratio']\n",
    "frame_df = pd.read_csv('d20_intermediate_files/frame_results.csv', usecols=fr_cols)\n",
    "\n",
    "tr_cols = ['time', 's', 'a', 'dis', 'event', 'nflId', 'displayName', 'jerseyNumber', 'position', 'frameId', 'team', 'gameId', 'playId', 'playDirection', 'route', 'pos', 'teamType', 'o_vec', 'dir_vec', 'r_vec']\n",
    "tracking_df = pd.read_csv('d20_intermediate_files/tracking_results.csv', usecols=tr_cols)"
   ]
  },
  {
   "cell_type": "code",
   "execution_count": 4,
   "metadata": {
    "pycharm": {
     "name": "#%%\n"
    }
   },
   "outputs": [
    {
     "data": {
      "text/plain": "           gameId  playId  offense_h_play  offense_h_presnap  \\\n0      2018090600      75        5.145521          -0.000000   \n1      2018090600     146        4.239564           0.722081   \n3      2018090600     190        5.360222          -0.000000   \n4      2018090600     256        4.182727           0.592412   \n5      2018090600     320        4.865316           0.856801   \n...           ...     ...             ...                ...   \n17901  2018123014    3737        5.736851           0.912126   \n17902  2018123014    3798        4.786347           0.650022   \n17903  2018123014    3845        5.655393           0.832508   \n17905  2018123014    4181        4.665784          -0.000000   \n17906  2018123014    4206        5.289899           0.631172   \n\n       offense_h_to_throw  offense_h_to_arrived  offense_h_to_end  \\\n0                4.733452              4.306341          4.764014   \n1                4.249899              3.185872          4.265621   \n3                5.278721              4.789590          3.919888   \n4                3.949740              4.065981          3.628376   \n5                4.486656              4.609067          4.348052   \n...                   ...                   ...               ...   \n17901            5.719468              3.993120          4.432563   \n17902            4.373653              3.705424          4.422678   \n17903            5.676191              3.537782          4.845878   \n17905            4.058631              4.106856          4.341145   \n17906            4.531646              3.860088          5.087338   \n\n       defense_h_play  defense_h_presnap  defense_h_to_throw  ...  CROSS  GO  \\\n0            4.750136          -0.000000            4.008848  ...      0   0   \n1            4.872203           1.546312            3.939565  ...      1   0   \n3            5.203300           2.119310            4.312658  ...      0   0   \n4            4.317301           2.181818            3.593447  ...      0   2   \n5            4.907033           1.471890            4.277658  ...      0   0   \n...               ...                ...                 ...  ...    ...  ..   \n17901        5.524160           1.885385            5.252833  ...      2   0   \n17902        5.113308           1.793313            4.635760  ...      0   2   \n17903        5.429255           2.007910            5.130408  ...      1   0   \n17905        5.356567           1.301048            4.811074  ...      0   1   \n17906        5.926025           1.716245            4.061938  ...      0   0   \n\n       SLANT  SCREEN  CORNER  IN  ANGLE  POST  WHEEL  num_routes  \n0          0       0       0   0      0     0      0           4  \n1          0       0       0   0      0     0      0           5  \n3          0       0       1   1      0     0      0           3  \n4          0       0       0   0      0     0      0           3  \n5          0       0       0   0      1     0      0           5  \n...      ...     ...     ...  ..    ...   ...    ...         ...  \n17901      0       0       1   0      0     0      0           4  \n17902      1       1       0   0      0     0      0           4  \n17903      1       0       1   0      0     0      0           4  \n17905      0       0       0   0      1     0      0           5  \n17906      0       0       0   0      0     0      0           4  \n\n[6053 rows x 65 columns]",
      "text/html": "<div>\n<style scoped>\n    .dataframe tbody tr th:only-of-type {\n        vertical-align: middle;\n    }\n\n    .dataframe tbody tr th {\n        vertical-align: top;\n    }\n\n    .dataframe thead th {\n        text-align: right;\n    }\n</style>\n<table border=\"1\" class=\"dataframe\">\n  <thead>\n    <tr style=\"text-align: right;\">\n      <th></th>\n      <th>gameId</th>\n      <th>playId</th>\n      <th>offense_h_play</th>\n      <th>offense_h_presnap</th>\n      <th>offense_h_to_throw</th>\n      <th>offense_h_to_arrived</th>\n      <th>offense_h_to_end</th>\n      <th>defense_h_play</th>\n      <th>defense_h_presnap</th>\n      <th>defense_h_to_throw</th>\n      <th>...</th>\n      <th>CROSS</th>\n      <th>GO</th>\n      <th>SLANT</th>\n      <th>SCREEN</th>\n      <th>CORNER</th>\n      <th>IN</th>\n      <th>ANGLE</th>\n      <th>POST</th>\n      <th>WHEEL</th>\n      <th>num_routes</th>\n    </tr>\n  </thead>\n  <tbody>\n    <tr>\n      <th>0</th>\n      <td>2018090600</td>\n      <td>75</td>\n      <td>5.145521</td>\n      <td>-0.000000</td>\n      <td>4.733452</td>\n      <td>4.306341</td>\n      <td>4.764014</td>\n      <td>4.750136</td>\n      <td>-0.000000</td>\n      <td>4.008848</td>\n      <td>...</td>\n      <td>0</td>\n      <td>0</td>\n      <td>0</td>\n      <td>0</td>\n      <td>0</td>\n      <td>0</td>\n      <td>0</td>\n      <td>0</td>\n      <td>0</td>\n      <td>4</td>\n    </tr>\n    <tr>\n      <th>1</th>\n      <td>2018090600</td>\n      <td>146</td>\n      <td>4.239564</td>\n      <td>0.722081</td>\n      <td>4.249899</td>\n      <td>3.185872</td>\n      <td>4.265621</td>\n      <td>4.872203</td>\n      <td>1.546312</td>\n      <td>3.939565</td>\n      <td>...</td>\n      <td>1</td>\n      <td>0</td>\n      <td>0</td>\n      <td>0</td>\n      <td>0</td>\n      <td>0</td>\n      <td>0</td>\n      <td>0</td>\n      <td>0</td>\n      <td>5</td>\n    </tr>\n    <tr>\n      <th>3</th>\n      <td>2018090600</td>\n      <td>190</td>\n      <td>5.360222</td>\n      <td>-0.000000</td>\n      <td>5.278721</td>\n      <td>4.789590</td>\n      <td>3.919888</td>\n      <td>5.203300</td>\n      <td>2.119310</td>\n      <td>4.312658</td>\n      <td>...</td>\n      <td>0</td>\n      <td>0</td>\n      <td>0</td>\n      <td>0</td>\n      <td>1</td>\n      <td>1</td>\n      <td>0</td>\n      <td>0</td>\n      <td>0</td>\n      <td>3</td>\n    </tr>\n    <tr>\n      <th>4</th>\n      <td>2018090600</td>\n      <td>256</td>\n      <td>4.182727</td>\n      <td>0.592412</td>\n      <td>3.949740</td>\n      <td>4.065981</td>\n      <td>3.628376</td>\n      <td>4.317301</td>\n      <td>2.181818</td>\n      <td>3.593447</td>\n      <td>...</td>\n      <td>0</td>\n      <td>2</td>\n      <td>0</td>\n      <td>0</td>\n      <td>0</td>\n      <td>0</td>\n      <td>0</td>\n      <td>0</td>\n      <td>0</td>\n      <td>3</td>\n    </tr>\n    <tr>\n      <th>5</th>\n      <td>2018090600</td>\n      <td>320</td>\n      <td>4.865316</td>\n      <td>0.856801</td>\n      <td>4.486656</td>\n      <td>4.609067</td>\n      <td>4.348052</td>\n      <td>4.907033</td>\n      <td>1.471890</td>\n      <td>4.277658</td>\n      <td>...</td>\n      <td>0</td>\n      <td>0</td>\n      <td>0</td>\n      <td>0</td>\n      <td>0</td>\n      <td>0</td>\n      <td>1</td>\n      <td>0</td>\n      <td>0</td>\n      <td>5</td>\n    </tr>\n    <tr>\n      <th>...</th>\n      <td>...</td>\n      <td>...</td>\n      <td>...</td>\n      <td>...</td>\n      <td>...</td>\n      <td>...</td>\n      <td>...</td>\n      <td>...</td>\n      <td>...</td>\n      <td>...</td>\n      <td>...</td>\n      <td>...</td>\n      <td>...</td>\n      <td>...</td>\n      <td>...</td>\n      <td>...</td>\n      <td>...</td>\n      <td>...</td>\n      <td>...</td>\n      <td>...</td>\n      <td>...</td>\n    </tr>\n    <tr>\n      <th>17901</th>\n      <td>2018123014</td>\n      <td>3737</td>\n      <td>5.736851</td>\n      <td>0.912126</td>\n      <td>5.719468</td>\n      <td>3.993120</td>\n      <td>4.432563</td>\n      <td>5.524160</td>\n      <td>1.885385</td>\n      <td>5.252833</td>\n      <td>...</td>\n      <td>2</td>\n      <td>0</td>\n      <td>0</td>\n      <td>0</td>\n      <td>1</td>\n      <td>0</td>\n      <td>0</td>\n      <td>0</td>\n      <td>0</td>\n      <td>4</td>\n    </tr>\n    <tr>\n      <th>17902</th>\n      <td>2018123014</td>\n      <td>3798</td>\n      <td>4.786347</td>\n      <td>0.650022</td>\n      <td>4.373653</td>\n      <td>3.705424</td>\n      <td>4.422678</td>\n      <td>5.113308</td>\n      <td>1.793313</td>\n      <td>4.635760</td>\n      <td>...</td>\n      <td>0</td>\n      <td>2</td>\n      <td>1</td>\n      <td>1</td>\n      <td>0</td>\n      <td>0</td>\n      <td>0</td>\n      <td>0</td>\n      <td>0</td>\n      <td>4</td>\n    </tr>\n    <tr>\n      <th>17903</th>\n      <td>2018123014</td>\n      <td>3845</td>\n      <td>5.655393</td>\n      <td>0.832508</td>\n      <td>5.676191</td>\n      <td>3.537782</td>\n      <td>4.845878</td>\n      <td>5.429255</td>\n      <td>2.007910</td>\n      <td>5.130408</td>\n      <td>...</td>\n      <td>1</td>\n      <td>0</td>\n      <td>1</td>\n      <td>0</td>\n      <td>1</td>\n      <td>0</td>\n      <td>0</td>\n      <td>0</td>\n      <td>0</td>\n      <td>4</td>\n    </tr>\n    <tr>\n      <th>17905</th>\n      <td>2018123014</td>\n      <td>4181</td>\n      <td>4.665784</td>\n      <td>-0.000000</td>\n      <td>4.058631</td>\n      <td>4.106856</td>\n      <td>4.341145</td>\n      <td>5.356567</td>\n      <td>1.301048</td>\n      <td>4.811074</td>\n      <td>...</td>\n      <td>0</td>\n      <td>1</td>\n      <td>0</td>\n      <td>0</td>\n      <td>0</td>\n      <td>0</td>\n      <td>1</td>\n      <td>0</td>\n      <td>0</td>\n      <td>5</td>\n    </tr>\n    <tr>\n      <th>17906</th>\n      <td>2018123014</td>\n      <td>4206</td>\n      <td>5.289899</td>\n      <td>0.631172</td>\n      <td>4.531646</td>\n      <td>3.860088</td>\n      <td>5.087338</td>\n      <td>5.926025</td>\n      <td>1.716245</td>\n      <td>4.061938</td>\n      <td>...</td>\n      <td>0</td>\n      <td>0</td>\n      <td>0</td>\n      <td>0</td>\n      <td>0</td>\n      <td>0</td>\n      <td>0</td>\n      <td>0</td>\n      <td>0</td>\n      <td>4</td>\n    </tr>\n  </tbody>\n</table>\n<p>6053 rows × 65 columns</p>\n</div>"
     },
     "execution_count": 4,
     "metadata": {},
     "output_type": "execute_result"
    }
   ],
   "source": [
    "play_df"
   ]
  },
  {
   "cell_type": "code",
   "execution_count": 5,
   "metadata": {
    "pycharm": {
     "name": "#%%\n"
    }
   },
   "outputs": [],
   "source": [
    "def string_to_vector(s):\n",
    "    try:\n",
    "        s = s.split('[')[1].split(']')[0]\n",
    "        x = float(s.split()[0])\n",
    "        y = float(s.split()[1])\n",
    "        return np.array([x, y])\n",
    "    except AttributeError:\n",
    "        return None\n",
    "\n",
    "def get_position_delta(row):\n",
    "    return row.s / 10 * row.dir_vec\n",
    "\n",
    "def get_relative_position(row):\n",
    "    if row.frameId == 1:\n",
    "        return np.array([0, 0])\n",
    "    else:\n",
    "        last_pos = row.shift(1).rel_pos\n",
    "        return last_pos + row.pos_delta"
   ]
  },
  {
   "cell_type": "code",
   "execution_count": 6,
   "metadata": {
    "pycharm": {
     "name": "#%%\n"
    }
   },
   "outputs": [],
   "source": [
    "tracking_df['pos'] = tracking_df['pos'].apply(string_to_vector)\n",
    "tracking_df['o_vec'] = tracking_df['o_vec'].apply(string_to_vector)\n",
    "tracking_df['dir_vec'] = tracking_df['dir_vec'].apply(string_to_vector)\n",
    "tracking_df['r_vec'] = tracking_df['r_vec'].apply(string_to_vector)"
   ]
  },
  {
   "cell_type": "code",
   "execution_count": 7,
   "metadata": {
    "pycharm": {
     "name": "#%%\n"
    }
   },
   "outputs": [],
   "source": [
    "# Attempt clustering of play data"
   ]
  },
  {
   "cell_type": "code",
   "execution_count": 8,
   "metadata": {
    "pycharm": {
     "name": "#%%\n"
    }
   },
   "outputs": [],
   "source": [
    "df = play_df[['gameId', 'playId', 'offense_h_presnap',\n",
    "       'offense_h_to_throw', 'offense_h_to_arrived',\n",
    "       'offense_p_presnap', 'offense_p_to_throw', 'offense_p_to_arrived',\n",
    "       'offense_m_presnap',\n",
    "       'offense_m_to_throw', 'offense_m_to_arrived', 'offense_v_presnap', 'offense_v_to_throw',\n",
    "       'offense_v_to_arrived',\n",
    "       'offense_a_presnap', 'offense_a_to_throw', 'offense_a_to_arrived',\n",
    "       'HITCH', 'OUT', 'FLAT', 'CROSS', 'GO', 'SLANT', 'SCREEN', 'CORNER',\n",
    "       'IN', 'ANGLE', 'POST', 'WHEEL', 'num_routes']].dropna().copy()\n",
    "\n",
    "df_scaled = normalize(df)\n",
    "df_scaled = pd.DataFrame(df_scaled, columns=df.columns).drop(['gameId', 'playId'], axis=1)"
   ]
  },
  {
   "cell_type": "code",
   "execution_count": 9,
   "metadata": {
    "pycharm": {
     "name": "#%%\n"
    }
   },
   "outputs": [],
   "source": [
    "km = KMeans(\n",
    "    n_clusters=8, init='random',\n",
    "    n_init=3, max_iter=300,\n",
    "    tol=1e-04, random_state=0\n",
    ")\n",
    "\n",
    "y_km = km.fit_predict(df_scaled)"
   ]
  },
  {
   "cell_type": "code",
   "execution_count": 10,
   "metadata": {
    "pycharm": {
     "name": "#%%\n"
    }
   },
   "outputs": [
    {
     "data": {
      "text/plain": "<Figure size 432x288 with 1 Axes>",
      "image/png": "[encoded data removed]"
     },
     "metadata": {
      "needs_background": "light"
     },
     "output_type": "display_data"
    }
   ],
   "source": [
    "distortions = []\n",
    "num_plays = 15\n",
    "\n",
    "for i in range(1, num_plays + 1):\n",
    "     km = KMeans(\n",
    "        n_clusters=i, init='random',\n",
    "        n_init=10, max_iter=300,\n",
    "        tol=1e-04, random_state=0\n",
    "    )\n",
    "     km.fit(df_scaled)\n",
    "     distortions.append(km.inertia_)\n",
    "\n",
    "plt.plot(range(1, num_plays + 1), distortions, marker='o')\n",
    "plt.xlabel('Number of clusters')\n",
    "plt.ylabel('Distortion')\n",
    "plt.title('Elbow method for Optimal K')\n",
    "plt.show()"
   ]
  },
  {
   "cell_type": "code",
   "execution_count": 11,
   "metadata": {
    "pycharm": {
     "name": "#%%\n"
    }
   },
   "outputs": [
    {
     "data": {
      "text/plain": "<Figure size 432x288 with 1 Axes>",
      "image/png": "[encoded data removed]"
     },
     "metadata": {
      "needs_background": "light"
     },
     "output_type": "display_data"
    }
   ],
   "source": [
    "range_clusters = [2, 3, 4, 5, 6, 7, 8, 9, 10, 11, 12, 13, 14, 15, 16, 17, 18, 19, 20]\n",
    "silhouette_avg = []\n",
    "for i in range_clusters:\n",
    "    km = KMeans(\n",
    "        n_clusters=i, init='random',\n",
    "        n_init=10, max_iter=300,\n",
    "        tol=1e-04, random_state=0\n",
    "    )\n",
    "    km.fit(df_scaled)\n",
    "    cluster_labels = km.labels_\n",
    "\n",
    "    silhouette_avg.append(silhouette_score(df_scaled, cluster_labels))\n",
    "\n",
    "plt.plot(range_clusters, silhouette_avg)\n",
    "plt.xlabel('Values of K')\n",
    "plt.ylabel('Silhouette Score')\n",
    "plt.title('Silhouette analysis for Optimal K')\n",
    "plt.show()"
   ]
  },
  {
   "cell_type": "code",
   "execution_count": 12,
   "metadata": {
    "pycharm": {
     "name": "#%%\n"
    }
   },
   "outputs": [],
   "source": [
    "limit = 0.0000001\n",
    "model = AgglomerativeClustering(linkage='ward',\n",
    "                                affinity='euclidean',\n",
    "                                distance_threshold=limit,\n",
    "                                n_clusters=None)\n",
    "model.fit(df_scaled)\n",
    "df['cluster'] = model.labels_"
   ]
  },
  {
   "cell_type": "code",
   "execution_count": 13,
   "metadata": {
    "pycharm": {
     "name": "#%%\n"
    }
   },
   "outputs": [
    {
     "data": {
      "text/plain": "<Figure size 432x288 with 1 Axes>",
      "image/png": "[encoded data removed]"
     },
     "metadata": {
      "needs_background": "light"
     },
     "output_type": "display_data"
    }
   ],
   "source": [
    "range_clusters = []\n",
    "n_samples = df_scaled.shape[0]\n",
    "[range_clusters.append(x) for x in range(2, 21)]\n",
    "silhouette_avg = []\n",
    "\n",
    "for i in range_clusters:\n",
    "    model = AgglomerativeClustering(linkage='ward',\n",
    "                                affinity='euclidean',\n",
    "                                distance_threshold=None,\n",
    "                                n_clusters=i)\n",
    "    model.fit(df_scaled)\n",
    "    cluster_labels = model.labels_\n",
    "    silhouette_avg.append(silhouette_score(df_scaled, cluster_labels))\n",
    "\n",
    "fig, ax = plt.subplots()\n",
    "ax.plot(range_clusters, silhouette_avg)\n",
    "ax.set_xlabel('Distance Threshold')\n",
    "ax.set_ylabel('Silhouette Score')\n",
    "ax.set_title('Silhouette analysis for Optimal Clusters')\n",
    "plt.show()"
   ]
  },
  {
   "cell_type": "code",
   "execution_count": 14,
   "outputs": [
    {
     "data": {
      "text/plain": "0        56\n1        37\n3        13\n4        52\n5        27\n         ..\n17901    34\n17902     9\n17903    27\n17905     0\n17906     1\nName: cluster, Length: 6053, dtype: int64"
     },
     "execution_count": 14,
     "metadata": {},
     "output_type": "execute_result"
    }
   ],
   "source": [
    "df['cluster']"
   ],
   "metadata": {
    "collapsed": false,
    "pycharm": {
     "name": "#%%\n"
    }
   }
  },
  {
   "cell_type": "code",
   "execution_count": 15,
   "metadata": {
    "pycharm": {
     "name": "#%%\n"
    }
   },
   "outputs": [
    {
     "data": {
      "text/plain": "AgglomerativeClustering(n_clusters=8)",
      "text/html": "<style>#sk-container-id-1 {color: black;background-color: white;}#sk-container-id-1 pre{padding: 0;}#sk-container-id-1 div.sk-toggleable {background-color: white;}#sk-container-id-1 label.sk-toggleable__label {cursor: pointer;display: block;width: 100%;margin-bottom: 0;padding: 0.3em;box-sizing: border-box;text-align: center;}#sk-container-id-1 label.sk-toggleable__label-arrow:before {content: \"▸\";float: left;margin-right: 0.25em;color: #696969;}#sk-container-id-1 label.sk-toggleable__label-arrow:hover:before {color: black;}#sk-container-id-1 div.sk-estimator:hover label.sk-toggleable__label-arrow:before {color: black;}#sk-container-id-1 div.sk-toggleable__content {max-height: 0;max-width: 0;overflow: hidden;text-align: left;background-color: #f0f8ff;}#sk-container-id-1 div.sk-toggleable__content pre {margin: 0.2em;color: black;border-radius: 0.25em;background-color: #f0f8ff;}#sk-container-id-1 input.sk-toggleable__control:checked~div.sk-toggleable__content {max-height: 200px;max-width: 100%;overflow: auto;}#sk-container-id-1 input.sk-toggleable__control:checked~label.sk-toggleable__label-arrow:before {content: \"▾\";}#sk-container-id-1 div.sk-estimator input.sk-toggleable__control:checked~label.sk-toggleable__label {background-color: #d4ebff;}#sk-container-id-1 div.sk-label input.sk-toggleable__control:checked~label.sk-toggleable__label {background-color: #d4ebff;}#sk-container-id-1 input.sk-hidden--visually {border: 0;clip: rect(1px 1px 1px 1px);clip: rect(1px, 1px, 1px, 1px);height: 1px;margin: -1px;overflow: hidden;padding: 0;position: absolute;width: 1px;}#sk-container-id-1 div.sk-estimator {font-family: monospace;background-color: #f0f8ff;border: 1px dotted black;border-radius: 0.25em;box-sizing: border-box;margin-bottom: 0.5em;}#sk-container-id-1 div.sk-estimator:hover {background-color: #d4ebff;}#sk-container-id-1 div.sk-parallel-item::after {content: \"\";width: 100%;border-bottom: 1px solid gray;flex-grow: 1;}#sk-container-id-1 div.sk-label:hover label.sk-toggleable__label {background-color: #d4ebff;}#sk-container-id-1 div.sk-serial::before {content: \"\";position: absolute;border-left: 1px solid gray;box-sizing: border-box;top: 0;bottom: 0;left: 50%;z-index: 0;}#sk-container-id-1 div.sk-serial {display: flex;flex-direction: column;align-items: center;background-color: white;padding-right: 0.2em;padding-left: 0.2em;position: relative;}#sk-container-id-1 div.sk-item {position: relative;z-index: 1;}#sk-container-id-1 div.sk-parallel {display: flex;align-items: stretch;justify-content: center;background-color: white;position: relative;}#sk-container-id-1 div.sk-item::before, #sk-container-id-1 div.sk-parallel-item::before {content: \"\";position: absolute;border-left: 1px solid gray;box-sizing: border-box;top: 0;bottom: 0;left: 50%;z-index: -1;}#sk-container-id-1 div.sk-parallel-item {display: flex;flex-direction: column;z-index: 1;position: relative;background-color: white;}#sk-container-id-1 div.sk-parallel-item:first-child::after {align-self: flex-end;width: 50%;}#sk-container-id-1 div.sk-parallel-item:last-child::after {align-self: flex-start;width: 50%;}#sk-container-id-1 div.sk-parallel-item:only-child::after {width: 0;}#sk-container-id-1 div.sk-dashed-wrapped {border: 1px dashed gray;margin: 0 0.4em 0.5em 0.4em;box-sizing: border-box;padding-bottom: 0.4em;background-color: white;}#sk-container-id-1 div.sk-label label {font-family: monospace;font-weight: bold;display: inline-block;line-height: 1.2em;}#sk-container-id-1 div.sk-label-container {text-align: center;}#sk-container-id-1 div.sk-container {/* jupyter's `normalize.less` sets `[hidden] { display: none; }` but bootstrap.min.css set `[hidden] { display: none !important; }` so we also need the `!important` here to be able to override the default hidden behavior on the sphinx rendered scikit-learn.org. See: https://github.com/scikit-learn/scikit-learn/issues/21755 */display: inline-block !important;position: relative;}#sk-container-id-1 div.sk-text-repr-fallback {display: none;}</style><div id=\"sk-container-id-1\" class=\"sk-top-container\"><div class=\"sk-text-repr-fallback\"><pre>AgglomerativeClustering(n_clusters=8)</pre><b>In a Jupyter environment, please rerun this cell to show the HTML representation or trust the notebook. <br />On GitHub, the HTML representation is unable to render, please try loading this page with nbviewer.org.</b></div><div class=\"sk-container\" hidden><div class=\"sk-item\"><div class=\"sk-estimator sk-toggleable\"><input class=\"sk-toggleable__control sk-hidden--visually\" id=\"sk-estimator-id-1\" type=\"checkbox\" checked><label for=\"sk-estimator-id-1\" class=\"sk-toggleable__label sk-toggleable__label-arrow\">AgglomerativeClustering</label><div class=\"sk-toggleable__content\"><pre>AgglomerativeClustering(n_clusters=8)</pre></div></div></div></div></div>"
     },
     "execution_count": 15,
     "metadata": {},
     "output_type": "execute_result"
    }
   ],
   "source": [
    "model = AgglomerativeClustering(linkage='ward',\n",
    "                                affinity='euclidean',\n",
    "                                distance_threshold=None,\n",
    "                                n_clusters=8)\n",
    "model.fit(df_scaled)"
   ]
  },
  {
   "cell_type": "code",
   "execution_count": 16,
   "metadata": {
    "pycharm": {
     "name": "#%%\n"
    }
   },
   "outputs": [
    {
     "name": "stdout",
     "output_type": "stream",
     "text": [
      "0    1736\n",
      "4    1328\n",
      "1    1189\n",
      "2     905\n",
      "5     452\n",
      "6     260\n",
      "7     130\n",
      "3      53\n",
      "Name: cluster, dtype: int64\n"
     ]
    }
   ],
   "source": [
    "df_scaled['cluster'] = model.labels_\n",
    "print(df_scaled['cluster'].value_counts())"
   ]
  },
  {
   "cell_type": "code",
   "execution_count": 17,
   "outputs": [
    {
     "name": "stdout",
     "output_type": "stream",
     "text": [
      "2     250\n",
      "1     228\n",
      "4     209\n",
      "12    206\n",
      "13    179\n",
      "     ... \n",
      "29      7\n",
      "35      6\n",
      "40      5\n",
      "66      1\n",
      "64      1\n",
      "Name: cluster, Length: 78, dtype: int64\n"
     ]
    }
   ],
   "source": [
    "print(df['cluster'].value_counts())"
   ],
   "metadata": {
    "collapsed": false,
    "pycharm": {
     "name": "#%%\n"
    }
   }
  },
  {
   "cell_type": "code",
   "execution_count": 17,
   "metadata": {
    "pycharm": {
     "name": "#%%\n"
    }
   },
   "outputs": [],
   "source": []
  },
  {
   "cell_type": "code",
   "execution_count": 18,
   "metadata": {
    "pycharm": {
     "name": "#%%\n"
    }
   },
   "outputs": [
    {
     "data": {
      "text/plain": "RandomForestClassifier(max_depth=10, n_estimators=10000, n_jobs=-1)",
      "text/html": "<style>#sk-container-id-2 {color: black;background-color: white;}#sk-container-id-2 pre{padding: 0;}#sk-container-id-2 div.sk-toggleable {background-color: white;}#sk-container-id-2 label.sk-toggleable__label {cursor: pointer;display: block;width: 100%;margin-bottom: 0;padding: 0.3em;box-sizing: border-box;text-align: center;}#sk-container-id-2 label.sk-toggleable__label-arrow:before {content: \"▸\";float: left;margin-right: 0.25em;color: #696969;}#sk-container-id-2 label.sk-toggleable__label-arrow:hover:before {color: black;}#sk-container-id-2 div.sk-estimator:hover label.sk-toggleable__label-arrow:before {color: black;}#sk-container-id-2 div.sk-toggleable__content {max-height: 0;max-width: 0;overflow: hidden;text-align: left;background-color: #f0f8ff;}#sk-container-id-2 div.sk-toggleable__content pre {margin: 0.2em;color: black;border-radius: 0.25em;background-color: #f0f8ff;}#sk-container-id-2 input.sk-toggleable__control:checked~div.sk-toggleable__content {max-height: 200px;max-width: 100%;overflow: auto;}#sk-container-id-2 input.sk-toggleable__control:checked~label.sk-toggleable__label-arrow:before {content: \"▾\";}#sk-container-id-2 div.sk-estimator input.sk-toggleable__control:checked~label.sk-toggleable__label {background-color: #d4ebff;}#sk-container-id-2 div.sk-label input.sk-toggleable__control:checked~label.sk-toggleable__label {background-color: #d4ebff;}#sk-container-id-2 input.sk-hidden--visually {border: 0;clip: rect(1px 1px 1px 1px);clip: rect(1px, 1px, 1px, 1px);height: 1px;margin: -1px;overflow: hidden;padding: 0;position: absolute;width: 1px;}#sk-container-id-2 div.sk-estimator {font-family: monospace;background-color: #f0f8ff;border: 1px dotted black;border-radius: 0.25em;box-sizing: border-box;margin-bottom: 0.5em;}#sk-container-id-2 div.sk-estimator:hover {background-color: #d4ebff;}#sk-container-id-2 div.sk-parallel-item::after {content: \"\";width: 100%;border-bottom: 1px solid gray;flex-grow: 1;}#sk-container-id-2 div.sk-label:hover label.sk-toggleable__label {background-color: #d4ebff;}#sk-container-id-2 div.sk-serial::before {content: \"\";position: absolute;border-left: 1px solid gray;box-sizing: border-box;top: 0;bottom: 0;left: 50%;z-index: 0;}#sk-container-id-2 div.sk-serial {display: flex;flex-direction: column;align-items: center;background-color: white;padding-right: 0.2em;padding-left: 0.2em;position: relative;}#sk-container-id-2 div.sk-item {position: relative;z-index: 1;}#sk-container-id-2 div.sk-parallel {display: flex;align-items: stretch;justify-content: center;background-color: white;position: relative;}#sk-container-id-2 div.sk-item::before, #sk-container-id-2 div.sk-parallel-item::before {content: \"\";position: absolute;border-left: 1px solid gray;box-sizing: border-box;top: 0;bottom: 0;left: 50%;z-index: -1;}#sk-container-id-2 div.sk-parallel-item {display: flex;flex-direction: column;z-index: 1;position: relative;background-color: white;}#sk-container-id-2 div.sk-parallel-item:first-child::after {align-self: flex-end;width: 50%;}#sk-container-id-2 div.sk-parallel-item:last-child::after {align-self: flex-start;width: 50%;}#sk-container-id-2 div.sk-parallel-item:only-child::after {width: 0;}#sk-container-id-2 div.sk-dashed-wrapped {border: 1px dashed gray;margin: 0 0.4em 0.5em 0.4em;box-sizing: border-box;padding-bottom: 0.4em;background-color: white;}#sk-container-id-2 div.sk-label label {font-family: monospace;font-weight: bold;display: inline-block;line-height: 1.2em;}#sk-container-id-2 div.sk-label-container {text-align: center;}#sk-container-id-2 div.sk-container {/* jupyter's `normalize.less` sets `[hidden] { display: none; }` but bootstrap.min.css set `[hidden] { display: none !important; }` so we also need the `!important` here to be able to override the default hidden behavior on the sphinx rendered scikit-learn.org. See: https://github.com/scikit-learn/scikit-learn/issues/21755 */display: inline-block !important;position: relative;}#sk-container-id-2 div.sk-text-repr-fallback {display: none;}</style><div id=\"sk-container-id-2\" class=\"sk-top-container\"><div class=\"sk-text-repr-fallback\"><pre>RandomForestClassifier(max_depth=10, n_estimators=10000, n_jobs=-1)</pre><b>In a Jupyter environment, please rerun this cell to show the HTML representation or trust the notebook. <br />On GitHub, the HTML representation is unable to render, please try loading this page with nbviewer.org.</b></div><div class=\"sk-container\" hidden><div class=\"sk-item\"><div class=\"sk-estimator sk-toggleable\"><input class=\"sk-toggleable__control sk-hidden--visually\" id=\"sk-estimator-id-2\" type=\"checkbox\" checked><label for=\"sk-estimator-id-2\" class=\"sk-toggleable__label sk-toggleable__label-arrow\">RandomForestClassifier</label><div class=\"sk-toggleable__content\"><pre>RandomForestClassifier(max_depth=10, n_estimators=10000, n_jobs=-1)</pre></div></div></div></div></div>"
     },
     "execution_count": 18,
     "metadata": {},
     "output_type": "execute_result"
    }
   ],
   "source": [
    "from sklearn.ensemble import RandomForestClassifier\n",
    "clf = RandomForestClassifier(n_jobs=-1, n_estimators=10000, max_depth=10)\n",
    "clf.fit(df[['offense_h_presnap', 'offense_h_to_throw', 'offense_h_to_arrived',\n",
    "       'offense_p_presnap', 'offense_p_to_throw', 'offense_p_to_arrived',\n",
    "       'offense_m_presnap', 'offense_m_to_throw', 'offense_m_to_arrived',\n",
    "       'offense_v_presnap', 'offense_v_to_throw', 'offense_v_to_arrived',\n",
    "       'offense_a_presnap', 'offense_a_to_throw', 'offense_a_to_arrived',\n",
    "       'HITCH', 'OUT', 'FLAT', 'CROSS', 'GO', 'SLANT', 'SCREEN', 'CORNER',\n",
    "       'IN', 'ANGLE', 'POST', 'WHEEL']], df['cluster'])"
   ]
  },
  {
   "cell_type": "code",
   "execution_count": 19,
   "metadata": {
    "pycharm": {
     "name": "#%%\n"
    }
   },
   "outputs": [
    {
     "data": {
      "text/plain": "array([0.01143012, 0.04514629, 0.03347144, 0.02372985, 0.02733297,\n       0.02360785, 0.02317785, 0.02831875, 0.02922215, 0.02465663,\n       0.03542552, 0.02593346, 0.09342148, 0.19037623, 0.31683939,\n       0.00817704, 0.00592605, 0.0068178 , 0.0057233 , 0.00874771,\n       0.01022584, 0.00535387, 0.00322727, 0.00521581, 0.00386952,\n       0.00380581, 0.00082   ])"
     },
     "execution_count": 19,
     "metadata": {},
     "output_type": "execute_result"
    }
   ],
   "source": [
    "clf.feature_importances_"
   ]
  },
  {
   "cell_type": "code",
   "execution_count": 20,
   "metadata": {
    "pycharm": {
     "name": "#%%\n"
    }
   },
   "outputs": [
    {
     "data": {
      "text/plain": "0.0"
     },
     "execution_count": 20,
     "metadata": {},
     "output_type": "execute_result"
    }
   ],
   "source": [
    "clf.score(df_scaled[['offense_h_presnap', 'offense_h_to_throw', 'offense_h_to_arrived',\n",
    "       'offense_p_presnap', 'offense_p_to_throw', 'offense_p_to_arrived',\n",
    "       'offense_m_presnap', 'offense_m_to_throw', 'offense_m_to_arrived',\n",
    "       'offense_v_presnap', 'offense_v_to_throw', 'offense_v_to_arrived',\n",
    "       'offense_a_presnap', 'offense_a_to_throw', 'offense_a_to_arrived',\n",
    "       'HITCH', 'OUT', 'FLAT', 'CROSS', 'GO', 'SLANT', 'SCREEN', 'CORNER',\n",
    "       'IN', 'ANGLE', 'POST', 'WHEEL']], df_scaled['cluster'])"
   ]
  },
  {
   "cell_type": "code",
   "execution_count": 21,
   "metadata": {
    "pycharm": {
     "name": "#%%\n"
    }
   },
   "outputs": [
    {
     "data": {
      "text/plain": "array([0.01143012, 0.04514629, 0.03347144, 0.02372985, 0.02733297,\n       0.02360785, 0.02317785, 0.02831875, 0.02922215, 0.02465663,\n       0.03542552, 0.02593346, 0.09342148, 0.19037623, 0.31683939,\n       0.00817704, 0.00592605, 0.0068178 , 0.0057233 , 0.00874771,\n       0.01022584, 0.00535387, 0.00322727, 0.00521581, 0.00386952,\n       0.00380581, 0.00082   ])"
     },
     "execution_count": 21,
     "metadata": {},
     "output_type": "execute_result"
    }
   ],
   "source": [
    "clf.feature_importances_"
   ]
  },
  {
   "cell_type": "code",
   "execution_count": 22,
   "outputs": [
    {
     "data": {
      "text/plain": "<BarContainer object of 27 artists>"
     },
     "execution_count": 22,
     "metadata": {},
     "output_type": "execute_result"
    },
    {
     "data": {
      "text/plain": "<Figure size 1080x720 with 1 Axes>",
      "image/png": "[encoded data removed]"
     },
     "metadata": {
      "needs_background": "light"
     },
     "output_type": "display_data"
    }
   ],
   "source": [
    "plt.figure(figsize=(15, 10))\n",
    "sorted_idx = clf.feature_importances_.argsort()\n",
    "plt.barh(clf.feature_names_in_[sorted_idx], clf.feature_importances_[sorted_idx])"
   ],
   "metadata": {
    "collapsed": false,
    "pycharm": {
     "name": "#%%\n"
    }
   }
  },
  {
   "cell_type": "code",
   "execution_count": null,
   "outputs": [],
   "source": [
    "from sklearn.inspection import permutation_importance"
   ],
   "metadata": {
    "collapsed": false,
    "pycharm": {
     "name": "#%%\n",
     "is_executing": true
    }
   }
  },
  {
   "cell_type": "code",
   "execution_count": null,
   "metadata": {
    "pycharm": {
     "name": "#%%\n",
     "is_executing": true
    }
   },
   "outputs": [],
   "source": [
    "perm_imp = permutation_importance(clf, df[['offense_h_presnap', 'offense_h_to_throw', 'offense_h_to_arrived',\n",
    "       'offense_p_presnap', 'offense_p_to_throw', 'offense_p_to_arrived',\n",
    "       'offense_m_presnap', 'offense_m_to_throw', 'offense_m_to_arrived',\n",
    "       'offense_v_presnap', 'offense_v_to_throw', 'offense_v_to_arrived',\n",
    "       'offense_a_presnap', 'offense_a_to_throw', 'offense_a_to_arrived',\n",
    "       'HITCH', 'OUT', 'FLAT', 'CROSS', 'GO', 'SLANT', 'SCREEN', 'CORNER',\n",
    "       'IN', 'ANGLE', 'POST', 'WHEEL']], df['cluster'])"
   ]
  },
  {
   "cell_type": "code",
   "execution_count": null,
   "outputs": [],
   "source": [
    "plt.figure(figsize=(15, 10))\n",
    "sorted_idx = perm_imp.importances_mean.argsort()\n",
    "plt.barh(clf.feature_names_in_[sorted_idx], perm_imp.importances_mean[sorted_idx])"
   ],
   "metadata": {
    "collapsed": false,
    "pycharm": {
     "name": "#%%\n",
     "is_executing": true
    }
   }
  },
  {
   "cell_type": "code",
   "execution_count": 23,
   "outputs": [],
   "source": [
    "import shap\n",
    "explainer = shap.TreeExplainer(clf)"
   ],
   "metadata": {
    "collapsed": false,
    "pycharm": {
     "name": "#%%\n"
    }
   }
  },
  {
   "cell_type": "code",
   "execution_count": null,
   "outputs": [],
   "source": [
    "shap_vals = explainer.shap_values(df[['offense_h_presnap', 'offense_h_to_throw', 'offense_h_to_arrived',\n",
    "       'offense_p_presnap', 'offense_p_to_throw', 'offense_p_to_arrived',\n",
    "       'offense_m_presnap', 'offense_m_to_throw', 'offense_m_to_arrived',\n",
    "       'offense_v_presnap', 'offense_v_to_throw', 'offense_v_to_arrived',\n",
    "       'offense_a_presnap', 'offense_a_to_throw', 'offense_a_to_arrived',\n",
    "       'HITCH', 'OUT', 'FLAT', 'CROSS', 'GO', 'SLANT', 'SCREEN', 'CORNER',\n",
    "       'IN', 'ANGLE', 'POST', 'WHEEL']])\n",
    "\n",
    "shap.summary_plot(shap_vals, df[['offense_h_presnap', 'offense_h_to_throw', 'offense_h_to_arrived',\n",
    "       'offense_p_presnap', 'offense_p_to_throw', 'offense_p_to_arrived',\n",
    "       'offense_m_presnap', 'offense_m_to_throw', 'offense_m_to_arrived',\n",
    "       'offense_v_presnap', 'offense_v_to_throw', 'offense_v_to_arrived',\n",
    "       'offense_a_presnap', 'offense_a_to_throw', 'offense_a_to_arrived',\n",
    "       'HITCH', 'OUT', 'FLAT', 'CROSS', 'GO', 'SLANT', 'SCREEN', 'CORNER',\n",
    "       'IN', 'ANGLE', 'POST', 'WHEEL']], plot_type='bar')"
   ],
   "metadata": {
    "collapsed": false,
    "pycharm": {
     "name": "#%%\n",
     "is_executing": true
    }
   }
  },
  {
   "cell_type": "code",
   "execution_count": null,
   "outputs": [],
   "source": [
    "shap.summary_plot(shap_vals, df[['offense_h_presnap', 'offense_h_to_throw', 'offense_h_to_arrived',\n",
    "       'offense_p_presnap', 'offense_p_to_throw', 'offense_p_to_arrived',\n",
    "       'offense_m_presnap', 'offense_m_to_throw', 'offense_m_to_arrived',\n",
    "       'offense_v_presnap', 'offense_v_to_throw', 'offense_v_to_arrived',\n",
    "       'offense_a_presnap', 'offense_a_to_throw', 'offense_a_to_arrived',\n",
    "       'HITCH', 'OUT', 'FLAT', 'CROSS', 'GO', 'SLANT', 'SCREEN', 'CORNER',\n",
    "       'IN', 'ANGLE', 'POST', 'WHEEL']])"
   ],
   "metadata": {
    "collapsed": false,
    "pycharm": {
     "name": "#%%\n",
     "is_executing": true
    }
   }
  },
  {
   "cell_type": "code",
   "execution_count": null,
   "metadata": {
    "pycharm": {
     "name": "#%%\n",
     "is_executing": true
    }
   },
   "outputs": [],
   "source": [
    "df_scaled[['offense_h_presnap', 'offense_h_to_throw', 'offense_h_to_arrived',\n",
    "       'offense_p_presnap', 'offense_p_to_throw', 'offense_p_to_arrived',\n",
    "       'offense_m_presnap', 'offense_m_to_throw', 'offense_m_to_arrived',\n",
    "       'offense_v_presnap', 'offense_v_to_throw', 'offense_v_to_arrived',\n",
    "       'offense_a_presnap', 'offense_a_to_throw', 'offense_a_to_arrived',\n",
    "       'HITCH', 'OUT', 'FLAT', 'CROSS', 'GO', 'SLANT', 'SCREEN', 'CORNER',\n",
    "       'IN', 'ANGLE', 'POST', 'WHEEL']]"
   ]
  },
  {
   "cell_type": "code",
   "execution_count": null,
   "metadata": {
    "pycharm": {
     "name": "#%%\n",
     "is_executing": true
    }
   },
   "outputs": [],
   "source": [
    "range_limit = []\n",
    "[range_limit.append(n) for n in np.linspace(5*10**-7, 5*10**-8, 10)]\n",
    "print(range_limit)\n",
    "silhouette_avg = []\n",
    "n_clusters = []\n",
    "for i in range_limit:\n",
    "    model = AgglomerativeClustering(linkage='ward',\n",
    "                                affinity='euclidean',\n",
    "                                distance_threshold=i,\n",
    "                                n_clusters=None)\n",
    "    model.fit(df_scaled)\n",
    "    cluster_labels = model.labels_\n",
    "    n_clusters.append(len(np.unique(model.labels_)))\n",
    "\n",
    "    silhouette_avg.append(silhouette_score(df_scaled, cluster_labels))\n",
    "\n",
    "fig, ax = plt.subplots()\n",
    "ax.plot(range_limit, silhouette_avg)\n",
    "ax.set_xlabel('Distance Threshold')\n",
    "ax.set_ylabel('Silhouette Score')\n",
    "ax.set_title('Silhouette analysis for Optimal Clusters')\n",
    "ax2 = ax.twinx()\n",
    "ax2.plot(range_limit, n_clusters, color='r')\n",
    "ax2.set_ylabel('Number of clusters')\n",
    "plt.show()"
   ]
  },
  {
   "cell_type": "code",
   "execution_count": null,
   "metadata": {
    "pycharm": {
     "name": "#%%\n"
    }
   },
   "outputs": [],
   "source": [
    "len(np.unique(model.labels_))"
   ]
  },
  {
   "cell_type": "code",
   "execution_count": null,
   "metadata": {
    "pycharm": {
     "name": "#%%\n"
    }
   },
   "outputs": [],
   "source": [
    "agglom_sizes = df.groupby('cluster').size()\n",
    "agglom_sizes"
   ]
  },
  {
   "cell_type": "code",
   "execution_count": null,
   "metadata": {
    "pycharm": {
     "name": "#%%\n"
    }
   },
   "outputs": [],
   "source": [
    "cluster6 = df.drop(['gameId', 'playId', 'cluster'], axis=1).loc[(df['cluster'] == 6)]\n",
    "cluster6.mean().apply(lambda x: '%.5f' % x)"
   ]
  },
  {
   "cell_type": "code",
   "execution_count": null,
   "metadata": {
    "pycharm": {
     "name": "#%%\n"
    }
   },
   "outputs": [],
   "source": [
    "df.head()"
   ]
  },
  {
   "cell_type": "code",
   "execution_count": null,
   "metadata": {
    "pycharm": {
     "name": "#%%\n"
    }
   },
   "outputs": [],
   "source": [
    "df.groupby('cluster')[['HITCH', 'OUT', 'FLAT', 'CROSS', 'GO', 'SLANT', 'SCREEN', 'CORNER',\n",
    "       'IN', 'ANGLE', 'POST', 'WHEEL']].mean().T"
   ]
  },
  {
   "cell_type": "code",
   "execution_count": null,
   "metadata": {
    "pycharm": {
     "name": "#%%\n"
    }
   },
   "outputs": [],
   "source": [
    "df.groupby(['gameId'])[['HITCH', 'OUT', 'FLAT', 'CROSS', 'GO', 'SLANT', 'SCREEN', 'CORNER',\n",
    "       'IN', 'ANGLE', 'POST', 'WHEEL']].mean().T"
   ]
  },
  {
   "cell_type": "code",
   "execution_count": null,
   "metadata": {
    "pycharm": {
     "name": "#%%\n"
    }
   },
   "outputs": [],
   "source": [
    "df.groupby(['gameId'])[['HITCH', 'OUT', 'FLAT', 'CROSS', 'GO', 'SLANT', 'SCREEN', 'CORNER',\n",
    "       'IN', 'ANGLE', 'POST', 'WHEEL']].mean().plot.box()"
   ]
  },
  {
   "cell_type": "code",
   "execution_count": null,
   "metadata": {
    "pycharm": {
     "name": "#%%\n"
    }
   },
   "outputs": [],
   "source": [
    "df.groupby('cluster')[['HITCH', 'OUT', 'FLAT', 'CROSS', 'GO', 'SLANT', 'SCREEN', 'CORNER',\n",
    "       'IN', 'ANGLE', 'POST', 'WHEEL']].mean().plot.box()"
   ]
  },
  {
   "cell_type": "code",
   "execution_count": null,
   "metadata": {
    "pycharm": {
     "name": "#%%\n"
    }
   },
   "outputs": [],
   "source": [
    "cluster0 = df.drop(['gameId', 'playId', 'cluster'], axis=1).loc[(df['cluster'] == 0)]\n",
    "cluster0.mean().apply(lambda x: '%.5f' % x)"
   ]
  },
  {
   "cell_type": "code",
   "execution_count": null,
   "metadata": {
    "pycharm": {
     "name": "#%%\n"
    }
   },
   "outputs": [],
   "source": [
    "cluster2 = df.drop(['gameId', 'playId', 'cluster'], axis=1).loc[(df['cluster'] == 2)]\n",
    "cluster2.mean().apply(lambda x: '%.5f' % x)"
   ]
  },
  {
   "cell_type": "code",
   "execution_count": null,
   "metadata": {
    "pycharm": {
     "name": "#%%\n"
    }
   },
   "outputs": [],
   "source": [
    "cluster0.columns"
   ]
  },
  {
   "cell_type": "code",
   "execution_count": null,
   "metadata": {
    "pycharm": {
     "name": "#%%\n"
    }
   },
   "outputs": [],
   "source": [
    "plt.boxplot(cluster0[['HITCH', 'OUT', 'FLAT', 'CROSS', 'GO', 'SLANT', 'SCREEN', 'CORNER',\n",
    "       'IN', 'ANGLE', 'POST', 'WHEEL']])\n",
    "plt.show()\n",
    "plt.boxplot(cluster2[['HITCH', 'OUT', 'FLAT', 'CROSS', 'GO', 'SLANT', 'SCREEN', 'CORNER',\n",
    "       'IN', 'ANGLE', 'POST', 'WHEEL']])\n",
    "plt.show()"
   ]
  },
  {
   "cell_type": "code",
   "execution_count": null,
   "metadata": {
    "pycharm": {
     "name": "#%%\n"
    }
   },
   "outputs": [],
   "source": [
    "verticals = df.loc[(df['GO'] == 4)]\n",
    "sorted(verticals['cluster'].unique().tolist())"
   ]
  },
  {
   "cell_type": "code",
   "execution_count": null,
   "metadata": {
    "pycharm": {
     "name": "#%%\n"
    }
   },
   "outputs": [],
   "source": [
    "flood = df.loc[(df['CORNER'] == 1) & (df['OUT'] == 1) & (df['FLAT'] == 1) & (df['POST'] == 1)]\n",
    "sorted(flood['cluster'].unique().tolist())"
   ]
  },
  {
   "cell_type": "code",
   "execution_count": null,
   "metadata": {
    "pycharm": {
     "name": "#%%\n"
    }
   },
   "outputs": [],
   "source": [
    "slants = df.loc[(df['SLANT'] >= 2)]\n",
    "sorted(slants['cluster'].unique().tolist())"
   ]
  },
  {
   "cell_type": "code",
   "execution_count": null,
   "metadata": {
    "pycharm": {
     "name": "#%%\n"
    }
   },
   "outputs": [],
   "source": [
    "def plot_relationship(df, xcol, ycol, labels):\n",
    "    fig = plt.figure(figsize=(6, 6))\n",
    "    grid = plt.GridSpec(4, 4, hspace=0.2, wspace=0.2)\n",
    "    main_ax = fig.add_subplot(grid[:-1, 1:])\n",
    "    y_hist = fig.add_subplot(grid[:-1, 0], xticklabels=[], sharey=main_ax)\n",
    "    x_hist = fig.add_subplot(grid[-1, 1:], yticklabels=[], sharex=main_ax)\n",
    "\n",
    "    main_ax.tick_params(\n",
    "        axis='both',          # changes apply to the x-axis\n",
    "        which='both',      # both major and minor ticks are affected\n",
    "        bottom=True,      # ticks along the bottom edge are off\n",
    "        left=True,\n",
    "        top=False,         # ticks along the top edge are off\n",
    "        labelbottom=False,\n",
    "        labelleft=False) # labels along the bottom edge are off\n",
    "    x = df[xcol]\n",
    "    y = df[ycol]\n",
    "    main_ax.scatter(x, y, c=labels)\n",
    "\n",
    "    x_hist.hist(x, 40, histtype='stepfilled', orientation='vertical', color='gray')\n",
    "    x_hist.invert_yaxis()\n",
    "    x_hist.set_xlabel(xcol)\n",
    "\n",
    "    y_hist.hist(y, 40, histtype='stepfilled', orientation='horizontal', color='gray')\n",
    "    y_hist.invert_xaxis()\n",
    "    y_hist.set_ylabel(ycol)"
   ]
  },
  {
   "cell_type": "code",
   "execution_count": null,
   "metadata": {
    "pycharm": {
     "name": "#%%\n"
    }
   },
   "outputs": [],
   "source": [
    "df_columns = df.drop(['gameId', 'playId', 'cluster'], axis=1).columns.tolist()\n",
    "plot_relationship(df, df_columns[0], df_columns[1], model.labels_)"
   ]
  },
  {
   "cell_type": "code",
   "execution_count": null,
   "metadata": {
    "pycharm": {
     "name": "#%%\n"
    }
   },
   "outputs": [],
   "source": [
    "df_columns = df.drop(['gameId', 'playId', 'cluster'], axis=1).columns.tolist()\n",
    "for subset in combinations(df_columns, 2):\n",
    "    plot_relationship(df, subset[0], subset[1], model.labels_)"
   ]
  },
  {
   "cell_type": "code",
   "execution_count": null,
   "metadata": {
    "pycharm": {
     "name": "#%%\n"
    }
   },
   "outputs": [],
   "source": [
    "plt.hist(df['HITCH'])\n",
    "plt.hist(df['GO'])\n",
    "plt.hist(df['OUT'])"
   ]
  },
  {
   "cell_type": "code",
   "execution_count": null,
   "metadata": {
    "pycharm": {
     "name": "#%%\n"
    }
   },
   "outputs": [],
   "source": [
    "from mpl_toolkits import mplot3d\n",
    "%matplotlib notebook"
   ]
  },
  {
   "cell_type": "code",
   "execution_count": null,
   "metadata": {
    "pycharm": {
     "name": "#%%\n"
    }
   },
   "outputs": [],
   "source": [
    "ax = plt.axes(projection='3d')\n",
    "x = df_scaled['offense_a_presnap']\n",
    "y = df_scaled['offense_a_to_throw']\n",
    "z = df_scaled['offense_a_to_arrived']\n",
    "ax.scatter3D(x, y, z, c=model.labels_)"
   ]
  },
  {
   "cell_type": "code",
   "execution_count": null,
   "outputs": [],
   "source": [
    "df_columns = df.drop(['gameId', 'playId', 'cluster'], axis=1).columns.tolist()\n",
    "for subset in combinations(df_columns, 2):\n",
    "    plot_relationship(df, subset[0], subset[1], model.labels_)"
   ],
   "metadata": {
    "collapsed": false,
    "pycharm": {
     "name": "#%%\n"
    }
   }
  },
  {
   "cell_type": "code",
   "execution_count": null,
   "outputs": [],
   "source": [
    "plt.hist(df['HITCH'])\n",
    "plt.hist(df['GO'])\n",
    "plt.hist(df['OUT'])"
   ],
   "metadata": {
    "collapsed": false,
    "pycharm": {
     "name": "#%%\n"
    }
   }
  },
  {
   "cell_type": "code",
   "execution_count": null,
   "outputs": [],
   "source": [
    "from mpl_toolkits import mplot3d\n",
    "%matplotlib notebook"
   ],
   "metadata": {
    "collapsed": false,
    "pycharm": {
     "name": "#%%\n"
    }
   }
  },
  {
   "cell_type": "code",
   "execution_count": null,
   "outputs": [],
   "source": [
    "ax = plt.axes(projection='3d')\n",
    "x = df_scaled['offense_a_presnap']\n",
    "y = df_scaled['offense_a_to_throw']\n",
    "z = df_scaled['offense_a_to_arrived']\n",
    "ax.scatter3D(x, y, z, c=model.labels_)"
   ],
   "metadata": {
    "collapsed": false,
    "pycharm": {
     "name": "#%%\n"
    }
   }
  },
  {
   "cell_type": "code",
   "execution_count": null,
   "metadata": {
    "pycharm": {
     "name": "#%%\n"
    }
   },
   "outputs": [],
   "source": [
    "df_columns = df.drop(['gameId', 'playId', 'cluster'], axis=1).columns.tolist()\n",
    "for subset in combinations(df_columns, 2):\n",
    "    plot_relationship(df, subset[0], subset[1], model.labels_)"
   ]
  },
  {
   "cell_type": "code",
   "execution_count": 132,
   "metadata": {
    "pycharm": {
     "name": "#%%\n"
    }
   },
   "outputs": [
    {
     "data": {
      "text/plain": [
       "(array([70.,  0.,  0., 36.,  0.,  0., 13.,  0.,  0.,  4.]),\n",
       " array([0. , 0.3, 0.6, 0.9, 1.2, 1.5, 1.8, 2.1, 2.4, 2.7, 3. ]),\n",
       " <BarContainer object of 10 artists>)"
      ]
     },
     "execution_count": 132,
     "metadata": {},
     "output_type": "execute_result"
    },
    {
     "data": {
      "image/png": "[encoded data removed]",
      "text/plain": [
       "<Figure size 432x288 with 1 Axes>"
      ]
     },
     "metadata": {
      "needs_background": "light"
     },
     "output_type": "display_data"
    }
   ],
   "source": [
    "plt.hist(df['HITCH'])\n",
    "plt.hist(df['GO'])\n",
    "plt.hist(df['OUT'])"
   ]
  },
  {
   "cell_type": "code",
   "execution_count": null,
   "metadata": {
    "pycharm": {
     "name": "#%%\n"
    }
   },
   "outputs": [],
   "source": [
    "from mpl_toolkits import mplot3d\n",
    "%matplotlib notebook"
   ]
  },
  {
   "cell_type": "code",
   "execution_count": null,
   "metadata": {
    "pycharm": {
     "name": "#%%\n"
    }
   },
   "outputs": [],
   "source": [
    "ax = plt.axes(projection='3d')\n",
    "x = df_scaled['offense_a_presnap']\n",
    "y = df_scaled['offense_a_to_throw']\n",
    "z = df_scaled['offense_a_to_arrived']\n",
    "ax.scatter3D(x, y, z, c=model.labels_)"
   ]
  }
 ],
 "metadata": {
  "kernelspec": {
   "display_name": "Python 3 (ipykernel)",
   "language": "python",
   "name": "python3"
  },
  "language_info": {
   "codemirror_mode": {
    "name": "ipython",
    "version": 3
   },
   "file_extension": ".py",
   "mimetype": "text/x-python",
   "name": "python",
   "nbconvert_exporter": "python",
   "pygments_lexer": "ipython3",
   "version": "3.9.12"
  }
 },
 "nbformat": 4,
 "nbformat_minor": 1
}