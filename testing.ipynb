{
 "cells": [
  {
   "cell_type": "code",
   "execution_count": 7,
   "outputs": [],
   "source": [
    "import numpy as np\n",
    "import pandas as pd\n",
    "import matplotlib.pyplot as plt\n",
    "import matplotlib.patches as patches"
   ],
   "metadata": {
    "collapsed": false,
    "pycharm": {
     "name": "#%%\n"
    }
   }
  },
  {
   "cell_type": "code",
   "execution_count": 4,
   "outputs": [],
   "source": [
    "def draw_field(linenumbers=True,\n",
    "               endzones=True,\n",
    "               highlight_line=False,\n",
    "               highlight_line_number=50,\n",
    "               highlight_line_name='Line of Scrimmage',\n",
    "               fifty_is_los=False,\n",
    "               size=(12, 6.33)):\n",
    "    # Draw the field\n",
    "    x_path = [10, 10, 10, 20, 20, 30, 30, 40, 40, 50, 50, 60, 60, 70, 70, 80,\n",
    "              80, 90, 90, 100, 100, 110, 110, 120, 0, 0, 120, 120]\n",
    "    y_path = [0, 0, 53.3, 53.3, 0, 0, 53.3, 53.3, 0, 0, 53.3, 53.3, 0, 0, 53.3, 53.3, 0, 0, 53.3, 53.3, 0, 0, 53.3,\n",
    "              53.3, 53.3, 0, 0, 53.3]\n",
    "    line_colour = 'white'\n",
    "\n",
    "    field = patches.Rectangle(\n",
    "        (0, 0),\n",
    "        120,\n",
    "        53.3,\n",
    "        linewidth=0.1,\n",
    "        edgecolor='r',\n",
    "        facecolor='darkgreen',\n",
    "        zorder=0\n",
    "    )\n",
    "    fig, ax = plt.subplots(1, figsize=size)\n",
    "    ax.add_patch(field)\n",
    "    plt.plot(x_path, y_path, line_colour)\n",
    "\n",
    "    plt.xlim(0, 120)\n",
    "    plt.ylim(-5, 58.3)\n",
    "    plt.axis('off')\n",
    "\n",
    "    # Draw the LOS\n",
    "    if fifty_is_los:\n",
    "        plt.plot([60, 60], [0, 53.3], colour='gold')\n",
    "        plt.text(62, 50, '<- Player Yardline at Snap', color='gold')\n",
    "\n",
    "    # Draw the endzones\n",
    "    if endzones:\n",
    "        left_ez = patches.Rectangle((0, 0), 10, 53.3,\n",
    "                                    linewidth=0.1,\n",
    "                                    edgecolor='r',\n",
    "                                    facecolor='blue',\n",
    "                                    alpha=0.2,\n",
    "                                    zorder=0)\n",
    "        right_ez = patches.Rectangle((110, 0), 120, 53.3,\n",
    "                                    linewidth=0.1,\n",
    "                                    edgecolor='r',\n",
    "                                    facecolor='blue',\n",
    "                                    alpha=0.2,\n",
    "                                    zorder=0)\n",
    "        ax.add_patch(left_ez)\n",
    "        ax.add_patch(right_ez)\n",
    "\n",
    "    # Draw the line markings\n",
    "    if linenumbers:\n",
    "        for x in range(20, 110, 10):\n",
    "            yardage = x\n",
    "            if x > 50:\n",
    "                yardage = 120 - x\n",
    "            plt.text(x, 5, str(yardage - 10),\n",
    "                     horizontalalignment='center',\n",
    "                     fontsize=20,\n",
    "                     color='white')\n",
    "            plt.text(x - 0.95, 53.3 - 5, str(yardage - 10),\n",
    "                     horizontalalignment='center',\n",
    "                     fontsize=20,\n",
    "                     color='white',\n",
    "                     rotation=180)\n",
    "\n",
    "    # Draw the hash marks\n",
    "    hash_range = range(11, 110) if endzones else range(1, 120)\n",
    "    for x in hash_range:\n",
    "        ax.plot([x, x], [0.4, 0.7], color='white')\n",
    "        ax.plot([x, x], [53.0, 52.5], color='white')\n",
    "        ax.plot([x, x], [22.91, 23.57], color='white')\n",
    "        ax.plot([x, x], [29.73, 30.39], color='white')\n",
    "\n",
    "    # Draw the highlighted line\n",
    "    if highlight_line:\n",
    "        hl = highlight_line_number + 10\n",
    "        plt.plot([hl, hl], [0, 53.3], color='yellow')\n",
    "        plt.text(hl + 2, 50, '<-{}'.format(highlight_line_name), color='yellow')\n",
    "\n",
    "    return fig, ax"
   ],
   "metadata": {
    "collapsed": false,
    "pycharm": {
     "name": "#%%\n"
    }
   }
  },
  {
   "cell_type": "code",
   "execution_count": 5,
   "outputs": [
    {
     "data": {
      "text/plain": "(<Figure size 864x455.76 with 1 Axes>, <AxesSubplot:>)"
     },
     "execution_count": 5,
     "metadata": {},
     "output_type": "execute_result"
    },
    {
     "data": {
      "text/plain": "<Figure size 864x455.76 with 1 Axes>",
      "image/png": "[encoded data removed]"
     },
     "metadata": {
      "needs_background": "light"
     },
     "output_type": "display_data"
    }
   ],
   "source": [
    "draw_field()"
   ],
   "metadata": {
    "collapsed": false,
    "pycharm": {
     "name": "#%%\n"
    }
   }
  },
  {
   "cell_type": "code",
   "execution_count": null,
   "outputs": [],
   "source": [
    "# draw snap shot of play\n",
    "def draw_play_state(play_data, frame):\n",
    "\n",
    "    def draw_team_state(team):\n",
    "        team_data = play_data.loc[(play_data['teamType'] == team)]\n",
    "\n",
    "        # draw positions\n",
    "        team_data.plot(x=pos[0], y=pos[1], kind='scatter', ax=ax, color='orange', s=30, legend=team, label=team)\n",
    "        # draw orientations\n",
    "        # draw offense direction vectors\n",
    "        # draw offense convex hull\n",
    "        pass\n",
    "\n",
    "    # draw field as background\n",
    "    los = play_data.loc[(play_data['team'] == 'football') & (play_data['frameId'] == 1)]['absoluteYardlineNumber'].values[0]\n",
    "    fig, ax = draw_field(highlight_line=True, highlight_line_number=los)\n",
    "\n",
    "    # draw the teams\n",
    "    draw_team_state('offense')\n",
    "    draw_team_state('defense')\n",
    "\n",
    "    # label the plot\n",
    "    plt.suptitle('Game # something at event')\n",
    "    plt.title('Play description')\n",
    "    plt.legend(loc=1)\n",
    "    plt.show()"
   ],
   "metadata": {
    "collapsed": false,
    "pycharm": {
     "name": "#%%\n"
    }
   }
  },
  {
   "cell_type": "code",
   "execution_count": 13,
   "outputs": [
    {
     "data": {
      "text/plain": "array([[0, 7],\n       [1, 8],\n       [2, 9]])"
     },
     "execution_count": 13,
     "metadata": {},
     "output_type": "execute_result"
    }
   ],
   "source": [
    "x = np.array([np.array([0, 7]), np.array([1, 8]), np.array([2, 9])]\n",
    "             )\n",
    "x"
   ],
   "metadata": {
    "collapsed": false,
    "pycharm": {
     "name": "#%%\n"
    }
   }
  },
  {
   "cell_type": "code",
   "execution_count": 15,
   "outputs": [
    {
     "data": {
      "text/plain": "array([0, 1, 2])"
     },
     "execution_count": 15,
     "metadata": {},
     "output_type": "execute_result"
    }
   ],
   "source": [
    "x[:, 0]"
   ],
   "metadata": {
    "collapsed": false,
    "pycharm": {
     "name": "#%%\n"
    }
   }
  },
  {
   "cell_type": "code",
   "execution_count": null,
   "outputs": [],
   "source": [],
   "metadata": {
    "collapsed": false,
    "pycharm": {
     "name": "#%%\n"
    }
   }
  }
 ],
 "metadata": {
  "kernelspec": {
   "display_name": "Python 3",
   "language": "python",
   "name": "python3"
  },
  "language_info": {
   "codemirror_mode": {
    "name": "ipython",
    "version": 2
   },
   "file_extension": ".py",
   "mimetype": "text/x-python",
   "name": "python",
   "nbconvert_exporter": "python",
   "pygments_lexer": "ipython2",
   "version": "2.7.6"
  }
 },
 "nbformat": 4,
 "nbformat_minor": 0
}