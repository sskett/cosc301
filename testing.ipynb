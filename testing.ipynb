{
 "cells": [
  {
   "cell_type": "code",
   "execution_count": null,
   "outputs": [],
   "source": [
    "import pandas as pd\n",
    "import numpy as np\n",
    "import matplotlib.pyplot as plt\n",
    "from matplotlib.colors import LinearSegmentedColormap"
   ],
   "metadata": {
    "collapsed": false,
    "pycharm": {
     "name": "#%%\n"
    }
   }
  },
  {
   "cell_type": "code",
   "execution_count": null,
   "outputs": [],
   "source": [
    "play_df = pd.read_csv('d20_intermediate_files/play_results.csv')\n",
    "frame_df = pd.read_csv('d20_intermediate_files/frame_results.csv')"
   ],
   "metadata": {
    "collapsed": false,
    "pycharm": {
     "name": "#%%\n"
    }
   }
  },
  {
   "cell_type": "code",
   "execution_count": null,
   "outputs": [],
   "source": [
    "def smooth(series, window=5, centering=True):\n",
    "    s_df = series.rolling(window=window, win_type='gaussian', center=centering).mean(std=1)\n",
    "    return s_df.dropna()"
   ],
   "metadata": {
    "collapsed": false,
    "pycharm": {
     "name": "#%%\n"
    }
   }
  },
  {
   "cell_type": "code",
   "execution_count": null,
   "outputs": [],
   "source": [
    "def plot_prob_heatmap(df, x_col, x_dim, y_col, y_dim, game_id, play_id):\n",
    "\n",
    "    def normalise_df(df_n):\n",
    "        return df_n / df_n.max() * 0.999\n",
    "\n",
    "    x = smooth(normalise_df(df.loc[(df['gameId'] == game_id) & (df['playId'] == play_id)][x_col])).tolist()\n",
    "    y = smooth(normalise_df(df.loc[(df['gameId'] == game_id) & (df['playId'] == play_id)][y_col])).tolist()\n",
    "\n",
    "    bins = np.zeros(x_dim * y_dim).reshape((x_dim, y_dim))\n",
    "\n",
    "    for frame in zip(x, y):\n",
    "        x_bin = int(np.floor(frame[0] * x_dim))\n",
    "        y_bin = int(np.floor(frame[1] * y_dim))\n",
    "        bins[x_bin][y_bin] = bins[x_bin][y_bin] + 1\n",
    "\n",
    "    binned_p = np.zeros(x_dim * y_dim).reshape((x_dim, y_dim))\n",
    "\n",
    "    for i in range(0, x_dim):\n",
    "        for j in range(0, y_dim):\n",
    "            count = 0\n",
    "            samples = 0\n",
    "            for row in range(-1, 2):\n",
    "                for col in range(-1, 2):\n",
    "                    if 0 <= i + row <= x_dim - 1 and 0 <= j + col <= y_dim - 1:\n",
    "                        samples = samples + 1\n",
    "                        count = count + bins[i + row][j + col]\n",
    "            binned_p[i][j] = count / samples\n",
    "\n",
    "    colors = [(0, 0, 1), (0, 1, 1), (0, 1, 0.75), (0, 1, 0), (0.75, 1, 0), (1, 1, 0), (1, 0.8, 0), (1, 0.7, 0), (1, 0, 0)]\n",
    "    cm = LinearSegmentedColormap.from_list('sample', colors)\n",
    "    plt.imshow(binned_p, cmap=cm)\n",
    "    ax = plt.gca()\n",
    "    ax.set_ylim(ax.get_ylim()[::-1])\n",
    "    plt.show()"
   ],
   "metadata": {
    "collapsed": false,
    "pycharm": {
     "name": "#%%\n"
    }
   }
  },
  {
   "cell_type": "code",
   "execution_count": null,
   "outputs": [],
   "source": [
    "# p_group vs m_group\n",
    "game = 2018090600\n",
    "plays = frame_df.loc[(frame_df['gameId'] == game)]['playId'].unique().tolist()\n",
    "\n",
    "for play in plays:\n",
    "    plot_prob_heatmap(frame_df, 'offense_p_group', 50, 'offense_m_group', 50, game, play)"
   ],
   "metadata": {
    "collapsed": false,
    "pycharm": {
     "name": "#%%\n"
    }
   }
  },
  {
   "cell_type": "code",
   "execution_count": null,
   "outputs": [],
   "source": [
    "# p_group vs v_group\n",
    "game = 2018090600\n",
    "plays = frame_df.loc[(frame_df['gameId'] == game)]['playId'].unique().tolist()\n",
    "\n",
    "for play in plays:\n",
    "    plot_prob_heatmap(frame_df, 'offense_p_group', 50, 'offense_v_group', 50, game, play)"
   ],
   "metadata": {
    "collapsed": false,
    "pycharm": {
     "name": "#%%\n"
    }
   }
  },
  {
   "cell_type": "code",
   "execution_count": null,
   "outputs": [],
   "source": [
    "# p_group vs a_group\n",
    "game = 2018090600\n",
    "plays = frame_df.loc[(frame_df['gameId'] == game)]['playId'].unique().tolist()\n",
    "\n",
    "for play in plays:\n",
    "    plot_prob_heatmap(frame_df, 'offense_p_group', 16, 'offense_a_group', 16, game, play)"
   ],
   "metadata": {
    "collapsed": false,
    "pycharm": {
     "name": "#%%\n"
    }
   }
  }
 ],
 "metadata": {
  "kernelspec": {
   "display_name": "Python 3",
   "language": "python",
   "name": "python3"
  },
  "language_info": {
   "codemirror_mode": {
    "name": "ipython",
    "version": 2
   },
   "file_extension": ".py",
   "mimetype": "text/x-python",
   "name": "python",
   "nbconvert_exporter": "python",
   "pygments_lexer": "ipython2",
   "version": "2.7.6"
  }
 },
 "nbformat": 4,
 "nbformat_minor": 0
}