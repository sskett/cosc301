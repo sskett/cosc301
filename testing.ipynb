{
 "cells": [
  {
   "cell_type": "code",
   "execution_count": 25,
   "metadata": {
    "pycharm": {
     "name": "#%%\n"
    }
   },
   "outputs": [],
   "source": [
    "import pandas as pd\n",
    "import pandas_profiling as pp\n",
    "import numpy as np\n",
    "import sklearn\n",
    "import matplotlib.pyplot as plt\n",
    "\n",
    "from sklearn.cluster import KMeans\n",
    "from sklearn.cluster import AgglomerativeClustering\n",
    "from sklearn.metrics import silhouette_score\n",
    "from sklearn.preprocessing import normalize\n",
    "from scipy.cluster.hierarchy import dendrogram\n",
    "import scipy.cluster.hierarchy as shc\n",
    "from itertools import combinations"
   ]
  },
  {
   "cell_type": "code",
   "execution_count": 26,
   "metadata": {
    "pycharm": {
     "name": "#%%\n"
    }
   },
   "outputs": [],
   "source": [
    "def define_pandas_options():\n",
    "    pd.set_option('display.max_rows', None)\n",
    "    pd.set_option('display.max_columns', None)\n",
    "    pd.set_option('display.width', None)\n",
    "    pd.set_option('display.max_colwidth', None)\n",
    "    pd.set_option('display.float_format', lambda x: '%.5f' % x)"
   ]
  },
  {
   "cell_type": "code",
   "execution_count": 27,
   "metadata": {
    "pycharm": {
     "name": "#%%\n"
    }
   },
   "outputs": [],
   "source": [
    "pl_cols = ['gameId', 'playId', 'offense_h_play', 'offense_h_presnap', 'offense_h_to_throw', 'offense_h_to_arrived', 'offense_h_to_end', 'defense_h_play', 'defense_h_presnap', 'defense_h_to_throw', 'defense_h_to_arrived', 'defense_h_to_end', 'offense_p_play', 'offense_p_presnap', 'offense_p_to_throw', 'offense_p_to_arrived', 'offense_p_to_end', 'offense_m_play', 'offense_m_presnap', 'offense_m_to_throw', 'offense_m_to_arrived', 'offense_m_to_end', 'offense_v_play', 'offense_v_presnap', 'offense_v_to_throw', 'offense_v_to_arrived', 'offense_v_to_end', 'offense_a_play', 'offense_a_presnap', 'offense_a_to_throw', 'offense_a_to_arrived','offense_a_to_end', 'defense_p_play', 'defense_p_presnap','defense_p_to_throw', 'defense_p_to_arrived', 'defense_p_to_end','defense_m_play', 'defense_m_presnap', 'defense_m_to_throw','defense_m_to_arrived', 'defense_m_to_end', 'defense_v_play', 'defense_v_presnap', 'defense_v_to_throw', 'defense_v_to_arrived','defense_v_to_end', 'defense_a_play', 'defense_a_presnap','defense_a_to_throw', 'defense_a_to_arrived', 'defense_a_to_end','HITCH', 'OUT', 'FLAT', 'CROSS', 'GO', 'SLANT', 'SCREEN', 'CORNER', 'IN', 'ANGLE', 'POST', 'WHEEL']\n",
    "\n",
    "play_df = pd.read_csv('d20_intermediate_files/play_results.csv', usecols=pl_cols)\n",
    "play_df['num_routes'] = play_df[['HITCH', 'OUT', 'FLAT', 'CROSS', 'GO', 'SLANT', 'SCREEN', 'CORNER', 'IN', 'ANGLE', 'POST', 'WHEEL']].T.sum()\n",
    "play_df.drop(play_df[play_df['num_routes'] == 0].index, inplace=True)\n",
    "play_df.dropna(inplace=True)\n",
    "\n",
    "fr_cols = ['gameId', 'playId', 'frameId', 'offense_p_group', 'defense_p_group', 'offense_m_group', 'defense_m_group', 'o_state', 'd_state', 'offense_v_group', 'defense_v_group', 'offense_a_group', 'defense_a_group', 'a_group_ratio']\n",
    "frame_df = pd.read_csv('d20_intermediate_files/frame_results.csv', usecols=fr_cols)\n",
    "\n",
    "tr_cols = ['time', 's', 'a', 'dis', 'event', 'nflId', 'displayName', 'jerseyNumber', 'position', 'frameId', 'team', 'gameId', 'playId', 'playDirection', 'route', 'pos', 'teamType', 'o_vec', 'dir_vec', 'r_vec']\n",
    "tracking_df = pd.read_csv('d20_intermediate_files/tracking_results.csv', usecols=tr_cols)"
   ]
  },
  {
   "cell_type": "code",
   "execution_count": null,
   "outputs": [],
   "source": [
    "play_df.shape"
   ],
   "metadata": {
    "collapsed": false,
    "pycharm": {
     "name": "#%%\n"
    }
   }
  },
  {
   "cell_type": "code",
   "execution_count": null,
   "outputs": [],
   "source": [
    "play_df.loc[play_df['num_routes'] == 0]"
   ],
   "metadata": {
    "collapsed": false,
    "pycharm": {
     "name": "#%%\n"
    }
   }
  },
  {
   "cell_type": "code",
   "execution_count": null,
   "outputs": [],
   "source": [
    "tracking_df.loc[(tracking_df['gameId'] == 2018090600) & (tracking_df['playId'] == 776)]"
   ],
   "metadata": {
    "collapsed": false,
    "pycharm": {
     "name": "#%%\n"
    }
   }
  },
  {
   "cell_type": "code",
   "execution_count": null,
   "outputs": [],
   "source": [
    "def string_to_vector(s):\n",
    "    try:\n",
    "        s = s.split('[')[1].split(']')[0]\n",
    "        x = float(s.split()[0])\n",
    "        y = float(s.split()[1])\n",
    "        return np.array([x, y])\n",
    "    except AttributeError:\n",
    "        return None\n",
    "\n",
    "def get_position_delta(row):\n",
    "    return row.s / 10 * row.dir_vec\n",
    "\n",
    "def get_relative_position(row):\n",
    "    if row.frameId == 1:\n",
    "        return np.array([0, 0])\n",
    "    else:\n",
    "        last_pos = row.shift(1).rel_pos\n",
    "        return last_pos + row.pos_delta"
   ],
   "metadata": {
    "collapsed": false,
    "pycharm": {
     "name": "#%%\n"
    }
   }
  },
  {
   "cell_type": "code",
   "execution_count": null,
   "outputs": [],
   "source": [
    "tracking_df['pos'] = tracking_df['pos'].apply(string_to_vector)\n",
    "tracking_df['o_vec'] = tracking_df['o_vec'].apply(string_to_vector)\n",
    "tracking_df['dir_vec'] = tracking_df['dir_vec'].apply(string_to_vector)\n",
    "tracking_df['r_vec'] = tracking_df['r_vec'].apply(string_to_vector)"
   ],
   "metadata": {
    "collapsed": false,
    "pycharm": {
     "name": "#%%\n"
    }
   }
  },
  {
   "cell_type": "code",
   "execution_count": null,
   "outputs": [],
   "source": [
    "# Attempt clustering of play data"
   ],
   "metadata": {
    "collapsed": false,
    "pycharm": {
     "name": "#%%\n"
    }
   }
  },
  {
   "cell_type": "code",
   "execution_count": null,
   "outputs": [],
   "source": [
    "df = play_df[['gameId', 'playId', 'offense_h_presnap',\n",
    "       'offense_h_to_throw', 'offense_h_to_arrived',\n",
    "       'offense_p_presnap', 'offense_p_to_throw', 'offense_p_to_arrived',\n",
    "       'offense_m_presnap',\n",
    "       'offense_m_to_throw', 'offense_m_to_arrived', 'offense_v_presnap', 'offense_v_to_throw',\n",
    "       'offense_v_to_arrived',\n",
    "       'offense_a_presnap', 'offense_a_to_throw', 'offense_a_to_arrived',\n",
    "       'HITCH', 'OUT', 'FLAT', 'CROSS', 'GO', 'SLANT', 'SCREEN', 'CORNER',\n",
    "       'IN', 'ANGLE', 'POST', 'WHEEL', 'num_routes']].dropna().copy()\n",
    "\n",
    "df_scaled = normalize(df)\n",
    "df_scaled = pd.DataFrame(df_scaled, columns=df.columns).drop(['gameId', 'playId'], axis=1)"
   ],
   "metadata": {
    "collapsed": false,
    "pycharm": {
     "name": "#%%\n"
    }
   }
  },
  {
   "cell_type": "code",
   "execution_count": null,
   "outputs": [],
   "source": [
    "km = KMeans(\n",
    "    n_clusters=8, init='random',\n",
    "    n_init=3, max_iter=300,\n",
    "    tol=1e-04, random_state=0\n",
    ")\n",
    "\n",
    "y_km = km.fit_predict(df_scaled)"
   ],
   "metadata": {
    "collapsed": false,
    "pycharm": {
     "name": "#%%\n"
    }
   }
  },
  {
   "cell_type": "code",
   "execution_count": null,
   "outputs": [],
   "source": [
    "distortions = []\n",
    "num_plays = 15\n",
    "\n",
    "for i in range(1, num_plays + 1):\n",
    "     km = KMeans(\n",
    "        n_clusters=i, init='random',\n",
    "        n_init=10, max_iter=300,\n",
    "        tol=1e-04, random_state=0\n",
    "    )\n",
    "     km.fit(df_scaled)\n",
    "     distortions.append(km.inertia_)\n",
    "\n",
    "plt.plot(range(1, num_plays + 1), distortions, marker='o')\n",
    "plt.xlabel('Number of clusters')\n",
    "plt.ylabel('Distortion')\n",
    "plt.title('Elbow method for Optimal K')\n",
    "plt.show()"
   ],
   "metadata": {
    "collapsed": false,
    "pycharm": {
     "name": "#%%\n"
    }
   }
  },
  {
   "cell_type": "code",
   "execution_count": null,
   "outputs": [],
   "source": [
    "range_clusters = [2, 3, 4, 5, 6, 7, 8, 9, 10, 11, 12, 13, 14, 15, 16, 17, 18, 19, 20]\n",
    "silhouette_avg = []\n",
    "for i in range_clusters:\n",
    "    km = KMeans(\n",
    "        n_clusters=i, init='random',\n",
    "        n_init=10, max_iter=300,\n",
    "        tol=1e-04, random_state=0\n",
    "    )\n",
    "    km.fit(df_scaled)\n",
    "    cluster_labels = km.labels_\n",
    "\n",
    "    silhouette_avg.append(silhouette_score(df_scaled, cluster_labels))\n",
    "\n",
    "plt.plot(range_clusters, silhouette_avg)\n",
    "plt.xlabel('Values of K')\n",
    "plt.ylabel('Silhouette Score')\n",
    "plt.title('Silhouette analysis for Optimal K')\n",
    "plt.show()"
   ],
   "metadata": {
    "collapsed": false,
    "pycharm": {
     "name": "#%%\n"
    }
   }
  },
  {
   "cell_type": "code",
   "execution_count": null,
   "outputs": [],
   "source": [
    "limit = 0.0000001\n",
    "model = AgglomerativeClustering(linkage='ward',\n",
    "                                affinity='euclidean',\n",
    "                                distance_threshold=limit,\n",
    "                                n_clusters=None)\n",
    "model.fit(df_scaled)\n",
    "df['cluster'] = model.labels_"
   ],
   "metadata": {
    "collapsed": false,
    "pycharm": {
     "name": "#%%\n"
    }
   }
  },
  {
   "cell_type": "code",
   "execution_count": null,
   "outputs": [],
   "source": [
    "range_clusters = []\n",
    "n_samples = df_scaled.shape[0]\n",
    "[range_clusters.append(x) for x in range(2, 21)]\n",
    "silhouette_avg = []\n",
    "\n",
    "for i in range_clusters:\n",
    "    model = AgglomerativeClustering(linkage='ward',\n",
    "                                affinity='euclidean',\n",
    "                                distance_threshold=None,\n",
    "                                n_clusters=i)\n",
    "    model.fit(df_scaled)\n",
    "    cluster_labels = model.labels_\n",
    "    silhouette_avg.append(silhouette_score(df_scaled, cluster_labels))\n",
    "\n",
    "fig, ax = plt.subplots()\n",
    "ax.plot(range_clusters, silhouette_avg)\n",
    "ax.set_xlabel('Distance Threshold')\n",
    "ax.set_ylabel('Silhouette Score')\n",
    "ax.set_title('Silhouette analysis for Optimal Clusters')\n",
    "plt.show()"
   ],
   "metadata": {
    "collapsed": false,
    "pycharm": {
     "name": "#%%\n"
    }
   }
  },
  {
   "cell_type": "code",
   "execution_count": null,
   "outputs": [],
   "source": [
    "df['cluster']"
   ],
   "metadata": {
    "collapsed": false,
    "pycharm": {
     "name": "#%%\n"
    }
   }
  },
  {
   "cell_type": "code",
   "execution_count": null,
   "outputs": [],
   "source": [
    "model = AgglomerativeClustering(linkage='ward',\n",
    "                                affinity='euclidean',\n",
    "                                distance_threshold=None,\n",
    "                                n_clusters=8)\n",
    "model.fit(df_scaled)"
   ],
   "metadata": {
    "collapsed": false,
    "pycharm": {
     "name": "#%%\n"
    }
   }
  },
  {
   "cell_type": "code",
   "execution_count": null,
   "outputs": [],
   "source": [
    "df_scaled['cluster'] = model.labels_\n",
    "print(df_scaled['cluster'].value_counts())"
   ],
   "metadata": {
    "collapsed": false,
    "pycharm": {
     "name": "#%%\n"
    }
   }
  },
  {
   "cell_type": "code",
   "execution_count": null,
   "outputs": [],
   "source": [
    "print(df['cluster'].value_counts())"
   ],
   "metadata": {
    "collapsed": false,
    "pycharm": {
     "name": "#%%\n"
    }
   }
  },
  {
   "cell_type": "code",
   "execution_count": null,
   "outputs": [],
   "source": [],
   "metadata": {
    "collapsed": false,
    "pycharm": {
     "name": "#%%\n"
    }
   }
  },
  {
   "cell_type": "code",
   "execution_count": null,
   "outputs": [],
   "source": [
    "from sklearn.ensemble import RandomForestClassifier\n",
    "clf = RandomForestClassifier(n_jobs=-1, n_estimators=10000, max_depth=10)\n",
    "clf.fit(df[['offense_h_presnap', 'offense_h_to_throw', 'offense_h_to_arrived',\n",
    "       'offense_p_presnap', 'offense_p_to_throw', 'offense_p_to_arrived',\n",
    "       'offense_m_presnap', 'offense_m_to_throw', 'offense_m_to_arrived',\n",
    "       'offense_v_presnap', 'offense_v_to_throw', 'offense_v_to_arrived',\n",
    "       'offense_a_presnap', 'offense_a_to_throw', 'offense_a_to_arrived',\n",
    "       'HITCH', 'OUT', 'FLAT', 'CROSS', 'GO', 'SLANT', 'SCREEN', 'CORNER',\n",
    "       'IN', 'ANGLE', 'POST', 'WHEEL']], df['cluster'])"
   ],
   "metadata": {
    "collapsed": false,
    "pycharm": {
     "name": "#%%\n"
    }
   }
  },
  {
   "cell_type": "code",
   "execution_count": null,
   "outputs": [],
   "source": [
    "clf.feature_importances_"
   ],
   "metadata": {
    "collapsed": false,
    "pycharm": {
     "name": "#%%\n"
    }
   }
  },
  {
   "cell_type": "code",
   "execution_count": null,
   "outputs": [],
   "source": [
    "clf.score(df_scaled[['offense_h_presnap', 'offense_h_to_throw', 'offense_h_to_arrived',\n",
    "       'offense_p_presnap', 'offense_p_to_throw', 'offense_p_to_arrived',\n",
    "       'offense_m_presnap', 'offense_m_to_throw', 'offense_m_to_arrived',\n",
    "       'offense_v_presnap', 'offense_v_to_throw', 'offense_v_to_arrived',\n",
    "       'offense_a_presnap', 'offense_a_to_throw', 'offense_a_to_arrived',\n",
    "       'HITCH', 'OUT', 'FLAT', 'CROSS', 'GO', 'SLANT', 'SCREEN', 'CORNER',\n",
    "       'IN', 'ANGLE', 'POST', 'WHEEL']], df_scaled['cluster'])"
   ],
   "metadata": {
    "collapsed": false,
    "pycharm": {
     "name": "#%%\n"
    }
   }
  },
  {
   "cell_type": "code",
   "execution_count": null,
   "outputs": [],
   "source": [
    "clf.feature_importances_"
   ],
   "metadata": {
    "collapsed": false,
    "pycharm": {
     "name": "#%%\n"
    }
   }
  },
  {
   "cell_type": "code",
   "execution_count": null,
   "outputs": [],
   "source": [
    "plt.figure(figsize=(15, 10))\n",
    "sorted_idx = clf.feature_importances_.argsort()\n",
    "plt.barh(clf.feature_names_in_[sorted_idx], clf.feature_importances_[sorted_idx])"
   ],
   "metadata": {
    "collapsed": false,
    "pycharm": {
     "name": "#%%\n"
    }
   }
  },
  {
   "cell_type": "code",
   "execution_count": null,
   "outputs": [],
   "source": [
    "from sklearn.inspection import permutation_importance"
   ],
   "metadata": {
    "collapsed": false,
    "pycharm": {
     "name": "#%%\n"
    }
   }
  },
  {
   "cell_type": "code",
   "execution_count": null,
   "outputs": [],
   "source": [
    "perm_imp = permutation_importance(clf, df[['offense_h_presnap', 'offense_h_to_throw', 'offense_h_to_arrived',\n",
    "       'offense_p_presnap', 'offense_p_to_throw', 'offense_p_to_arrived',\n",
    "       'offense_m_presnap', 'offense_m_to_throw', 'offense_m_to_arrived',\n",
    "       'offense_v_presnap', 'offense_v_to_throw', 'offense_v_to_arrived',\n",
    "       'offense_a_presnap', 'offense_a_to_throw', 'offense_a_to_arrived',\n",
    "       'HITCH', 'OUT', 'FLAT', 'CROSS', 'GO', 'SLANT', 'SCREEN', 'CORNER',\n",
    "       'IN', 'ANGLE', 'POST', 'WHEEL']], df['cluster'])"
   ],
   "metadata": {
    "collapsed": false,
    "pycharm": {
     "name": "#%%\n"
    }
   }
  },
  {
   "cell_type": "code",
   "execution_count": null,
   "outputs": [],
   "source": [
    "plt.figure(figsize=(15, 10))\n",
    "sorted_idx = perm_imp.importances_mean.argsort()\n",
    "plt.barh(clf.feature_names_in_[sorted_idx], perm_imp.importances_mean[sorted_idx])"
   ],
   "metadata": {
    "collapsed": false,
    "pycharm": {
     "name": "#%%\n"
    }
   }
  },
  {
   "cell_type": "code",
   "execution_count": null,
   "outputs": [],
   "source": [
    "range_limit = []\n",
    "[range_limit.append(n) for n in np.linspace(5*10**-7, 5*10**-8, 10)]\n",
    "print(range_limit)\n",
    "silhouette_avg = []\n",
    "n_clusters = []\n",
    "for i in range_limit:\n",
    "    model = AgglomerativeClustering(linkage='ward',\n",
    "                                affinity='euclidean',\n",
    "                                distance_threshold=i,\n",
    "                                n_clusters=None)\n",
    "    model.fit(df_scaled)\n",
    "    cluster_labels = model.labels_\n",
    "    n_clusters.append(len(np.unique(model.labels_)))\n",
    "\n",
    "    silhouette_avg.append(silhouette_score(df_scaled, cluster_labels))\n",
    "\n",
    "fig, ax = plt.subplots()\n",
    "ax.plot(range_limit, silhouette_avg)\n",
    "ax.set_xlabel('Distance Threshold')\n",
    "ax.set_ylabel('Silhouette Score')\n",
    "ax.set_title('Silhouette analysis for Optimal Clusters')\n",
    "ax2 = ax.twinx()\n",
    "ax2.plot(range_limit, n_clusters, color='r')\n",
    "ax2.set_ylabel('Number of clusters')\n",
    "plt.show()"
   ],
   "metadata": {
    "collapsed": false,
    "pycharm": {
     "name": "#%%\n"
    }
   }
  },
  {
   "cell_type": "code",
   "execution_count": null,
   "metadata": {
    "pycharm": {
     "name": "#%%\n"
    }
   },
   "outputs": [],
   "source": [
    "agglom_sizes = df.groupby('cluster').size()\n",
    "agglom_sizes"
   ]
  },
  {
   "cell_type": "code",
   "execution_count": null,
   "metadata": {
    "pycharm": {
     "name": "#%%\n"
    }
   },
   "outputs": [],
   "source": [
    "cluster6 = df.drop(['gameId', 'playId', 'cluster'], axis=1).loc[(df['cluster'] == 6)]\n",
    "cluster6.mean().apply(lambda x: '%.5f' % x)"
   ]
  },
  {
   "cell_type": "code",
   "execution_count": null,
   "metadata": {
    "pycharm": {
     "name": "#%%\n"
    }
   },
   "outputs": [],
   "source": [
    "df.head()"
   ]
  },
  {
   "cell_type": "code",
   "execution_count": null,
   "metadata": {
    "pycharm": {
     "name": "#%%\n"
    }
   },
   "outputs": [],
   "source": [
    "df.groupby('cluster')[['HITCH', 'OUT', 'FLAT', 'CROSS', 'GO', 'SLANT', 'SCREEN', 'CORNER',\n",
    "       'IN', 'ANGLE', 'POST', 'WHEEL']].mean().T"
   ]
  },
  {
   "cell_type": "code",
   "execution_count": null,
   "metadata": {
    "pycharm": {
     "name": "#%%\n"
    }
   },
   "outputs": [],
   "source": [
    "df.groupby(['gameId'])[['HITCH', 'OUT', 'FLAT', 'CROSS', 'GO', 'SLANT', 'SCREEN', 'CORNER',\n",
    "       'IN', 'ANGLE', 'POST', 'WHEEL']].mean().T"
   ]
  },
  {
   "cell_type": "code",
   "execution_count": null,
   "metadata": {
    "pycharm": {
     "name": "#%%\n"
    }
   },
   "outputs": [],
   "source": [
    "df.groupby(['gameId'])[['HITCH', 'OUT', 'FLAT', 'CROSS', 'GO', 'SLANT', 'SCREEN', 'CORNER',\n",
    "       'IN', 'ANGLE', 'POST', 'WHEEL']].mean().plot.box()"
   ]
  },
  {
   "cell_type": "code",
   "execution_count": null,
   "metadata": {
    "pycharm": {
     "name": "#%%\n"
    }
   },
   "outputs": [],
   "source": [
    "df.groupby('cluster')[['HITCH', 'OUT', 'FLAT', 'CROSS', 'GO', 'SLANT', 'SCREEN', 'CORNER',\n",
    "       'IN', 'ANGLE', 'POST', 'WHEEL']].mean().plot.box()"
   ]
  },
  {
   "cell_type": "code",
   "execution_count": null,
   "metadata": {
    "pycharm": {
     "name": "#%%\n"
    }
   },
   "outputs": [],
   "source": [
    "cluster0 = df.drop(['gameId', 'playId', 'cluster'], axis=1).loc[(df['cluster'] == 0)]\n",
    "cluster0.mean().apply(lambda x: '%.5f' % x)"
   ]
  },
  {
   "cell_type": "code",
   "execution_count": null,
   "metadata": {
    "pycharm": {
     "name": "#%%\n"
    }
   },
   "outputs": [],
   "source": [
    "cluster2 = df.drop(['gameId', 'playId', 'cluster'], axis=1).loc[(df['cluster'] == 2)]\n",
    "cluster2.mean().apply(lambda x: '%.5f' % x)"
   ]
  },
  {
   "cell_type": "code",
   "execution_count": null,
   "metadata": {
    "pycharm": {
     "name": "#%%\n"
    }
   },
   "outputs": [],
   "source": [
    "cluster0.columns"
   ]
  },
  {
   "cell_type": "code",
   "execution_count": null,
   "metadata": {
    "pycharm": {
     "name": "#%%\n"
    }
   },
   "outputs": [],
   "source": [
    "plt.boxplot(cluster0[['HITCH', 'OUT', 'FLAT', 'CROSS', 'GO', 'SLANT', 'SCREEN', 'CORNER',\n",
    "       'IN', 'ANGLE', 'POST', 'WHEEL']])\n",
    "plt.show()\n",
    "plt.boxplot(cluster2[['HITCH', 'OUT', 'FLAT', 'CROSS', 'GO', 'SLANT', 'SCREEN', 'CORNER',\n",
    "       'IN', 'ANGLE', 'POST', 'WHEEL']])\n",
    "plt.show()"
   ]
  },
  {
   "cell_type": "code",
   "execution_count": null,
   "metadata": {
    "pycharm": {
     "name": "#%%\n"
    }
   },
   "outputs": [],
   "source": [
    "verticals = df.loc[(df['GO'] == 4)]\n",
    "sorted(verticals['cluster'].unique().tolist())"
   ]
  },
  {
   "cell_type": "code",
   "execution_count": null,
   "metadata": {
    "pycharm": {
     "name": "#%%\n"
    }
   },
   "outputs": [],
   "source": [
    "flood = df.loc[(df['CORNER'] == 1) & (df['OUT'] == 1) & (df['FLAT'] == 1) & (df['POST'] == 1)]\n",
    "sorted(flood['cluster'].unique().tolist())"
   ]
  },
  {
   "cell_type": "code",
   "execution_count": null,
   "metadata": {
    "pycharm": {
     "name": "#%%\n"
    }
   },
   "outputs": [],
   "source": [
    "slants = df.loc[(df['SLANT'] >= 2)]\n",
    "sorted(slants['cluster'].unique().tolist())"
   ]
  },
  {
   "cell_type": "code",
   "execution_count": null,
   "metadata": {
    "pycharm": {
     "name": "#%%\n"
    }
   },
   "outputs": [],
   "source": [
    "def plot_relationship(df, xcol, ycol, labels):\n",
    "    fig = plt.figure(figsize=(6, 6))\n",
    "    grid = plt.GridSpec(4, 4, hspace=0.2, wspace=0.2)\n",
    "    main_ax = fig.add_subplot(grid[:-1, 1:])\n",
    "    y_hist = fig.add_subplot(grid[:-1, 0], xticklabels=[], sharey=main_ax)\n",
    "    x_hist = fig.add_subplot(grid[-1, 1:], yticklabels=[], sharex=main_ax)\n",
    "\n",
    "    main_ax.tick_params(\n",
    "        axis='both',          # changes apply to the x-axis\n",
    "        which='both',      # both major and minor ticks are affected\n",
    "        bottom=True,      # ticks along the bottom edge are off\n",
    "        left=True,\n",
    "        top=False,         # ticks along the top edge are off\n",
    "        labelbottom=False,\n",
    "        labelleft=False) # labels along the bottom edge are off\n",
    "    x = df[xcol]\n",
    "    y = df[ycol]\n",
    "    main_ax.scatter(x, y, c=labels)\n",
    "\n",
    "    x_hist.hist(x, 40, histtype='stepfilled', orientation='vertical', color='gray')\n",
    "    x_hist.invert_yaxis()\n",
    "    x_hist.set_xlabel(xcol)\n",
    "\n",
    "    y_hist.hist(y, 40, histtype='stepfilled', orientation='horizontal', color='gray')\n",
    "    y_hist.invert_xaxis()\n",
    "    y_hist.set_ylabel(ycol)"
   ]
  },
  {
   "cell_type": "code",
   "execution_count": null,
   "metadata": {
    "pycharm": {
     "name": "#%%\n"
    }
   },
   "outputs": [],
   "source": [
    "df_columns = df.drop(['gameId', 'playId', 'cluster'], axis=1).columns.tolist()\n",
    "plot_relationship(df, df_columns[0], df_columns[1], model.labels_)"
   ]
  },
  {
   "cell_type": "code",
   "execution_count": null,
   "metadata": {
    "pycharm": {
     "name": "#%%\n"
    }
   },
   "outputs": [],
   "source": [
    "df_columns = df.drop(['gameId', 'playId', 'cluster'], axis=1).columns.tolist()\n",
    "for subset in combinations(df_columns, 2):\n",
    "    plot_relationship(df, subset[0], subset[1], model.labels_)"
   ]
  },
  {
   "cell_type": "code",
   "execution_count": null,
   "metadata": {
    "pycharm": {
     "name": "#%%\n"
    }
   },
   "outputs": [],
   "source": [
    "plt.hist(df['HITCH'])\n",
    "plt.hist(df['GO'])\n",
    "plt.hist(df['OUT'])"
   ]
  },
  {
   "cell_type": "code",
   "execution_count": null,
   "metadata": {
    "pycharm": {
     "name": "#%%\n"
    }
   },
   "outputs": [],
   "source": [
    "from mpl_toolkits import mplot3d\n",
    "%matplotlib notebook"
   ]
  },
  {
   "cell_type": "code",
   "execution_count": null,
   "metadata": {
    "pycharm": {
     "name": "#%%\n"
    }
   },
   "outputs": [],
   "source": [
    "ax = plt.axes(projection='3d')\n",
    "x = df_scaled['offense_a_presnap']\n",
    "y = df_scaled['offense_a_to_throw']\n",
    "z = df_scaled['offense_a_to_arrived']\n",
    "ax.scatter3D(x, y, z, c=model.labels_)"
   ]
  },
  {
   "cell_type": "code",
   "execution_count": null,
   "outputs": [],
   "source": [
    "df_columns = df.drop(['gameId', 'playId', 'cluster'], axis=1).columns.tolist()\n",
    "for subset in combinations(df_columns, 2):\n",
    "    plot_relationship(df, subset[0], subset[1], model.labels_)"
   ],
   "metadata": {
    "collapsed": false,
    "pycharm": {
     "name": "#%%\n"
    }
   }
  },
  {
   "cell_type": "code",
   "execution_count": null,
   "outputs": [],
   "source": [
    "plt.hist(df['HITCH'])\n",
    "plt.hist(df['GO'])\n",
    "plt.hist(df['OUT'])"
   ],
   "metadata": {
    "collapsed": false,
    "pycharm": {
     "name": "#%%\n"
    }
   }
  },
  {
   "cell_type": "code",
   "execution_count": null,
   "outputs": [],
   "source": [
    "from mpl_toolkits import mplot3d\n",
    "%matplotlib notebook"
   ],
   "metadata": {
    "collapsed": false,
    "pycharm": {
     "name": "#%%\n"
    }
   }
  },
  {
   "cell_type": "code",
   "execution_count": null,
   "outputs": [],
   "source": [
    "ax = plt.axes(projection='3d')\n",
    "x = df_scaled['offense_a_presnap']\n",
    "y = df_scaled['offense_a_to_throw']\n",
    "z = df_scaled['offense_a_to_arrived']\n",
    "ax.scatter3D(x, y, z, c=model.labels_)"
   ],
   "metadata": {
    "collapsed": false,
    "pycharm": {
     "name": "#%%\n"
    }
   }
  },
  {
   "cell_type": "code",
   "execution_count": null,
   "metadata": {
    "pycharm": {
     "name": "#%%\n"
    }
   },
   "outputs": [],
   "source": [
    "df_columns = df.drop(['gameId', 'playId', 'cluster'], axis=1).columns.tolist()\n",
    "for subset in combinations(df_columns, 2):\n",
    "    plot_relationship(df, subset[0], subset[1], model.labels_)"
   ]
  },
  {
   "cell_type": "code",
   "execution_count": 132,
   "metadata": {
    "pycharm": {
     "name": "#%%\n"
    }
   },
   "outputs": [
    {
     "data": {
      "text/plain": [
       "(array([70.,  0.,  0., 36.,  0.,  0., 13.,  0.,  0.,  4.]),\n",
       " array([0. , 0.3, 0.6, 0.9, 1.2, 1.5, 1.8, 2.1, 2.4, 2.7, 3. ]),\n",
       " <BarContainer object of 10 artists>)"
      ]
     },
     "execution_count": 132,
     "metadata": {},
     "output_type": "execute_result"
    },
    {
     "data": {
      "image/png": "[encoded data removed]",
      "text/plain": [
       "<Figure size 432x288 with 1 Axes>"
      ]
     },
     "metadata": {
      "needs_background": "light"
     },
     "output_type": "display_data"
    }
   ],
   "source": [
    "plt.hist(df['HITCH'])\n",
    "plt.hist(df['GO'])\n",
    "plt.hist(df['OUT'])"
   ]
  },
  {
   "cell_type": "code",
   "execution_count": null,
   "metadata": {
    "pycharm": {
     "name": "#%%\n"
    }
   },
   "outputs": [],
   "source": [
    "from mpl_toolkits import mplot3d\n",
    "%matplotlib notebook"
   ]
  },
  {
   "cell_type": "code",
   "execution_count": null,
   "metadata": {
    "pycharm": {
     "name": "#%%\n"
    }
   },
   "outputs": [],
   "source": [
    "ax = plt.axes(projection='3d')\n",
    "x = df_scaled['offense_a_presnap']\n",
    "y = df_scaled['offense_a_to_throw']\n",
    "z = df_scaled['offense_a_to_arrived']\n",
    "ax.scatter3D(x, y, z, c=model.labels_)"
   ]
  }
 ],
 "metadata": {
  "kernelspec": {
   "display_name": "Python 3 (ipykernel)",
   "language": "python",
   "name": "python3"
  },
  "language_info": {
   "codemirror_mode": {
    "name": "ipython",
    "version": 3
   },
   "file_extension": ".py",
   "mimetype": "text/x-python",
   "name": "python",
   "nbconvert_exporter": "python",
   "pygments_lexer": "ipython3",
   "version": "3.9.12"
  }
 },
 "nbformat": 4,
 "nbformat_minor": 1
}