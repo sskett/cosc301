{
 "cells": [
  {
   "cell_type": "code",
   "execution_count": 1,
   "outputs": [],
   "source": [
    "import pandas as pd\n",
    "import numpy as np"
   ],
   "metadata": {
    "collapsed": false,
    "pycharm": {
     "name": "#%%\n"
    }
   }
  },
  {
   "cell_type": "code",
   "execution_count": 18,
   "outputs": [],
   "source": [
    "filename = 'd00_source_data/' + 'week' + '3' + '.csv'\n",
    "# print(f'Reading in tracking data for {game_id} - {play_id} (Week: {week})')\n",
    "df = pd.read_csv(filename)"
   ],
   "metadata": {
    "collapsed": false,
    "pycharm": {
     "name": "#%%\n"
    }
   }
  },
  {
   "cell_type": "code",
   "execution_count": 19,
   "outputs": [
    {
     "data": {
      "text/plain": "                             time      x      y     s     a   dis       o  \\\n0        2018-09-21T00:23:26.200Z  33.47  26.91  0.00  0.01  0.01   82.28   \n1        2018-09-21T00:23:26.200Z  36.32  11.84  0.46  0.80  0.05  278.40   \n2        2018-09-21T00:23:26.200Z  35.79  17.36  0.41  0.37  0.04  287.41   \n3        2018-09-21T00:23:26.200Z  33.62  31.43  0.02  0.03  0.02  104.03   \n4        2018-09-21T00:23:26.200Z  33.38  17.42  0.01  0.01  0.00   81.26   \n...                           ...    ...    ...   ...   ...   ...     ...   \n1168340  2018-09-25T03:28:10.099Z  61.56  35.42  3.72  2.12  0.38  173.25   \n1168341  2018-09-25T03:28:10.099Z  59.80  30.25  4.56  4.01  0.47   47.07   \n1168342  2018-09-25T03:28:10.099Z  48.49   6.31  3.23  1.01  0.32   65.02   \n1168343  2018-09-25T03:28:10.099Z  74.81  46.15  3.31  2.33  0.34  171.25   \n1168344  2018-09-25T03:28:10.099Z  60.18  30.25  4.76  2.22  0.44     NaN   \n\n            dir event      nflId          displayName  jerseyNumber position  \\\n0        245.04  None  2495240.0         Tyrod Taylor           5.0       QB   \n1        312.33  None  2532877.0     Trumaine Johnson          22.0       CB   \n2        338.27  None  2533059.0     Morris Claiborne          21.0       CB   \n3        250.29  None  2540928.0         Darren Fells          88.0       TE   \n4         80.56  None  2543488.0        Jarvis Landry          80.0       WR   \n...         ...   ...        ...                  ...           ...      ...   \n1168340  155.07  None  2557978.0         James Conner          30.0       RB   \n1168341   44.73  None  2558149.0  JuJu Smith-Schuster          19.0       WR   \n1168342   54.59  None  2560930.0     Jordan Whitehead          31.0       DB   \n1168343  118.36  None  2561039.0        Carlton Davis          33.0       CB   \n1168344     NaN  None        NaN             Football           NaN      NaN   \n\n         frameId      team      gameId  playId playDirection  route  \n0              1      home  2018092000      51         right    NaN  \n1              1      away  2018092000      51         right    NaN  \n2              1      away  2018092000      51         right    NaN  \n3              1      home  2018092000      51         right    NaN  \n4              1      home  2018092000      51         right   FLAT  \n...          ...       ...         ...     ...           ...    ...  \n1168340       93      away  2018092400    4286         right   FLAT  \n1168341       93      away  2018092400    4286         right  CROSS  \n1168342       93      home  2018092400    4286         right    NaN  \n1168343       93      home  2018092400    4286         right    NaN  \n1168344       93  football  2018092400    4286         right    NaN  \n\n[1168345 rows x 19 columns]",
      "text/html": "<div>\n<style scoped>\n    .dataframe tbody tr th:only-of-type {\n        vertical-align: middle;\n    }\n\n    .dataframe tbody tr th {\n        vertical-align: top;\n    }\n\n    .dataframe thead th {\n        text-align: right;\n    }\n</style>\n<table border=\"1\" class=\"dataframe\">\n  <thead>\n    <tr style=\"text-align: right;\">\n      <th></th>\n      <th>time</th>\n      <th>x</th>\n      <th>y</th>\n      <th>s</th>\n      <th>a</th>\n      <th>dis</th>\n      <th>o</th>\n      <th>dir</th>\n      <th>event</th>\n      <th>nflId</th>\n      <th>displayName</th>\n      <th>jerseyNumber</th>\n      <th>position</th>\n      <th>frameId</th>\n      <th>team</th>\n      <th>gameId</th>\n      <th>playId</th>\n      <th>playDirection</th>\n      <th>route</th>\n    </tr>\n  </thead>\n  <tbody>\n    <tr>\n      <th>0</th>\n      <td>2018-09-21T00:23:26.200Z</td>\n      <td>33.47</td>\n      <td>26.91</td>\n      <td>0.00</td>\n      <td>0.01</td>\n      <td>0.01</td>\n      <td>82.28</td>\n      <td>245.04</td>\n      <td>None</td>\n      <td>2495240.0</td>\n      <td>Tyrod Taylor</td>\n      <td>5.0</td>\n      <td>QB</td>\n      <td>1</td>\n      <td>home</td>\n      <td>2018092000</td>\n      <td>51</td>\n      <td>right</td>\n      <td>NaN</td>\n    </tr>\n    <tr>\n      <th>1</th>\n      <td>2018-09-21T00:23:26.200Z</td>\n      <td>36.32</td>\n      <td>11.84</td>\n      <td>0.46</td>\n      <td>0.80</td>\n      <td>0.05</td>\n      <td>278.40</td>\n      <td>312.33</td>\n      <td>None</td>\n      <td>2532877.0</td>\n      <td>Trumaine Johnson</td>\n      <td>22.0</td>\n      <td>CB</td>\n      <td>1</td>\n      <td>away</td>\n      <td>2018092000</td>\n      <td>51</td>\n      <td>right</td>\n      <td>NaN</td>\n    </tr>\n    <tr>\n      <th>2</th>\n      <td>2018-09-21T00:23:26.200Z</td>\n      <td>35.79</td>\n      <td>17.36</td>\n      <td>0.41</td>\n      <td>0.37</td>\n      <td>0.04</td>\n      <td>287.41</td>\n      <td>338.27</td>\n      <td>None</td>\n      <td>2533059.0</td>\n      <td>Morris Claiborne</td>\n      <td>21.0</td>\n      <td>CB</td>\n      <td>1</td>\n      <td>away</td>\n      <td>2018092000</td>\n      <td>51</td>\n      <td>right</td>\n      <td>NaN</td>\n    </tr>\n    <tr>\n      <th>3</th>\n      <td>2018-09-21T00:23:26.200Z</td>\n      <td>33.62</td>\n      <td>31.43</td>\n      <td>0.02</td>\n      <td>0.03</td>\n      <td>0.02</td>\n      <td>104.03</td>\n      <td>250.29</td>\n      <td>None</td>\n      <td>2540928.0</td>\n      <td>Darren Fells</td>\n      <td>88.0</td>\n      <td>TE</td>\n      <td>1</td>\n      <td>home</td>\n      <td>2018092000</td>\n      <td>51</td>\n      <td>right</td>\n      <td>NaN</td>\n    </tr>\n    <tr>\n      <th>4</th>\n      <td>2018-09-21T00:23:26.200Z</td>\n      <td>33.38</td>\n      <td>17.42</td>\n      <td>0.01</td>\n      <td>0.01</td>\n      <td>0.00</td>\n      <td>81.26</td>\n      <td>80.56</td>\n      <td>None</td>\n      <td>2543488.0</td>\n      <td>Jarvis Landry</td>\n      <td>80.0</td>\n      <td>WR</td>\n      <td>1</td>\n      <td>home</td>\n      <td>2018092000</td>\n      <td>51</td>\n      <td>right</td>\n      <td>FLAT</td>\n    </tr>\n    <tr>\n      <th>...</th>\n      <td>...</td>\n      <td>...</td>\n      <td>...</td>\n      <td>...</td>\n      <td>...</td>\n      <td>...</td>\n      <td>...</td>\n      <td>...</td>\n      <td>...</td>\n      <td>...</td>\n      <td>...</td>\n      <td>...</td>\n      <td>...</td>\n      <td>...</td>\n      <td>...</td>\n      <td>...</td>\n      <td>...</td>\n      <td>...</td>\n      <td>...</td>\n    </tr>\n    <tr>\n      <th>1168340</th>\n      <td>2018-09-25T03:28:10.099Z</td>\n      <td>61.56</td>\n      <td>35.42</td>\n      <td>3.72</td>\n      <td>2.12</td>\n      <td>0.38</td>\n      <td>173.25</td>\n      <td>155.07</td>\n      <td>None</td>\n      <td>2557978.0</td>\n      <td>James Conner</td>\n      <td>30.0</td>\n      <td>RB</td>\n      <td>93</td>\n      <td>away</td>\n      <td>2018092400</td>\n      <td>4286</td>\n      <td>right</td>\n      <td>FLAT</td>\n    </tr>\n    <tr>\n      <th>1168341</th>\n      <td>2018-09-25T03:28:10.099Z</td>\n      <td>59.80</td>\n      <td>30.25</td>\n      <td>4.56</td>\n      <td>4.01</td>\n      <td>0.47</td>\n      <td>47.07</td>\n      <td>44.73</td>\n      <td>None</td>\n      <td>2558149.0</td>\n      <td>JuJu Smith-Schuster</td>\n      <td>19.0</td>\n      <td>WR</td>\n      <td>93</td>\n      <td>away</td>\n      <td>2018092400</td>\n      <td>4286</td>\n      <td>right</td>\n      <td>CROSS</td>\n    </tr>\n    <tr>\n      <th>1168342</th>\n      <td>2018-09-25T03:28:10.099Z</td>\n      <td>48.49</td>\n      <td>6.31</td>\n      <td>3.23</td>\n      <td>1.01</td>\n      <td>0.32</td>\n      <td>65.02</td>\n      <td>54.59</td>\n      <td>None</td>\n      <td>2560930.0</td>\n      <td>Jordan Whitehead</td>\n      <td>31.0</td>\n      <td>DB</td>\n      <td>93</td>\n      <td>home</td>\n      <td>2018092400</td>\n      <td>4286</td>\n      <td>right</td>\n      <td>NaN</td>\n    </tr>\n    <tr>\n      <th>1168343</th>\n      <td>2018-09-25T03:28:10.099Z</td>\n      <td>74.81</td>\n      <td>46.15</td>\n      <td>3.31</td>\n      <td>2.33</td>\n      <td>0.34</td>\n      <td>171.25</td>\n      <td>118.36</td>\n      <td>None</td>\n      <td>2561039.0</td>\n      <td>Carlton Davis</td>\n      <td>33.0</td>\n      <td>CB</td>\n      <td>93</td>\n      <td>home</td>\n      <td>2018092400</td>\n      <td>4286</td>\n      <td>right</td>\n      <td>NaN</td>\n    </tr>\n    <tr>\n      <th>1168344</th>\n      <td>2018-09-25T03:28:10.099Z</td>\n      <td>60.18</td>\n      <td>30.25</td>\n      <td>4.76</td>\n      <td>2.22</td>\n      <td>0.44</td>\n      <td>NaN</td>\n      <td>NaN</td>\n      <td>None</td>\n      <td>NaN</td>\n      <td>Football</td>\n      <td>NaN</td>\n      <td>NaN</td>\n      <td>93</td>\n      <td>football</td>\n      <td>2018092400</td>\n      <td>4286</td>\n      <td>right</td>\n      <td>NaN</td>\n    </tr>\n  </tbody>\n</table>\n<p>1168345 rows × 19 columns</p>\n</div>"
     },
     "execution_count": 19,
     "metadata": {},
     "output_type": "execute_result"
    }
   ],
   "source": [
    "df"
   ],
   "metadata": {
    "collapsed": false,
    "pycharm": {
     "name": "#%%\n"
    }
   }
  },
  {
   "cell_type": "code",
   "execution_count": 30,
   "outputs": [
    {
     "data": {
      "text/plain": "0"
     },
     "execution_count": 30,
     "metadata": {},
     "output_type": "execute_result"
    }
   ],
   "source": [
    "len(df.loc[(df['gameId'] == 2018092000) & (df['playId'] == 1539) & (df['team'] == 'away')])"
   ],
   "metadata": {
    "collapsed": false,
    "pycharm": {
     "name": "#%%\n"
    }
   }
  },
  {
   "cell_type": "code",
   "execution_count": null,
   "outputs": [],
   "source": [],
   "metadata": {
    "collapsed": false,
    "pycharm": {
     "name": "#%%\n"
    }
   }
  }
 ],
 "metadata": {
  "kernelspec": {
   "display_name": "Python 3",
   "language": "python",
   "name": "python3"
  },
  "language_info": {
   "codemirror_mode": {
    "name": "ipython",
    "version": 2
   },
   "file_extension": ".py",
   "mimetype": "text/x-python",
   "name": "python",
   "nbconvert_exporter": "python",
   "pygments_lexer": "ipython2",
   "version": "2.7.6"
  }
 },
 "nbformat": 4,
 "nbformat_minor": 0
}